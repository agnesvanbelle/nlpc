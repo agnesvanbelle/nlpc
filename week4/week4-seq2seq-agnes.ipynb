{
 "cells": [
  {
   "cell_type": "markdown",
   "metadata": {},
   "source": [
    "# Learn to calculate with seq2seq model\n",
    "\n",
    "In this assignment, you will learn how to use neural networks to solve sequence-to-sequence prediction tasks. Seq2Seq models are very popular these days because they achieve great results in Machine Translation, Text Summarization, Conversational Modeling and more.\n",
    "\n",
    "Using sequence-to-sequence modeling you are going to build a calculator for evaluating arithmetic expressions, by taking an equation as an input to the neural network and producing an answer as it's output.\n",
    "\n",
    "The resulting solution for this problem will be based on state-of-the-art approaches for sequence-to-sequence learning and you should be able to easily adapt it to solve other tasks. However, if you want to train your own machine translation system or intellectual chat bot, it would be useful to have access to compute resources like GPU, and be patient, because training of such systems is usually time consuming. \n",
    "\n",
    "### Libraries\n",
    "\n",
    "For this task you will need the following libraries:\n",
    " - [TensorFlow](https://www.tensorflow.org) — an open-source software library for Machine Intelligence.\n",
    " - [scikit-learn](http://scikit-learn.org/stable/index.html) — a tool for data mining and data analysis.\n",
    " \n",
    "If you have never worked with TensorFlow, you will probably want to read some tutorials during your work on this assignment, e.g. [Neural Machine Translation](https://www.tensorflow.org/tutorials/seq2seq) tutorial deals with very similar task and can explain some concepts to you. "
   ]
  },
  {
   "cell_type": "markdown",
   "metadata": {},
   "source": [
    "### Data\n",
    "\n",
    "One benefit of this task is that you don't need to download any data — you will generate it on your own! We will use two operators (addition and subtraction) and work with positive integer numbers in some range. Here are examples of correct inputs and outputs:\n",
    "\n",
    "    Input: '1+2'\n",
    "    Output: '3'\n",
    "    \n",
    "    Input: '0-99'\n",
    "    Output: '-99'\n",
    "\n",
    "*Note, that there are no spaces between operators and operands.*\n",
    "\n",
    "\n",
    "Now you need to implement the function *generate_equations*, which will be used to generate the data."
   ]
  },
  {
   "cell_type": "code",
   "execution_count": 1,
   "metadata": {},
   "outputs": [],
   "source": [
    "import random"
   ]
  },
  {
   "cell_type": "code",
   "execution_count": 4,
   "metadata": {},
   "outputs": [],
   "source": [
    "def generate_equations(allowed_operators, dataset_size, min_value, max_value):\n",
    "    \"\"\"Generates pairs of equations and solutions to them.\n",
    "    \n",
    "       Each equation has a form of two integers with an operator in between.\n",
    "       Each solution is an integer with the result of the operaion.\n",
    "    \n",
    "        allowed_operators: list of strings, allowed operators.\n",
    "        dataset_size: an integer, number of equations to be generated.\n",
    "        min_value: an integer, min value of each operand.\n",
    "        max_value: an integer, max value of each operand.\n",
    "\n",
    "        result: a list of tuples of strings (equation, solution).\n",
    "    \"\"\"\n",
    "    sample = []\n",
    "    for _ in range(dataset_size):\n",
    "        \n",
    "        operand1 = str(random.randint(min_value, max_value))\n",
    "        operand2 = str(random.randint(min_value, max_value))\n",
    "        operator_index = random.randint(0, len(allowed_operators)-1)\n",
    "        operator = allowed_operators[operator_index]\n",
    "        equation = operand1 + operator + operand2\n",
    "        outcome = str(eval(equation))\n",
    "        sample.append((equation, outcome,))\n",
    "    return sample"
   ]
  },
  {
   "cell_type": "markdown",
   "metadata": {},
   "source": [
    "To check the correctness of your implementation, use *test_generate_equations* function:"
   ]
  },
  {
   "cell_type": "code",
   "execution_count": 5,
   "metadata": {},
   "outputs": [],
   "source": [
    "def test_generate_equations():\n",
    "    allowed_operators = ['+', '-']\n",
    "    dataset_size = 10\n",
    "    for (input_, output_) in generate_equations(allowed_operators, dataset_size, 0, 100):\n",
    "        if not (type(input_) is str and type(output_) is str):\n",
    "            return \"Both parts should be strings.\"\n",
    "        if eval(input_) != int(output_):\n",
    "            return \"The (equation: {!r}, solution: {!r}) pair is incorrect.\".format(input_, output_)\n",
    "    return \"Tests passed.\""
   ]
  },
  {
   "cell_type": "code",
   "execution_count": 6,
   "metadata": {},
   "outputs": [
    {
     "name": "stdout",
     "output_type": "stream",
     "text": [
      "Tests passed.\n"
     ]
    }
   ],
   "source": [
    "print(test_generate_equations())"
   ]
  },
  {
   "cell_type": "markdown",
   "metadata": {},
   "source": [
    "Finally, we are ready to generate the train and test data for the neural network:"
   ]
  },
  {
   "cell_type": "code",
   "execution_count": 7,
   "metadata": {},
   "outputs": [],
   "source": [
    "from sklearn.model_selection import train_test_split"
   ]
  },
  {
   "cell_type": "code",
   "execution_count": 8,
   "metadata": {},
   "outputs": [],
   "source": [
    "allowed_operators = ['+', '-']\n",
    "dataset_size = 100000\n",
    "data = generate_equations(allowed_operators, dataset_size, min_value=0, max_value=9999)\n",
    "\n",
    "train_set, test_set = train_test_split(data, test_size=0.2, random_state=42)"
   ]
  },
  {
   "cell_type": "markdown",
   "metadata": {},
   "source": [
    "## Prepare data for the neural network\n",
    "\n",
    "The next stage of data preparation is creating mappings of the characters to their indices in some vocabulary. Since in our task we already know which symbols will appear in the inputs and outputs, generating the vocabulary is a simple step.\n",
    "\n",
    "#### How to create dictionaries for other task\n",
    "\n",
    "First of all, you need to understand what is the basic unit of the sequence in your task. In our case, we operate on symbols and the basic unit is a symbol. The number of symbols is small, so we don't need to think about filtering/normalization steps. However, in other tasks, the basic unit is often a word, and in this case the mapping would be *word $\\to$ integer*. The number of words might be huge, so it would be reasonable to filter them, for example, by frequency and leave only the frequent ones. Other strategies that your should consider are: data normalization (lowercasing, tokenization, how to consider punctuation marks), separate vocabulary for input and for output (e.g. for machine translation), some specifics of the task."
   ]
  },
  {
   "cell_type": "code",
   "execution_count": 9,
   "metadata": {},
   "outputs": [],
   "source": [
    "word2id = {symbol:i for i, symbol in enumerate('#^$+-1234567890')}\n",
    "id2word = {i:symbol for symbol, i in word2id.items()}"
   ]
  },
  {
   "cell_type": "code",
   "execution_count": 10,
   "metadata": {},
   "outputs": [
    {
     "data": {
      "text/plain": [
       "{'#': 0,\n",
       " '$': 2,\n",
       " '+': 3,\n",
       " '-': 4,\n",
       " '0': 14,\n",
       " '1': 5,\n",
       " '2': 6,\n",
       " '3': 7,\n",
       " '4': 8,\n",
       " '5': 9,\n",
       " '6': 10,\n",
       " '7': 11,\n",
       " '8': 12,\n",
       " '9': 13,\n",
       " '^': 1}"
      ]
     },
     "execution_count": 10,
     "metadata": {},
     "output_type": "execute_result"
    }
   ],
   "source": [
    "word2id"
   ]
  },
  {
   "cell_type": "markdown",
   "metadata": {},
   "source": [
    "#### Special symbols"
   ]
  },
  {
   "cell_type": "code",
   "execution_count": 11,
   "metadata": {},
   "outputs": [],
   "source": [
    "start_symbol = '^'\n",
    "end_symbol = '$'\n",
    "padding_symbol = '#'"
   ]
  },
  {
   "cell_type": "markdown",
   "metadata": {},
   "source": [
    "You could notice that we have added 3 special symbols: '^', '\\$' and '#':\n",
    "- '^' symbol will be passed to the network to indicate the beginning of the decoding procedure. We will discuss this one later in more details.\n",
    "- '\\$' symbol will be used to indicate the *end of a string*, both for input and output sequences. \n",
    "- '#' symbol will be used as a *padding* character to make lengths of all strings equal within one training batch.\n",
    "\n",
    "People have a bit different habits when it comes to special symbols in encoder-decoder networks, so don't get too much confused if you come across other variants in tutorials you read. "
   ]
  },
  {
   "cell_type": "markdown",
   "metadata": {},
   "source": [
    "#### Padding"
   ]
  },
  {
   "cell_type": "markdown",
   "metadata": {},
   "source": [
    "When vocabularies are ready, we need to be able to convert a sentence to a list of vocabulary word indices and back. At the same time, let's care about padding. We are going to preprocess each sequence from the input (and output ground truth) in such a way that:\n",
    "- it has a predefined length *padded_len*\n",
    "- it is probably cut off or padded with the *padding symbol* '#'\n",
    "- it *always* ends with the *end symbol* '$'\n",
    "\n",
    "We will treat the original characters of the sequence **and the end symbol** as the valid part of the input. We will store *the actual length* of the sequence, which includes the end symbol, but does not include the padding symbols. "
   ]
  },
  {
   "cell_type": "markdown",
   "metadata": {},
   "source": [
    " Now you need to implement the function *sentence_to_ids* that does the described job. "
   ]
  },
  {
   "cell_type": "code",
   "execution_count": 14,
   "metadata": {},
   "outputs": [],
   "source": [
    "def sentence_to_ids(sentence, word2id, padded_len):\n",
    "    \"\"\" Converts a sequence of symbols to a padded sequence of their ids.\n",
    "    \n",
    "      sentence: a string, input/output sequence of symbols.\n",
    "      word2id: a dict, a mapping from original symbols to ids.\n",
    "      padded_len: an integer, a desirable length of the sequence.\n",
    "\n",
    "      result: a tuple of (a list of ids, an actual length of sentence).\n",
    "    \"\"\"\n",
    "    \n",
    "    sent_ids = []\n",
    "    for char in sentence:\n",
    "        if char == ' ':\n",
    "            continue\n",
    "        this_id = word2id[char]\n",
    "        sent_ids.append(this_id)\n",
    "        if len(sent_ids) == padded_len - 1:\n",
    "            break\n",
    "    sent_ids.append(word2id[end_symbol])\n",
    "\n",
    "    sent_len = len(sent_ids)\n",
    "    sent_ids = sent_ids + [word2id[padding_symbol]] * (padded_len - sent_len)\n",
    "    \n",
    "    return sent_ids, sent_len"
   ]
  },
  {
   "cell_type": "markdown",
   "metadata": {},
   "source": [
    "Check that your implementation is correct:"
   ]
  },
  {
   "cell_type": "code",
   "execution_count": 15,
   "metadata": {},
   "outputs": [],
   "source": [
    "def test_sentence_to_ids():\n",
    "    sentences = [(\"123+123\", 7), (\"123+123\", 8), (\"123+123\", 10)]\n",
    "    expected_output = [([5, 6, 7, 3, 5, 6, 2], 7), \n",
    "                       ([5, 6, 7, 3, 5, 6, 7, 2], 8), \n",
    "                       ([5, 6, 7, 3, 5, 6, 7, 2, 0, 0], 8)] \n",
    "    for (sentence, padded_len), (sentence_ids, expected_length) in zip(sentences, expected_output):\n",
    "        output, length = sentence_to_ids(sentence, word2id, padded_len)\n",
    "        if output != sentence_ids:\n",
    "            return(\"Convertion of '{}' for padded_len={} to {} is incorrect.\".format(\n",
    "                sentence, padded_len, output))\n",
    "        if length != expected_length:\n",
    "            return(\"Convertion of '{}' for padded_len={} has incorrect actual length {}.\".format(\n",
    "                sentence, padded_len, length))\n",
    "    return(\"Tests passed.\")"
   ]
  },
  {
   "cell_type": "code",
   "execution_count": 16,
   "metadata": {},
   "outputs": [
    {
     "name": "stdout",
     "output_type": "stream",
     "text": [
      "Tests passed.\n"
     ]
    }
   ],
   "source": [
    "print(test_sentence_to_ids())"
   ]
  },
  {
   "cell_type": "markdown",
   "metadata": {},
   "source": [
    "We also need to be able to get back from indices to symbols:"
   ]
  },
  {
   "cell_type": "code",
   "execution_count": 17,
   "metadata": {},
   "outputs": [],
   "source": [
    "def ids_to_sentence(ids, id2word):\n",
    "    \"\"\" Converts a sequence of ids to a sequence of symbols.\n",
    "    \n",
    "          ids: a list, indices for the padded sequence.\n",
    "          id2word:  a dict, a mapping from ids to original symbols.\n",
    "\n",
    "          result: a list of symbols.\n",
    "    \"\"\"\n",
    " \n",
    "    return [id2word[i] for i in ids] "
   ]
  },
  {
   "cell_type": "markdown",
   "metadata": {},
   "source": [
    "#### Generating batches"
   ]
  },
  {
   "cell_type": "markdown",
   "metadata": {},
   "source": [
    "The final step of data preparation is a function that transforms a batch of sentences to a list of lists of indices. "
   ]
  },
  {
   "cell_type": "code",
   "execution_count": 18,
   "metadata": {},
   "outputs": [],
   "source": [
    "def batch_to_ids(sentences, word2id, max_len):\n",
    "    \"\"\"Prepares batches of indices. \n",
    "    \n",
    "       Sequences are padded to match the longest sequence in the batch,\n",
    "       if it's longer than max_len, then max_len is used instead.\n",
    "\n",
    "        sentences: a list of strings, original sequences.\n",
    "        word2id: a dict, a mapping from original symbols to ids.\n",
    "        max_len: an integer, max len of sequences allowed.\n",
    "\n",
    "        result: a list of lists of ids, a list of actual lengths.\n",
    "    \"\"\"\n",
    "    \n",
    "    max_len_in_batch = min(max(len(s) for s in sentences) + 1, max_len)\n",
    "    batch_ids, batch_ids_len = [], []\n",
    "    for sentence in sentences:\n",
    "        ids, ids_len = sentence_to_ids(sentence, word2id, max_len_in_batch)\n",
    "        batch_ids.append(ids)\n",
    "        batch_ids_len.append(ids_len)\n",
    "    return batch_ids, batch_ids_len"
   ]
  },
  {
   "cell_type": "code",
   "execution_count": 92,
   "metadata": {},
   "outputs": [
    {
     "data": {
      "text/plain": [
       "['0']"
      ]
     },
     "execution_count": 92,
     "metadata": {},
     "output_type": "execute_result"
    }
   ],
   "source": [
    "batch_to_ids(['0'], word2id, 20)\n",
    "\n",
    "['0'][:2]"
   ]
  },
  {
   "cell_type": "markdown",
   "metadata": {},
   "source": [
    "The function *generate_batches* will help to generate batches with defined size from given samples."
   ]
  },
  {
   "cell_type": "code",
   "execution_count": 19,
   "metadata": {},
   "outputs": [],
   "source": [
    "def generate_batches(samples, batch_size=64):\n",
    "    X, Y = [], []\n",
    "    for i, (x, y) in enumerate(samples, 1):\n",
    "        X.append(x)\n",
    "        Y.append(y)\n",
    "        if i % batch_size == 0:\n",
    "            yield X, Y\n",
    "            X, Y = [], []\n",
    "    if X and Y:\n",
    "        yield X, Y"
   ]
  },
  {
   "cell_type": "markdown",
   "metadata": {},
   "source": [
    "To illustrate the result of the implemented functions, run the following cell:"
   ]
  },
  {
   "cell_type": "code",
   "execution_count": 20,
   "metadata": {},
   "outputs": [
    {
     "name": "stdout",
     "output_type": "stream",
     "text": [
      "Input: ('4162+8144', '12306')\n",
      "Ids: [[8, 5, 10, 6, 3, 12, 5, 8, 8, 2], [5, 6, 7, 14, 10, 2, 0, 0, 0, 0]]\n",
      "Sentences lengths: [10, 6]\n"
     ]
    }
   ],
   "source": [
    "sentences = train_set[0]\n",
    "ids, sent_lens = batch_to_ids(sentences, word2id, max_len=10)\n",
    "print('Input:', sentences)\n",
    "print('Ids: {}\\nSentences lengths: {}'.format(ids, sent_lens))"
   ]
  },
  {
   "cell_type": "markdown",
   "metadata": {},
   "source": [
    "## Encoder-Decoder architecture\n",
    "\n",
    "Encoder-Decoder is a successful architecture for Seq2Seq tasks with different lengths of input and output sequences. The main idea is to use two recurrent neural networks, where the first neural network *encodes* the input sequence into a real-valued vector and then the second neural network *decodes* this vector into the output sequence. While building the neural network, we will specify some particular characteristics of this architecture."
   ]
  },
  {
   "cell_type": "code",
   "execution_count": 21,
   "metadata": {},
   "outputs": [],
   "source": [
    "import tensorflow as tf"
   ]
  },
  {
   "cell_type": "markdown",
   "metadata": {},
   "source": [
    "Let us use TensorFlow building blocks to specify the network architecture."
   ]
  },
  {
   "cell_type": "code",
   "execution_count": 22,
   "metadata": {},
   "outputs": [],
   "source": [
    "class Seq2SeqModel(object):\n",
    "    pass"
   ]
  },
  {
   "cell_type": "markdown",
   "metadata": {},
   "source": [
    "First, we need to create [placeholders](https://www.tensorflow.org/api_guides/python/io_ops#Placeholders) to specify what data we are going to feed into the network during the execution time. For this task we will need:\n",
    " - *input_batch* — sequences of sentences (the shape will equal to [batch_size, max_sequence_len_in_batch]);\n",
    " - *input_batch_lengths* — lengths of not padded sequences (the shape equals to [batch_size]);\n",
    " - *ground_truth* — sequences of groundtruth (the shape will equal to [batch_size, max_sequence_len_in_batch]);\n",
    " - *ground_truth_lengths* — lengths of not padded groundtruth sequences (the shape equals to [batch_size]);\n",
    " - *dropout_ph* — dropout keep probability; this placeholder has a predifined value 1;\n",
    " - *learning_rate_ph* — learning rate."
   ]
  },
  {
   "cell_type": "code",
   "execution_count": 23,
   "metadata": {},
   "outputs": [],
   "source": [
    "def declare_placeholders(self):\n",
    "    \"\"\"Specifies placeholders for the model.\"\"\"\n",
    "    \n",
    "    # Placeholders for input and its actual lengths.\n",
    "    self.input_batch = tf.placeholder(shape=(None, None), dtype=tf.int32, name='input_batch')\n",
    "    self.input_batch_lengths = tf.placeholder(shape=(None, ), dtype=tf.int32, name='input_batch_lengths')\n",
    "    \n",
    "    # Placeholders for groundtruth and its actual lengths.\n",
    "    self.ground_truth = tf.placeholder(shape=(None, None), dtype=tf.int32, name='ground_truth')\n",
    "    self.ground_truth_lengths = tf.placeholder(shape=(None, ), dtype=tf.int32, name='ground_truth_lengths')\n",
    "        \n",
    "    self.dropout_ph = tf.placeholder_with_default(tf.cast(1.0, tf.float32), shape=[])\n",
    "    self.learning_rate_ph = tf.placeholder(tf.float32, shape=[], name='learning_rate')"
   ]
  },
  {
   "cell_type": "code",
   "execution_count": 24,
   "metadata": {},
   "outputs": [],
   "source": [
    "Seq2SeqModel.__declare_placeholders = classmethod(declare_placeholders)"
   ]
  },
  {
   "cell_type": "markdown",
   "metadata": {},
   "source": [
    "Now, let us specify the layers of the neural network. First, we need to prepare an embedding matrix. Since we use the same vocabulary for input and output, we need only one such matrix. For tasks with different vocabularies there would be multiple embedding layers.\n",
    "- Create embeddings matrix with [tf.Variable](https://www.tensorflow.org/api_docs/python/tf/Variable). Specify its name, type (tf.float32), and initialize with random values.\n",
    "- Perform [embeddings lookup](https://www.tensorflow.org/api_docs/python/tf/nn/embedding_lookup) for a given input batch."
   ]
  },
  {
   "cell_type": "code",
   "execution_count": 25,
   "metadata": {},
   "outputs": [],
   "source": [
    "def create_embeddings(self, vocab_size, embeddings_size):\n",
    "    \"\"\"Specifies embeddings layer and embeds an input batch.\"\"\"\n",
    "     \n",
    "    random_initializer = tf.random_uniform((vocab_size, embeddings_size), -1.0, 1.0)\n",
    "    self.embeddings = tf.Variable(random_initializer, dtype=tf.float32, name='embeddings-variable')\n",
    "    \n",
    "    # Perform embeddings lookup for self.input_batch. \n",
    "    self.input_batch_embedded = tf.nn.embedding_lookup(self.embeddings, ids=self.input_batch)"
   ]
  },
  {
   "cell_type": "code",
   "execution_count": 26,
   "metadata": {},
   "outputs": [],
   "source": [
    "Seq2SeqModel.__create_embeddings = classmethod(create_embeddings)"
   ]
  },
  {
   "cell_type": "markdown",
   "metadata": {},
   "source": [
    "#### Encoder\n",
    "\n",
    "The first RNN of the current architecture is called an *encoder* and serves for encoding an input sequence to a real-valued vector. Input of this RNN is an embedded input batch. Since sentences in the same batch could have different actual lengths, we also provide input lengths to avoid unnecessary computations. The final encoder state will be passed to the second RNN (decoder), which we will create soon. \n",
    "\n",
    "- TensorFlow provides a number of [RNN cells](https://www.tensorflow.org/api_guides/python/contrib.rnn#Core_RNN_Cells_for_use_with_TensorFlow_s_core_RNN_methods) ready for use. We suggest that you use [GRU cell](https://www.tensorflow.org/api_docs/python/tf/contrib/rnn/GRUCell), but you can also experiment with other types. \n",
    "- Wrap your cells with [DropoutWrapper](https://www.tensorflow.org/api_docs/python/tf/contrib/rnn/DropoutWrapper). Dropout is an important regularization technique for neural networks. Specify input keep probability using the dropout placeholder that we created before.\n",
    "- Combine the defined encoder cells with [Dynamic RNN](https://www.tensorflow.org/api_docs/python/tf/nn/dynamic_rnn). Use the embedded input batches and their lengths here.\n",
    "- Use *dtype=tf.float32* everywhere."
   ]
  },
  {
   "cell_type": "code",
   "execution_count": 27,
   "metadata": {},
   "outputs": [],
   "source": [
    "def build_encoder(self, hidden_size):\n",
    "    \"\"\"Specifies encoder architecture and computes its output.\"\"\"\n",
    "    \n",
    "    # Create GRUCell with dropout.\n",
    "    encoder_cell = tf.nn.rnn_cell.DropoutWrapper(\n",
    "                            tf.nn.rnn_cell.GRUCell(hidden_size),\n",
    "                            input_keep_prob = self.dropout_ph,\n",
    "                            dtype=tf.float32)\n",
    "    \n",
    "    # Create RNN with the predefined cell.\n",
    "    _, self.final_encoder_state = tf.nn.dynamic_rnn(encoder_cell, \n",
    "                                                    self.input_batch_embedded, \n",
    "                                                    self.input_batch_lengths,\n",
    "                                                    dtype=tf.float32)"
   ]
  },
  {
   "cell_type": "code",
   "execution_count": 28,
   "metadata": {},
   "outputs": [],
   "source": [
    "Seq2SeqModel.__build_encoder = classmethod(build_encoder)"
   ]
  },
  {
   "cell_type": "markdown",
   "metadata": {},
   "source": [
    "#### Decoder\n",
    "\n",
    "The second RNN is called a *decoder* and serves for generating the output sequence. In the simple seq2seq arcitecture, the input sequence is provided to the decoder only as the final state of the encoder. Obviously, it is a bottleneck and [Attention techniques](https://www.tensorflow.org/tutorials/seq2seq#background_on_the_attention_mechanism) can help to overcome it. So far, we do not need them to make our calculator work, but this would be a necessary ingredient for more advanced tasks. \n",
    "\n",
    "During training, decoder also uses information about the true output. It is feeded in as input symbol by symbol. However, during the prediction stage (which is called *inference* in this architecture), the decoder can only use its own generated output from the previous step to feed it in at the next step. Because of this difference (*training* vs *inference*), we will create two distinct instances, which will serve for the described scenarios.\n",
    "\n",
    "The picture below illustrates the point. It also shows our work with the special characters, e.g. look how the start symbol `^` is used. The transparent parts are ignored. In decoder, it is masked out in the loss computation. In encoder, the green state is considered as final and passed to the decoder. "
   ]
  },
  {
   "cell_type": "markdown",
   "metadata": {},
   "source": [
    "<img src=\"encoder-decoder-pic.png\" style=\"width: 500px;\">"
   ]
  },
  {
   "cell_type": "markdown",
   "metadata": {},
   "source": [
    "Now, it's time to implement the decoder:\n",
    " - First, we should create two [helpers](https://www.tensorflow.org/api_guides/python/contrib.seq2seq#Dynamic_Decoding). These classes help to determine the behaviour of the decoder. During the training time, we will use [TrainingHelper](https://www.tensorflow.org/api_docs/python/tf/contrib/seq2seq/TrainingHelper). For the inference we recommend to use [GreedyEmbeddingHelper](https://www.tensorflow.org/api_docs/python/tf/contrib/seq2seq/GreedyEmbeddingHelper).\n",
    " - To share all parameters during training and inference, we use one scope and set the flag 'reuse' to True at inference time. You might be interested to know more about how [variable scopes](https://www.tensorflow.org/programmers_guide/variables) work in TF. \n",
    " - To create the decoder itself, we will use [BasicDecoder](https://www.tensorflow.org/api_docs/python/tf/contrib/seq2seq/BasicDecoder) class. As previously, you should choose some RNN cell, e.g. GRU cell. To turn hidden states into logits, we will need a projection layer. One of the simple solutions is using [OutputProjectionWrapper](https://www.tensorflow.org/api_docs/python/tf/contrib/rnn/OutputProjectionWrapper).\n",
    " - For getting the predictions, it will be convinient to use [dynamic_decode](https://www.tensorflow.org/api_docs/python/tf/contrib/seq2seq/dynamic_decode). This function uses the provided decoder to perform decoding."
   ]
  },
  {
   "cell_type": "code",
   "execution_count": 29,
   "metadata": {},
   "outputs": [],
   "source": [
    "def build_decoder(self, hidden_size, vocab_size, max_iter, start_symbol_id, end_symbol_id):\n",
    "    \"\"\"Specifies decoder architecture and computes the output.\n",
    "    \n",
    "        Uses different helpers:\n",
    "          - for train: feeding ground truth\n",
    "          - for inference: feeding generated output\n",
    "\n",
    "        As a result, self.train_outputs and self.infer_outputs are created. \n",
    "        Each of them contains two fields:\n",
    "          rnn_output (predicted logits)\n",
    "          sample_id (predictions).\n",
    "\n",
    "    \"\"\"\n",
    "    \n",
    "    # Use start symbols as the decoder inputs at the first time step.\n",
    "    batch_size = tf.shape(self.input_batch)[0]\n",
    "    start_tokens = tf.fill([batch_size], start_symbol_id)\n",
    "    ground_truth_as_input = tf.concat([tf.expand_dims(start_tokens, 1), self.ground_truth], 1)\n",
    "    \n",
    "    # Use the embedding layer defined before to lookup embedings for ground_truth_as_input. \n",
    "    self.ground_truth_embedded = tf.nn.embedding_lookup(self.embeddings, ids=ground_truth_as_input)\n",
    "     \n",
    "    # Create TrainingHelper for the train stage.\n",
    "    train_helper = tf.contrib.seq2seq.TrainingHelper(self.ground_truth_embedded, \n",
    "                                                     self.ground_truth_lengths)\n",
    "    \n",
    "    # Create GreedyEmbeddingHelper for the inference stage.\n",
    "    # You should provide the embedding layer, start_tokens and index of the end symbol.\n",
    "    infer_helper = tf.contrib.seq2seq.GreedyEmbeddingHelper(self.embeddings, start_tokens, end_symbol_id)\n",
    "    \n",
    "  \n",
    "    def decode(helper, scope, reuse=None):\n",
    "        \"\"\"Creates decoder and return the results of the decoding with a given helper.\"\"\"\n",
    "        \n",
    "        with tf.variable_scope(scope, reuse=reuse):\n",
    "            # Create GRUCell with dropout. Do not forget to set the reuse flag properly.\n",
    "            decoder_cell = tf.nn.rnn_cell.DropoutWrapper(tf.nn.rnn_cell.GRUCell(hidden_size, reuse=reuse),\n",
    "                                                         input_keep_prob=self.dropout_ph, dtype=tf.float32)\n",
    "                \n",
    "            \n",
    "            # Create a projection wrapper.\n",
    "            decoder_cell = tf.contrib.rnn.OutputProjectionWrapper(decoder_cell, vocab_size, reuse=reuse)\n",
    "            \n",
    "            # Create BasicDecoder, pass the defined cell, a helper, and initial state.\n",
    "            # The initial state should be equal to the final state of the encoder!\n",
    "            decoder = tf.contrib.seq2seq.BasicDecoder(decoder_cell, helper, self.final_encoder_state)\n",
    "\n",
    "            \n",
    "            # The first returning argument of dynamic_decode contains two fields:\n",
    "            #   rnn_output (predicted logits)\n",
    "            #   sample_id (predictions)\n",
    "            outputs, _, _ = tf.contrib.seq2seq.dynamic_decode(decoder=decoder, maximum_iterations=max_iter, \n",
    "                                                              output_time_major=False, impute_finished=True)\n",
    "\n",
    "            return outputs\n",
    "        \n",
    "    self.train_outputs = decode(train_helper, 'decode')\n",
    "    self.infer_outputs = decode(infer_helper, 'decode', reuse=True)"
   ]
  },
  {
   "cell_type": "code",
   "execution_count": 30,
   "metadata": {},
   "outputs": [],
   "source": [
    "Seq2SeqModel.__build_decoder = classmethod(build_decoder)"
   ]
  },
  {
   "cell_type": "markdown",
   "metadata": {},
   "source": [
    "In this task we will use [sequence_loss](https://www.tensorflow.org/api_docs/python/tf/contrib/seq2seq/sequence_loss), which is a weighted cross-entropy loss for a sequence of logits. Take a moment to understand, what is your train logits and targets. Also note, that we do not want to take into account loss terms coming from padding symbols, so we will mask them out using weights.  "
   ]
  },
  {
   "cell_type": "code",
   "execution_count": 31,
   "metadata": {},
   "outputs": [],
   "source": [
    "def compute_loss(self):\n",
    "    \"\"\"Computes sequence loss (masked cross-entopy loss with logits).\"\"\"\n",
    "    \n",
    "    weights = tf.cast(tf.sequence_mask(self.ground_truth_lengths), dtype=tf.float32)\n",
    "    \n",
    "    self.loss = tf.contrib.seq2seq.sequence_loss(self.train_outputs.rnn_output, self.ground_truth, weights)"
   ]
  },
  {
   "cell_type": "code",
   "execution_count": 32,
   "metadata": {},
   "outputs": [],
   "source": [
    "Seq2SeqModel.__compute_loss = classmethod(compute_loss)"
   ]
  },
  {
   "cell_type": "markdown",
   "metadata": {},
   "source": [
    "The last thing to specify is the optimization of the defined loss. \n",
    "We suggest that you use [optimize_loss](https://www.tensorflow.org/api_docs/python/tf/contrib/layers/optimize_loss) with Adam optimizer and a learning rate from the corresponding placeholder. You might also need to pass global step (e.g. as tf.train.get_global_step()) and clip gradients by 1.0."
   ]
  },
  {
   "cell_type": "code",
   "execution_count": 33,
   "metadata": {},
   "outputs": [],
   "source": [
    "def perform_optimization(self):\n",
    "    \"\"\"Specifies train_op that optimizes self.loss.\"\"\"\n",
    "    \n",
    "    self.train_op = tf.contrib.layers.optimize_loss(\n",
    "                        loss=self.loss,\n",
    "                        global_step=tf.train.get_global_step(),\n",
    "                        learning_rate = self.learning_rate_ph,\n",
    "                        optimizer='Adam',\n",
    "                        clip_gradients=1.0)    \n",
    "        "
   ]
  },
  {
   "cell_type": "code",
   "execution_count": 34,
   "metadata": {},
   "outputs": [],
   "source": [
    "Seq2SeqModel.__perform_optimization = classmethod(perform_optimization)"
   ]
  },
  {
   "cell_type": "markdown",
   "metadata": {},
   "source": [
    "Congratulations! You have specified all the parts of your network. You may have noticed, that we didn't deal with any real data yet, so what you have written is just recipies on how the network should function.\n",
    "Now we will put them to the constructor of our Seq2SeqModel class to use it in the next section. "
   ]
  },
  {
   "cell_type": "code",
   "execution_count": 35,
   "metadata": {},
   "outputs": [],
   "source": [
    "def init_model(self, vocab_size, embeddings_size, hidden_size, \n",
    "               max_iter, start_symbol_id, end_symbol_id, padding_symbol_id):\n",
    "    \n",
    "    self.__declare_placeholders()\n",
    "    self.__create_embeddings(vocab_size, embeddings_size)\n",
    "    self.__build_encoder(hidden_size)\n",
    "    self.__build_decoder(hidden_size, vocab_size, max_iter, start_symbol_id, end_symbol_id)\n",
    "    \n",
    "    # Compute loss and back-propagate.\n",
    "    self.__compute_loss()\n",
    "    self.__perform_optimization()\n",
    "    \n",
    "    # Get predictions for evaluation.\n",
    "    self.train_predictions = self.train_outputs.sample_id\n",
    "    self.infer_predictions = self.infer_outputs.sample_id"
   ]
  },
  {
   "cell_type": "code",
   "execution_count": 36,
   "metadata": {},
   "outputs": [],
   "source": [
    "Seq2SeqModel.__init__ = classmethod(init_model)"
   ]
  },
  {
   "cell_type": "markdown",
   "metadata": {},
   "source": [
    "## Train the network and predict output\n",
    "\n",
    "[Session.run](https://www.tensorflow.org/api_docs/python/tf/Session#run) is a point which initiates computations in the graph that we have defined. To train the network, we need to compute *self.train_op*. To predict output, we just need to compute *self.infer_predictions*. In any case, we need to feed actual data through the placeholders that we defined above. "
   ]
  },
  {
   "cell_type": "code",
   "execution_count": 37,
   "metadata": {},
   "outputs": [],
   "source": [
    "def train_on_batch(self, session, X, X_seq_len, Y, Y_seq_len, learning_rate, dropout_keep_probability):\n",
    "    feed_dict = {\n",
    "            self.input_batch: X,\n",
    "            self.input_batch_lengths: X_seq_len,\n",
    "            self.ground_truth: Y,\n",
    "            self.ground_truth_lengths: Y_seq_len,\n",
    "            self.learning_rate_ph: learning_rate,\n",
    "            self.dropout_ph: dropout_keep_probability\n",
    "        }\n",
    "    pred, loss, _ = session.run([\n",
    "            self.train_predictions,\n",
    "            self.loss,\n",
    "            self.train_op], feed_dict=feed_dict)\n",
    "    return pred, loss"
   ]
  },
  {
   "cell_type": "code",
   "execution_count": 38,
   "metadata": {},
   "outputs": [],
   "source": [
    "Seq2SeqModel.train_on_batch = classmethod(train_on_batch)"
   ]
  },
  {
   "cell_type": "markdown",
   "metadata": {},
   "source": [
    "We implemented two prediction functions: *predict_for_batch* and *predict_for_batch_with_loss*. The first one allows only to predict output for some input sequence, while the second one could compute loss because we provide also ground truth values. Both these functions might be useful since the first one could be used for predicting only, and the second one is helpful for validating results on not-training data during the training."
   ]
  },
  {
   "cell_type": "code",
   "execution_count": 39,
   "metadata": {},
   "outputs": [],
   "source": [
    "def predict_for_batch(self, session, X, X_seq_len):\n",
    "    feed_dict = {\n",
    "            self.input_batch: X,\n",
    "            self.input_batch_lengths: X_seq_len\n",
    "            }\n",
    "    pred = session.run([\n",
    "            self.infer_predictions\n",
    "        ], feed_dict=feed_dict)[0]\n",
    "    return pred\n",
    "\n",
    "def predict_for_batch_with_loss(self, session, X, X_seq_len, Y, Y_seq_len):\n",
    "    feed_dict = {\n",
    "            self.input_batch: X,\n",
    "            self.input_batch_lengths: X_seq_len,\n",
    "            self.ground_truth: Y,\n",
    "            self.ground_truth_lengths: Y_seq_len,\n",
    "            }\n",
    "    pred, loss = session.run([\n",
    "            self.infer_predictions,\n",
    "            self.loss,\n",
    "        ], feed_dict=feed_dict)\n",
    "    return pred, loss"
   ]
  },
  {
   "cell_type": "code",
   "execution_count": 40,
   "metadata": {},
   "outputs": [],
   "source": [
    "Seq2SeqModel.predict_for_batch = classmethod(predict_for_batch)\n",
    "Seq2SeqModel.predict_for_batch_with_loss = classmethod(predict_for_batch_with_loss)"
   ]
  },
  {
   "cell_type": "markdown",
   "metadata": {},
   "source": [
    "## Run your experiment\n",
    "\n",
    "Create *Seq2SeqModel* model with the following parameters:\n",
    " - *vocab_size* — number of tokens;\n",
    " - *embeddings_size* — dimension of embeddings, recommended value: 20;\n",
    " - *max_iter* — maximum number of steps in decoder, recommended value: 7;\n",
    " - *hidden_size* — size of hidden layers for RNN, recommended value: 512;\n",
    " - *start_symbol_id* — an index of the start token (`^`).\n",
    " - *end_symbol_id* — an index of the end token (`$`).\n",
    " - *padding_symbol_id* — an index of the padding token (`#`).\n",
    "\n",
    "Set hyperparameters. You might want to start with the following values and see how it works:\n",
    "- *batch_size*: 128;\n",
    "- at least 10 epochs;\n",
    "- value of *learning_rate*: 0.001\n",
    "- *dropout_keep_probability* equals to 0.5 for training (typical values for dropout probability are ranging from 0.1 to 1.0); larger values correspond smaler number of dropout units;\n",
    "- *max_len*: 20."
   ]
  },
  {
   "cell_type": "markdown",
   "metadata": {},
   "source": [
    "Finally, we are ready to run the training! A good indicator that everything works fine is decreasing loss during the training. You should account on the loss value equal to approximately 2.7 at the beginning of the training and near 1 after the 10th epoch."
   ]
  },
  {
   "cell_type": "code",
   "execution_count": 123,
   "metadata": {},
   "outputs": [],
   "source": [
    "def prediction_as_number(prediction, id2word):\n",
    "    '''\n",
    "    prediction: list of ids (strings)\n",
    "    id2word: dict, mappping of id to original symbol\n",
    "    '''\n",
    "    prediction_sentence = ''.join(ids_to_sentence(prediction, id2word))\n",
    "    #print('prediction_sentence:', prediction_sentence)\n",
    "    end_index = prediction_sentence.find(end_symbol)\n",
    "    if end_index < 0:\n",
    "        return None\n",
    " \n",
    "    unpadded_nr = prediction_sentence[:end_index]\n",
    "    if not unpadded_nr.isdigit():\n",
    "        return None\n",
    "    return unpadded_nr"
   ]
  },
  {
   "cell_type": "code",
   "execution_count": 124,
   "metadata": {},
   "outputs": [],
   "source": [
    "tf.reset_default_graph()\n",
    "\n",
    "# params:\n",
    "# vocab_size, embeddings_size, hidden_size, max_iter, start_symbol_id, end_symbol_id, padding_symbol_id\n",
    "model = Seq2SeqModel(len(word2id), 20, 512, \n",
    "               7, word2id[start_symbol], word2id[end_symbol], word2id[padding_symbol])\n",
    "\n",
    "batch_size = 128\n",
    "n_epochs = 15\n",
    "learning_rate = .001\n",
    "dropout_keep_probability = .5\n",
    "max_len = 20\n",
    "\n",
    "n_step = int(len(train_set) / batch_size)"
   ]
  },
  {
   "cell_type": "code",
   "execution_count": 126,
   "metadata": {
    "scrolled": true
   },
   "outputs": [
    {
     "name": "stdout",
     "output_type": "stream",
     "text": [
      "Start training... \n",
      "\n",
      "Train: epoch 1\n",
      "Epoch: [1/15], step: [1/625], loss: 2.715626\n",
      "Epoch: [1/15], step: [201/625], loss: 1.813496\n",
      "Epoch: [1/15], step: [401/625], loss: 1.742249\n",
      "Epoch: [1/15], step: [601/625], loss: 1.649139\n",
      "Test: epoch 1 loss: 1.63955\n",
      "\tX: 8357-9738$ Y: -1381$ P: -1778$\n",
      "\tX: 3290-3493$ Y: -203$# P: -108$#\n",
      "\tX: 6377+7737$ Y: 14114$ P: 13555$\n",
      "Train: epoch 2\n",
      "Epoch: [2/15], step: [1/625], loss: 1.670118\n",
      "Epoch: [2/15], step: [201/625], loss: 1.549706\n",
      "Epoch: [2/15], step: [401/625], loss: 1.516663\n",
      "Epoch: [2/15], step: [601/625], loss: 1.488605\n",
      "Test: epoch 2 loss: 1.42957\n",
      "\tX: 591+6358$# Y: 6949$# P: 7444$#\n",
      "\tX: 3150+2920$ Y: 6070$# P: 6444$#\n",
      "\tX: 7202-4061$ Y: 3141$# P: 3944$#\n",
      "Train: epoch 3\n",
      "Epoch: [3/15], step: [1/625], loss: 1.484744\n",
      "Epoch: [3/15], step: [201/625], loss: 1.433259\n",
      "Epoch: [3/15], step: [401/625], loss: 1.381973\n",
      "Epoch: [3/15], step: [601/625], loss: 1.376072\n",
      "Test: epoch 3 loss: 1.33324\n",
      "\tX: 5723+4457$ Y: 10180$ P: 10088$\n",
      "\tX: 7211+9747$ Y: 16958$ P: 17071$\n",
      "\tX: 9076+4599$ Y: 13675$ P: 13588$\n",
      "Train: epoch 4\n",
      "Epoch: [4/15], step: [1/625], loss: 1.386478\n",
      "Epoch: [4/15], step: [201/625], loss: 1.412036\n",
      "Epoch: [4/15], step: [401/625], loss: 1.373013\n",
      "Epoch: [4/15], step: [601/625], loss: 1.333027\n",
      "Test: epoch 4 loss: 1.29932\n",
      "\tX: 8963-3267$ Y: 5696$# P: 5733$#\n",
      "\tX: 1342-9193$ Y: -7851$ P: -7833$\n",
      "\tX: 640+8624$# Y: 9264$# P: 9244$#\n",
      "Train: epoch 5\n",
      "Epoch: [5/15], step: [1/625], loss: 1.341041\n",
      "Epoch: [5/15], step: [201/625], loss: 1.304659\n",
      "Epoch: [5/15], step: [401/625], loss: 1.309536\n",
      "Epoch: [5/15], step: [601/625], loss: 1.276776\n",
      "Test: epoch 5 loss: 1.19671\n",
      "\tX: 410-4738$# Y: -4328$ P: -4456$\n",
      "\tX: 4259+9685$ Y: 13944$ P: 13855$\n",
      "\tX: 6847+2820$ Y: 9667$# P: 9655$#\n",
      "Train: epoch 6\n",
      "Epoch: [6/15], step: [1/625], loss: 1.269606\n",
      "Epoch: [6/15], step: [201/625], loss: 1.177748\n",
      "Epoch: [6/15], step: [401/625], loss: 1.144853\n",
      "Epoch: [6/15], step: [601/625], loss: 1.088208\n",
      "Test: epoch 6 loss: 1.04064\n",
      "\tX: 2566-5644$ Y: -3078$ P: -3083$\n",
      "\tX: 184-4811$# Y: -4627$ P: -4593$\n",
      "\tX: 9759+7359$ Y: 17118$ P: 17099$\n",
      "Train: epoch 7\n",
      "Epoch: [7/15], step: [1/625], loss: 1.068293\n",
      "Epoch: [7/15], step: [201/625], loss: 1.040838\n",
      "Epoch: [7/15], step: [401/625], loss: 1.008501\n",
      "Epoch: [7/15], step: [601/625], loss: 0.991357\n",
      "Test: epoch 7 loss: 0.948986\n",
      "\tX: 9242-329$# Y: 8913$# P: 8992$#\n",
      "\tX: 4415+7207$ Y: 11622$ P: 11627$\n",
      "\tX: 7558-2937$ Y: 4621$# P: 4612$#\n",
      "Train: epoch 8\n",
      "Epoch: [8/15], step: [1/625], loss: 1.020008\n",
      "Epoch: [8/15], step: [201/625], loss: 1.056002\n",
      "Epoch: [8/15], step: [401/625], loss: 1.017607\n",
      "Epoch: [8/15], step: [601/625], loss: 0.979442\n",
      "Test: epoch 8 loss: 0.962274\n",
      "\tX: 4219-4454$ Y: -235$# P: -266$#\n",
      "\tX: 9574-3101$ Y: 6473$# P: 6471$#\n",
      "\tX: 1333-8121$ Y: -6788$ P: -6771$\n",
      "Train: epoch 9\n",
      "Epoch: [9/15], step: [1/625], loss: 0.945349\n",
      "Epoch: [9/15], step: [201/625], loss: 0.979185\n",
      "Epoch: [9/15], step: [401/625], loss: 0.945965\n",
      "Epoch: [9/15], step: [601/625], loss: 0.975302\n",
      "Test: epoch 9 loss: 0.900606\n",
      "\tX: 2826-3866$ Y: -1040$ P: -1044$\n",
      "\tX: 9635+5335$ Y: 14970$ P: 14944$\n",
      "\tX: 5177+5651$ Y: 10828$ P: 10874$\n",
      "Train: epoch 10\n",
      "Epoch: [10/15], step: [1/625], loss: 0.961929\n",
      "Epoch: [10/15], step: [201/625], loss: 0.943818\n",
      "Epoch: [10/15], step: [401/625], loss: 0.963495\n",
      "Epoch: [10/15], step: [601/625], loss: 0.903612\n",
      "Test: epoch 10 loss: 0.889573\n",
      "\tX: 4402-1288$ Y: 3114$# P: 3120$#\n",
      "\tX: 6330+5323$ Y: 11653$ P: 11648$\n",
      "\tX: 2403+2199$ Y: 4602$# P: 4563$#\n",
      "Train: epoch 11\n",
      "Epoch: [11/15], step: [1/625], loss: 0.931048\n",
      "Epoch: [11/15], step: [201/625], loss: 0.906372\n",
      "Epoch: [11/15], step: [401/625], loss: 0.908580\n",
      "Epoch: [11/15], step: [601/625], loss: 0.884913\n",
      "Test: epoch 11 loss: 0.866577\n",
      "\tX: 2000-4938$ Y: -2938$ P: -1926$\n",
      "\tX: 9022-3136$ Y: 5886$# P: 5906$#\n",
      "\tX: 4256-4824$ Y: -568$# P: -549$#\n",
      "Train: epoch 12\n",
      "Epoch: [12/15], step: [1/625], loss: 0.872429\n",
      "Epoch: [12/15], step: [201/625], loss: 0.839069\n",
      "Epoch: [12/15], step: [401/625], loss: 0.855030\n",
      "Epoch: [12/15], step: [601/625], loss: 0.785228\n",
      "Test: epoch 12 loss: 0.740588\n",
      "\tX: 8053-5693$ Y: 2360$# P: 2369$#\n",
      "\tX: 2311+7435$ Y: 9746$# P: 9747$#\n",
      "\tX: 4775+7816$ Y: 12591$ P: 12595$\n",
      "Train: epoch 13\n",
      "Epoch: [13/15], step: [1/625], loss: 0.801446\n",
      "Epoch: [13/15], step: [201/625], loss: 0.764080\n",
      "Epoch: [13/15], step: [401/625], loss: 0.758766\n",
      "Epoch: [13/15], step: [601/625], loss: 0.713935\n",
      "Test: epoch 13 loss: 0.657368\n",
      "\tX: 1653+1692$ Y: 3345$# P: 3349$#\n",
      "\tX: 939-4964$# Y: -4025$ P: -4070$\n",
      "\tX: 9161-252$# Y: 8909$# P: 8901$#\n",
      "Train: epoch 14\n",
      "Epoch: [14/15], step: [1/625], loss: 0.675471\n",
      "Epoch: [14/15], step: [201/625], loss: 0.685455\n",
      "Epoch: [14/15], step: [401/625], loss: 0.667457\n",
      "Epoch: [14/15], step: [601/625], loss: 0.612351\n",
      "Test: epoch 14 loss: 0.603188\n",
      "\tX: 6433-9683$ Y: -3250$ P: -3245$\n",
      "\tX: 3186+9266$ Y: 12452$ P: 12450$\n",
      "\tX: 4748-8751$ Y: -4003$ P: -3996$\n",
      "Train: epoch 15\n",
      "Epoch: [15/15], step: [1/625], loss: 0.629658\n",
      "Epoch: [15/15], step: [201/625], loss: 0.582869\n",
      "Epoch: [15/15], step: [401/625], loss: 0.596628\n",
      "Epoch: [15/15], step: [601/625], loss: 0.609486\n",
      "Test: epoch 15 loss: 0.537659\n",
      "\tX: 5857-2675$ Y: 3182$# P: 3181$#\n",
      "\tX: 2409+4015$ Y: 6424$# P: 6426$#\n",
      "\tX: 644+5815$# Y: 6459$# P: 6456$#\n",
      "\n",
      "...training finished.\n"
     ]
    }
   ],
   "source": [
    "session = tf.Session()\n",
    "session.run(tf.global_variables_initializer())\n",
    "            \n",
    "invalid_number_prediction_counts = []\n",
    "all_model_predictions = []\n",
    "all_ground_truth = []\n",
    "\n",
    "print('Start training... \\n')\n",
    "for epoch in range(n_epochs):  \n",
    "    random.shuffle(train_set)\n",
    "    random.shuffle(test_set)\n",
    "    \n",
    "    print('Train: epoch', epoch + 1)\n",
    "    for n_iter, (X_batch, Y_batch) in enumerate(generate_batches(train_set, batch_size=batch_size)):\n",
    "        # prepare the data (X_batch and Y_batch) for training\n",
    "        # using function batch_to_ids\n",
    "        \n",
    "        X, X_seq_len = batch_to_ids(X_batch, word2id, max_len)\n",
    "        Y, Y_seq_len = batch_to_ids(Y_batch, word2id, max_len)\n",
    "        \n",
    "        predictions, loss = model.train_on_batch(session, X, X_seq_len, Y, Y_seq_len, learning_rate, \n",
    "                                                 dropout_keep_probability)\n",
    "                        \n",
    "        if n_iter % 200 == 0:\n",
    "            print(\"Epoch: [%d/%d], step: [%d/%d], loss: %f\" % (epoch + 1, n_epochs, n_iter + 1, n_step, loss))\n",
    "        \n",
    "            \n",
    "    X_sent, Y_sent = next(generate_batches(test_set, batch_size=batch_size))\n",
    "    # prepare test data (X_sent and Y_sent) for predicting \n",
    "    # quality and computing value of the loss function\n",
    "    # using function batch_to_ids\n",
    "    \n",
    "    X, X_seq_len = batch_to_ids(X_sent, word2id, max_len)\n",
    "    Y, Y_seq_len = batch_to_ids(Y_sent, word2id, max_len)\n",
    "        \n",
    "    predictions, loss = model.predict_for_batch_with_loss(session, X, X_seq_len, Y, Y_seq_len)\n",
    "    \n",
    "    print('Test: epoch', epoch + 1, 'loss:', loss,)\n",
    "    for x, y, p  in list(zip(X, Y, predictions))[:3]:\n",
    "        print('\\tX:',''.join(ids_to_sentence(x, id2word)), 'Y:',''.join(ids_to_sentence(y, id2word)), \\\n",
    "                    'P:',''.join(ids_to_sentence(p, id2word)))\n",
    "\n",
    "    model_predictions = []\n",
    "    ground_truth = []\n",
    "    invalid_number_prediction_count = 0\n",
    "    # For the whole test set calculate ground-truth values (as integer numbers)\n",
    "    # and prediction values (also as integers) to calculate metrics.\n",
    "    # If generated by model number is not correct (e.g. '1-1'), \n",
    "    # increase invalid_number_prediction_count and don't append this and corresponding\n",
    "    # ground-truth value to the arrays.\n",
    "    for X_batch, Y_batch in generate_batches(test_set, batch_size=batch_size):\n",
    "        \n",
    "        X, X_seq_len = batch_to_ids(X_batch, word2id, max_len)\n",
    "        Y, Y_seq_len = batch_to_ids(Y_batch, word2id, max_len)\n",
    "        my_predictions = model.predict_for_batch(session, X, X_seq_len)\n",
    "        \n",
    "        my_predictions_numbers = [prediction_as_number(x, id2word) for x in my_predictions]\n",
    "        for pn_index, pn in enumerate(my_predictions_numbers):\n",
    "            if pn is None:\n",
    "                invalid_number_prediction_count +=1\n",
    "            else:\n",
    "                model_predictions.append(int(pn))\n",
    "                ground_truth.append(int(Y_batch[pn_index]))\n",
    "        \n",
    "    all_model_predictions.append(model_predictions)\n",
    "    all_ground_truth.append(ground_truth)\n",
    "    invalid_number_prediction_counts.append(invalid_number_prediction_count)\n",
    "            \n",
    "print('\\n...training finished.')"
   ]
  },
  {
   "cell_type": "markdown",
   "metadata": {},
   "source": [
    "## Evaluate results\n",
    "\n",
    "Because our task is simple and the output is straight-forward, we will use [MAE](https://en.wikipedia.org/wiki/Mean_absolute_error) metric to evaluate the trained model during the epochs. Compute the value of the metric for the output from each epoch."
   ]
  },
  {
   "cell_type": "code",
   "execution_count": 127,
   "metadata": {},
   "outputs": [],
   "source": [
    "from sklearn.metrics import mean_absolute_error"
   ]
  },
  {
   "cell_type": "code",
   "execution_count": 128,
   "metadata": {},
   "outputs": [
    {
     "name": "stdout",
     "output_type": "stream",
     "text": [
      "Epoch: 1, MAE: 1071.579102, Invalid numbers: 6726\n",
      "Epoch: 2, MAE: 485.449970, Invalid numbers: 4839\n",
      "Epoch: 3, MAE: 241.943212, Invalid numbers: 5173\n",
      "Epoch: 4, MAE: 205.838974, Invalid numbers: 5257\n",
      "Epoch: 5, MAE: 143.620095, Invalid numbers: 5220\n",
      "Epoch: 6, MAE: 60.710242, Invalid numbers: 5022\n",
      "Epoch: 7, MAE: 51.487690, Invalid numbers: 5134\n",
      "Epoch: 8, MAE: 59.928719, Invalid numbers: 5017\n",
      "Epoch: 9, MAE: 31.589213, Invalid numbers: 5019\n",
      "Epoch: 10, MAE: 48.320706, Invalid numbers: 4980\n",
      "Epoch: 11, MAE: 36.284387, Invalid numbers: 4936\n",
      "Epoch: 12, MAE: 45.406552, Invalid numbers: 5013\n",
      "Epoch: 13, MAE: 21.676173, Invalid numbers: 4992\n",
      "Epoch: 14, MAE: 27.783906, Invalid numbers: 4951\n",
      "Epoch: 15, MAE: 21.112769, Invalid numbers: 4987\n"
     ]
    }
   ],
   "source": [
    "for i, (gts, predictions, invalid_number_prediction_count) in enumerate(zip(all_ground_truth,\n",
    "                                                                            all_model_predictions,\n",
    "                                                                            invalid_number_prediction_counts), 1):\n",
    "    mae = mean_absolute_error(gts, predictions)\n",
    "    print(\"Epoch: %i, MAE: %f, Invalid numbers: %i\" % (i, mae, invalid_number_prediction_count))"
   ]
  },
  {
   "cell_type": "markdown",
   "metadata": {},
   "source": [
    "### Another experiment: larger embeddings size, larger hidden size, more dropout\n",
    "\n",
    "#### But it's not as good as the previous one"
   ]
  },
  {
   "cell_type": "code",
   "execution_count": 150,
   "metadata": {},
   "outputs": [],
   "source": [
    "\n",
    "tf.reset_default_graph()\n",
    "\n",
    "# params:\n",
    "# vocab_size, embeddings_size, hidden_size, max_iter, start_symbol_id, end_symbol_id, padding_symbol_id\n",
    "model = Seq2SeqModel(len(word2id), 25, 312, 7, \n",
    "                     word2id[start_symbol], word2id[end_symbol], word2id[padding_symbol])\n",
    "\n",
    "batch_size = 128\n",
    "n_epochs = 15\n",
    "learning_rate = .001\n",
    "dropout_keep_probability = .2\n",
    "max_len = 20\n",
    "\n",
    "n_step = int(len(train_set) / batch_size)"
   ]
  },
  {
   "cell_type": "code",
   "execution_count": 151,
   "metadata": {
    "scrolled": true
   },
   "outputs": [
    {
     "name": "stdout",
     "output_type": "stream",
     "text": [
      "Start training... \n",
      "\n",
      "Train: epoch 1\n",
      "Epoch: [1/15], step: [1/625], loss: 2.722364\n",
      "Epoch: [1/15], step: [201/625], loss: 1.895934\n",
      "Epoch: [1/15], step: [401/625], loss: 1.859693\n",
      "Epoch: [1/15], step: [601/625], loss: 1.811501\n",
      "Test: epoch 1 loss: 1.77607\n",
      "\tX: 2761-6131$ Y: -3370$ P: -101$#\n",
      "\tX: 6983-3993$ Y: 2990$# P: 108$##\n",
      "\tX: 8812-4572$ Y: 4240$# P: 118$##\n",
      "Train: epoch 2\n",
      "Epoch: [2/15], step: [1/625], loss: 1.763239\n",
      "Epoch: [2/15], step: [201/625], loss: 1.748700\n",
      "Epoch: [2/15], step: [401/625], loss: 1.711709\n",
      "Epoch: [2/15], step: [601/625], loss: 1.626856\n",
      "Test: epoch 2 loss: 1.58457\n",
      "\tX: 4966-9938$ Y: -4972$ P: -3115$\n",
      "\tX: 4915-3968$ Y: 947$## P: 103$##\n",
      "\tX: 7869-2722$ Y: 5147$# P: 5355$#\n",
      "Train: epoch 3\n",
      "Epoch: [3/15], step: [1/625], loss: 1.627808\n",
      "Epoch: [3/15], step: [201/625], loss: 1.642157\n",
      "Epoch: [3/15], step: [401/625], loss: 1.596909\n",
      "Epoch: [3/15], step: [601/625], loss: 1.575734\n",
      "Test: epoch 3 loss: 1.49821\n",
      "\tX: 9853-8203$ Y: 1650$# P: 117$##\n",
      "\tX: 4086-1136$ Y: 2950$# P: 2322$#\n",
      "\tX: 5411-6806$ Y: -1395$ P: -101$#\n",
      "Train: epoch 4\n",
      "Epoch: [4/15], step: [1/625], loss: 1.587841\n",
      "Epoch: [4/15], step: [201/625], loss: 1.525376\n",
      "Epoch: [4/15], step: [401/625], loss: 1.554474\n",
      "Epoch: [4/15], step: [601/625], loss: 1.511029\n",
      "Test: epoch 4 loss: 1.5431\n",
      "\tX: 5464-5435$ Y: 29$### P: -111$#\n",
      "\tX: 414-9398$# Y: -8984$ P: -8114$\n",
      "\tX: 9481-2831$ Y: 6650$# P: 5711$#\n",
      "Train: epoch 5\n",
      "Epoch: [5/15], step: [1/625], loss: 1.481108\n",
      "Epoch: [5/15], step: [201/625], loss: 1.497822\n",
      "Epoch: [5/15], step: [401/625], loss: 1.483885\n",
      "Epoch: [5/15], step: [601/625], loss: 1.507503\n",
      "Test: epoch 5 loss: 1.50015\n",
      "\tX: 1802-7438$ Y: -5636$ P: -5311$\n",
      "\tX: 9676-6616$ Y: 3060$# P: 1555$#\n",
      "\tX: 1320-7486$ Y: -6166$ P: -5311$\n",
      "Train: epoch 6\n",
      "Epoch: [6/15], step: [1/625], loss: 1.477731\n",
      "Epoch: [6/15], step: [201/625], loss: 1.453658\n",
      "Epoch: [6/15], step: [401/625], loss: 1.469130\n",
      "Epoch: [6/15], step: [601/625], loss: 1.450526\n",
      "Test: epoch 6 loss: 1.5739\n",
      "\tX: 6771+6296$ Y: 13067$ P: 13165$\n",
      "\tX: 1216+1$### Y: 1217$# P: 2614$#\n",
      "\tX: 6688-9249$ Y: -2561$ P: -1844$\n",
      "Train: epoch 7\n",
      "Epoch: [7/15], step: [1/625], loss: 1.408489\n",
      "Epoch: [7/15], step: [201/625], loss: 1.427639\n",
      "Epoch: [7/15], step: [401/625], loss: 1.421194\n",
      "Epoch: [7/15], step: [601/625], loss: 1.431331\n",
      "Test: epoch 7 loss: 1.55382\n",
      "\tX: 2442-5365$ Y: -2923$ P: -2022$\n",
      "\tX: 6701+3196$ Y: 9897$# P: 10229$\n",
      "\tX: 9099+4376$ Y: 13475$ P: 11992$\n",
      "Train: epoch 8\n",
      "Epoch: [8/15], step: [1/625], loss: 1.409313\n",
      "Epoch: [8/15], step: [201/625], loss: 1.402117\n",
      "Epoch: [8/15], step: [401/625], loss: 1.386408\n",
      "Epoch: [8/15], step: [601/625], loss: 1.405155\n",
      "Test: epoch 8 loss: 1.66535\n",
      "\tX: 6511-3088$ Y: 3423$# P: 3599$#\n",
      "\tX: 2860-7599$ Y: -4739$ P: -4909$\n",
      "\tX: 1215+7035$ Y: 8250$# P: 9996$#\n",
      "Train: epoch 9\n",
      "Epoch: [9/15], step: [1/625], loss: 1.399292\n",
      "Epoch: [9/15], step: [201/625], loss: 1.454161\n",
      "Epoch: [9/15], step: [401/625], loss: 1.400787\n",
      "Epoch: [9/15], step: [601/625], loss: 1.397592\n",
      "Test: epoch 9 loss: 1.61777\n",
      "\tX: 7272-9751$ Y: -2479$ P: -1858$\n",
      "\tX: 4980+9821$ Y: 14801$ P: 13588$\n",
      "\tX: 6282-4730$ Y: 1552$# P: 1188$#\n",
      "Train: epoch 10\n",
      "Epoch: [10/15], step: [1/625], loss: 1.396052\n",
      "Epoch: [10/15], step: [201/625], loss: 1.433962\n",
      "Epoch: [10/15], step: [401/625], loss: 1.381443\n",
      "Epoch: [10/15], step: [601/625], loss: 1.410023\n",
      "Test: epoch 10 loss: 1.68817\n",
      "\tX: 8367-5393$ Y: 2974$# P: 1816$#\n",
      "\tX: 8921-7777$ Y: 1144$# P: -32$##\n",
      "\tX: 4353+1390$ Y: 5743$# P: 6299$#\n",
      "Train: epoch 11\n",
      "Epoch: [11/15], step: [1/625], loss: 1.411672\n",
      "Epoch: [11/15], step: [201/625], loss: 1.381851\n",
      "Epoch: [11/15], step: [401/625], loss: 1.396685\n",
      "Epoch: [11/15], step: [601/625], loss: 1.373501\n",
      "Test: epoch 11 loss: 1.67418\n",
      "\tX: 1121+9700$ Y: 10821$ P: 11080$\n",
      "\tX: 4294+2539$ Y: 6833$# P: 7800$#\n",
      "\tX: 4589+8958$ Y: 13547$ P: 12844$\n",
      "Train: epoch 12\n",
      "Epoch: [12/15], step: [1/625], loss: 1.357623\n",
      "Epoch: [12/15], step: [201/625], loss: 1.345292\n",
      "Epoch: [12/15], step: [401/625], loss: 1.341253\n",
      "Epoch: [12/15], step: [601/625], loss: 1.320220\n",
      "Test: epoch 12 loss: 1.61806\n",
      "\tX: 5150+1221$ Y: 6371$# P: 7390$#\n",
      "\tX: 1269-5315$ Y: -4046$ P: -3903$\n",
      "\tX: 9939-8833$ Y: 1106$# P: -114$#\n",
      "Train: epoch 13\n",
      "Epoch: [13/15], step: [1/625], loss: 1.287790\n",
      "Epoch: [13/15], step: [201/625], loss: 1.270592\n",
      "Epoch: [13/15], step: [401/625], loss: 1.367533\n",
      "Epoch: [13/15], step: [601/625], loss: 1.240914\n",
      "Test: epoch 13 loss: 1.56294\n",
      "\tX: 2590-9755$ Y: -7165$ P: -4119$\n",
      "\tX: 2356-7053$ Y: -4697$ P: -3811$\n",
      "\tX: 7242-5749$ Y: 1493$# P: 1416$#\n",
      "Train: epoch 14\n",
      "Epoch: [14/15], step: [1/625], loss: 1.247330\n",
      "Epoch: [14/15], step: [201/625], loss: 1.263618\n",
      "Epoch: [14/15], step: [401/625], loss: 1.221963\n",
      "Epoch: [14/15], step: [601/625], loss: 1.205286\n",
      "Test: epoch 14 loss: 1.56957\n",
      "\tX: 4449+9221$ Y: 13670$ P: 12784$\n",
      "\tX: 2414-7783$ Y: -5369$ P: -3333$\n",
      "\tX: 9921+1105$ Y: 11026$ P: 9971$#\n",
      "Train: epoch 15\n",
      "Epoch: [15/15], step: [1/625], loss: 1.134418\n",
      "Epoch: [15/15], step: [201/625], loss: 1.165558\n",
      "Epoch: [15/15], step: [401/625], loss: 1.168195\n",
      "Epoch: [15/15], step: [601/625], loss: 1.160208\n",
      "Test: epoch 15 loss: 1.61413\n",
      "\tX: 2523+9432$ Y: 11955$ P: 12122$\n",
      "\tX: 367+8422$# Y: 8789$# P: 7829$#\n",
      "\tX: 4274+5640$ Y: 9914$# P: 11002$\n",
      "\n",
      "...training finished.\n"
     ]
    }
   ],
   "source": [
    "\n",
    "session = tf.Session()\n",
    "session.run(tf.global_variables_initializer())\n",
    "            \n",
    "invalid_number_prediction_counts = []\n",
    "all_model_predictions = []\n",
    "all_ground_truth = []\n",
    "\n",
    "print('Start training... \\n')\n",
    "for epoch in range(n_epochs):  \n",
    "    random.shuffle(train_set)\n",
    "    random.shuffle(test_set)\n",
    "    \n",
    "    print('Train: epoch', epoch + 1)\n",
    "    for n_iter, (X_batch, Y_batch) in enumerate(generate_batches(train_set, batch_size=batch_size)):\n",
    "        # prepare the data (X_batch and Y_batch) for training\n",
    "        # using function batch_to_ids\n",
    "        \n",
    "        X, X_seq_len = batch_to_ids(X_batch, word2id, max_len)\n",
    "        Y, Y_seq_len = batch_to_ids(Y_batch, word2id, max_len)\n",
    "        \n",
    "        predictions, loss = model.train_on_batch(session, X, X_seq_len, Y, Y_seq_len, learning_rate, dropout_keep_probability)\n",
    "                        \n",
    "        if n_iter % 200 == 0:\n",
    "            print(\"Epoch: [%d/%d], step: [%d/%d], loss: %f\" % (epoch + 1, n_epochs, n_iter + 1, n_step, loss))\n",
    "        \n",
    "            \n",
    "    X_sent, Y_sent = next(generate_batches(test_set, batch_size=batch_size))\n",
    "    # prepare test data (X_sent and Y_sent) for predicting \n",
    "    # quality and computing value of the loss function\n",
    "    # using function batch_to_ids\n",
    "    \n",
    "    X, X_seq_len = batch_to_ids(X_sent, word2id, max_len)\n",
    "    Y, Y_seq_len = batch_to_ids(Y_sent, word2id, max_len)\n",
    "        \n",
    "    predictions, loss = model.predict_for_batch_with_loss(session, X, X_seq_len, Y, Y_seq_len)\n",
    "    \n",
    "    print('Test: epoch', epoch + 1, 'loss:', loss,)\n",
    "    for x, y, p  in list(zip(X, Y, predictions))[:3]:\n",
    "        print('\\tX:',''.join(ids_to_sentence(x, id2word)), 'Y:',''.join(ids_to_sentence(y, id2word)), \\\n",
    "                    'P:',''.join(ids_to_sentence(p, id2word)))\n",
    "\n",
    "    model_predictions = []\n",
    "    ground_truth = []\n",
    "    invalid_number_prediction_count = 0\n",
    "    # For the whole test set calculate ground-truth values (as integer numbers)\n",
    "    # and prediction values (also as integers) to calculate metrics.\n",
    "    # If generated by model number is not correct (e.g. '1-1'), \n",
    "    # increase invalid_number_prediction_count and don't append this and corresponding\n",
    "    # ground-truth value to the arrays.\n",
    "    for X_batch, Y_batch in generate_batches(test_set, batch_size=batch_size):\n",
    "        \n",
    "        X, X_seq_len = batch_to_ids(X_batch, word2id, max_len)\n",
    "        Y, Y_seq_len = batch_to_ids(Y_batch, word2id, max_len)\n",
    "        my_predictions = model.predict_for_batch(session, X, X_seq_len)\n",
    "        \n",
    "        my_predictions_numbers = [prediction_as_number(x, id2word) for x in my_predictions]\n",
    "        for pn_index, pn in enumerate(my_predictions_numbers):\n",
    "            if pn is None:\n",
    "                invalid_number_prediction_count +=1\n",
    "            else:\n",
    "                model_predictions.append(int(pn))\n",
    "                ground_truth.append(int(Y_batch[pn_index]))\n",
    "        \n",
    "    all_model_predictions.append(model_predictions)\n",
    "    all_ground_truth.append(ground_truth)\n",
    "    invalid_number_prediction_counts.append(invalid_number_prediction_count)\n",
    "            \n",
    "print('\\n...training finished.')"
   ]
  },
  {
   "cell_type": "code",
   "execution_count": 152,
   "metadata": {},
   "outputs": [
    {
     "name": "stdout",
     "output_type": "stream",
     "text": [
      "Epoch: 1, MAE: 2693.032216, Invalid numbers: 6032\n",
      "Epoch: 2, MAE: 1074.025909, Invalid numbers: 5719\n",
      "Epoch: 3, MAE: 607.676691, Invalid numbers: 4804\n",
      "Epoch: 4, MAE: 731.090203, Invalid numbers: 5444\n",
      "Epoch: 5, MAE: 713.649649, Invalid numbers: 5309\n",
      "Epoch: 6, MAE: 765.218369, Invalid numbers: 5552\n",
      "Epoch: 7, MAE: 708.354147, Invalid numbers: 5362\n",
      "Epoch: 8, MAE: 794.609930, Invalid numbers: 5277\n",
      "Epoch: 9, MAE: 850.230316, Invalid numbers: 5394\n",
      "Epoch: 10, MAE: 810.917098, Invalid numbers: 5139\n",
      "Epoch: 11, MAE: 818.344271, Invalid numbers: 5250\n",
      "Epoch: 12, MAE: 830.724693, Invalid numbers: 5162\n",
      "Epoch: 13, MAE: 823.028968, Invalid numbers: 5225\n",
      "Epoch: 14, MAE: 865.009267, Invalid numbers: 5109\n",
      "Epoch: 15, MAE: 868.421581, Invalid numbers: 5265\n"
     ]
    }
   ],
   "source": [
    "for i, (gts, predictions, invalid_number_prediction_count) in enumerate(zip(all_ground_truth,\n",
    "                                                                            all_model_predictions,\n",
    "                                                                            invalid_number_prediction_counts), 1):\n",
    "    mae = mean_absolute_error(gts, predictions)\n",
    "    print(\"Epoch: %i, MAE: %f, Invalid numbers: %i\" % (i, mae, invalid_number_prediction_count))"
   ]
  },
  {
   "cell_type": "code",
   "execution_count": null,
   "metadata": {},
   "outputs": [],
   "source": []
  }
 ],
 "metadata": {
  "kernelspec": {
   "display_name": "Python 3",
   "language": "python",
   "name": "python3"
  },
  "language_info": {
   "codemirror_mode": {
    "name": "ipython",
    "version": 3
   },
   "file_extension": ".py",
   "mimetype": "text/x-python",
   "name": "python",
   "nbconvert_exporter": "python",
   "pygments_lexer": "ipython3",
   "version": "3.5.2"
  }
 },
 "nbformat": 4,
 "nbformat_minor": 2
}
