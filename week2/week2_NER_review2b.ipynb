{
 "cells": [
  {
   "cell_type": "markdown",
   "metadata": {
    "colab_type": "text",
    "collapsed": true,
    "id": "BE9_Lvn-UctS"
   },
   "source": [
    "# Recognize named entities on Twitter with LSTMs\n",
    "\n",
    "In this assignment, you will use a recurrent neural network to solve Named Entity Recognition (NER) problem. NER is a common task in natural language processing systems. It serves for extraction such entities from the text as persons, organizations, locations, etc. In this task you will experiment to recognize named entities from Twitter.\n",
    "\n",
    "For example, we want to extract persons' and organizations' names from the text. Than for the input text:\n",
    "\n",
    "    Ian Goodfellow works for Google Brain\n",
    "\n",
    "a NER model needs to provide the following sequence of tags:\n",
    "\n",
    "    B-PER I-PER    O     O   B-ORG  I-ORG\n",
    "\n",
    "Where *B-* and *I-* prefixes stand for the beginning and inside of the entity, while *O* stands for out of tag or no tag. Markup with the prefix scheme is called *BIO markup*. This markup is introduced for distinguishing of consequent entities with similar types.\n",
    "\n",
    "A solution of the task will be based on neural networks, particularly, on Bi-Directional Long Short-Term Memory Networks (Bi-LSTMs).\n",
    "\n",
    "### Libraries\n",
    "\n",
    "For this task you will need the following libraries:\n",
    " - [Tensorflow](https://www.tensorflow.org) — an open-source software library for Machine Intelligence.\n",
    " - [Numpy](http://www.numpy.org) — a package for scientific computing.\n",
    " \n",
    "If you have never worked with Tensorflow, you would probably need to read some tutorials during your work on this assignment, e.g. [this one](https://www.tensorflow.org/tutorials/recurrent) could be a good starting point. "
   ]
  },
  {
   "cell_type": "markdown",
   "metadata": {
    "colab_type": "text",
    "id": "WlqFZnwwUctW"
   },
   "source": [
    "### Data\n",
    "\n",
    "The following cell will download all data required for this assignment into the folder `week2/data`."
   ]
  },
  {
   "cell_type": "code",
   "execution_count": 1,
   "metadata": {
    "colab": {
     "base_uri": "https://localhost:8080/",
     "height": 204
    },
    "colab_type": "code",
    "id": "BNDFGlsfUjRw",
    "outputId": "e1e4915f-7013-4698-f17c-8884b0518007"
   },
   "outputs": [
    {
     "name": "stdout",
     "output_type": "stream",
     "text": [
      "--2019-11-16 19:14:34--  https://raw.githubusercontent.com/hse-aml/natural-language-processing/master/setup_google_colab.py\n",
      "Resolving raw.githubusercontent.com (raw.githubusercontent.com)... 151.101.12.133\n",
      "Connecting to raw.githubusercontent.com (raw.githubusercontent.com)|151.101.12.133|:443... connected.\n",
      "HTTP request sent, awaiting response... 200 OK\n",
      "Length: 1991 (1.9K) [text/plain]\n",
      "Saving to: 'setup_google_colab.py'\n",
      "\n",
      "setup_google_colab. 100%[===================>]   1.94K  --.-KB/s    in 0s      \n",
      "\n",
      "2019-11-16 19:14:34 (53.2 MB/s) - 'setup_google_colab.py' saved [1991/1991]\n",
      "\n"
     ]
    }
   ],
   "source": [
    "! wget https://raw.githubusercontent.com/hse-aml/natural-language-processing/master/setup_google_colab.py -O setup_google_colab.py\n",
    "import setup_google_colab\n",
    "# please, uncomment the week you're working on\n",
    "# setup_google_colab.setup_week1()  \n",
    "setup_google_colab.setup_week2()\n",
    "# setup_google_colab.setup_week3()\n",
    "# setup_google_colab.setup_week4()\n",
    "# setup_google_colab.setup_project()\n",
    "# setup_google_colab.setup_honor()"
   ]
  },
  {
   "cell_type": "code",
   "execution_count": 2,
   "metadata": {
    "colab": {
     "base_uri": "https://localhost:8080/",
     "height": 68
    },
    "colab_type": "code",
    "id": "LvvENHr4UctY",
    "outputId": "43921ef2-9bcd-4fc5-9bfb-629f8cafe926"
   },
   "outputs": [
    {
     "name": "stdout",
     "output_type": "stream",
     "text": [
      "File data/train.txt is already downloaded.\n",
      "File data/validation.txt is already downloaded.\n",
      "File data/test.txt is already downloaded.\n"
     ]
    }
   ],
   "source": [
    "import sys\n",
    "sys.path.append(\"..\")\n",
    "from common.download_utils import download_week2_resources\n",
    "\n",
    "download_week2_resources()"
   ]
  },
  {
   "cell_type": "markdown",
   "metadata": {
    "colab_type": "text",
    "id": "w5K7DCqMUctv"
   },
   "source": [
    "### Load the Twitter Named Entity Recognition corpus\n",
    "\n",
    "We will work with a corpus, which contains tweets with NE tags. Every line of a file contains a pair of a token (word/punctuation symbol) and a tag, separated by a whitespace. Different tweets are separated by an empty line.\n",
    "\n",
    "The function *read_data* reads a corpus from the *file_path* and returns two lists: one with tokens and one with the corresponding tags. You need to complete this function by adding a code, which will replace a user's nickname to `<USR>` token and any URL to `<URL>` token. You could think that a URL and a nickname are just strings which start with *http://* or *https://* in case of URLs and a *@* symbol for nicknames."
   ]
  },
  {
   "cell_type": "code",
   "execution_count": 3,
   "metadata": {
    "colab": {},
    "colab_type": "code",
    "id": "lBSouYXIUctx"
   },
   "outputs": [],
   "source": [
    "import re\n",
    "def read_data(file_path):\n",
    "    tokens = []\n",
    "    tags = []\n",
    "    \n",
    "    tweet_tokens = []\n",
    "    tweet_tags = []\n",
    "    for line in open(file_path, encoding='utf-8'):\n",
    "        line = line.strip()\n",
    "        if not line:\n",
    "            if tweet_tokens:\n",
    "                tokens.append(tweet_tokens)\n",
    "                tags.append(tweet_tags)\n",
    "            tweet_tokens = []\n",
    "            tweet_tags = []\n",
    "        else:\n",
    "            token, tag = line.split()\n",
    "            # Replace all urls with <URL> token\n",
    "            # Replace all users with <USR> token\n",
    "            token = re.sub(\"^https?://.+\", \"<url>\", token)\n",
    "            token = re.sub(\"^@.+\",\"<USR>\", token)\n",
    "\n",
    "            ######################################\n",
    "            ######### YOUR CODE HERE #############\n",
    "            ######################################\n",
    "            \n",
    "            tweet_tokens.append(token)\n",
    "            tweet_tags.append(tag)\n",
    "            \n",
    "    return tokens, tags"
   ]
  },
  {
   "cell_type": "code",
   "execution_count": 5,
   "metadata": {},
   "outputs": [
    {
     "data": {
      "text/plain": [
       "'b@la'"
      ]
     },
     "execution_count": 5,
     "metadata": {},
     "output_type": "execute_result"
    }
   ],
   "source": [
    "re.sub(r'^@.+','<USR>','b@la')"
   ]
  },
  {
   "cell_type": "code",
   "execution_count": 6,
   "metadata": {
    "colab": {},
    "colab_type": "code",
    "id": "4sULH0wSWYfb"
   },
   "outputs": [],
   "source": [
    "# import re\n",
    "# a = \"http://www\"\n",
    "# b = \"https://www\"\n",
    "# c = \"@nhusdiwala\"\n",
    "# p = re.compile('^https?://')\n",
    "# p.match(b)\n",
    "# c = re.sub(\"^@.+\", \"<url>\", c)\n",
    "# print(c)"
   ]
  },
  {
   "cell_type": "markdown",
   "metadata": {
    "colab_type": "text",
    "id": "Sk5xU9F8Uct1"
   },
   "source": [
    "And now we can load three separate parts of the dataset:\n",
    " - *train* data for training the model;\n",
    " - *validation* data for evaluation and hyperparameters tuning;\n",
    " - *test* data for final evaluation of the model."
   ]
  },
  {
   "cell_type": "code",
   "execution_count": 7,
   "metadata": {
    "colab": {},
    "colab_type": "code",
    "id": "oMHteZatUct3"
   },
   "outputs": [],
   "source": [
    "train_tokens, train_tags = read_data('data/train.txt')\n",
    "validation_tokens, validation_tags = read_data('data/validation.txt')\n",
    "test_tokens, test_tags = read_data('data/test.txt')"
   ]
  },
  {
   "cell_type": "markdown",
   "metadata": {
    "colab_type": "text",
    "id": "z-EAeK3LUct7"
   },
   "source": [
    "You should always understand what kind of data you deal with. For this purpose, you can print the data running the following cell:"
   ]
  },
  {
   "cell_type": "code",
   "execution_count": 8,
   "metadata": {
    "colab": {
     "base_uri": "https://localhost:8080/",
     "height": 1000
    },
    "colab_type": "code",
    "id": "zq2k2xPYUct8",
    "outputId": "f6c0c955-30fe-461d-9fbe-f5db9dcf0b66"
   },
   "outputs": [
    {
     "name": "stdout",
     "output_type": "stream",
     "text": [
      "RT\tO\n",
      "<USR>\tO\n",
      ":\tO\n",
      "Online\tO\n",
      "ticket\tO\n",
      "sales\tO\n",
      "for\tO\n",
      "Ghostland\tB-musicartist\n",
      "Observatory\tI-musicartist\n",
      "extended\tO\n",
      "until\tO\n",
      "6\tO\n",
      "PM\tO\n",
      "EST\tO\n",
      "due\tO\n",
      "to\tO\n",
      "high\tO\n",
      "demand\tO\n",
      ".\tO\n",
      "Get\tO\n",
      "them\tO\n",
      "before\tO\n",
      "they\tO\n",
      "sell\tO\n",
      "out\tO\n",
      "...\tO\n",
      "\n",
      "Apple\tB-product\n",
      "MacBook\tI-product\n",
      "Pro\tI-product\n",
      "A1278\tI-product\n",
      "13.3\tI-product\n",
      "\"\tI-product\n",
      "Laptop\tI-product\n",
      "-\tI-product\n",
      "MD101LL/A\tI-product\n",
      "(\tO\n",
      "June\tO\n",
      ",\tO\n",
      "2012\tO\n",
      ")\tO\n",
      "-\tO\n",
      "Full\tO\n",
      "read\tO\n",
      "by\tO\n",
      "eBay\tB-company\n",
      "<url>\tO\n",
      "<url>\tO\n",
      "\n",
      "Happy\tO\n",
      "Birthday\tO\n",
      "<USR>\tO\n",
      "!\tO\n",
      "May\tO\n",
      "Allah\tB-person\n",
      "s.w.t\tO\n",
      "bless\tO\n",
      "you\tO\n",
      "with\tO\n",
      "goodness\tO\n",
      "and\tO\n",
      "happiness\tO\n",
      ".\tO\n",
      "\n"
     ]
    }
   ],
   "source": [
    "for i in range(3):\n",
    "    for token, tag in zip(train_tokens[i], train_tags[i]):\n",
    "        print('%s\\t%s' % (token, tag))\n",
    "    print()"
   ]
  },
  {
   "cell_type": "markdown",
   "metadata": {
    "colab_type": "text",
    "id": "t17N3U0AUcuA"
   },
   "source": [
    "### Prepare dictionaries\n",
    "\n",
    "To train a neural network, we will use two mappings: \n",
    "- {token}$\\to${token id}: address the row in embeddings matrix for the current token;\n",
    "- {tag}$\\to${tag id}: one-hot ground truth probability distribution vectors for computing the loss at the output of the network.\n",
    "\n",
    "Now you need to implement the function *build_dict* which will return {token or tag}$\\to${index} and vice versa. "
   ]
  },
  {
   "cell_type": "code",
   "execution_count": 40,
   "metadata": {
    "colab": {},
    "colab_type": "code",
    "id": "pdWnlScTUcuB"
   },
   "outputs": [],
   "source": [
    "from collections import defaultdict"
   ]
  },
  {
   "cell_type": "code",
   "execution_count": 41,
   "metadata": {
    "colab": {},
    "colab_type": "code",
    "id": "0Bkfgc39UcuF"
   },
   "outputs": [],
   "source": [
    "def build_dict(tokens_or_tags, special_tokens):\n",
    "    \"\"\"\n",
    "        tokens_or_tags: a list of lists of tokens or tags\n",
    "        special_tokens: some special tokens\n",
    "    \"\"\"\n",
    "    # Create a dictionary with default value 0\n",
    "    tok2idx = defaultdict(lambda: 0)\n",
    "    idx2tok = []\n",
    "    \n",
    "    # Create mappings from tokens (or tags) to indices and vice versa.\n",
    "    # At first, add special tokens (or tags) to the dictionaries.\n",
    "    # The first special token must have index 0.\n",
    "    \n",
    "    # Mapping tok2idx should contain each token or tag only once. \n",
    "    # To do so, you should:\n",
    "    # 1. extract unique tokens/tags from the tokens_or_tags variable, which is not\n",
    "    #    occur in special_tokens (because they could have non-empty intersection)\n",
    "    # 2. index them (for example, you can add them into the list idx2tok\n",
    "    # 3. for each token/tag save the index into tok2idx).\n",
    "    \n",
    "    ######################################\n",
    "    ######### YOUR CODE HERE #############\n",
    "    ######################################\n",
    "    # a = set(tokens_or_tags)\n",
    "    total = set(special_tokens)\n",
    "\n",
    "    # total = a.union(b)\n",
    "    for li in tokens_or_tags:\n",
    "      temp = set(li) \n",
    "      total = total.union(temp)\n",
    "    \n",
    "    for i, tok in enumerate(total):\n",
    "      tok2idx[tok] = i\n",
    "      idx2tok.append(tok)\n",
    "\n",
    "\n",
    "    \n",
    "    return tok2idx, idx2tok"
   ]
  },
  {
   "cell_type": "markdown",
   "metadata": {
    "colab_type": "text",
    "id": "F6pNw5gtUcuI"
   },
   "source": [
    "After implementing the function *build_dict* you can make dictionaries for tokens and tags. Special tokens in our case will be:\n",
    " - `<UNK>` token for out of vocabulary tokens;\n",
    " - `<PAD>` token for padding sentence to the same length when we create batches of sentences."
   ]
  },
  {
   "cell_type": "code",
   "execution_count": 42,
   "metadata": {
    "colab": {},
    "colab_type": "code",
    "id": "QzD5C4ADUcuJ"
   },
   "outputs": [],
   "source": [
    "special_tokens = ['<UNK>', '<PAD>']\n",
    "special_tags = ['O']\n",
    "\n",
    "# Create dictionaries \n",
    "token2idx, idx2token = build_dict(train_tokens + validation_tokens, special_tokens)\n",
    "tag2idx, idx2tag = build_dict(train_tags, special_tags)"
   ]
  },
  {
   "cell_type": "code",
   "execution_count": 43,
   "metadata": {},
   "outputs": [
    {
     "data": {
      "text/plain": [
       "16"
      ]
     },
     "execution_count": 43,
     "metadata": {},
     "output_type": "execute_result"
    }
   ],
   "source": [
    "tag2idx['O']"
   ]
  },
  {
   "cell_type": "code",
   "execution_count": 44,
   "metadata": {
    "colab": {
     "base_uri": "https://localhost:8080/",
     "height": 105
    },
    "colab_type": "code",
    "id": "QohCqkqNhLgy",
    "outputId": "238d6803-d44a-4c8b-80fc-2cda83319920"
   },
   "outputs": [
    {
     "name": "stdout",
     "output_type": "stream",
     "text": [
      "20507\n",
      "['#5SOSSunrise', 'Bakersfield', 'PHILIPPINES', '#AzaroLocal', '#I95', 'daughter', 'pueda', 'Internet', '360', '94hun_21chen', 'shit', 'menggelar', '#malta', 'bieber', '#lotsofsocks', 'NOVEMBER', 'trend', 'Norman', 'Fe', 'bumass', 'sport', '1994', 'Many', 'cancelled', 'arrive', 'savings', 'More', 'breach’', 'owa', 'COMMENT', 'dietician', 'Sh', 'orderly', 'setlist', '2day', 'buddy', 'boots', 'Poly', 'fallin', 'gain', 'insyd', 'SANG', 'noticed', 'WORK', 'dj', 'illness', 'oct', '07587408469', 'Shows', 'Anya', 'belief', 'dang', '#PSYUnangHalik', 'cesccanna', 'mot', 'Marines', 'Grimm', 'prevent', 'quicker', 'Officer-involved', 'Vary', 'cavalier', 'Yacht', 'hectic', 'smiling', 'FREE', 'Fears', 'Donde', 'Motion', 'Gay', '#THFC', 'Shxt', 'Clouds', 'rips', '????', 'alabama', '458', 'unconsciously', 'Madness', 'leur', 'Spectacular', 'cart', 'jaguar', 'Monday', 'BRITHDAYY', 'nakakaiyak', 'Male', 'Antonio', 'THING', '#Vaginal', '#UNCC', 'interested', 'Best', '#restaurants', 'Footballers', 'pic.twitter.com/U9gcgRb8zE', 'decent', 'community', 'tangy', 'kapatid', 'anda', 'CT/Rad', 'jangan', 'Tonightt', 'BEAST', 'heightene', 'Risk', 'sooner', 'chancellery', 'momma', 'subscribed', 'Slocum', 'NANG', 'KANSAS', 'sumthin', 'Bottle', 'STAR', '#MNF', 'www.NLCLive.com', '13.4', 'hosting', 'pixel-precise', 'empty', 'Egyptian', 'BUKIT', 'HEAD', 'Ooo', 'AND', 'fundamental', 'gue', 'Homie', 'around(', 'THOSE', 'Ljubljana', 'Feature', 'berlatih', 'Clients', 'Prophet', 'PRILLVERS', 'livethedreamconference', 'mommys', 'TOTAL', '#MUP', 'equinox', 'drags', 'Pookie', 'Government', \"J'entends\", 'lyrics', 'small', 'Mother’s', 'Following', 'Jessica', '#ALDUB4thMonthsary', 'exam', '#cutepic', 'contains', 'tonite', 'dirty', '360.00', \"c'est\", 'dagnabbit', 'closed', '”ummm', 'youre', 'mayhem', 'sinhedrim', 'FREEKEY', 'GDP', 'Porter', 'drinking', 'Title', 'twa', '12:38', '5H', \"november'\", 'wouldnt', 'joyful', 'dog', '#ATLPromoTour', 'recent', 'parang', 'McCormick', 'genesis', 'leads', 'Observatory', 'Hotel', 'district', '#langdale', 'catholiques', 'Guantanamo', '#botweast', '#THEELITEMEN', 'rules', 'walk', 'gala', 'it&amp;#39', 'involved', 'adalah', '06:52', ':O', 'WILDCATS', 'abduction', 'Plenty', 'extinction', 'Ryerson', 'SANTA', 'EPC', 'Tiger', 'Cohen', '#manutd', 'divine', '2B', '#security', 'Elsa', 'EARLY', 'Ripped', 'T1m35', 'debut', 'teaser', '#Nellyville', 'unnecessary', 'Audi', '42.0', 'sendiri', 'nest', 'effect', '@', 'shake', 'Severe', 'KRISTEN', 'Throwers', 'Gourmet', 'Power', 'BC', 'US', 'SHAVED', 'dealers', '07:15', '#feedthesenses', '#OTWOLTooGood', 'Owner', 'ISABEL', 'legal', 'groeiproces', '76', 'lashes', 'FILLING', 'Ohhhh', '#ALDUBBaeYaya', '#GetBusy', 'transforming', 'KIPPUR', 'mandatory', 'Zendesk’s', 'TE', '#SWOOP', 'Vaccines', 'Gatorade', 'Junaid', 'simple', 'Shpongle', 'meh', \"'ive\", 'pakisabi', 'greta', 'respect', 'CALABASH', 'ALL', 'Caught', 'BASE', 'boundless', 'Thai', 'press', 'Ay', 'vids', 'ongoing', 'Flying', 'FAIR', \"dated!''\", 'acaba', '#Property', 'hassi', '#SurvivorFinale', 'Amber', 'shitloads', 'XV', 'Surveillance', 'orlando', 'Nicki', 'b4', 'Runaway', '7.40', 'ITS', 'Heights', 'counting', 'notifies', 'Kggising', 'amour', 'unable', 'cam', 'ziek', 'aides', 'Vapor', 'Dim', 'Ambon', 'office', 'Checked', 'Dragic', 'supposed', 'underrated', 'sentiments', 'much', 'tuyu', 'kasama', '#SustainableEnergy', 'common', 'their', 'fried', '#infosec', 'preparing', 'Jill', 'rottweiler', '#diving', 'MJ', 'overtired', 'UNTIL', 'serie', '2015-07-13T', '#allcongress', 'vs', '11Feb', 'Road', 'represents', 'BDAY', 'Commerce', 'per', 'news', 'lonely', 'plan', 'pool', 'sabar', 'bunch', \"Girl'!\", 'Engadget', 'lawsuit', 'a.m.', 'Rupert', 'Ipod', 'Golf', 'spon', 'blague', 'lumabas', 'bersama', '#ILikeIt', 'pag', '#PSYWhistleblower', 'secours', 'attacks', 'w/cinn', '#IndVsSa2015Serie', 'Tula', 'previews', 'JUCO', 'Tier', 'easy', 'comfortable', 'Mitesh', 'VP', 'Jonathan', 'Wheatland', '#SwollOn', 'salsa', 'Airmax', '#DayZ', 'Tells', 'tenants', 'train', 'brunch', 'Fish', 'overlooking', 'adamson', '100', 'floricienta', 'Heller', 'DIRECT', 'Seattle-ites', '#crazyshit', 'i', 'burnt', 'smexy', 'Q&amp;A', 'Asr', '#famouslastwords', 'pals', 'happpppy', 'vraiment', 'tag', 'wellness', 'futur', 'Nosotros', 'Alabama', 'Points', 'Far', 'child', 'N4G', 'Near', '#BrothersConflict', 'kick', 'Schuster', 'direct', '#tornado', 'george', \"&quot;'\", 'Presidenta', 'NOOOOOO', 'coupon', 'convos', 'Ever', 'Around', 'Concert', 'ema', 'Curricula-B', '#JenniferAniston', 'incline', 'prostitute', 'reputation', 'Golden', 'dayzz', 'Spent', 'Soldier', 'teams', 'beeeeyb', 'bffs', '#Breaking', '#NYEonSpringSt', 'java', 'CITES', 'Moderately', 'Offering', 'hat', 'Headrush', 'Nandiyan', 'tyson', '#MaineMendozaOnKMJS', 'ecommerce', 'lofty', 'yoiu', 'programme', 'AI', 'Madison', 'Idk', 'Roadhouse', 'ganyang', 'Sain', 'latimes', 'Play', 'Mon', 'yooouuu', 'versus', 'CAME', 'Pink', 'FYI', \"MODEL'$$\", '#BBHMM', 'NITES', '!!!!!', 'happening', 'Gift', 'became', 'GONNA', 'NORMAL', 'Brian', 'intelligent', 'Change', 'irish', 'DES', 'Starts', 'unintentionally', '4gifs', 'feelin', 'Asprin', 'Podres', 'Sharon', 'helpful', 'BREAKFAST', 'FantasyPro', 'based', 'Cuthrell', 'Means', '*^*', 'Tuff', '02:45', '#DCNavyYard', 'Tupac', '#link', '#theLword', '#142', 'deal', ':(', 'hires', 'Seven', 'november', 'Hitting', 'snort', 'given', 'Democracy', '#mustread', 'external', '338', '#TheIncredibleTrueStory', 'Mahirap', 'EXTEND', '#ShesKindaHotVMA', '#metropcs', '#Obama', '1.0152799119', 'Ireland', 'because', 'Dax', 'nazitroops', 'BIZJOURNALS', 'digs', 'projects', 'talent', '#YanAngPinoy', 'coin', 'Ingram', 'HUGE', 'Reuters', '1784', '4:00', 'Indiesent', 'mis', ':-D', 'Violence', 'IPASA', 'display', 'friday', 'chatima', 'Film', 'nandos', '02:47', 'braised', 'Di', 'ich', 'tea', 'Terror', '#Oregon', '#Sports', 'Kshs', 'guided', 'Roll', '13:47', 'retweet', '32gb', '#world', 'map', '#NYC', 'Court-Martial', 'Diaomond', '-Been', 'CA', '#Pinterest', 'xDlmfao', 'heat', 'resolution', 'Oakland', 'Stolen', 'Ratan', 'witness', 'Drive-by', 'Jimmie', 'playin', 'A1238', 'DEAL', '*cough*', 'perhaps', 'battery', '#NYYvsBOS', 'Dieselgate', '#PeopleWhoMadeMy2014', 'Wage', 'denies', 'face', '#ads', 'before', 'simplified', 'DBS', 'SMS/WA', 'sisters', '1hr', 'Our', 'Specials', 'Stock', '#cuboulder', 'asleep', 'theory', 'Goldsmith', '#FACT', '3254', 'Tue', 'nocturnal', '#teamtrill', '#adventures', '>', 'GOO', 'MLIA', \"BH's...\", 'Fureta', 'bugatti', 'official', 'mornings', 'Infostrada', 'Daytime', '#GoBeavs', 'Bagan', 'Stoyer', 'Reloaded', 'Stockholders', 'blade', 'Annieversary', 'Sponsor', 'Sabres', 'reveals', 'KELANGAN', 'fully', \"!'\", 'ground-breaking', 'Reminder', 'Jake', '!?!', 'brand', 'Winter', 'KO', 'lock', 'On-line', 'Hannah', 'Dhoni', 'Koran-Burning', 'bandhah', '??!!', '#iwearmysunglassesatnight', 'Gluten', 'responsibilities', 'presidential', '51312D54', 'PLS', 'Nos', 'Better', 'weekly', 'Keyword', '(@JOELLORTIZ', 'Syempre', '#Firm', 'calls', 'Sweat', '#clearancejobs', '#nyc', 'painted', 'Everyone', 'strengthen', 'hungry', '85', 'rappin', 'billion', 'DESPITE', 'recreational', 'Montgomery', 'recommend', 'SI', '1.2', 'Denise', 'Shop', '02:17', 'resign', 'actor', '#237', 'inland', 'armload', 'Lamentable', 'WANT', '1961', 'dinner', 'Theresa', 'perform', 'entree', 'N.J.', '#vlog', 'bhi', '#Statistics', 'bible', 'GC', '831-842', 'LFL02', 'AP)', '02:27', 'award-winning', 'Botanic', 'nagging', '#SleepierHardier', 'WO', 'STRATEGY', 'hoodoo', 'theyll', '#ForDrinkersOnly', 'Nath', 'deals', 'grown', 'including', '#Young', 'ICT', '#Longchamp', 'chin', 'fashion', '#auction', 'sweeping', 'Yanks', '15:51', 'hiram', 'culture', '#SEERED', 'Dieter/Rex', '#charliecharliechallenge', '20/06', 'BOARD', 'wensday', 'hitting', '#Twitition', 'behave', 'ART', 'Diaper', 'NOW', 'Gardens', 'happened', 'Antebellum', 'binalik', 'Vista', 'Michele', 'Jacinto', '#AskEv', 'tot', 'Urban', 'Banks', 'COUNTDOWN', 'incorrect', 'Companies', 'referee', 'LOOK', 'Oct', 'Office', '#ClimateChange', 'Northwest', 'pa', 'SUPPORT', 'understands', 'iranians', 'Jackie', 'shrimp', 'Central', 'restless', 'FN', 'self-esteem', 'Legend', 'asks', 'corrected', 'robots', 'convene', 'Siwon', 'sex', 'Authorities', '-via', 'Announces', 'GaGa', 'Cody', 'sudah', 'R.K.', 'tied', 'Logan', 'ngiler', 'improve', 'Heat', '12:14', 'musicians', 'Megan', 'stack', 'written', '#Android', 'Half', '#MondayMotivation', 'required', 'scary', '#DACA', 'MAIN', '160GB', 'amongst', '2', '#summerstill', '‘security', 'Madrid', 'puede', 'grue', 'Badtrip', 'G2B', 'river', 'Located', 'Costs', 'trademark', 'Reds', '#Marysville', 'moneys', 'Nagar', 'case', \"'FREEGAME\", 'halls', 'kicks', 'Swiss', '03:18', 'Ramzan', 'emotions', 'dedicated', 'sold', '1991', 'BECAUSE', 'STUPID', 'degrees', 'Romania', 'performers', 'BREEZE', 'kesepakatan', 'X', 'facing', \"I'ma\", 'banned', '3:12', 'Caesars', 'and', 'Type', 'mandi', '2v2', 'horrible', 'Giggles', 'HoveLive', 'Albion', 'domestic', 'Aretha', 'Thanx', 'HG', 'Pet', 'Georgie', 'emotional', 'shaft', 'ALONE', '-Featured', '15:45', 'Spotted', '#usa', '2014-15', '#Tues', 'Sekarang', '#Brighton', 'parcours', '#MHSCPSG', '#cold', 'Graphic', 'Wilson', '#ALDUBComeWhatMay', '#snapchat', 'o.d.b.', 'relook', 'Smh', 'attempting', 'only', '.........', 'Twin', 'America', 'downgrade', 'AP”', 'Anthony', 'BPAN', '0-0', 'Gus', 'morra', 'mob', 'bod', '#Spec-#Womens', 'Lindis', 'restaurants', 'Shooter(s', 'Twy', 'Andy', 'LAGUNA', 'elephants', 'lands', 'hotshot', 'Adam', 'lads', 'variety', 'Hien', 'explique', 'conservatives', 'tournament', 'wazzup', 'Dew', 'incroyable', 'best', 'Charlestown', 'property', 'gov', 'frowning', '#topoli', 'JPN', 'stumble', '7PM', 'Unknown', 'enjoys', 'fog', 'NOV', 'GUNS', 'AIGHT', 'umasa', 'key', 'Mike', '#Patriots', '#Random', 'entirely', 'believers', 'tw', 'DulayRdulay23', 'disabilities', 'shy', 'bullet', 'Season', 'ooit', 'got', 'APK', '90s', 'Wendy', 'BODY', 'ut', 'Put', 'Xperia', 'slapped', '$RSX', 'use', 'pgn', 'Kk', '#Denver', 'blend', 'fs', '#Blog', 'shitty', '05:50', 'Smithson', 'later', 'wireless', 'Collection', 'mccarthy_peyton', 'Display', 'EXCITED', 'writer', 'Whiteboard', 'Barre', 'Bill', 'ripples', 'effects', '$22', 'SIGHTINGS', 'Cesar', 'slot', 'JANUARY', 'Lounge22', 'Tumblr', 'avatar', 'due', 'tweets', 'LFC', '#MDJobs', 'masabi', 'Dada', 'connected', 'coordinate', 'HPU', 'sunshine', 'papillon', 'looks', 'passed', 'zero', 'Embed', 'Dazed', 'contributions', 'Olly', 'seule', 'fresh', 'reacharound', '[#wildhackathon', 'Nashville', 'HOLIDAY', 'Snoop', 'complete', 'uploaded', 'Michigan', 'sicker', 'in', 'Awesome', 'Wars', 'Chilling', 'Steam', '#DAPA', \"HAVEN'T\", 'Terps-Illini', 'Vamps', 'bon', 'Lantic', 'Hurry', 'Block', 'Egeo', \"it'll\", 'stoked', 'Al', '#inocente2014', 'setting', 'advanced', 'LUMALANDI', 'Access', 'attendance', 'crafting', 'Hustler', 'behind', 'deserving', 'doubleheader', 'Aah', 'Desperado', 'salvation', '150', 'TADHANA', 'standard', 'Dee', 'Files', 'recover', 'spammed', 'SB', '05:45', 'Bestfriend&lt;Ride', 'brings', '122K', 'extending', 'HOLLYWOOD', 'YA~', 'hypotheses', 'juicy(and', 'former', 'Ye', 'shout', 'FLASH', 'SCOTT', 'grow', 'Shooting', 'currently', 'ris', 'Tenggelam', 'knw', 'dir', 'laws', 'dirayakan', 'EVA', 'fans', 'wide', 'PROMO', 'bouta', 'Nouvelle', '#1by1', 'lines', 'Amex', 'homophobia', '#Care', 'yu', 'Arkansas', 'Trailer', 'did', 'Rights', 'Hashes', 'FOIA', 'yummyyyyy', 'iown', 'iya', 'hospitals', '#profiling', 'Curtiz', 'DVR', 'crowd', 'Sa', 'Manor', 'parachute', 'Janin', 'Was', 'postcard-producing', 'putes', 'Bo', '04:36', \"J'veux\", 'spew', 'fighter', '#Hove', 'Homg', 'Yung', 'Priest', 'Najib', 'LASALLE', '#TRUTH', 'Quidditch', '#YUPPP', 'purposely', 'accomplish', 'day-to-day', 'mai', '*paws', 'Bengkalis', '#Somaliland', 'roof', '#TimeToGetOut', 'Nobody', '?!?', 'OS', 'your_commander', 'Chafee', 'seat', \"I'...\", 'lights', '#LittleAussieBakery', 'Hundred', 'Inquiry', 'hardware', '1933', 'enrique', '#GME', 'Trends', '77.16', 'producer', 'Trafford', 'ORDERS', 'abundantly', 'threes', 'aftern', 'Allowing', 'yes', 'Space', 'Nasional', 'laugh', 'M', '#COP21', 'facelift', '23,201', 'quiet', '#Parenting', 'whistle', 'DOJ', 'mark', 'camera', 'end', 'Greyhounds', 'RR', 'teased', 'hi', 'Lennon', 'om', 'Connolly', 'Putri', '!!!!.', 'konting', '#keeplonghair', 'erily', 'Germany', 'auction', 'Boys', 'ICYMI', ';', 'heinous', 'ta', 'assetjament', 'onto', 'Stubborn', 'pamasahe', 'hosted', 'ritual', '#PushAwardsLizQuens', '34.99', 'Pontianak', 'Coliseum', '27th', 'ass', 'CONDITION', 'memory', 'Emilio', 'Bus', 'championship', 'ancient', 'room', '...\"', 'alert', 'puffed', 'celebration', 'mcfly', 'tanggal', '15mins', 'daily', 'LOYAL', 'pushing', 'Wright', 'GIRL', 'Hes', 'removes', 'youtube', 'yesshh', 'Killer', \"Didn't,\", 'pang', '#CopaDelRey', 'pour', 'acts', 'Science', 'Penders', '#ThoughtStreamHeartbeat', '#moviedialoguewithpopesubstitute', '6,200', 'Christian', 'Max', '#50', '#ALDUBMoreThanWords', 'missed', 'Belfast', 'xxxx', 'Tattoos', 'Arrivals', 'middle', 'campo', 'regretting', 'Count', 'area', 'MAN', 'Waldo', 'wha', 'uitzendinggemist', 'Shame', 'China…', '£', 'NRSC', 'Nearly', 'Image', 'figured', 'trouble', '#BlueLivesMatter', 'into', '#indiebob', 'pic.twitter.com/JhJ95l9JHa', 'your', 'Mexico', 'ROU-2S2', 'Pittsburgh', 'presented', 'The', 'Code', 'masaktan', 'Incoherence', '#Prayer', 'eager', 'SLEDGE', \"ID'd\", 'frees', 'linger', '#Interstate', 'inclement', 'Dhan', 'yall', '#Handmade', 'Jean', 'Grease', '“@KSTP', 'Bie', 'araw', '52AC28C6', 'TNA', '25', 'careless', 'ai', 'ALERT', 'demonstrative', 'pari', 'champagneAK', 'Wow', 'science-observe', 'maloloka', '#TwitchXbox', 'battling', 'modernize', 'estava', '#mondaymotivation', '(^-^)', 'Picchu', '#E4', 'KBS', 'permits', '#BadExtraInningJokes', 'annoyed', 'SATURDAY', 'Bamon', 'Staten', 'Newcastle-Upon-Tyne', 'forceur', '#Cobber', 'tragedy', 'pedestrian', 'millions', 'Matters', 'answer', 'Hawthorne', '150605', 'Celine', 'signing', 'day-boo', 'Damn', '#indiemusic', 'Santa', 'forty', 'elle', 'veeba', 'allemaal', 'juss', 'dam’s', '01:05', 'RCTI', '20:30', '#SevereWX', 'zz', '-RJJ”', \"'....\", 'MVP', '#GOT7', 'Chapel', 'oth', 'TriBeCa', 'partiesss', 'Eastern', 'fire', 'Coleman', 'Quran', 'weekends', 'Draft', '300%', '5-8pm', 'enforcement', 'Sodium', 'suspenders', 'than', 'ziet', 'Signal', 'hookey', 'economic', '#Predictions', 'prog', 'sues', 'Dabarkads', 'Kent', '#Merapi', 'Wed', \"ceo's?\", 'defeats', 'events', 'shoots', 'receive', '$10', 'LOL', 'Send', 'Flash', 'purchase', 'prefer', 'TIKET', 'is', 'Uncle', '31-Sept', 'scroll', 'Fayette', 'Call', '#bailbondsphoenix', 'samedi', 'ground', '10/10/2015', 'Luca', 'mmass', 'Pre', 'EFCC', 'Warrior', 'Nights', 'H-E-B', '#NotRight', 'Aside', 'Springs', 'Astoria', '#Xboxone', 'romance', 'Pick', 'stores', 'Sittin', 'hefty', '.\"\"', 'ChardTillas', 'Mei', 'Magazine', 'subject', 'CITY', 'Climbing', 'Payo', 'pouco', 'Asia', 'meron', 'Immune', 'seit', 'partner', 'CHEATiN', '230-4', '4,000', '#TheDIP', 'Herb', 'bagong', 'MAM', 'nasty', 'patty', 'League', 'Pastor', 'Hayes', '#007', 'sufficient', 'Deep', '#DodgersNation', 'today~', 'technically', '#ylgw15', 'Rurouni', '#Shoppers', 'Pajak', 'places/time', 'football', 'Commit', 'argument', 'GS', '$27', 'TIFO', 'Flowers', 'exceeded', 'FA', 'Family', 'Field', 'Amla', 'divisent', 'inquire', '#MarketResearch', 'hour', 'didi', 'LAHAT', '$SPY', 'Schrijfster', 'al-Mallohi', 'encrypted', 'Huayna', 'affecting', '#BHStateOfMind', '#OutsideLands', 'View', 'Reportedly', '800,000', 'opened', 'enjoyable', 'boy+rat', '12/04/2015', 'Congress', 'rampage', '!!.', 'bombe', '#ObamaRepealTheExecutiveOrder', 'Although', 'Rotating', 'absoroootly', 'Kraus', 'Take', 'naaa', '&quot;.', '#DANDENONG', '#in', 'razor', 'wth', 'Fuel', 'Motive', 'baik', 'SUNDAY', 'kaya', 'ration', 'comments', 'Dareka', 'Eyeopener', 'past', '#Experian', 'REGISTER', '#OTWOLManilaInLove', 'wig)', 'launching', 'Fantasy', '#E_BAY', 'Noodles', 'Glenn', 'Interstellar', 'Kagome', 'impact', 'Overs', 'reportan', 'marked', 'Visual', 'selected', 'Uphuzani', 'filter', 'Sucks', \"shouldn't\", 'days', 'omg', 'min', 'growing', 'peterhead', 'lawyers', 'sign', 'APPOINTMENT', 'Seerthiruttham', 'SAVE', 'SKE48', 'assignment', 'DUI', 'immediate', 'sword', 'ne', 'Scene', 'Savoirfaire', 'Association', 'Nadjib', 'Frozen', 'FREESTYLE', 'John', 'Three-Game', 'heart', 'Main', '#autofollowback', 'Battlefield', 'lots', 'signe', 'Koh', 'LOUNGE', 'mashable', '~', 'Junk', 'combine', 'Sig', 'authors', 'Lindooo', '#DesignStudio', 'grandscruffy', \"'On\", 'Regulation', '#Vodafone', 'Everyday', 'Basic', 'LACURA', 'freaking', 'Hola', 'OMG-Fact', '#cybercrime', '#WRGB', 'DraftKings', 'Everton', 'Taggart', '43.75', 'Payment', '43', 'Simple', 'Sparks', 'fantasy', 'Terhune/Los', 'first', 'ho', 'accountant', 'Manchester', 'Biannual', 'nmn', 'meningitis', 'OF', 'Art', \"law':\", 'Dzeko', '14:56', 'IMMA', 'PAMPERS', 'miserable', 'sophomore', 'ec-12-2014', 'ipod', '#Forex', 'AFL', 'oldest', 'Alexandros', 'Tuesday', 'cares', '#VideoRecorder', 'Learning', 'YOU', 'comin', 'Preventing', 'Returns', 'Mental', 'confess', 'But', '#Massasje', 'properly', '&amp;#39', '42', '#AFCGoesThroughGillette', '-Roald', 'kahon', 'tau', '#Paris', '#lucky', '#Hamburg', 'Wie', 'kind', 'Alta', 'awwwww', 'lahat', 'Nandi-Kabras', 'sep', 'vaporizes', 'dah', '#NBAvote', '#horseandhoof', 'Canadian', 'Lailahaillallah', '#breach', 'done', 'gOd', 'Co', 'shirtless', 'Buy', '#siguemeytesigo', 'eyes*', 'Civil', 'James', 'diplomacy', '#Smartwatch', 'campaign', 'Sleep', 'voices', 'my$', 'ke-17', 'Diving', 'years', 'discussion', 'Travis', 'Woot', 'could', 'missing', 'lemurs', '-*', 'lololololol', 'News5', 'eram', 'LCL', 'shootout', 'Lucid', 'puedes', 'TIM', 'ma', 'males', 'SAMPAI', 'SOS', 'fluffy', 'NSW', 'KathNiel', 'lcontraire', '#notbad', 'dessert', 'beberkan', 'Galesong', 'Scheduled', 'Yup', 'Tampa', 'wisselen', 'since', 'races', '06th', 'PGY3+', 'sobrang', 'nov', 'Los', 'beneficial', 'Wit', 'everthing', 'stool', 'intensified', 'extends', 'rotfl', 'Sick', 'dragging', 'Lola', 'softw', 'flipboard', 'Heed', 'Recording', 'Soreal', 'Say', 'Minneapolis', 'Injection', 'banaya', '#Iran_Maryam', '#Health', 'Full', '#jo', '#vintage', 'anciennes', 'tablets', 'suddenly', 'climate-change', 'stopped', 'health', 'kaso', '#GGVLaughtrip', 'onesie', 's02e20', 'TacticalAfghanistan', 'Iwebslog', 'holiday', 'grounder', 'Elixir', 'muson', '#stupidnews', 'bokap', 'Hearing', '#Mozilla', 'targets', \"We'll\", 'Forum', 'would', 'WENT', 'bookkeeping', 'Yard', '#sfdphils', 'Akun', 'JD', 'magtatanong', 'meehaage', 'nominate', '#NBC7', 'BORNEO', 'tres', '#Play', 'entender', 'value', '#Pretty', 'beautiful', 'entry', 'Bikini', 'USSS', '54', 'malware', 'Sorgen', 'Gaun', '38', 'TWIN', 'DU', 'CHOICE', '#cats', 'CMS', '#Trucking', 'we', 'I`ll', 'bait', '9am', 'ughhh', 'Collector', 'request', 'taster', '#ALERT', 'Jellyfish', \"wait....I'm\", 'KKK', '12pts', 'Indexing', 'any', 'elementry', 'ROTFLMAO', 'Hopefully', 'gon', 'BGM', 'Toward', 'DONATION', 'Condor', 'orchestrated', 'vino', 'foru', 'horreur', '#slashdot', 'cheer', '#Tianjin', '#sacramento', 'anxious', 'JPP', 'protesters', 'industrial', 'now', 'Crazy', 'zayn', 'sector', 'Altered', '#livethedream', '#nostopping', '40s', '08pm', 'Inbetweeners', 'Juventus', 'Esri', 'Faroes', 'ito', 'ikut', 'treated', 'range', 'inane', 'Podcast', 'mubarak', '2009', 'sur', 'McNabb', '5.50', 'laughed', '#RTLextra', '#Gaming', '#BBN', 'NBA', 'a', 'Deepika', 'software', 'seed', 'Aprelu', 'Conn', 'supporters', '100000000000', 'lederhosen', '#Virgos', 'loss', '(', 'Told', 'Roquetas', '13:30', 'page-notes', 'mv', 'calf', 'expired', 'jo', 'century', 'headin', 'Dunk', 'Tassel', '#SIUC', 'moquent', 'constituency', '?', '11alivepic.twitter.com/v2mlv7jveo', 'personas', 'donuts', '#ALDUBMissingYou', \"THERE'S\", 'Bantal', '#TheJesusTouch', 'Blakehurst', 'Nasir', 'MAHIRAP', 'PrejudiceToward', 'proves', 'musulmanes', 'Scents', 'sort', 'nun', '23.19', 'Lilo', 'Peaceful', 'Miramichi', 'Sushi', 'BWW', '-Summer', 'garden', '#TnR', '#letsFootball', 'took', 'jedsweemonster', 'Spam', 'neice', 'Hartford', 'Done', 'rushed', '#HBDRazaAkram', 'Grande', 'take', 'Green', 'Tente', 'Gotta', 'webpage', 'Birdman', 'Train', 'daianerufato', 'Universal', 'earned', 'love-', 'lyk', 'AVE', 'weaker', '#vlogIT15', 't/m', 'Saginaw', 'MUCH', 'Dantonio', '04:44', 'puff', 'vista', 'This', 'Analysts', 'er', 'Support', 'Williams-Sonoma', 'ring', 'Gen', 'text', 'Twins', \"12'000\", 'Sagittarians', 'english', '#bobmarley', 'pact', 'Binary', 'Schools', 'Donald', 'EMERG', 'RE', 'Report', '10:16', '7.45', 'Option', 'Delivery', ';D', 'marshmallow', 'SPF', 'inoffice', 'Pass', 'Samuel', \"t'es\", '#blackburnrovers', 'Participate', '#mito', 'grand', 'POPPY', '#taylorswift', 'daronnes', 'UNKLE', 'nazi', 'Iron', 'one-year-old', 'Bernards', 'gods', 'ptap', 'dressed', '\"\\'', 'Bl', 'unimp', '#Montana', 'whateva', 'radio', 'corrects', 'swag', 'secret', 'CST', '#WeTriumphStill', 'MGA', 'canceled', '-_-', '24th', 'relief', 'Unnie', 'Songwriter', 'justthen', 'Route', 'dogs', '9AM', 'yourselves', 'network', 'bless', 'goodness', 'Diamante', 'Rolls', 'tagged', 'azz', '14th', 'perth', 'Happy', 'kasam', 'spark', 'Trophy', 'CRAZY', 'prenez', 'account', 'Tv', 'nanaman', 'excited', 'Mesa', 'gandang', 'southern', 'Rsn', 'weather', 'Economic', '#nfl', '250g', 'hurry', '191', 'q', 'yaya', 'Earl', '#Oban-#Colonsay', 'couple', 'lonesome', 'Cry', 'versa', 'UT', '#litb3', '*tomorrow*', 'Yay', 'drink', 'Venue', 'COP', 'Langkah', 'insaneeee', 'insight', '15V213000', 'character', 'followed', 'Ginger', 'Loved', 'Ooh', 'yey', '#SongFromFarAway', 'PP', 'failure', 'defense', 'tomo', 'etc', 'named', 'justinbieber', 'CLIMAX', 'isatimak', 'staat', 'ISLAM', 'webcam', '#ExcitedForLittleMix2015', 'tidings', 'Denver', 'MONGGO', \"Jum'at,\", 'criteria', 'fragile', 'Bills', 'Store', 'helping', 'Walk', 'YO', 'Tahoe', 'jagetia', 'August', 'sont', 'blue', 'Bites', 's/n', 'kinda', 'Movement', 'Savour', 'parades', 'Gajendra', 'Gear', 'Quicksilver', '#Webranking', 'hypervisor', '#Job', 'daughters', 'Seahawks', 'PASSE', 'tells', 'closes', 'refuses', '#Duo', 'termites', 'Vistes', '-Justice', '07:33', '#REBOOT', 'thinner', 'fashionably', 'kylie', 'Monthly', 'Irvine', 'vfdt', 'Officers', '#ALDUBNewJourney', 'hoarder', '99', 'Sample', 'Lyric', 'Beenzino', 'Vos', 'Fry', 'naamoy', 'learned', 'USS', '4TH-8TH', 'DIANA', 'Jupiter', 'Tarantula', 'chicken', 'Woo-hoo', \"we're...\", 'lantai', 'Queen', 'lay', 'dropped', 'Capricorn', 'COMMING', 'yok', '#SaroTheMusical2Day5', 'tour', 'whittier', 'Watchers', 'show-1', '500', 'directed', 'eighth', 'here', 'Redskins', '12:23', '#Orlando', '#Druggists', 'Premium', 'NASCAR', 'Forbidden', 'Kirk', 'pagbibigay', 'Shoes', 'AG-HMC40P', 'PS3', 'OOC', 'penghijauan', '18lo', '20th', 'THERE', 'Disinfecting', 'Fallin', 'Jour', 'sobre', 'upgrade', '#YoureMyHomeUncover', 'receiving', '#Wrestlemania', 'musik', 'AVA', 'Friends', '089689681882', 'Pig', 'mates', 'babies', 'advised', 'skool', 'Spray', 'Hoti', 'berebut', 'pro', 'stag', 'Pepsi', 'Zikr', \"'m\", 'papers', 'SARAP', '#Trancefamily', 'PANG', 'employees', '4186', 'approach', '.!!!!', 'retired', 'marunong', '#teamlesbian', 'shelter', '*sigh*', 'QF', \"they'll\", 'Rice', 'Investigation', 'Electronic', 'Videos', 'y', 'WHOOPWHOOP]', 'Rose', 'Da', 'Double', '0.9', '1000h', 'Padilla', 'TL_jp', 'out', 'zid', 'Brady', '#LOB', '#deep', '#YaGunnersYa', 'P.M.', 'Donkey', 'relay', 'carrots', 'nidora', '#HellonWheels', 'interactive', 'terminuses', '#TECHINFO', 'Twas', 'Dah', 'camping', 'Johns', 'Helps', 'Resorts', 'extras', '#mcm', 'Committed', 'monday', 'Subs', '9.13', 'MTV', 'Flyers', 'Kissaway', 'Spf', 'MISS', 'savannah', 'South', 'saans', 'thief', ',,,', '7:05', '#BHAFC', 'girl', '#mlb', 'Video', 'business', '39%', 'convention', 'provoking', \"I'd\", 'montrant', 'Lakers', 'seduce', 'worry', \"should've\", 'passeports', '#Rams', 'supplies', 'assists', 'Mercury', 'smell', 'ditutup', 'Listen', '#Frankfurt', '#Parliament', 'Elegance', \"DUKETERS'S..have\", 'WTF', 'Okaaay', 'EVENT', 'SELF', 'watchers', 'drawn', 'leave', 'xxx', 'celtics', 'kana', 'lg', 'Cegah', 'Belesky', \"Sa'Miyah\", 'LMao', 'stream', '#TeenWolfSeason5', 'Naxos', 'kagandahan', '09:01', 'essay', '64', '#mintswim', 'Salt', 'math', 'flash', \"IT'S\", 'theday', 'HKY', 'ol', 'buzzbox', 'Tentokrát', 'nko', 'fanfiction', 'gr8', 'tri', 'supply', 'twentieth', \":)'\", 'Someone', '104', 'WWII', 'family-friendly', '(#Yeremiito21', 'NO', '#ImJustSaying', 'enter', 'injure', '#1hiphopstation', \"I'M\", '#LA', 'SHELTER-STALKING', 'AUS', '#inourhead', 'Triangle', 'goli', 'Amy', 'Highland', 'Dayton', '#Ebola', 'Murdoch', 'AntiVirus', '#FinestSquad', 'HUT', 'one-time', 'Hot', 'Thursday~', 'educate', 'Mente', 'Dont', 'Hughes', 'viner', '#readit', \"n'est\", 'Clinch', 'Paq', 'ginny', '#NominateNadineLustre', 'temp', 'cancers', 'Sundown', 'sooooo', 'With', 'dramatic', 'fiscal', 'KSC', '#blackandyellow', '40$', 'Brigade', '#DontknockTheHustle', '-might', 'twitta', 'VA', 'Step', 'Tdot', 'BELOM', 'iTake', 'Rehearsals', 'Krebs', 'Martin', 'timing', 'acupuncture', 'ohkayy', 'gacaya', 'announcement', 'namalu', 'Account', 'sumigaw', 'Alabang', '204', 'Seattle', 'sodium', 'Open=', 'Notary', 'expectations', '5thflr', 'ischarging', 'expect', 'waiting', 'PARA', 'DPS', 'Highlight', '#Reach', 'cal', 'calendars', 'meuf', 'SUNDAY@nfl', '09:46', 'Imma', 'knew', 'Man', '#PinoyExplorerpic', 'bottle', 'Again', '#Newark', '#saveaviewer', 'mahal', 'Qualifying', 'plant', 'major', 'paradise', 'Honestly', 'exposure', '#Conference', 'barbersh', 'Wifi', 'heads', 'Waiting', 'freak', 'ngasih', 'steals', 'SATs', '#teenthings', 'probe', '%#$&amp;@%$&amp;%&amp;@$', 'perds', 'result', 'Really', 'HURRY', 'Jo', 'BMW', 'SHINES', 'hamil', 'herre', \"he'd\", 'ANO', 'RADAR', 'HARD', 'Marcus', 'wife', '#Riga', 'Fullerton', 'Gomez', 'shrink', '#Chiraq', 'So', '8PM', 'TmarTn', 'cling', 'MotionX-GPS', 'Een', 'Pointe', \"'Science\", 'DEAD', '#MyCMKejriwal', 'S.O.D', 'slightly', 'Grant@6th', 'dengan', 'coverage', 'popping', '4/25', 'rancher', 'clogging', 'LIVINGROOM', 'turnaround', '#transit', 'Kim', '3rd', 'hottest', 'moody', 'when', 'HAHAHAHAHA', '#Columbus', 'REBLOGGED', 'Younger', 'Kyle', 'Jimmy', 'NoOne', '65', 'today’s', '#ALDubEBforLOVE', 'Notification', 'heaven', 'pic.twitter.com/JNtMYjwo3u', 'isthatjessiej', '#bluelivesmatter', 'YUNG', 'tthe', '5-9pm', '/lb', '#Positive', 'H.E', 'ami', 'Intervention', 'genuine', '£485m', 'renewal', 'Thursday', 'pounded', 'HMV', '18', 'Channel', 'Drew', 'chant', 'humanitarian', 'TERENGGANU', 'massage', '#ThanksgivingWithBlackFamilies', 'LSA', '#RussianSpring', 'Sagittarius', 'Laird', 'nabangga', 'Woman', 'began', 'IDs', 'leaving', 'ret', 'Sun/Sept', \"'@jennkorducki\", 'MId', 'Remember', 'Coach', 'Yom', 'related', 'Vladivostok', 'awful', '17', 'hudhud', 'toujours', 'shines', 'debating', 'groups', 'Irish', '#Cyprus', 'CAFE', 'ka', '#Lakes', '13%', 'bebas', 'showroom', 'Minaj', 'warming', 'flunked', '#CaliStories', 'atin', 'SHOT', \"weren't\", 'Rescue', 'InStyle', 'twofold', 'Air', 'Eagles', '#2A', 'voor', 'weakness', 'Sous', 'Cath', '#nufc', '2022', 'BOUT', 'Garnet', 'isso', 'HAVIN', 'cycling', '#DataBreachhttp', 'Looks', 'detected', 'des', 'rejects', '3-1', 'buying', '314*223*6367', '*Do', 'ahhh', 'MVTHS', 'judge', 'Roy', 'Markets', '#MineForYours', '#gamedev', 'byza-bedtime', 'Self-Defense', 'MRB', 'nalalaman', 'laundry', '28&amp;#xB0', 'right', 'epic', 'HOUSTON', 'PAPALOTE', 'Payson', '2002', 'Virgo', 'am', 'heal', 'Sugar', 'Persian', '40', '#competition', 'Suave', '7s', 'internautes', 'HD', 'benefiting', 'esp', 'resource', 'donated', 'Naaa', 'END', 'MANHID', 'hiper', '#Blades', 'asking', 'bahas', 'sum', '#GetPatriotic', 'ligo', 'Festspielhaus', 'Jones', '6A', 'MCD', '(#Johan_Stars_07', 'Amphitheater', 'PLANS', '#Aquarians', 'Discount', 'blog', 'Kristen', 'yards', 'Ajak', 'After', 'military', 'drifting', 'lived', 'Performances', '#959sunfm', '..?', 'briefed', 'Acuff', 'NOIR', '#criminal', 'bath', 'God', 'stimulus', 'avoid', 'swell', 'Watch', 'Argentina', 'Abortion', 'multiple', '#Clickbank', 'Leacock', 'jacks', '#Casadiablo', 'Smoking', 'album', 'THAE', 'evaluation', 'hackés', 'whooped', 'spill', 'Stoddard', 'MODEL', 'slower', 'Chard', 'naturally', 'M&amp;A', '#17', 'Jose', 'Wth', 'Nung', 'cash', 'twitterland', 'PROFESIONAL', 'U.S.', '01:09', 'providing', 'LOOOK', 'Enlighten', 'computer', 'ayun', 'Leg', 'Med', '..........\"', '#marrakechclub', 'barber', 'tix', '#NFL', 'imba', '#iKONYG', 'process', 'Cooper', \"d'avoir\", 'TOMORROWS', 'summons', 'ntm', 'trips', 'Combat', 'smoke', '08:32', '!!!\"', 'Leo', 'ing', 'Wale', '#work', 'Palestinian', 'weeks', '#ShowtimeKiLigContinues', 'terrible', 'oui', 'lolzaa', 'sira', 'PEKAN', 'Wind', 'Wichita', 'Jup', '11:35', 'That', '((', 'Murray', 'huhuhu', 'aksi', 'ThePhoenixhour', 'saves', 'quickest', '#Archive', \"i've\", 'sleeps', 'Habang', 'B-DAY', 'Gucci', '#INDvsTEN', '#Squad', 'Playstation', '12:20', 'grabbed', 'workin', '#HBDDearVIJAY', '1959', 'wasz', 'Bryan', 'MO', 'loco', 'horchata', 'cookies', 'wassup', 'theatrical', 'Effective', '#training', 'BLITAR', '#BLESSED', 'TRAINING', 'Ponderosa', 'definite', 'Posts', 'Waco', 'accent', 'Samsung', 'DTN', '44', 'valley', 'landed', 'AD', 'RECLAMATION', 'Athens', 'Prince', '8-1', 'hyper', 'rubio', 'Five', '#fox26', \"she'd\", '#McDoBonFriesDLSU', 'FEMMES', '7:30', 'Meskipun', '#Mockingjay', '#AustralianOpen', 'Yanni', '1-0', '#ACCESSTOHES', 'teller', 'guaranteed', 'Middlebrooks', '#Follow4Follow', '!', 'Reduce', 'belles', 'Bilang', '#30thBday', 'testin', 'Sometime', 'ISIS', 'Foundation', '#tcot', 'VATSpy', 'crappyness', 'set', 'Fire', 'guilt', '#VRIC2015', 'spare', 'VIP', 'delayed', 'Hutchings', 'tweeting', 'sir', 'Blown', '6+', 'complaints', \"crash':\", 'found', 'condita', 'finna', 'capitals', 'Enforcement', 'breve', 'holding', 'dad2bring', '11am', 'kase', 'dates', 'Area', 'idiot', 'Lets', 'According', '2977AM', 'snake', 'BBC', 'Engineers', 'aches', '2011', \"We'd\", 'Java', 'lawan', 'ACTIVA', 'badder', 'PIC', 'chatting', 'Instruments', 'emoji*', 'ruled', 'snag', 'injury', 'Glenveagh', 'sat-sunday', 'PLACE', 'pants', '08:10', '12-1', '#MASHABLE', 'Lamang', 'crew', \"peace'.\", 'doodles', 'lmfao', 'Jayde', \"didn't,\", '05:30', '#California', 'HONK', 'mum', 'Alaa', 'Livermore', 'employee', 'babe', 'sharply', '#69', 'Language', 'sleepy', '#kca', 'Magdodrawing', 'many', 'comeback', 'pregnant', 'Accessed', '#FedDecision', '#Chattanooga', 'not-at-all', 'Writers', '*puts', 'III', 'stories', '#Blackholidays', 'Manager/1st', 'Talk', 'rum', 'Longview', 'REALIZING', '#Muscovado', 'sige', 'ly/RAMzR', '2015)', 'madnesses', 'Right', '#NormanReedus', 'economy-sized', 'new', 'Greek', '#elementblog', 'Pioneers', 'Exec', 'Feb', 'ones', 'Kippur', 'Korea', '5-6', 'malalaman', 'birmingham', 'Wheeee', 'fray', 'Strongly', 'Lake', 'unexpressed', 'Fever', 'BABAE', 'vendors', 'fury', 'Kahuna', 'Congrats', '410-336-3234', 'Arabian', 'Guys', 'shootin', 'supremacist', 'clean', 'pic.twitter.com/H0nul1eQLq', 'YouTube', 'banker', 'Emirates', 'these', '#NotHappy', \"i'mgoing\", 'Mining', 'PMg', 'ano', 'halt', 'compliment', 'News)', 'armed', 'exactly', 'Miner', 'smiles', '#MotoGP', 'Cowboys', 'Write', '#stressing', '#Earner', 'Hospice', 'heartbreaking', 'celebrates', '12:13', 'remeber', 'Biotissima', 'LYNCHING', 'Demo', 'sheeeeeeeeeeeeeet', 'APR', 'rated', 'started', 'yourself', 'Marie', 'toronto', 'Sehun', 'wonderwall', '&quot;:', '#VANITYGRAND', \"#tech'\", 'pensions', 'EST', 'Master', '||', 'tomorrows', 'lil', 'ordered', 'SFW', 'loose', 'Tekken', '#WorldNews', 'MONTH', 'reset', 'Christchurch', 'protests', '#NarendraModi', 'Properties', '#atk', 'AIS', 'Continue', 'caution', 'Amendment', 'Amul', 'UPDATE', 'MENS', '#EXPconsulting', 'greets', 'CW', 'PUTTER', 'China-linked', 'forum', 'ECS', 'Crook', 'Sneaky', 'aggggggh', 'Rob', 'fizzy', 'Fossil', 'organic', 'changer', 'kings', \"they're\", 'MLH', 'Tweeps', 'substitute', '#yesterday', '“@NBCLA', 'Eat', 'WAG', 'Un', '#MuchLove', 'pointed', 'will', 'votre', 'lis', 'courageous', '4Music', 'homwork', 'FinleyWASHINGTON', 'Z2', 'miss', 'ce', '#caturday', 'unhappy', 'rivalry', 'Aduttha', 'hella', ')', 'test', 'Celebration', 'thn', '205', 'Jakes', 'Peak', 'probably', 'Bay', '/n', 'whopping', 'inad', '#election', 'sexo', '#InteriorDesign', 'piled', 'YWCA', 'Vidim', '-5', 'OT', 'kyo', 'Teddy', 'chalcked', 'sadness', 'heavy', 'Donating', '#S1Entertainment', 'MANSKAH', 'lord', 'Enter', 'goodies', '#blackholidays', '#engasjert', 'Dec-2', 'Gwen', 'UMASA', 'eatin', 'husband', 'LEEDS', 'escaped', 'thrs', 'Backstreet', '1/31/15', 'pumped', 'Seth', '#NAU', '#vibetickets', 'Bulan', 'Winds', 'Smokey', 'Revolution', 'Geezers', 'kar', 'performing', 'Explosion', 'phone', 'amna', 'my', 'player', 'Into', 'Awh', 'Container', 'piece', 'Biro', 'Speechless', 'arrests', 'SPENT', 'hoax', 'pix', 'whale', 'SECTIONAL', 'stairwells', 'aired', 'papasok', '06:01', 'comment', 'Im', 'blacklisters', 'casual', 'token', 'Cubs', 'puts', 'crappy', 'teenager', 'DAY6', 'liked', 'Service', 'shoppers', 'SS', '3-8', 'Album', 'Stefan', 'Mengingat', 'board', '#SFCC', 'nuts', 'station', 'tantos', 'Walang', 'recording', 'gwapo', 'ace', 'ELITE', 'ongkir', '&gt;', 'visited', 'Jadwal', 'Generation', 'bean', 'agency', 'gbye', 'makikilala', '5555', 'Keeva', 'sub-par', 'bahahah', 'kong', 'BDAYS', 'FDA', 'street', 'disappeared', 'clerk', 'Cert', 'watching', 'group', 'Tex', '#WX', '?&quot;', 'Gyeonggi-do', 'nakakainis', 'mastery', '02:29', 'losses', 'reveal', 'plot', 'tapes', '#s3', 'Sundae', 'EGG', 'Surprise', 'nahh', 'U2', 'Confidence', '#redlobster', '&quot;', 'Multi-Function', 'spirited', 'associated', '#FritzDLamons', 'Feat', 'ought', 'Scioscia', \"I've\", 'conflicted', 'Exposed', 'DJing', 'Bible', 'importantly', 'Under', 'kapag', 'Ward', 'applications', 'Aalihii', 'awarded', '60', 'MILLION', 'owners', 'eclipsed', '#followingjob', 'Po', 'CC', 'Rainy', 'Kinikilig', '#PortugalNeedsCodySimpson', \"again!''\", 'Voices', 'SEASON', 'Cream', 'order', 'Pierce', 'hawt', '#Wed', '$2/month', 'Kerri', 'relaxing/taking', 'MON', 'pinot', 'paintings', 'wavy', 'greatly', 'Panther', '#Tow', 'MD', 'Cancer', 'Porn', 'nagpapasayang', 'Sandman', 'parent', 'slack', 'lete', 'Departs', 'kit', 'barbershop', 'deck', 'nyakar2', 'NANONOOD', 'masarap', 'Citizens', 'biggest', '#mittdansecrew', 'CB', 'EU', 'TalkTalk', '#yallcome', 'awayu', 'protect', 'Alberto', 'punt', 'individuals', 'Kaya', 'Becomes', 'mcdonalds', '2,127,383', '2009)', '#coffee', 'Meri', 'Vancouver', 'encontrei', 'FOUND', 'sahabat', 'EVERY1', 'nulinhos', 'bother', 'contacted', 'kicking', 'debates', 'slugs', '$5', 'Day)', 'BY', 'vocals', '*throwing', 'paisley', 'leftover', 'whites', 'Francisco', 'Kuwait', 'classic', 'Deliver', 'AMerican', 'Oliver', '#car', '9/18/2010', 'Fri', 'tayo', 'nangis', '#ElectionsMatter', 'Bas', 'victim', 'wipro', 'Wrawby', 'Leroy', 'London', '#14', 'Hilton', 'Allahumma', 'ni', '09:41', 'Reade', 'compete', 'trusting', 'Grab', 'taught', 'gunshot', 'Newark', 'super', 'tired', '#ISIS', 'CDQ', 'Morgenochtend', 'url', 'Identified', 'legged', 'expecting', '4.8', '#ALDUBTheRing', 'totalisent', 'Ctl', 'dust', '#Syria', '87', '#Concert', 'souljaboytellem-iga.ning.com', '10,000', 'Delice', '#CholesteroleducationMonth', 'tristesse', 'storm', \"y'all\", '#ICO', 'UFC', 'kc', 'crayons', 'themselves', 'fact', 'firend', 'Nex-Tech', 'email', 'fundraiser', 'KWTX', 'unnecessarily', 'lol', 'Bf', '#xxx', 'MOVIES', '$CRGP', '1-6', 'Question', '13th', 'mdrrrrr', 'gonna', 'calories', 'BURN', 'Disasters', 'InformationWeek', '39', 'bonkers', '#shinesteeth#', 'rubber', '#Ohio', 'Actually', 'Payday', 'healthy', 'kwijt', '!!:', 'Times', 'jake', 'MAR', 'Pato', 'kinikilig', '74,000', 'SAME', 'becoming', 'Bibby', 'Arms', '**Frantically', 'towel', 'Xxx', 'jun1', \"snap,c'est\", '921', 'laman', 'VISIONS', 'Solich', 'going', '#ONFRITA', 'Delmar', '22ND', 'Boy', 'Cowboy', 'Dell', 'Teens', 'NEXT', 'Cricket', 'Managem', 'puntos', 'nos', 'relaxin', 'START', 'stalked', '#Lesvos', 'Sxsf', '730', 'honest', 'weights', 'nation', 'analysis', 'Spurs', 'suspect', 'vas', '#hls', '4-530', 'Bedford', 'nagdadrama', '#India', 'Gremlins', '-Larry', 'Go', 'herring', 'magnet', 'attac…', 'Knowing', '-May', 'pissed', '#Boston2024', '#ComcastBreach', 'flow', 'records', '2002ish', 'tattoos', 'Rundown', 'Yeezys', 'usual', 'concerts', 'LOOSE', '#AtlDonut', 'Failed', '#RaiderNation', 'DAMN', 'JaDines', 'losers', 'Barracks', 'temper', 'Indonesia', 'maand', '4-2', '#HappyNewYear', 'ptit', 'Lancashire', 'Lohan', 'Myself', 'muppet', 'once', 'Pakistan', 'ayaw', 'Casey', 'emailed', 'Wolstenbeast', 'Globe', '09:31', 'Lights', 'point', 'WII', 'gamenight', 'K-On', '#President', 'fool', 'Jeff', '#Gutted', ':-p', 'Profiles', 'Once', 'OMNIA', 'hopping', 'fixed', 'slow', 'Lifting', '#ThrashMetal', 'Walsh', 'awww', 'loh', 'filled', 'Strongest', '#mexican', 'Labas', 'grill', '#corny', 'guys', '#WoodCarving', 'buttons', 'der', 'aeration', 'bahamas', 'luxury', 'B-day', 'Soul', 'code', 'Whisky', 'hours', 'wings', 'locoooo', 'da', 'birthday', '#linda', 'Germanwings', 'panellists', 'Pinal', 'six', 'Iba', 'table', 'HT', 'GOTTA', '03:33', 'Jam', 'operation', 'can', '8-6236', 'hair', 'Shhhhhhh', 'diminish', 'Nash', '#lindsaylohan', 'cobalah', 'Klein', 'anothe', 'Stars', 'yap', 'HCA', 'beefing', 'SE', 'aaahh', 'blocks', 'Cola', 'PIN', 'healing', 'double', 'Candlelight', 'slab', 'makers', 'Boto', 'absolutely', 'Pulled', 'topics', '5739', 'AA', '#towerofdoom', 'UK', 'pengin', 'REMEMBER', 'inflation', 'Pioneer', 'LOS', 'debuting', 'eyepatch', 'Monthsary', 'COLD', 'Fuji', 'Zendesk', 'Jones**', 'infamous', 'damndest', 'quarto', 'laugh*', 'Pendaftaran', '08882004925', '#Police', 'Punk', 'White', 'threatening', '7pm', '21/06', 'airplane', 'everyones', 'gathering', 'burned', 'average', 'WikiLeaks', \"'Do\", 'Indy', 'Toledo', 'whooo', \"constructive':\", 'review', 'clump', 'lah', '330-1130', 'fonts', 'WERE', 'announced', 'som', 'Armour', 'Ducks', 'trying', 'War', 'bitten', '#IAMGLOBALFESTIVAL', 'syang', 'pneumonia', 'Panda', 'lool', 'Charlene', 'experiencing', 'Rocks', 'sanctions', 'placed', 'sunthn', '08:49', 'puncak', 'Hoyy', '%s', '#NickiMinaj', 'Gemini', 'pitcher', '130k', 'Heart', 'contest@', 'Romeo', '4ever', '#Radio', 'Clearance', 'Radiant', 'confetti*', 'nini', 'CREW', '#xc0resecurity', '#Metro', '#CoolForTheSummer', 'col', 'recupera', 'dept', 'Delhi', '*slaps', 'Broader', 'instinctive', 'acc', 'Basta', '60%', 'Visits', 'Jarred', 'Add', 'NE', 'another', 'LOVE', 'Weekend', 'apaaan', 'time', 'kilo', '#jobs', '#MLBG', '#LaylaFridays', 'Hopeful', 'Seba', 'idiots', 'Giants', 'AILYSConfront', 'Mixtape', 'Meu', '#detroit', 'Alan', 'DONE', 'MMK', 'dirtbags', 'lidia', 'medal', 'lost/forgot', 'consumption', \"':::\", '-Je', 'choir', '#21Alive', '183rd', 'movies', 'DAYS', 'chocolates', 'Serious', 'Eleven-year-old', 'GOIN', 'discret', 'dagen', '00End', 'LOVATO', 'rewind', 'FlyDoha', 'unite', 'light', 'WORLDWIDE', 'Prosecutor', 'Hong', 'Car', '15:44', 'hm', 'souls)', 'Life', '(@ev)', 'word', '#NoEscApe', 'Stoppard', 'necklaces', 'Kay', 'ACTUALLY', '#smoke', 'Bruton', 'Matt', 'YANG', 'male', 'Michael__Myerz', 'Until', 'paycheck', 'mandel', 'Goran', 'eagle', '#noenemies', 'Blessed', 'jaar', 'earning', 'GMT', 'CHILLIN', 'badly', 'Logistics', '!!!....', 'monde', 'Completely', 'Lmfao', 'Empire', 'psychotic', 'designed', '5x', 'cht', 'ELLEN', 'reporters', 'slide', '$FB', 'noting', '16:26', 'no', 'teen', 'coolest', 'Rumors', 'enhanced', 'Merry', 'hindi', 'repeat', \"again':\", 'Promotion', '-', 'critical', 'Mixer', 'Waking', 'commentators', 'Currents', '0-2', \"j'ai\", 'pic.twitter.com/4rDMGYbSUl', 'Yankees', 'EXETER', 'Free', '21', 'TAKE', 'BJP', '#SunDevils', 'Amulukku', 'rp', 'risotto', 'Nikkei', 'tym', 'likes', 'stickers', '#1stdayofspring', 'K', '#cmsretractions', 'Tennis', 'cake', 'Midvale', 'floor', 'Cloudy', 'smdh', 'helmet', 'propah', 'PAS', 'Solli', 'security', '11:08', '#EU', 'blond', 'preorder', 'BROTHER', 'pete', 'local', 'Funny', 'wholeDelhi', 'crazy', '!.', 'funday', 'conducting', 'CONCERT', 'HER', 'Lederhosen', 'Eh', 'especially', 'Rohn', 'KC', 'Raleigh', 'Dollar', '#Pentagon', 'Mosier', 'pie', 'West', 'runs', 'jla', '22nd', 'Reported', 'pedo', 'umc', 'steady', 'speechless', 'impressed', 'robot', 'finals', 'attitude', '#Tuit', '01:00', '15th', 'told', 'Quintero', 'im', 'SnapChat', 'Claus', 'Now', '!!\"', 'disturb*', 'MA', 'oy', 'Syrian', 'lang', 'San', 'warmer', '#RiverPlate', 'Stoner', 'Yoav', 'Catch', 'AMR', '?:', 'renew', '#chicago', 'desire/desirehd/galaxy', 'Yli', 'wine', 'Jennifer', 'IRA', 'links', 'W', '#HotSummerNights2', 'relative', '#BlackHoliday', 'title', 'struck', 'Iftar', 'perak', '#Mikkelsen', 'consume', 'registro', 'Mateo', '!,', \"that'd\", '#Arkansas', \"'MUSIC\", '#theforceawakens', 'nights', 'Dortmund', '#Chicago', '12:46', 'honey', '#pricelesstome', 'donors', 'historic', 'Longchamp', 'according', 'cheese', 'fellow', '#asiatico', \"couldn't\", '10:57', 'heading', 'hogan', '2:52', 'Sandra', '#RIPLemmy', 'refused', 'Folksong', 'single', 'Calendar', '#brilliantblogposts', 'Rain', '06:41', 'Spreading', 'gf', 'cyber', 'VPS', 'Month', 'almost', 'galeria', 'rmbr', 'cute', 'spacey', 'filming', '1,200', 'haus', 'ran', 'Class-action', 'Gang', 'HOPEFULLY', 'Koya', 'NBCNews', '#goodluckvalve', 'xoxoxo', '10:10', 'Ceremony', 'retro', 'thank', '#HnF', 'dernier', \"eyebrow''...when\", 'Nile', 'ban', 'age', '#MaxICT', 'ears', 'dinner-ing', 'NINTENDO', 'sig', 'sister', '#prayforMecca', '#bailondsmaricopacounty', 'sound', 'MV', 'MAKING', 'Juicy', 'LMFAOOOOO', 'Pub', 'enthusiasm', 'pop', 'round', 'tags', '5sos', 'bleeding', 'uuwi', 'nappin', 'Glad', 'Porto', 'heros', '9th', 'M1330', 'HECK', 'Molby', 'optimistic', 'Night', 'R2', 'commission', 'Janoskians', '*kisses', 'eastern', '#BBWLA', '#FDACV', 'Mockingbird', 'Cifuentes', 'Colunga', 'roughly', 'inertia', '11:32', '24/7', 'Lessons', 'Roberto', 'Keenum', 'improv', '1:55', '#OnlineTV', 'Political', 'Bold', 'Narnia', 'copied', '#MSG2in447', 'wedstrijd', '#GetParadox', 'Ah', '#fusillade', 'Harus', 'wsh', 'Nova', 'Check', '#Colocation', 'conceded', 'Islamist', 'numéros', 'Loses', 'Rowan', 'slated', 'Wrong', 'sarah', 'Miss', 'danger', '48', 'Omaha', 'POTUS', 'Appreciate', '1m', '+K', 'CMU', 'urs', 'Hero', 'mult', 'Slim', 'TAIZ-YEMEN', 'HARTFORD', 'Wounded', 'EUR', 'Moment', 'Suspected', 'EWTN', 'A-W-E-S-O-M-E', 'posed', 'Sneakercon', 'Baileys', '#Market', '6or7', 'coach', 'Kamis', 'dozens', 'acct', 'outraged', 'bone-headed', '3:15', '#meridentennis', '#infosechttp', 'Mirage', 'Words', '#SoundCulture', 'ATLEAST', '2K', 'lent', 'thousands', 'Doubt', 'select', 'Paycheck', 'SunOnline', 'suggest', 'mundo', 'flippers', 'plus', 'SPREAD', '#Chrome', 'Database', 'Fck', '#winElmers', 'RARE', 'Guinness', 'Janua', 'Madi', 'EILYLizQuen', 'MandyWorldWide', '*friday', 'SaaS', 'twice', 'LABORATORIUM', 'Helo', 'central-midfield', '2-4-1', 'joint', 'bruder', 'Lou', 'missions', 'rad', 'revamped', 'prancing', '9ish', 'eaten', 'MADI', 'deprive', 'VERY', 'knife', 'vaalo', 'was', 'Ex', 'Opera', '5C', 'pre-order', 'Hello', 'naba', 'Lemme', 'Working', '$120', 'Construction', 'fucks', 'Apr-30', 'tend', 'franchise', '#GoTSeason5', 'thro', 'Ladies', 'Mindsweep', '12-26-14', 'Detroit…', 'GETTN', 'newborn', 'Recommendations', 'Becoming', 'IMAGE', 'rana', 'sour', '#WINNING', 'Gems', '4-3-2-1', 'Sureste', 'Chronicle', '#mobiledev', 'Diamond', 'Phew', 'Show', '27+', 'ahahaha', 'Ave', 'Impact', 'Cracker', '#Aspartame', 'neck', 'Foul', 'Jst', '6:33', '?....', 'Foamposites', 'Eight', 'MTG', 'Exposure', 'era', 'Expose', 'Pussycat', 'has…', 'excuses', 'are', 'happen*', 'sushi', 'Patricia', '#Goat2015', 'Colonsay', 'CANT', 'KA', 'Throwback', 'baby', 'Shot', '#prayforneworleans', 'school', 'sorrow', 'notice', 'anunc', 'Industries', 'SUN', 'Adoption', 'sleeve', 'buti', 'extension', 'shops', 'Radebe', \"work...don't\", 'screw', 'prod', 'colour', 'loob', 'Sevilla', 'flags', 'Boards', 'exchange', 'miren', 'successfully', 'Bfd', 'top-scorers', 'Sep', 'Omfg', 'Multiple', 'exec', 'Weston', 'claws', 'worse', 'last', 'passing', 'ikaw', 'nvr', 'copain', 'ecl', 'Reality', 'digitalproducerpic.twitter.com/wvCpCXkcuy', 'sand', 'queen', 'burgers', 'Somerset', 'Parijs', 'Who', '#TRAPQUEEN', 'goes', 'Drop', '#armed', 'located', 'Losing', 'Characters', 'FASTIN', '7th', 'baste', 'games', 'joining', 'fescue', 'Tix', 'Oak', 'shows', 'recalled', 'TOLD', 'Thessalonians', 'paths', 'aware', 'Lachlan', 'wished', '-w', '#WIRM', 'ATE', 'Heyy', 'True', '#VIPs', 'Kodjoe', 'Bday', 'Miami', 'Holidays', 'boyz', 'shocking', 'french', 'Tulog', 'bats', 'MASS', '09:50', 'Kylie', 'WAITING', 'Action', 'hit', 'detailed', 'Heading', 's/d', 'Plus', '00:00', '6:47', 'NAGPROPOSE', 'OCTOBER', 'wear', '#blockchain', 'yo', '6,995', 'twitfriends', 'Elegante', 'ANGELES', 'setiap', 'Unlocked', 'effected', 'replaced', '#AunSigoAsombrado', 'Direction', '#ilovemyjob', '4/11', '#busty', 'Sitewide', 'Kiev', 'oronain', 'boiled', 'secular', 'Mwahaha', '#Twitter', 'Fays', 'desk', 'Blacks', 'statement', 'requested', 'een', '#steam', 'Like', 'Godbless', 'batukan', 'Belief', 'floss', 'Mayim', 'amboushy', 'CyberSecurity', 'HARTS', 'author', 'PSN', '717', 'Pets', \"you've\", 'MUSIC', 'Appreciation', '02:13', 'yakima', 'Injuries', 'Cabildo', 'PREMIUM', 'squeeze', 'war', 'rival', 'OTHER', 'Beggers', '#Blackhawks', 'um', 'radiation', 'Jack', 'tolerance', 'delegating', 'quelle', 'lalala', 'shark', '#skeleton', 'lightning', 'Tory', 'Clapping', '20-year-old', 'lieu', 'ToMiho', 'Syd', 'bet', '..;', 'langggg', 'Hyo-Yeon', 'Calvin', 'Mb', 'fallen', \"b'day\", '*evil', 'Edition)By', 'shirt', 'FLYING', 'ketawa', 'changed', 'Kid', 'may+hoshi', '#sydney', 'officially', 'music', 'poppin', 'school/9th', 'CELEBRATE', 'Korina', 'drops', 'Trump', 'VERSEAUUUU', 'Interview', '2read', '#diet', 'NINE', 'whoops', 'NoThing', 'Thu', 'water', '04:59', 'quand', 'eyeliner', '#nyregion', 'Brighton', 'digosok', 'THREE', 'iPhones', 'Aha', 'Evergreen', 'UQCC', '#Businesspic', 'Thanksgiving', 'ayyy', 'betta', 'Dispatch', 'telly', '#KCA', '#MMKBigWinner', 'Fresques', '2.3', 'hubungan', 'nih', 'MUST', 'Mar', '#teamandy', '#reggae', 'TAILGATE', 'ate', 'mii', '931-553-1290', '#NoIDParty', 'front', '3pm', 'Leather', 'Discs', ':o', '10.15', '19TH', 'everybody', '#OWSOM', 'thru', 'Weekly', 'Above&amp;Beyond', 'ObamaCare', 'Underway', 'Loser', '#hunger', 'Punters', 'ACC', 'toast', 'Bieksa', 'courtesy', 'Marr', '#draislive', 'Twisted', 'view', 'coulda', 'pic.twitter.com/0GVzlogOnQ', 'Compete', 'poinsettia', 'Hit', 'MinoHD', 'Quote', 'GoPro', 'Chargers', '1/4', 'make', 'Skype', 'Anyway', 'twin', 'pan', 'Jesuit', 'streaking', '#venezuelaishope', '#tech', 'Campaign', 'CHILLING', 'keeping', '06/12/2015', 'Courthouse', 'doctor', '[Haters', ']', 'Cahill', \"C'une\", 'sparri', 'access', '#publiclandsday', '#believe', 'Eyeshadow', '06:16', 'MCR', 'Evansville', 'Resident', 'pts', '#AfterBirthdayBash20', 'snarky', 'dites', '#MiKenJoWalangBibitiw', 'Pak', 'Safari', 'ME', 'NAB', 'End', 'foot', 'woman', 'Wingo', 'Hymn', 'lockdown', 'peek', 'Clu', 'magpapatunay', 'yea', 'hahahahahah', 'za', 'praying', 'meng', '**Kong', 'fuck', 'bang', 'Pune', '#1989worldtour', 'cup', 'met', 'meatloaf', '??!', 'birfday', '?!?!', 'glorious', 'aunt', 'probs', 'misuse', 'bukas', 'postion', 'tbh', 'boo-boo', 'qualifying', 'Jaylen', 'Give', 'NOTICE', 'pustules', 'Flood', 'EARPHONES', 'tumpe', 'stealthy', 'Yum', 'Devastating', 'comp', 'guessing', 'Sunny', '—…', 'Merlot', 'Research', 'documentary', '2017', 'HE', 'dynamics', 'harbored', '8GB', 'WaPo', 'Timothy', '#Pray', 'Olaf', 'IRL', 'Monday-Saturday', 'que', 'NACS', 'BASEDGOD', '#utiket', '#Norge', 'S.S', 'Dale', 'Fuck', 'Arshakyans', 'bringing', 'Chair', 'EVERYTIME', '1930', 'SAC', 'exclusive', 'ZOOOVIE', 'eachother', 'parcc', \"We're...\", 'fucken', 'Corbyn', 'Eng', '0.59', 'KREME', 'km', 'tienen', 'Everything', 'JUNE', '$320000', 'KANINANG', 'edible', 'Control', 'leuk', '#Amazon', 'Theta', '#FAIL', 'boss', '#JerkChicken', 'dia', 'Loss', 'Kaufman', 'upset', 'WorldWide', 'lamesa', 'Dorignac', 'viewership', 'patient', 'BERLIN', 'jaao', 'Resets', 'Patient', 'Chattanooga', '#hot', 'horses', 'ulit', 'knows', 'recognizes', 'Event', 'synchronized', 'Coke', '#OTWOLStartOver', 'drivers', '15.2', 'bird', 'graders', '#ddos', '6-8pm', 'eBay_US', 'shooting…', 'Spurs/Clippers', 'god', 'Dongwoon/HQ', 'Niiiiice', 'plz', '#archaeology', 'Munich', 'Sync', '$GNPT', 'elusive', 'wound', 'Ghostland', 'kasamang', 'partager', 'soul', 'partying', 'jeans', 'Removing', '#ddd', 'Wounds', 'Trio', 'Tenho', 'assisting', 'SM', 'pillar', 'fi', 'Alex', '#Aries', 'makakanood', 'drop', 'upbringing', '#llowit', 'Charge', '88th', 'KitabKhana', 'Bare', 'Drinking', 'BELLA', 'nombre', '#Painkiller', 'Super', 'Thunder', 'Festival~#StopYulin2015', 'Tawanan', 'Lesson', 'Trailers', '1975', 'disapointment', 'sensitive', 'Lions', 'announces', 'men', 'Waters', '#sportsday', 'WILMINGTON', '8:15', '~Author', 'Texting', 'boing', 'testimony', 'morals', 'Defence', '#asdrakesays', 'th', '7:00', 'leak', 'bag', 'Followback', 'Govt', 'Responsibility', 'Hudgens', 'Park', 'growt', 'Island', 'Confirms', 'dstw', '#CrazyCaroline', '4635', 'XXL', 'creaseless', 'JUNO', 'Selena', 'Gavin', 'Dame', 'Zimbabwe', 'Manish', 'impossible', 'limits', 'Shore', '500,000', 'DIY', 'Staring', 'Kills', 'Chanel', 'Group/Eagle', 'IranDeal', 'ANTICIPO', 'Brandy', 'oib', '#tommywiseau', 'Carnegies', 'guided-missile', 'N-Greet', 'PeopleSearchAffiliates', 'BANANA', 'PREGNANT', 'doctors', 'came', 'Exo', '#Los', 'Biographical', 'Brass', '#Food', 'sae', 'SOLO', '#celestial', 'UX', 'Guilbeau', '[#MadisonWeather]', 'sept', 'Berkeley', '11:49', 'triple-double', '#b4stage4', 'faster', 'brother', '#marketing', 'synchronicities', 'proper', 'atmosphere', 'SC', '#JRsGreatestHits', '#NowPlaying', 'Virginia', '#Eco', 'Lobos', 'arrives', 'Equipment-', \"doesn't\", '#LakeMichigan', 'Baka', 'Hi', 'Busy', '#COYR', 'murderer', '#iDevices', 'Mary', \"status'.\", 'taking', 'xptdr', 'agreed', \"VB'S\", 'chapter', 'solid', '-Twitter-', 'concern', '#flight', 'seem', 'resluts', '“@allinwithchris', 'VS', 'TWEET', 'Cochrane', 'Active', 'cosas', 'Anything', '#jerseyshore', 'pop-eyes', 'CHC', 'Avenue', \"bro'?\", 'remembers', 'SUBJECT', 'soft', 'B4', 'superior', 'how', 'CRANK', '#EVER', 'veteran', '#vanswarpedtour', 'BLISSFUL', 'below', 'known', 'forward', 'RPs', '#Cawfeetawk', \"pis'd\", 'Bledsoe', '#toluene', 'adult', 'Deepak', 'Registration', 'af', 'HAIR', 'pup', '#freebsd', 'symbols', 'Poverty', 'spokesman', 'Chatimah', 'booked', 'Pharmacist-Full', 'toned', 'Interviews', '#aas227', 'Icecream', 'nahi', '#EDM', 'visible', 'ah', 'wont', 'biotch', 'msp-mco', '#butt', '#13', 'SHAWN', '#WasteHisTime2016', 'assure', 'Jets', 'OBAMAA', '29', 'hang', 'Dated', 'Waldorf', 'dive', 'Codes', '#baskinrobbins', 'Acted', '#smile', 'matsiar', 'smartest', 'Grammar', 'ads', 'Jadeja', 'offers', '#RavensNation', 'USA', 'Shooter', '#Lush2015', '#AAP', 'grater', 'perdu', 'INDIGENOUS', 'claiming', 'Paul', '#HipHopRap', 'rally', 'sainyaa', 'married', 'po', '1100011', '#Texarkana', 'worried', 'slips', '02:34', 'belittled', '#Moesh', 'summer', 'Crap', 'laptop', 'cuma', 'episode', 'Mentor', 'Rourke', 'Yahoo', 'Que', 'Staff', '<PAD>', 'milwaukee', '#jesus', 'ako', '*VAROUFAKIS', '02:49', 'bdayy', 'Yours', 'practice', 'Four', 'EVERYTHING', '#ZTWO', 'hall', 'participates', 'Erie', 'VEGAS', 'Lina', 'Ahh', '700', 'mencionarme', 'iyak', 'BAG', '#college', 'pasaway', 'comedy', 'jay', 'FOX', '#check', '5:49', 'entendre', 'Mere', 'reminder', 'CUTTER', 'Dani', 'atardecer', 'dirilis', 'smiley*', 'Charleston', 'east', 'sickness', 'taxing', 'ram', 'bataey', 'cousin', '#desbishop', 'rent', 'iow', 'makapagpost', 'melarikan', 'abar', 'Which', 'antivirus', '#worldwide', 'pick', 'Social', 'Hosted', 'These', '18th-Alhamdulilah', 'altura', 'kalandian', '#jonesbuckmanwedding', 'ustream', 'boring', '43.34', '#TheCloneWars', 'Blog', 'comes', 'bonus', 'credit', 'Palette', 'reactions', 'active', 'Scary', 'jackie', 'lineup', 'RAINBOW', 'Qatar', '#hiking', 'Anak', 'dessin', 'line', 'whiskydieet', 'sanchez', '6000', 'knees', 'j', 'Apne', '#publichealth', 'DIRECTION', 'Ends', 'TiVo', '#LoveRed2', 'grateful', 'fast-paced', '#apartment', 'embarissing', 'leather', '#Periscope', 'WASHINGTON', 'Went', 'compare', 'guns', 'Core', 'voice*', 'EVENTBRITE', 'brothers', '6:30', 'Oven', 'yah', '#LoveMeRight8thWin', '#TheMorningFix', 'amusing', 'wary', '#youbroadcastradiolondon', 'forcing', 'booths', '8TH', '$4', 'simplify', 'thankk', 'ser', \"C'mon\", 'BORING', 'floww', 'as', 'rap)', '#shhhhhhh', '#Jury', 'LC', 'Partner', 'schedule', 'parasut', 'plaza', 'ilysm', 'Wat', 'OH-OH', 'Jonas', 'h', 'hot', 'touchdown', 'Lil', 'Potros', '#BFDarlingsDay', 'yung', 'quitting', 'Manager', 'Sad', 'twofer', 'RB', 'commercial', '#Hartford', 'Women', 'advantage', 'Ehh', 'HDCP', 'Comme', 'Flea', '*pics', '2pm', 'crimes', 'Blades', 'spy', 'Italy', 'gueulait', 'campus', '01.00', 'Accused', 'hadd', 'about', 'escort', 'niyo', 'Sat', 'FASHIONABLE', 'tripped', 'Centennial', 'THEY', '#forsale', '#cheaptweet', '#Germany', 'kidding', 'Birmingham', 'Eduardo', 'extra', 'BIG', '0.7', '#Cartier', 'homecoming', 'revolutionary', '#Purpose', 'couch', 'ljour', '#NYIAS', 'Raif', 'dito', 'lot', 'Pedersen', 'daw', '#nodisrespect', '#HAPPYSa2015', 'bij', 'him', 'BTOB', '#wv', '#Love', 'apps', 'screenjunkies', '7AM', '37th', 'ftw', 'Mijwan', 'Perlroth/New', 'without', 'SEJAHTERA', 'urge', 'Fun', 'Dome', 'Kota', 'Niggas', 'Westwood', 'baraabar', 'Ahhh', 'MacBook', \"LA'S\", 'FOODZ', 'Moscow', 'Oh', 'BOOM', '#perfekterwochenstartundkaffe', 'Trading', 'hottie', '0', '23-26', 'tent', 'Updated', 'joda', 'bcuz', 'shattered', 'enviarme', 'Snowstorm', '#blab', 'shalt', '#Canterbury', '(@PNDRS', '#TVD', 'tweet', 'okkkh', '09:29', \"why'd\", 'simon', 'Pantagraph', 'Alia', 'G', '*bg*', 'study', 'delighted', 'Showcase', 'search', 'Materials', 'eHowcom', 'kamuge', 'Brgy', '#SiKake', 'Timeeeee', 'Jakarta', 'consideration', 'snoring', 'tekenaar', 'Handler', 'appts', 'CANDY', 'engineering', 'blame', 'spinoff', 'observing', 'PROVINCE', 'Governance', 'Bears', 'touches', 'Id', 'bubble', '16Besar', 'Robinson', 'Button', 'TIPS', 'PLEASE', '***', 'or', 'Roundup', 'Crop', 'tips', 'dla', 'HAPPENS', 'shocked', 'Clinic', 'Briefed', 'cyberpunk', 'kanila', 'pancake', 'palaging', '#TWDMarathon', 'Knp', 'wee', 'Wippenberg', '2DA', 'Worked', 'LEVELS', '50.00', '#sweepstakes', 'views', 'glitter', 'Dc', 'Inhofe', 'speakers', 'exams..that', 'rake', 'BECKHAM', 'comics', 'lower', 'MAHIBI', 'Ur', '#TeaParty', 'Press', 'Janus', 'Tues', 'Tigers', 'Warri', 'cardholders', 'Flip', 'Kaga', 'Day-', 'Latest', 'innermost', 'unreal', 'EFFECT', 'tricks', 'kutukutu', 'pic.twitter.com/biEmN78BT0', 'Mon-Wed', 'Cavite', '#STLCards', 'Webcam', '#video', 'nickname', 'craziness', 'joins', \"CAN'T\", 'weard', 'Ehrlich', 'cusz', 'std', '06:55', 'Hacked', 'Inauguration', 'Apologizes', 'dayan', '“@cnnbrk', 'addy', 'preserve', 'together', 'ca', 'Devotion', 'NONE', '63', 'kingdom', 'thoughts', 'caine', 'Pagi', '/', 'broken', 'cassette', 'uses', 'Hmmm', '#PICKSIX', 'facial', 'humidity', 'prob', 'pairs', 'Consumer', 'kabocha', 'Americans', 'tweaks', 'hadnt', 'nasa', 'might', 'ADHD', 'Gnocchi', 'scarey', 'ngayong', \"face''...''raised\", 'snubbed', 'Every', 'THAILAND', 'car', 'Fieldhouse', '#Mytilene', '#giveaway', 'emergency', 'opener', 'vremena', 'banjos', 'organized', 'L-Tido', 'jim', 'Picture', 'SLEEP', 'phenomenal', 'analysts', 'Independent', 'check', '#microsoft', 'Beginners', 'killing', '1-bedroom', '#sp4zee', 'Kan', 'ROFL', '14', 'period', 'warned', '#damnteenquotes', '#merrychristmas', 'Pumpkin', 'total', 'Fam', 'Bey', 'encounter', 'bio', 'month', 'baddie', 'museumeducation@croydon', 'Charles', 'Barnes', 'madison', 'using', 'UFO', 'PDTB', 'thi', 'Indies', 'SILANG', 'stubborn', \"'or\", 'rodriguez', 'beard', 'Alexei', 'sales', 'Papakatino', 'teleserye', 'MONICA', \"y'all,\", 'Campaigning', 'affection', '#Knoxville', 'haaaaiiiii', 'Parts', '#Allnewshttp', 'Khalen', 'Ed', 'Taste', 'PANZER', 'Svp', '08:53', 'Wake', 'Havana', 'akan', 'instant', 'SAVED', '[#SKE48', 'Bag', 'goodwill', 'ERA', 'Indio', 'Cuts', 'law', 'Iran-style', 'hintayin', 'itch', '#CALABASH', '#tfbjp', 'utusan', 'WORLD', 'Aku', 'rebuild', 'least9shot', 'Even', 'cartwheel', 'Edison', 'formspring', 'Rosedale', '#BunB106andPark', 'nanay', 'civilized', '#Godaddy', 'Tisoy', 'PERLROTH', 'configurer', 'Wearing', 'UPI', 'dragon', 'Connelly', 'tF', 'sympathsizers', 'WWW', 'Muzic', '#Didsbury', 'startin', '#sexyLingerie', 'uit', 'NSA', 'hung', 'Tutoring/Teaching', 'lols', 'Tsipras', 'Taurus', \"'Listen\", 'cool', 'Ride', 'POWER', 'kids-', 'undying', '06:13', 'tropical', 'inefficient', '13-15', '#Daraa', 'well', 'Looking', 'Predict', 'Associated', 'Monday-est', '#men', 'affect', 'Exp', 'Comes', '#ass', 'Jacobi', 'chef', 'busts', 'Daaaaleeeee', '#ATLvsCAR', '63,000', '11:02', 'Pandora', 'tak', 'WJZ', 'Funniest', 'Keona', 'guidance', 'FORTHCOMING', 'cusp', 'believe', 'PAIN', 'Nichkhun', '....:', 'ur', 'yoga', 'AT', 'shootings', 'Muppets', 'Joseph', 'aanvangt', 'presser', 'posts', 'streaming', 'bigass', 'espaldapic.twitter.com/FwYsDhCacm', 'today', 'Hurricane', 'makanood', 'greet', 'CALL', 'Smith', 'C)', 'big', 'JEREMY', 'INFO', 'barely', 'Level', '#Back2The90sTurnUp', 'admin', 'Endzone', 'G-spot', 'Morgan', 'beyond', 'completely', 'Web', \"You're\", 'leadership', 'LAUSANNE', 'Two', 'p.m.', 'graffitti', 'lolz', 'JR', 'sniffff', 'ATACADO', 'bolstered', '#Deadly', 'Review', 'Tan', '5:59', '10.30', 'Sungai', 'Betty', 'socialtv30duplicate2', 'spots', 'printers', '\\\\\\\\Happy', '#really27', 'sfitzy93', 'Commander', '“@piersmorgan', 'Turnt', 'exist', 'Waitin', 'chugs', 'ordinateur', 'o_O', 'Vegas', '#July2015', 'JF', '#nswallschools', 'Testing', 'Maximillian', 'Never', 'breakfast', 'turning', \"'@Lovelylanvin\", '341.43', 'pilih', 'Widro', 'turnt', 'boug', 'lotto', '\".', 'newsletter', '#ZULA', 'LIGAYA', 'Ballroom', '#GoldenGlobe', 'rather', 'Gm', \"'WHEN\", 'toward', \"doors':\", 'HACKING', 'French', 'nur', 'Guild', 'portfolio', 'FILAN', '2s', 'Corrupted', 'archery', 'june', 'licensing', 'region', '$VTCQ', 'signed', 'monkey', \"i'll\", 'publish', 'B-stock', 'stops', 'Iraq', 'oversight', '#FightFor15', 'Ew', 'which', 'Incidentally', 'Bohemia', 'WARNINGS', 'Rogers', 'PAYMENTS', 'victory', '4PM', 'Making', '#grant', 'bs', 'couverture', '#trunks', 'lighting', '#king', 'Dreaming', '#AMNDBots', 'ratchetness', '#Ghostadventures', 'skip', 'natutunan', 'friendly', '#Islam', 'PR', 'Dieci', '#Nexus6', 'Sundays', 'Jannah', 'DRINKING', 'loosehttp', 'nighter', 'coupla', 'Thomas', '#MarkBam', 'Link', 'Company', 'popsycle', '#dead', 'Satte', 'soeur', 'Sheffield', 'MENG', 'Nat', 'joke', 'lets', 'protractor', '#SMM', 'negotiating', 'eat', 'AU', \"#NAYANTHARA'S\", 'Monticello', '#iPhone', 'WATER', '#cricket', 'customers’', 'wasting', 'ocean', '#crowdfunding', 'Child', 'person', 'population', 'Bat', 'Savin', 'authorities', 'juste', 'response', 'Parish', '*Weather', 'HWT', 'Fuxx', 'suppress', 'handing', 'back', 'Backgroun', 'Choice', '9|8c', 'Affiliate', '1985', 'HIV', 'courthouse', '#recipe', 'assassins', 'Bach', 'Pano', 'Cheap', 'HTML', 'World', '#Friday', 'Passwords', 'showing', 'Millions', 'Minister', 'nishikori', 'gossip', 'thugger', 'BITES', 'Wagner', 'fifth', 'Las', 'introduced', 'clicked', 'Sydney', 'Lamp', 'Auxiliary', 'finish', 'They', 'address', 'members', 'fitted', 'CAUSE', 'indo', 'nung', 'Whoo', '#twimbos', '11:11', 'bakiw', 'famille', 'Lotion', 'opposite', 'detroit', 'Networking', 'Blogging', 'spending', 'advocates', 'Milan', 'run-flat', 'ransom', 'Russia', 'uk', 'HOYA', '#SNL', 'Erenice', 'trapek', 'Scant', '58', 'pra', 'parents', 'Old', 'lambrini', 'immediately', 'birther', 'Loans', 'talks', 'same-sex', 'Drink', '7700', 'Rp', '#horseshoebay', 'Release', 'throat', '#stocks', 'WELL', 'OMG', '57105', 'eww', 'Limited', 'fearless', 'Interxion', 'rescue', 'Grinders', 'funnyordie', 'lalagyan', 'Novel', 'v', 'organize/share', 'oohh', 'Thunderstorm', 'belum', 'rumor', 'postg', 'BRANCH', 'Dorky', '/mezk', 'PSA', '12:30', '#1-4', 'nightmare', 'A.K.A.', 'raiders', 'pego', '7-10pm', 'graduate', 'hyped', 'incase', 'Jenkins', 'nalamang', 'Unspeakable', 'prank', 'Flores', 'replace', 'tonight', 'Josh', 'emily', 'janaallo', '#MagpasikatBiCoL', 'ALWAYS', 'funding', '#2Ahttps', 'footage', 'Involve', 'responsible', 'F%#*', '#mycityis', 'FREEGAME', '03:06', 'Dog', '89*', 'SMOKING', 'along', 'tommorrow', 'Harper', 'loses', 'turk', '211', 'Prime', 'Observe', 'advance', 'incomplete', 'Olympic', 'GRASS', 'Costa-Wagner', '#SportsTap', '05:41', 'field', 'Found', 'enterprise', 'Forensic', 'Streamer', '$15', '630', 'Odds', 'Hotels', 'size', '(@LANow', 'Business', 'whom', 'hackathon', 'Row', 'Jamie', ':/', 'casually', 'Teen', '#nola', 'exposition', 'enfance', 'Kitty', 'Parade', 'Honeymooners', 'Six', 'Sadly', 'Samaritan', 'heeeeey', 'Semangat', 'Shooting/Stabbing', 'Recap', 'paul', 'UMaine', 'Ritrovato', 'headset', 'NASHLENE', '#Dominion', 'list', 'FX', 'Remastered', '#CLT', 'selfies', 'least', 'WTA', 'hoef', 'juniors', 'ppl', 'stilll', '504', 'turf', 'American', 'zin', \"YOU'VE\", 'Epic', 'Lowkey', 'Catonsville', '#kansas', 'receives', 'straightened', 'Kershaw', '#boobs', 'onstage', 'greaaaat', 'tries', 'Another', 'CJ', 'Laughing', 'Garlic', 'scores', '#OTWOLMediaDay', 'Trinity', 'Mmuah', '#TeenWolf', 'com', 'clients', '#Wikipedia', 'Italian', 'plotting', 'wednesday', 'soccer', '#HB', 'proble', 'somebody', 'sure', 'kuda', 'Week', 'club', 'messed', 'AVAILABLE', 'Citrus', 'Carabao', \"I'm\", '‘', 'Bush', 'TOMORROW', 'existing', 'Wear', 'Gravity', 'Tamil', '..\"', '900', 'Hamburg', 'snap', 'maryland', 'quarterly', '#santamonica', 'tribes', '#IGOTMYPEOPLEWITMEBASH', 'awwww', 'Coinbase', 'thursday', 'paniwalain', '#beachfront', 'Hurts', 'Pisces', 'Beer', 'do', 'throughout', 'p-i-m-p', 'papier', 'debutant', '08:03', '#WEB2', 'SHAVE', 'Fuckin', 'Victory', '#mychemicalromance', 'hai', '10', 'workz', 'exempt', 'charlene', 'Forgot', 'Cap', 'Culture', 'chan', '#MakeInIndia', 'watershed', 'OldGameMags', 'aye', 'Acrylic', 'Most', 'hilarious', 'chilled', 'bashment', '....', 'dev', 'N', 'sell', 'Tim', 'Assange', 'Oscar', 'Infuriating', 'what', 'cu', 'unstable', 'threesome', 'Pen', 'vehicles', 'Mint', 'texting', 'Blues', 'mate', 'Expect', 'CAA', 'resume', 'yeaaaaaa', 'yellow/dark', 'REPLAY', '3333', '#RI', 'Apparently', 'CWE', 'DECK', '12*', '11-3pm', 'hurling', 'Wildcat', '#NBfootball', 'suspicious', 'Shs', 'Diseases', 'conferred', 'Ashley', 'joe', '#143', 'enlists', 'penguin', 'ooh', 'FForecast', 'time-lapse', 'discount', '#Greece', 'TechCrunch', 'TGL', 'minder', 'overseeding', 'worrying', 'classics', 'late', 'Out', 'Bad', 'watched', 'kelas', '#WebHosting', 'taro', 'impacts', 'Listeners', 'Aka', 'Andreas', 'Forecast-', '11.04', 'EPISODE', 'Shhhhh', 'Creighton', 'Cinque', '#nomakeupmonday', 'Flagstaff', 'Collagen', 'CNet', 'advise', 'huge', 'GMT+0000', 'occasionally', 'Hacker', 'standings', 'beredar', '25th', 'slaving', 'Amp', 'called', 'June', 'shooting', '82', 'led', 'WIseau', 'Presbyterian', 'Jobless', 'cinn', 'heck', 'Wound', 'sayo', 'Savings', '#FridayFeeling', 'Kahit', 'terezi', 'WAHHH', 'Truck', 'finis', 'kashmir', 'sooo', 'cities', 'Res', 'rocky', 'video', '#MARVEL', 'Professional', 'Lt', '21+', 'regional', 'Pistons', 'RegineVelasquez', 'helps', 'familiar', 'produced', 'Garbutt', 'Merkel', 'WEEKSARY', 'gheyyyy', \"Should've\", 'Abby', '1100LM', 'aligns', 'Affairs', 'inappropriate', 'Goodbye', 'KELE', 'COVER', 'RETWEET', 'IBT', 'precedente', 'driver', 'Seoul', 'kid', 'kenny', 'taxes', \"B'Day\", 'Last-minute', 'customers', 'Boo', 'Taylor', 'dket', 'Screen', 'BOB', '01/16/2015', 'Bonnie', '19.631', 'emptying', 'potholes', '#Bridgeport', 'enters', 'Yeh', 'ocho', 'URL', '6:15', 'Surabaya', 'REPORT', 'Scottrade', 'atm', 'eBay', 'HELL', 'mnl', 'little', 'Rebecca', 'Vloggers', 'gars', '29-30', 'como', 'islam', 'Hangeland', 'Realtor', 'POW/MIA', 'hate', 'Yards', 'ee', 'pop-up', 'Mods', 'Covers', 'Linux', 'neon', 'frugality', '#Tktmstr', 'Evan', 'Guitar', 'competition', 'ie', 'Harris', 'tapos', 'Gun', '?!!', 'corridor', 'disguised', 'gained', 'fan', 'Donates', 'GLITTER', 'Dre', 'causes', '#fb', 'Afterparty', '#southaust', 'studying', 'binding', 'toooonight', 'INFINITE', 'pulling', 'pasayahin', '4v4', 'Ballon', 'door', 'pero', 'UMVC3', 'Overnight', 'BB', 'KNS', 'MN', 'akooo', 'Machine', 'honestly', 'Alden', 'AFTER', 'impose', 'Dro', 'explain', '#teamstud', 'meter', '#ForevermoreFinale', '“@HuffingtonPost', 'reckon', '19th-century', 'useless', 'Ellis', 'fastfood', 'false', 'ganhamos', '#monsterlove', 'Pinterest', 'tape', 'NJ', 'Leaves', 'Vanquish', 'surge', 'feedback', 'Sun-Times', \"we're\", '4TH', 'OWN', 'cobardes', '22AF9362', 'creations', 'nap', 'racing', 'BST', 'ana', \"DON'T\", '5th', 'ways', 'pay', 'tire', '#crisisaverted', 'releases', 'Nuevas', 'TWITTER', 'storage', 'vou', 'yelling', 'machine', 'broadcasters', 'Player', '#socialshakeup', '!!!', 'progress', 'Tre', 'stylist', 'port', 'WARS', 'mass', '100.00', 'ENDS', 'vary', 'Manne', '#WeAreRaiders', 'prendre', 'logistical', 'novels', 'JB1', 'pasukan', 'disciplining', 'turn', 'trading', 'Koperdoos', 'report', '#mothersday', 'escape', 'SIENDO', 'wajib', '302', 'x6', '69', 'Ent', '1.98', 'lunak', 'afternoon', 'phones', 'Kremlim', 'http', '1-Tighter', 'H', \"we'll\", 'stalker', 'GIN', '485-519', 'educated', 'Mdddr', 'Vivaldi', 'data', 'both', '800', '#LoKer', 'intrest', 'todo', 'photographing', 'FANCAM', 'isr', 'database', 'amount', 'Willie', 'Musical', 'serving', 'books', 'warmth', 'lateral', '~~~', 'Universe', 'Sims', 'Naks', 'naiinlove', 'y/o', 'Ariston', 'patuakhali', 'Metadata', 'dreams', 'bump', 'Tanya', 'THE', 'Enfin', 'lame', 'climbing', 'Totes', 'sat', '#GLASSI', 'nearing', 'katapat', 'Today', 'barkada', 'fine', 'massive', 'rename', 'Hospitality', '6.0', 'reflexes', 'Verge', '#twitterjail', 'prediction', '11.30', 'justified', 'VTech', 'staying', 'MSG13', '#starwars', 'Senator', 'Smart', 'Project', 'present', 'FBI', 'brilliant', 'EDITION', 'meat', 'Saturday-', \"c'mon,\", '-@TonyGaskins', 'Moe', 'Paco', 'Tenshi', \"tomorrow's.\", 'Ione', 'Widd', 'Cavs', 'preschool', '..', 'pray', 'strong', 'tie', 'honk', 'springs', 'wake', 'predictable', 'bored-_-', 'sirius', '321DB7F4', '#DirtyBirdscartel', 'Brooke', 'MP', 'path', 'knsolidified1', 'Down', 'purse', 'Chad', 'furious', 'Yayaayayay', '363-390', 'palang', 'JAI', 'Moonshine', 'Weirdness', '#HailKiligPrince', 'SBM', 'Guarda', 'Cuhzans', 'BIGGER', 'standing', 'outs', 'Dec-Jan', '185K', '..!!', '#thethingsido', 'annegati', '$20', 'mercy', 'zzz', 'E', 'TOTALLY', 'fake', 'XFINITY', 'Birth', '11:50', 'ganna', 'Contact', '))))', 'Dermot', 'Cov', 'privacy', 'star', 'Practice', 'alienvault', 'Security', '#Linode', 'Yoseob', 'Such', 'Chemours', 'ASA', 'scream', 'chiant', 'Miners', 'Fes', 'brin', 'clock', 'criminal', 'world', 'HERE', 'Dylan', 'pacaran', 'attempt', 'Roadtour', 'basic', 'Elle', '#killthecheerleader', 'Allan', '1983', 'Cafe', '12-7', 'cocktail', 'Villas', '#WWEBattleground', 'JB2', 'hand', 'hints', 'deets', '#putterwatch2016', 'Alert', 'UV', 'harder', '#Twitch', '#gaping', 'Figures', 'Sprezzatura', '5800', 'CARTIER', 'MBTA', 'Colts', 'lng', 'Linzi', 'fantastic', 'Weight', 'hunch', 'List', '#Sedia', 'Thousands', 'mail', 'AUTOVIA', 'Mad', 'even', 'cutest', 'Bloggers', 'bbm', 'saber', '#bones', 'SHANE', 'Dad', '#marfalabatik', 'sheep', 'Destiny', 'muse', 'overestimated', 'Austin', '#Itsthe', 'devices', 'coolen', 'cinemas', 'excellent', 'Bros', 'Philadelphia', 'bertarungnya', 'kasha', 'kasi', 'Jess', 'x_x', 'Celebrating', 'astro', 'Local', 'Major', 'mam', '#Anglesey', 'quotidien', 'SOFT', 'ship', 'rt', 'mont', '#refugeesGr', 'Siap', 'actress', 'natabo', 'WFUNA', 'Board', 'Hughie', 'Getting', 'Shopping', 'First', 'Northern', 'SHOCKING', 'marami', '#CPDPoints', 'normal', 'massacres', 'Liam', 'Top20', 'Aw', 'majority', 'sinasabi', 'LMAO', 'Viewing', 'queer', 'rolls', 'LIAM', 'corbin', 'MS', 'Hollywood', 'favor', '#JESUS', 'veulent', 'SET', 'stressed', 'waving', 'Inn', 'Joint', 'Prabhu', 'Nov-Dec', '#DABOSS', 'saw', 'twitteris', 'seatings', 'encouraging', 'KINASAL', 'kempner', 'Help', 'YA', 'Peace', 'disease', '#SpaceAge', '**Support', '#Ducks', 'Encouraging', 'encountered', 'pet', 'Self', \"it'...\", 'Prompts', 'Elliot', 'DFS', 'CHECK', 'Wolfsburg', 'SHINee', '-Cuba', 'gotten', 'none', \"you'll\", 'w/Fool', 'CLASS', '#datasecurity', 'translation', 'welcome', 'Ilhoon', 'oyu', '\\u200bWhy', 'NIGHT', 'controller', 'nom', '#MERS', 'Wonderful', '#Memphis', '.\"', 'Crobot', '#lasvegas', '#OTWOLComplicated', 'heffa', 'Leiva', 'bd', 'staubt', '#nestprotects', \":'\", '33', 'Akron', 'Hettinger', '17th', 'Awal', 'ODELL', 'matter', 'DRESS@FOR', '#deals', 'Cest', 'Vous', 'hugger', 'Pou', 'Reports', 'Opinionated', '#EFC', 'Beaulieu', 'kittehs', 'doc', 'fired', 'sigh', '#bahnbilderde', 'user', '11,000', 'game', 'chips', 'Perebutan', 'searching', 'mais', 'peajes', 'less', 'relevant', 'cooking', 'Ripe', 'mystery', 'halftime', '#Etsymntt', 'confusing', 'sweaters', 'accessed', 'FGCU', 'D…', 'Rohrback', 'Coolum', 'Tue-Fri', '51', 'learn', 'express', 'COUPLE', 'mixcloud', 'bathing', 'drown', 'OFFEND', 'naps', 'Criminal', 'insists', 'faith', 'jalan', 'Fa', 'AF1', 'xmas', '#Xbox', 'UGH', 'Wheeler', '#ALDUBStayWithMe', '2015', '26', 'DRIVING', 'differ', '#punchline', 'BIDS', 'squad', 'guestlist', 'Jaguar', 'dayyyyy', 'tuesday', 'fixin', 'b', 'befo', '#bitcoin', '9mph', 'speed', 'HAS', 'UNF', 'Theatre', 'Ash', '#Catholic', 'biar', '32783FC8', 'Maternity', 'remind', 'pr/1Gr2toI', '#JWU', '01:19', 'weekend', 'Beantown', 'overflow', 'oranges', 'C/1968', 'Heals', 'Clear', 'sang', 'Ralph', 'sd', 'conversations', 'Stay', 'G61380', 'journalists', 'voting', 'GAVE', \"O'Donoghue\", 'Kiran', 'Sore', 'cutting', 'DE', 'vase', 'Matches', 'Stanford', 'YASSSSSSSSSSSSSSS', 'Jun', '7:53', 'costume', '#sleepwear', 'scanned', 'Chin', 'remain', 'Packer', \"Hadn't\", 'Drunk', '/cepet2', 'jus', 'Farm', 'MoneyMakingTUCHE', 'needing', '#Alliance', 'Bournemouth', '#SJUBase', 'whimpering', 'rough', 'ring-tailed', '7TH', 'hub', 'reason', 'TIE', 'Sion', '#Blessed', 'BUMPING', '03:48', '#Miami', 'misled', 'dying', 'jour', 'estoy', 'cards', '#alcohol', 'N/A', 'ambulances', 'nope', 'dormidas', 'Monster', 'klik', '#oreillyfactor', 'Frissora', 'pitching', 'global', 'Voice', 'Thomson', 'seekers', 'thriving', 'W/Joe', 'D/Sargent', 'download', 'Salty', 'dweller', 'firewood', '#WeWantQuantico', 'arrest', 'detonate', 'Falls', 'tree', '#agrichatuk', '#SUGGSUNDAY', 'Bye', 'mare', '*NOT', 'breaking', 'makes', 'kaan', '467th', 'Serie', 'WNW', 'draw', 'Are', 'cody', 'amendments', 'Clemson', 'formalities', \"i'd\", 'Patients', 'Prolly', 'winne', 'JGUEULE', 'horanbum', 'iguess', 'Departme…', 'reach', 'Dry', 'gen', '#FirstOnScene', 'CONFIRMED', 'compulsary', '#Sundries', 'conversation', 'PC', 'joue', 'kwento', '#NewDelhi', '#IT', 'Ive', 'baseball', 'dies', 'restaurant', '#martesTIC91', 'EFE)', 'CSR', '10am', 'HILARIOUS', 'mdrrrr', 'TAPOS', 'wondered', 'practically', 'kanya', 'Chia', '*happy', '#congratsonthebabyniall', '#PhotoshopCC', 'PA', 'sorgelaw@yahoo', 'quite', 'environment', 'WEILAND', 'Wine', 'ABS', 'Meyers', 'TRIP', '264', 'ist', '#appsilence', 'rivalries', 'agad', 'certifications', 'contact', 'under', '$500B', 'marks', 'consiquences', 'Kapal', 'patient-data', 'SDSU/USD', 'Paradise', 'clinch', '#neexpo', 'tasted', '#CISO', 'PoMo', 'vida', '13206', 'DC', 'aabangan', 'BULAGA', 'Suffers', 'on2', 'federal', 'woust', 'erano', 'Lmfaoooo', 'NewsWatch', 'BIRTHDAY', 'ONE', 'immadam_angelo', 'Healthy', 'Home', 'oats', '09/27/2015', 'pinata', 'Band', 'shipping', 'relaxing', '#wkndread', 'BELL', 'Libra', \"ain't\", 'hero', 'LOADING', 'Sya', 'Gainza@nmss', 'thaz', 'bangun', 'When', 'Pt', 'cocaine', 'nae', '#WAHM', 'mga', 'MUNDO', 'yeeuuuuppp', '94.9', 'nico', 'Gowns', 'ponytail', 'SUTRA', 'write-in', 'kitchens', 'shift', 'Daphne', 'Fellas', 'makakatulog', 'YV', 'tube', 'rele', ':-(', 'replies', 'Military', 'devotionals', '#iPad', '4.2', 'lush', '08:11', '=/', 'higher', 'Please', 'Gert', 'Rib', 'york', 'effort', 'Naw', 'sasama', 'goin', 'tic', 'Bulletin', 'anuncio', 'Identity', 'Vulnerability', 'fam', '4am', 'praised', 'Bukas', 'Pao', \"d'espagnol\", 'Mate', '#HindiLahat', 'ga', 'NSTP', 'necessarily', 'PIM', 'JabberDuck', 'Teams', 'homered', '=\\\\', 'WP', 'Jumbotron', 'nurse', '#win', '494)Buy', 'Head', '#mschat', '#london', 'bank', 'yon', 'bay', 'comprehensive', 'THIS', 'ooo', 'pas', 'PhD', 'travelling', 'Samui', 'clubbing', 'dressing', 'short', 'Phillips', 'Tristan', 'lingerie', 'mdr', '09:17', 'Theres', 'gente', 'Thiss', 'Murkowski', 'Foligno', 'Sec', '#StennerWoods', 'two', '2021', 'Wild', 'Table', 'gentleman', 'iRock', '284,507', 'Emmeline', 'Hydrating', 'Whatever', 'BedRock', 'Russia’', 'Mam', 'trade', 'among', 'crap', 'rearview', '#edtech', 'Confronting', 'Everybody', \"You've\", 'Not', 'Kenshin', '#password', 'Energy’s', 'Toyota', 'toi', 'normally', 'Minors', 'bermain', '#TheCriticsWereWrong', 'Yayyyy', 'Long-press', 'Adeus', 'pinagsisiksikan', 'Kamenetz', 'off*', 'Arm', 'boozy', 'begin', 'Franklin', 'homicide', 'giant', 'Prana', 'cedar', 'Hooters', 'Omnia', 'Snapchat’s', 'BBL', 'cellphone', 'Sirius', '-Velasquez-Manoff', 'android', '#2015Elections', 'renewables', '!!...', 'mobile', 'puaind', 'KAYO', 'Brought', 'Keep', \"it'd\", '#MichiganCityBuoy', 'moving', 'JANNUS', 'US/Eastern)', \"R'lyeh,\", 'Bacon', 'spiritual', 'finding', 'Create', 'warning', 'Lives', 'Findlay', 'Can', 'HTC', 'Skin', 'gusto', '19', 'TOUR', 'complained', '#Plussize', 'repurposed', 'prepaid', '12/12)', 'Tipitina', 'mozzies', '#giveaways', 'claim', 'lucrative', '!........', 'suis', 'VOICE', 'Meteorology', 'Ikaw', 'ahh', 'Arena', 'Than', 'centre', 'Mourinho', 'UMMMMMMM', 'Lovestory', 'neva', 'Calif', 'celery', 'Techno', '#gifted', 'Anounced', 'Model', 'mron', 'cyberattack', 'tahun)', 'opro', 'Selasa', '#7', '#HorrorBlock', 'KERSHNER', 'Goldsmith[May', 'EXCELLENT', 'SOCHI', '#sexy', 'Loyola', 'Aaron', '#summerjamuk', 'Brooks', '#RIOAfrica', 'consumed', 'imean', '1.4', 'hangin', '#jdwhetherspoon', '05/06/2015', ':\\\\', 'Student', '2014', 'disruption', 'av', 'naman', 'GM', 'tank', 'Hear', 'Room', 'Devils', '.!!!!!!!', 'Sunday', 'e-votes', 'resident', 'toda', 'justin', '“@AP', '#web', 'lunchbox', 'Kilig', 'jihadists', 'preorders', 'stars', 'gou', 'earlier-', 'workplace', 'RESEARCHERID', '1pm', 'kung', 'guess', 'awwwards', '#KraftFightsHunger', 'honor', 'vive', '15M', 'GO', 'measurements', '3,000', '11:40', 'mine', 'September', 'crime', 'kapalit', 'Apocalypse', 'Kickoff', 'overrated', '#FullSpeedTour', 'Shikari', 'Tulowitzki', 'vlastito', '#TRANSPORTER', 'relis', 'payag', 'premeiere', 'spncrodll', 'sana', 'prison', 'Howling', '085759831244', 'magbabayad', '35G', 'illustration', 'puck', '06:03', 'GAME', 'Dimps', 'appetite', 'Stefani', '#Music', 'THEIR', 'SPITE', '#stopthemadness', 'grass', ';)', 'Village', 'absent', '#FuckeryFriday', 'EverydayILoveYou', 'Resource', 'Jet', 'presidente', 'RockHouse', 'EXTENDED', 'SLAVES', 'Fertilizers', 'longg', 'blink-18Tuesday', 'Dream', '#Greferendum', 'sejak', 'Cadel', 'dreamer', 'costly', 'panic', 'court', 'Polar', 'BETTER', '98', 'SUBSCRIBE', 'al', 'Colorado-based', 'Irvington', 'Target', 'Pray', 'sick', 'poor', '19th', 'horror', 'balaclava', 'sight', 'asa', 'nano', 'COMPROMISED', '#GoodNight', 'lifts', '#aberdeen', '#itunes', 'SilkWorm', '07:32', 'Dogs', 'wrote', 'Novak', 'pictured', 'Bates', 'HOTTEST', 'death', '6', 'YUAN', 'building', '#Popular', '#tragedy', 'opening', 'Ukulele', 'nem', \"Can't\", 'A&amp;E', 'Atlantic', 'BETCHA', '#DaysofFuturePast', 'Artful', 'reunion', 'Fifth', 'playoff', \"D'or\", 'adele', 'part', \"doll..i'm\", 'bottom', '#ULTRA', 'btwn', 'Shield', 'Huffington', 'rape', 'ONCE', '1x', 'Gettin', 'U', '2morrow', '1926', 'tvs', 'Sellotape', 'Milk', 'literally', 'Energy', 'investigates', 'situation', 'Src', 'rail', '#BamBam', 'Bernd', 'suit', 'damnit', 'sequel', 'Brutality', 'Trek', 'Billion', 'Intervals', 'ORDER', '#MLB', 'obstac', '08/16/2015', 'stabs', '!?', 'confirm', 'rentrer', 'roommate', 'piling', '#StLouis', 'iCarly', '#ALDUBForTALKNTEXT', '7-9pm', 'RT@vincewelch', 'weighed', 'Psalm', 'Circle', 'Africa', 'onenationworkingtogether.org', 'whats', 'tragedies', 'Anfield', 'BlackBerry', 'gas', 'Till', 'xxriee', '35-21', 'Orillia', 'WOOT', 'oh', 'Restaurant', '#ClubAcuarius', 'future', 'Orchestrez', 'Clickable', 'Yep', 'www.theguardian.com/business/2015/oct/30/second-teenager-arrested-over-talktalk-data-breach', 'glass', 'Furukawa', 'Hold', 'TAENA', 'Pls', 'Weeks', 'inyo', 'hara', 'reciprocate', '128,000', '#lunkercatchmovement', 'deadline-triggered', 'intimacy', '“@6abc', 'POOL', 'brands', 'prepared', 'aasahan', 'Manila', 'Behind', 'pau', 'Kala', '7-11pm', 'looool', '=(', 'Athil', 'ses', '103', 'back-Big', 'Maggi', 'Heartbeat', '#aslidosti', 'Dun', 'hundred', 'route', 'spaces', '2-6', 'TUBIG', 'Loanbase', 'january', 'banter', 'ab', 'S/O', '11th', 'cowtipping', 'Minimum', 'Lifesitenews', 'Fools', 'Penggemar', '.twitter.com/yuLCkJWAzX', '9pm', 'playtest', 'N34778', 'Pr', 'Mexican', 'Owen', 'surgeon', 'embargo', 'CIA', \"didn't\", 'Linode', 'Glencoe', '02:54', 'Sleeve', 'Happyzone', 'suffer', 'UMass', '10:30', 'thou(', 'problems', 'dry', 'xD', 'neuro', 'free', '\"\"\"', 'quo', 'Taecyeon', 'AMC', 'amnesia', 'Tune', 'Nuts', 'roseburg', 'Allied', 'avant', 'Breaches', 'Motor', 'din', 'suppose', 'wort', 'Stuart', 'Neck', 'Health-', 'AINT', 'tomatoes', 'Join', 'Disruption', 'telling', '24-year-old', 'Um', '16:01', '#amwriting', '#ALDUBTheWho', '#Referral/#Auth', 'WHATS', 'Hills', '2:18', 'five', '#BlackLivesMatter', 'staple', 'calculated', 'Catherine', 'w/me', '#Philly', 'tacloban', 'ure', \"travels!I'll\", 'Odyssey', '#WBZ', 'situations', 'release', 'follow', 'drain', 'Lot', 'Cekdogg', 'Hyna', 'wil', 'decreed', 'holds', '#LongLiveZaidHamid', 'them', 'Been', '#staged', 'Ray', 'wuz', 'U.S', '09:45', 'up*', '01:03', 'A1278', 'HK', 'rehearsal', 'aiming', 'JUSKO', 'HEY', 'loop', '=P', 'everyday', 'Shootings', 'faces*', 'Est', \"''\", 'taylor', 'Mood', 'pangalan', '|PTA', 'GOING', 'fancy', 'CLUB', 'anyway', 'Phish', 'Tai', '&lt;', 'sober', '#YomKippur', 'verizon', 'vacation', 'family', 'kalo', 'MANY', 'gaming', 'Til', 'Fair', 'dominate', 'Vargas', 'redzone', 'How', 'ISI', 'pouvez', '#checkmeout', 'REPORTING', 'MEAN', 'jeune', 'SALE', 'accident', 'SKYLANDERS', 'nan', 'Kapag', 'suits', 'Amazon', 'Estate', 'Labour', \"...'\", 'ladies', 'REDS', 'cache', 'SUPER', 'CORT', 'Lassen', 'grace', 'thanksgiving', '70s', 'JUMBO', 'PROBABLY', 'PLz', '46k', 'say', 'SILVERWORKS', 'XI', 'dalam', 'Tacos', 'considered', '#GETEXCITED', 'WB', '#OyeEtoAhoraDike', 'blew', 'DADT', '12:34', '#cnet', '03', 'sleeping', 'EBAY', 'Nottingham', 'Laying', 'cuz', 'longer', 'Haas', '#notaboutbirthcontrol', 'taste', 'pic.twitter.com/37P3OPOrMV', 'naging', 'Homing', '#Southie', 'solo', 'alasan', 'GuitarNews', 'comptonglobprof', 'destruction', 'Songs', 'Duhhh', 'overnight', 'ultimately', 'Prentice', 'outside', 'MGBSFL', 'low', 'Jurassic', '*draws', 'Fatalities', '#obsessions', 'keeep', '#magov', 'SSN', 'truuu', 'story', 'compromised', 'Xenia', 'predicted', 'FUCK', '\":', 'Dorrell', '“@YourAnonNews', 'XM', 'countless', 'incoming', 'ours', '12:42', 'excuse', 'anek', 'Drawing', '#THEDONUTOLOGIST', 'jamais', 'Takahashi', 'Mmmm', 'woke', 'bulletin', 'LAMB', 're-tweeted', 'OK', '#cpc', 'Brando', 'Bundle', 'Drill', 'slammed', '#CWA', '6:45', 'ew', 'AM', 'Year-Over-Year', 'challenges', 'Issaquah', '#NewYorkTimes', 'Hide-and-Go', 'funny', 'knit', 'all-hospital', 'newspapers', 'trophy', 'handy', 'pourquoi', 'Playoff', 'hulk', 'amiright', '#dmv', 'smaller', 'viendront', 'IDR', '#purplepride', 'Haaaa', 'design#website', 'questions', 'emails', 'nakaka', 'wake-up', '#f4f', 'Entering', 'approved', 'Norrebro', 'design#eco…', 'call', 'Greatest', 'west', 'CFC', 'FEW', 'dollar', 'cut', 'bring', '60th', '#digg', 'Utility', 'Anti-#GamerGate', '#Austria', 'OBSESSED', 'kahit', '#investing', \"N'T\", '#Taurus', 'with', 'friends', 'leftovers', 'punta', '#lumecube', 'torment', 'AppleMagazine', 'meetings', 'Blegh', 'interstitial', 'Latin', 'dollars', 'Knowledge', 'Wet', '#PatsNation', 'life-threatening', 'frustration', '7minutes', 'knee', 'student', '/w', 'une', 'County', 'DHS', 'Huge', 'daar', 'Swayzes', \"gd'Thursday\", 'Mac', 'Asta', '#NY', '#BondiRamen', 'Dragging', 'abductors', 'suga', '12PM', 'wass', 'PAPER', 'CHIX', 'Clans', 'Jansen', 'April', '11th-Inning', 'Sprint', 'Wednesday', 'SMH', 'Nearby', 'afastado', 'stays', 'Centre', 'kno', '2:00', 'BBQ', 'dude', 'Via', 'tele', 'Quakers', 'Org', 'Tidyin', '#cafc', 'Mountain', 'REPEAT', 'correct', 'youve', \"j'dec\", 'Showbiz', 'katabing', 'Mt', 'Gelukkig', 'magbabago', 'Sheds', 'Kreeg', 'gona', 'drinks', 'collectif', 'fitting', '80%', 'technological', 'pls', 'DAAAAAAAAAAAAAAT', 'ipon', 'celebrate', 'peeps', 'flies', '#8217', 'naaraman', 'Peachtree', '#nascar', 'Soccer-Romanian', 'winter', 'LeBron', 'Federal', '}', 'Graduation', 'Blount', 'HUMAHABOL', 'yhuu', 'soap', '#apuestas', 'court-mandated', '9,201', '#Thailand', 'overall)', 'issue', 'Hibernation', 'Back', 'tattoo', 'mugs', 'Plans', 'loll', 'sachet', 'fields', 'suggestions', 'DGA', '#BleedGreen', 'snow', 'skirt', 'ontem', 'Gemmill', 'quantity', 'Harvest(Warp', 'mental', 'Salem', 'tumbled', 'push', 'RACE', 'Blerghhhhh', '#Wilmington', 'Former', '#deau', 'jetzt', 'todaii', 'august', 'Division', 'prolly', '#writing', 'Nursing', 'Sales', 'solar', 'gens', 'Punya', 'panda', 'happens', 'Aquarius', 'Tea', 'Yna', 'IHT', 'Sports)', 'cr', 'overall', 'LIFE', 'Proverb', 'web', 'daylight', \"they've\", 'activities', 'Look', 'lick', 'THAN', '#weather', '$1', 'SEP', 'YEAH', '12:17', '01:20', 'SONG', 'la', 'x14', '9556', 'Alive', 'Squad', 'IDEA', 'Reduced', 'pub', '#walangpasok', 'bothers', '#LASD', '#', 'kunnen', '#IfYoureMyGirl', 'manages', 'Worse', 'jamrock', 'TRANSPAR', 'demand', 'Timmies', 'Facebook', 'Loket', 'AAP', 'tignan', 'Chart', 'spencer', '#Fancyflow', '5,000', 'Ainda', 'systems', 'join', 'materials', 'accounts', 'identify', 'Gary', 'ISBWE', 'babae', 'awkward', 'blaming', 'DIRE', 'finished', 'Cats', 'budget-busting', 'algood', 'videos', 'security.com', 'SPC', 'Convective', 'ADULT', 'Dolly', 'enjoy', 'mom', 'kayo', 'pipe', 'Na', 'Tessa', '#KansasCity', 'sharing', '\\'\"', 'Had', 'decorating', 'Davidson', 'ep', 'participate', 'Ross', 'Lookbook', 'read', 'Jazz', 'GREEN', '#MStar', 'Bodyswapping', '#NearlyCried', 'tom', '?!', 'tomorow', '#Makassar', 'llevo', 'eventually', 'Boxing', 'Need', 'dads', 'Pillow', '#ALDUBTheREVELATION', '#yyc', 'Bar', 'Tunnels', 'confirmed', 'previous', 'snapchat', 'reader', 'mortga', 'be', 'Brentford', 'outweigh', 'voy', 'meninas', 'Independence', 'figure', '#footballmama', 'infestation', '#monpremierTweet', 'offense', 'sweat', 'hoops', 'Eric', 'lmao', 'MAPEH', 'fixes', 'kills', 'Gray/Whitehttp', 'best-ever', 'tori', 'Dorothy', 'Loan', '#DallasStars', 'SPOTLIGHT', 'relations', 'haz', 'LINGE', 'Whoa', 'iffy', 'Thoughts', 'australia', 'Stakes', 'blink', 'Claims', 'sneaks', 'gosokan', 'Clark', 'Saudi', 'Nobbs', 'repo', 'costumes', 'Mitchell', 'Dose', 'peop', 'Kierra', 'SAK', 'GoT', 'used', 'Lisa', 'AAA-', 'Province', '#VIDEO', '69F', '#COMICS', '#high_larry_us', 'performance', '09:14', 'label', 'flipped', '#Messi5th', 'Ball', 'nitong', 'underestimate', 'Grammys', 'Taking', 'cricket', 'Ethical', 'Dawn', 'poem', 'Korean', 'Sekolah', 'UB', 'months', 'endea', 'cracked', 'non', \"'Was\", 'For', '.', 'Bloc', 'stunts', 'Cyber', 'south-west', 'Nadal', 'caught', '9', 'Get', '#Infoline', 'debris', 'Brown', 'MD101LL/A', 'complainers', 'Butler', 'streams', 'maliit', 'liat', 'Perayaan', 'Cigars', '#Grexit', 'Bear', 'hello', 'Vietnam', 'DAN', '|Sport|Football', 'Production', '#lifeispointless', '01:26', 'furthermore', 'awards', 'November', 'Tour', '#Databreach', 'Photography', '02:24', 'yang', '#100words', '«', 'SAGOT', 'pics', 'argrgrgr', 'mans', 'gave', 'developer', 'pretrial', 'fa', 'Amiibo', 'pic.twitter.com/XStjI9xpNK', 'SloveniaSlovene', '1-2', 'warred', 'PHOENIX', 'Lanes', 'Ocean', 'Syria', 'Flat', '#Eagles', 'pagmumura', 'target', 'tumhe', '12:28', 'chain', \".'\", 'Antimicrobial', 'soooo', 'tucson', 'continues', \"wasn't\", 'yet(', 'owe', 'Haha', 'empezado', 'TORA', 'murdered', 'waste', 'gunmen', 'Unsung', 'cryin', '04:26', 'tenggelam', 'bowl', 'arriveerde', 'ill', 'mask', 'WAS', 'kidddddd', '#Deals', '#FanArmyFaceOff', 'kita', 'Injured', 'adapter', 'toto', '02:36', 'Mackenna', 'Calcio', 'Storm', 'sagot', 'insult', 'relieve', 'industry', '#MotivationMonday', 'invitation', 'Mickey', 'Name', 'Hamptons', '#filthyglaMOUR', 'Police', 'adta', 'Scores', 'Foooooootball', 'BABY', '78.88', 'most-injured', 'ally', 'wondering', '#sadbuttrue', '1,387,281,974', '#Google', 'MUAH', 'Will', 'Recognition', 'sworn', '3RD', 'unwrapping', 'bars', 'wed', 'leaves', 'fines', 'clarity', '#281', 'dusted', '#teamswag', 'amazing', '#Crazy', '#HotChicken', 'und', 'shortlist', 'You', '#Skin', 'first-ever', 'epal', \"Don't\", 'Sea', 'Linny', 'Elizabeth', 'Mass', 'Stocks', '3D', 'COCK', 'siempre', 'dise', 'Erupt', 'holla', 'crisis', \"WON'T\", 'concert', 'eatery', 'SMSP', 'Eurozone', 'THEGUARDIAN', 'elections', 'fat', 'bit', 'VELVET', '#tempura', 'above', 'dau', '497', 'Hell', 'FC', 'remembering', 'emotionally', 'conclude', 'NEWEST', 'haunt', 'overdone', 'Winchester', 'Thornton', 'INC-CYB-PRF-1505151540', 'caffeine', 'fly', 'eminem', 'Dahl', 'Topic', 'ujian', '#82', '$$', 'PJ', 'Hart', 'mention', '4th', 'vizag-12th', 'tableviews', 'QUARTERFINALS', '#iOS', 'Opens', '#realestate', 'Branching', '03:10', '2/2', 'ESTA', 'Feel', 'SAYS', 'SCM', 'very', 'sane', 'pic.twitter.com/9V0a0URtHO', 'convert', 'Congratulations', 'donate', 'Grounds', 'Srgay', '#thursday', 'artwork', 'talking', '16:52', '#business', 'publicare', '13.3', 'DEGREES', 'mortgages', 'jk', 'DONUTS', '#ALDUBBATTLEForACause', 'Danny', '#Tsipras', '1240', 'Dancing', 'watch', 'like', 'planted', 'Orca', 'Events', 'Springboro', '#Oshawa', 'katabi', 'decision', '#Alagir', 'promotion', 'Officials', 'turns', 'su', 'Islam', 'pal', 'parin', 'AtASAP20', 'Amid', 'issues', 'nything', 'foin', 'TALK', 'gunplay', '5litre', 'treat', 'pala', 'probes', 'HSUS', 'Graham', '03:14', 'Herbie', 'maiwasang', 'imigrantes', 'Shawn', 'saalo', ')And', 'Pete', 'usb', 'depart', 'ASEAN', 'Pretty', 'furniture', '#Padres', 'lls', 'palette', 'she', 'MCN', 'domaine', '#Peristiwa', 'relegation', 'admission', 'Mulcair', 'Aquarium', 'Bordeaux', 'feb', '#foodie', 'PRICELESS', 'Lodge', 'conclusion', 'Make', 'claims', 'indexes', 'has', 'bounden', 'prove', 'Spain', 'genre', 'thing', 'hole', 'CityTV', 'biglang', 'oublier', 'ngmoco', 'all-new', 'working', 'conditions', 'ATL', 'curl', 'iPads', '#MARCH', 'goodbye', 'indeed', 'Wtf', \"'ve\", '#Cabinet', 'argh', 'Afternoon', 'cancer', 'showering', 'desert', 'dong', 'Doris', 'Relatives', 'muted', '#recycledclothing', 'identified', 'share', 'trials', 'IL', 'net', 'mix(cma', 'changes', 'BA', '“@MichaelSkolnik', 'salon', 'site', 'Mount', 'milk', 'targeted', 'Piolo', '#veterans', 'page', '#boomagenda', 'Kaso', 'siya', 'Boeing/Lockheed', 'disaster', '#fathers', 'doit', 'pleasant', 'speaker', 'Bronzing', 'wonderful', '#tacos', '#School', 'straight', 'jsuis', '“@nbcchicago', '#enlistment', 'Guitars', 'division', '#afternoon', 'Trust', 'roundup', 'Senate', 'firm', '#playwithyourfood', '#tips', '1250', 'me', 'Si', 'FEATURED', '#ecigsummit', 'WH', 'junk', 'Whit', 'Jonah', '#databreach', 'dele', 'Small', 'UNA', 'depending', 'prohibitively', 'Compromised', '#Constantine', 'Barely', 'Deal', '‘Old’', 'Demi', 'tao', 'sp', 'Inception', 'lips', 'Shit', 'AKA', 'mashed', '#aaronlivesy', 'Biz', 'taLked', 'ihm', 'Silver', 'Monica', '8.31', '#sittinupunderthedryertweet', 'stress', 'Pens', 'filling', 'Pi', 'Claire', 'Rilis', 'Bewildered', 'Zealand', 'WOUNDED', '222', 'Hackers', 'Clair', 'Cy', 'Berahino', '#twittertime', 'carmen', 'defeat', 'accept', 'proposals', '#Virgo', 'United', 'voice', 'Tired', 'minta', 'Confused', '18.98', 'depict', 'bakc', 'Harii', 'mette', \"won't\", 'Jan-2-201', 'MO*', 'formal', 'un', '#WeddingParty', '#urge', 'dilakukan', 'Sherry', 'conta', 'maintenant', 'RIZKIRIDHO', 'Barmeen', '#TV', 'Worth', '#2016', 'calm', 'Washington', 'stuff', 'Paranormal', 'Rest', '#StyleWeLike', 'Zayn', 'A1', '6th', 'Other', '#cybersecurity', '~TGIF~', 'bruhang', 'featuring', 'SHOTS', 'ironed', '-Coco', 'PEETA', 'fossil', 'exo', 'Talking', '#UCLfinal', 'shut', 'by-poll', 'DID', 'february', 'croise', '5//', 'tmrw', 'struggle', 'pledge', 'g', 'leaders', 'Wal-mart/swift', 'Toronto', 'aux', 'sunglasses', 'stock-', 'Thinks', 'TERGODA', 'np', 'contest-', 'enjoyed', '9432', '(@', 'lit', 'Elvis', 'Loveman', 'trivial', 'Dela', '#umaARAGALANG', 'hunger', \"big'o\", 'balak', 'bell', 'realllllll', 'GREAT', 'tulog', 'vinho', 'Muhammad', 'Parfum', 'decades', 'ISNT', 'sun', '#allstarlineup', 'jul', 'EL', 'Win', 'Caledonia', '#Atl', 'dinidiem', 'Media|', 'touched', 'Book', 'entangled', 'grilled', 'complicated', 'dan', 't.v', 'WILL', 'converted', '-@KimKardashian', '#FDI', 'manufacturers', 'ke', 'injuries', 'CNET', 'sho', '32.00', 'Pitcher', 'wherever', 'beli', 'Performance', '#Cochrane', 'falling', 'Nokia', 'OKNO', 'send', 'sol', 'WHITE', 'motivated', 'ressemble', 'MONG', 'Digits', 'Voxel8', '1986', 'downtown', 'yummy', 'Bronx', 'Chevron', 'orde', 'pic.twitter.com/78r9F13YqF', 'blessings', 'Jane', 'Classified', 'YUP', 'Park-', 'for', 'worldly', 'GRAMMY', 'opponents', '#cwc2015', 'England', '#SecondLife', 'butler', 'EXPOSED', '#Never', 'NEW', '#rasta', 'occasions', 'vill', 'TomParker', 'liligawan', 'International', 'KiVA', 'Havoc', 'achieve', \"Could've\", 'treatment', 'domingo', 'mindless', 'Dandies', 'officers', 'Protected', 'POPS', 'Monkey', '#ODSC', '17.8', 'litt', 'jaga', 'ckecking', 'timepiece', '#social', 'SHOOTING/INFO', 'caching', 'Papers', 'Phoenix', 'lapse', '6.30', '#Spurs', 'typo', '#M2M', 'rack', 'balance', 'overly', '#selfhelp', 'mehr', 'Certain', '05:03', 'xddd', 'mistletoe', '1309', 'Am', 'Willingham', 'Fitzwilliam', 'Tat', 'Guides', 'w', '#Beach', 'they', 'XBOX', 'tudo', 'his', 'Costa', 'Email', 'pm-GMT', 'Come', 'retrospective', 'delicioso', 'ilike', 'JKLabajo', 'brighten', 'ATTI', 'POPSUGAR', 'convites', 'growhouse', '81', '5yr', '#Hurrt', 'mau', \"have'n\", 'conclusions', 'biker', 'non-chemical', 'planning', 'naibibigay', 'tampon', 'Huet', '6:00', 'sincerely', 'Dicks', 'Summits', '#yyj', 'Chat', 'Blu-ray/DVD', '#SouthKorea', 'library', '=d', 'KHC', 'Websites', 'tees', '~59', 'bambini', 'TailGreat', 'get', 'fav', 'continue', 'miami', 'SHAWTY', 'Concepcion', '#seotalk', 'cus', '[#NewarkWeather]', 'pill', 'loving', '$AEXE', 'ia', 'Simply', 'HAVE', '#gospel', 'yayyy', '[*MNCTV', 'Siendo', 'Sikh', '#NASHFM1025', 'Donghae', 'intent', '#CreoEnTi', 'x56', 'Yes', 'barley', 'Scranton', '#Quotealicious', '#Winnipeg', 'sseee', 'iPod', 'Goodmorning', \"ISN'T\", 'kasa', 'soc', 'reasonable', 'Mosques', 'Health', 'Girl', 'gym', 'Ronda', 'POLL', '#Stoptober', '#greenville', 'register', 'Cover', 'Software', '225', 'Legislature', 'watchg', 'Sanford', '#3Novices', 'crisps', 'Soon', 'knitted', '#BIEBERWEEK', 'cantinho-', 'exact', 'SCANS', 'idiocy', 'home/office', 'cold', 'anybody', 'memorial', 'DT', 'masaya', '#EMABiggestFansJustinBieber', 'Awards', 'ramp', 'bottles', 'pagi', 'hashtags', '#Maps', 'Hole', 'fluncked', 'dw', 'ini', '#feedthefire', 'POR', 'ignored', 'babaeng', 'services', '#SaltLakeCounty', 'video0', '0.10', 'Bacrott', 'daytime', 'STATE', 'pres', 'Ham', 'Museum', 'DVD', 'Celebrate', 'revolution', 'term', 'CyberNation', '#Campaign', '7.9', 'Product', '#HumanRights', 'Comcast', 'fills', '20.00', 'AVOUE', 'skin-tight', 'GA', 'earn', 'Brake', 'Jacquelin', 'Spraying', '08:13', 'ove', 'Marysville', 'wrapping', 'Quarterfinal', 'Jul-19-2015', 'FUTURA', 'Customers’', '5%', 'jan', 'Wordlesss', 'reserve', 'Comic', 'HAHAHA', 'Peres', 'articles', 'ragging', 'Secrets', '#turningpoint', 'closest', 'pic.twitter.com/dhEMOhOY34', '-Stays', 'Duki', '5TH', 'Gathering', '30%', 'stock', 'XPS', 'collection', 'Nice', 'premieres', 'Vanessa', '2005', 'extended', 'miaminewsnow', 'tty', 'du', 'Chevrolet', 'Highway', 'Bayon', 'recon', '(shit', 'Rican', '320,000', 'Duo', 'S.F.', 'RPed', 'jea', 'Mas', 'completed', 'headline', 'scenes', 'LaserDiscs', 'lancha', 'next', 'Baxter', 'kudos', 'times', 'Produced', '#PremierLeague', 'heavily', 'injured', 'GRATIS', '#navgk', 'surprisingly', 'Queenx', 'mariage', 'Sticks', 'KIN', '#Livestream', '#BUFvsPHI', 'silent', '#LateLate', 'Bigger', 'Quand', 'Orchard', 'rise', 'PROFIONAL', 'kalse', 'Festival', '21ST', 'o', '#amirite', 'loves', 'Nepal', 'Twenty', 'Cliona', 'ravens', '#nshit', 'STARTER', 'Democrats', 'cuisines', 'informing', 'sad', 'MOAR', 'unteachable', '#NIBevents', '#LFC', 'H-26', '#ncwx', 'vintage', 'Bring', \"/I'm\", 'Em', 'DKIM', 'disgusting', 'cood', 'Education', 'Wheres', 'Click', 'nooo', 'si', 'hehehe-ahh', 'Nfl', 'chimney', 'nail', '9:00', 'salary', '11/13/2015', \"tomorrow,I'll\", '10:47', '8/7c', 'Hassan', 'ETO', '#TSCEnt', 'Jailbroken', 'Alright', 'Nadadaan', 'hrd', 'stood', 'iced', '‘One', '#LDS', 'THESE', 'Barn', 'Charts', 'despise', 'Avast', 'protest', 'coming', '7:15', 'kickit', 'Bawi', 'linear', 'filed', 'yun', 'Norway', 'Preserve', 'NGA', 'Available', 'Prison', 'Maine', 'deteriorate', 'volunteering', 'scan', '#elsalvador', 'wiz', 'Sour', 'earlier', 'fdjvfdlkvjfdlkv', 'scheme', 'interview', 'postponement', 'GAGA', 'RSN', 'Bka', 'Sidney', 'Hashim', 'LisFX', 'floats', '41.0', 'were', '#DomesticExtremist', 'gallery', 'fry', 'keenam', 'ook', 'Whos', 'grail', '#psillprobsaythiseveryweek', 'Tueday', 'Niagara', 'Counting', 'Years', 'BenQ', 'rn', 'faculty/staff', 'dozen', 'Joyeux', '#breakingnews', 'Gelato', 'moonlight', '#Khatumo', 'Marvel', '1-10', ':]', 'plate', 'knife-edge', 'Controversial', 'CRASH', 'Approaches', 'blazing', 'selection', 'Staminus', 'Bentley', 'GRID', 'Eritrean', 'failli', 'ba', 'Bleeding', 'quick', 'Chic', 'TODAY', 'alone', '#VoteLeePaceVillain', 'Building', 'barbers', '#SundayFunday', '#kopen', 'ms0ra', 'Pau', 'Coin', '#RebelVizionz', 'brazos', 'nervous', 'Trips', 'type', 'droppin', 'forces', 'listings', 'most', 'tofu', '#SONNYGANTENG', 'Grand', 'gold', 'childhood', '#scary', 'quickly', 'JDEC', '#ridiculous', '70', 'Roma', 'omgomg', 'Mai', 'Redacted', 'S/o', 'abou', '3/7', 'maybe', 'words', 'Nieuws', 'Shan', 'rap', '#twitter', '05:20', 'fault', 'aqwe', '#LGProBake', '30-31', 'COD', 'Davis', 'Reivers', 'BQ', '#loveit', 'School', 'kurang', 'nails', 'ET', '#Ferguson', 'Symposium', 'AURIER', 'Girls', 'LONDON', 'WHY', 'foolish', 'cross', 'Fight', 'Baldwin', 'Scooter', 'sentenced', 'congrats', 'sins', 'cock', 'goggles', 'BLAMED', 'Deputy', 'aaj', 'nighters', '1dlovesoned', 'SHOUT', '#IranDealpic', 'gosh', 'HQ', 'Columbus', '#GreenvilleShooting', 'asthma', 'violating', 'Awful', '77', 'FUNday', 'national', 'komt', 'song', 'Mayan', 'Sending', 'Biographies', 'co-stars', 'newscasts', 'iv', 'Os', '3', 'shots', 'iz', '#Libras', 'Coupons', '107', 'SATURDAYS', 'worlds', 'Nanghiram', 'Yellow', 'hellish', 'Finance', 'CHELSEA', 'russel', 'Academy', 'chase', 'sake', 'golden', 'reminded', 'kicu', 'Wildcats', 'semua', 'wAIT', 'longtime', 'encore', 'passion', '&amp;', 'SJP', 'hei', 'website', 'continous', 'LOOKED', 'Servic', 'Unrelated', 'too', '7in', 'devil', \"How'd\", 'TALKING', \"C'EST\", 'magsspam', 'posible', \"gut'-Oh\", 'Milwaukee', 'necessary', 'KALSADA', '#RacingExtinction', '#Got1YearWithGOT7', 'profits', 'otherwise', 'ties', 'yr', '62-45', 'Guy', 'metal', 'Cosmopolitan', 'overtake', 'Brief', 'Text', 'purchasing', 'McEachran', 'Tomatoes', 'breaks', '#MCEOtalk', 'Pressure', 'engagement', 'COOLIN', 'naka', '#dope_as_yola', 'shudders', 'WAIT”', 'Montreal', 'Indian', '#IHeartPastillas', ')))))', 'Skills', 'issued', 'ash', 'ESSA', 'waypeople', 'nalang', '#CoachSarahAsTrixieABANGAN', 'cost', 'chiki', 'EuroVPS', 'funeral', 'Cranborne', 'elles', 'thinks', '5.0', 'ask', '#wvwx', 'revealing', 'Nevada', 'suportado', '#ChoiceSummerTVStarMale', 'Stage', 'Homecoming', 'natatakot', 'perfectly', '#sad', '#LadiesNight', 'shortribs', '#MCEOTalk', '#8221', 'pere', '#Hiring', 'Fan', 'Party', 'Jackson', 'Draghi', 'racist', '15-year-old', 'ROXPERIENCE', '07:27', '54kg', 'lifeline', 'CJR', 'porn', 'Barbara', 'hayfever/headcold/sinusinfection', 'gang', 'exited', 'tv', 'Pre-Market', 'Hatred', 'Visa', 'iadmit', 'older', \"d'maan\", 'Goodnight', 'Peringatan', '#OnceUponATime', '#Dailymotion', 'JAKE', 'leader', 'Bistro', 'oil', 'Bayern', 'Know', 'monstro', 'company', 'Android', '916.960', 'volgende', '—', 'SOURCE', 'Radiographers', 'mg', 'Tops', '#porno', 'lightbulb', 'ID', 'Stickwitu', 'location', 'Organizations', 'tomorrow(', 'craic', 'owns', 'though', 'Asked', '#beerandpizza', 'APO', 'Investment', 'webinar', '#bcafc', 'buckeye', 'auditions', '59925', 'Forbes', '#Royals', 'bragged', 'corridors', 'Teaser', 'MORE', 'Custom', 'Downey', 'personal', 'Groups', 'Dich', 'Oia', 'Tao', '#DragMatinee', 'Imaginez', 'Recent', 'e-mail', 'LGBT', 'Forex', 'badass', 'deffo', 'actions', 'Classing', 'UPDATES', 'poverty', '#WeLoveThatsMyBaes', 'k/w', 'Decovich', '#VoteLauraMarano', '15M)', 'Adult', 'MINUTES', '#BlackPrideWeekend', 'Convention', 'heel', '&', 'evenin', '68-37', 'ustheduo', 'everywhere', 'yeeah', 'Bawana', '[#LosAngelesWeather]', '#jets', 'On', 'Boxer', 'Salute', 'Soccer-Chilean', 'significantly', 'Gara-Gara', 'Week-End', 'SuperStar', 'Search', 'silencieux', 'reunite', 'Mongolian', 'bikinis', '#SMC', '#content', 'physicians', 'Daniel', 'uhun', 'Dec-24-2014', '#musicians', 'broad', 'FML', 'ypp', 'march', 'Ahhhh', 'KAYA', 'qualifiers', 'SAYA', '#Scott_Walker', '04:21', 'CRASHED', 'mineral', 'Conv', 'Titan', 'Cant', 'nationale', 'Wi-Fi', 'Burl', '10:33', 'gun', 'delivery', 'Boosts', 'sessions', 'melting', 'racism', 'Physics1998', 'thinking', 'ramener', 'Samar', '#PSYEnough', '7', '#SmartNews', 'shop/stall', 'Kinda', 'ASAP', 'duncan@', 'Craigs', 'lo', '!!!!!!!', 'intense', 'Sathya', 'TECNIQ', 'Pipeline', '105.5', '#data', 'Gonna', 'Sources', 'Lady', 'Halep', 'hell', 'Boosie', 'partys', 'Sheff', 'Simon', 'worthy', 'howtohustle.net', 'driven', 'Job-Hunting', 'Photos', '...&quot;', '#Cybercrime', 'Palisades', '#theepictour', 'Games', 'breath', 'Jenner', 'entrain', 'Virus', 'theaters', 'Workin', 'Deposit', '#90sBabies3', 'Holywell', 'Somehow', 'Cybermen', 'ANG', 'Buhari', 'bash', 'kapuso', 'comfort', '02:04', 'bumped', 'frightening', 'Replay', 'bulan', '#cams', '#Bangkok', 'Siaap', 'luckiest', 'pic.twitter.com/ge7SS1brsV', 'Charlotte', 'white', 'biddies', '3AA', 'gago', 'Time', '|1t1', 'hunt', 'convicts', '#TeenParty', 'bones', '138.89', '2014]', 'especial', '-Tu', 'dun', 'securit', 'wearing', 'costard', '#livemusic', 'MH370', 'Cascades-WA', 'follows', 'demuss', '#Markets', '#PassionParties', 'WELLNESS-', 'California', 'year)', 'Rea', 'generation', 'robert', 'grades', 'Role', 'tossing', 'stetch', '#Collier', 'HICKORY', 'Arthur', 'Rally', '41', 'Jnr', 'PRISCILLA', 'Triple', 'stelly', 'brat', 'huli', 'in-to', 'ugh', 'z', 'Greetings', 'Houston', 'yeah~', 'Conflicts', 'opinion', '?,', 'Future', 'cet', '1am', '11Am', 'corrupt', 'shown', 'Pacquiao', 'Maxxx', 'CD', 'Steal', 'Society', 'ahhhhh', 'STALKS', 'jawab', 'Financial', 'kik', 'A', 'Food', 'Close)is', '#WCSSBOG12', 'Paris', 'Eau', 'worries', '#EdMemphis', 'Gaon', 'production', 'seek', 'TAMIS', 'alderwood', 'santa', '#MusteredLady', 'listen', '#ZodiacFacts', '20-year', 'Baltimore', '2-', 'Amir', 'awesome', 'info', 'actually', 'Jalouse', 'single/3rd', 'Beat', 'Casitas', 'July', 'habbit', '#MadeInTheAm', 'StyleSOMADaily', 'uncalled', 'WIB', 'Popular', 'Subaru', 'Unit', 'Leave', 'GAGO', 'tears', 'expensive', 'kamila', 'beb', 'mens', 'center', 'JUST', 'HouseTonight', 'Abroad', 'DO', '#ThomasJefferson', 'NY', 'wag', 'Tribune', 'entire', '41-9', 'Boise', 'FUCKKKK', 'USM', 'hire', 'come', 'Modi', '#ImRulingMyselfOut', 'joden', 'output', 'Mote', 'guest', 'Twickenham', 'ju', 'Used', 'JARDIN', 'Sergey', 'Bama', 'Proverbs', 'FiNaLlY', 'twitter', 'prosperity', 'Gilmore', 'Works', 'Alliance', 'Pilchuck', '#NXTTakeOver', 'Adams', 'There', '#BHAvAFC', 'Playing', 'understand', 'One', 'Chelsea', '#packers', 'pecs', 'after', 'Wheels', 'YOUR', 'thanks', '8====', 'Trance', 'Gym', '#boxing', 'Treads', 'tinaya', 'ay', '44-0', 'Cam', 'acribillan', '#afrezza', 'Just', 'clowns', '#PrayForPilchuck', 'Pinaka', 'VESSEL', 'plays', 'CET', 'Hah', 'habit', 'Champ', 'medical', '25%', 'Bon', 'Goulburn', 'EDT', 'Mis', 'pre', 'motel', 'Fathers', 'pic.twitter.com/55kIs5RQlg', '#RT', \"T'ES\", 'chance', 'nl', 'Johnny', 'kept', 'managed', 'areas', 'ACF', '#Tumblr', 'Ridge', 'x', '#npevent', 'MAKONNEN', 'Yesss', 'moi', 'blown', 'Princesses', 'CALI', 'Lasallian', '#anal', 'Door', 'WWE', 'iS', 'murder/shooting/att', 'Oregon', 'Psychiatry', 'Domestic', 'understamd', '11/17/2015', 'talented', 'devastating', 'plancha', 'dylanr013', 'fucked', 'bvlgari', 'hazza', 'Mrs', 'Swagger/Kofi', 'Arsenal', 'Unlimited', '????.', 'PALA', 'salle', 'Grosse', 'Arlington', 'cops', 'bridge', 'pre-budget', 'woot', 'iiqht', '9-0', 'Hey', '#DDoSAttack', 'null', 'alejo', 'iPhone4', 'forr', 'takleh', 'Enjoying', 'cos', 'Railroad', '#OnlineMedia', 'LM', 'near', 'BooksOfTheGardener', 'immigration', 'highest', 'stoop', '8-10pm', 'yaoihandspom', 'Bond', 'glist', 'Metallurgy', 'Peaks', 'yeah3x', '#Price', 'cancels', 'mamaya', 'hatred', 'conduction', '#WonderGirls', 'Does', 'Standings', 'Seeing', 'Rubik', 'St', 'sooooooooo', 'spoiled', 'rentals', '#rt', 'Custody', 'prevented', 'France', 'Zarith', 'avail', 'dangerous', 'Kashamu', 'fun', 'Faust', \"G'mar\", 'bigger', 'errors', 'ZenDesk', 'hirap', \"Beat':\", 'Ta', 'Duty', '#FOOD', 'PinkTaem', 'boto', 'crop', 'SUMMER', 'anonymous', 'Assignment', 'secretly', '_9ems', 'flipper', '#IOWAvsISU', 'maine', 'Zionist', 'remote', 'To', 'DAILY', '66', 'El-Rufai', 'Otherwise', 'salut', 'Wasteland', 'box', 'thrill', '#NiceSong', 'KAGINA', '#BeatPikeview', 'w/', '#SoulTech', 'RATINGS', 'INSPIRITS', 'id', 'BEST', 'nkatulog', 'Renta', 'spa', 'Ignatius', 'maka', 'wronged', 'capaz', 'Those', 'AGO', 'forgive', 'Stetson', '#nowheremoment', '07:48', 'Unpacked', 'gametime', 'Pump', 'berantem', 'ReadySetGo', 'Walking', 'KNEW', 'JIM', 'Battery=48%', 'hour-long', '#farmcommunitynetwork', 'IN', '#SoftLightBrown', 'toute', 'Spieth', 'Welcome', 'Veeeeeery', 'brum', 'actualizados', 'Brad', 'copy', '#showcase', 'yaron', '#TECH', 'generating', 'Solar', 'Amenabar', 'happen', 'wicket', 'recall', 'WN', 'Team', 'cuts', 'nu', 'CONSOLIDA', 'TN', 'exploring', 'sixer', 'OPPOSITE', '#werunasone', 'empire', '14,000', 'Drycleaners', 'Giddings', 'My', 'Aaj', 'CCSO', 'flirting', '#9989', 'sarili', 'niet', 'Emanuel', '3/27/15', 'remembered', 'pronunciation', 'Gerry', 'Balloons', 'Gwinnett', 'dishes', '#FailBuhari', 'NYT', 'Suspect', 'SERIES', 'transfer', 'worked', 'despite', 'Masterclass', 'NIEL', 'Asante', 'LUNGKOT', 'ver', 'Defeating', 'newspaper', 'Virgos', 'Worker', 'capture', '20k', '#WheelsUpTour', 'Mock', 'purveyor', 'Dorado', 'Thou', 'ducking', 'sebagai', 'Ask', 'Capri-sun', 'Vicki', 'les', '-The', 'concept', 'Sony', '#brand', 'AH', 'c19', '10:00', 'Easter', 'apparent', 'tanggung', 'wishes', 'lung', '#INA', 'early', 'pulled', 'Too', 'AN', 'begins', 'hes', 'Maa', 'adn', 'het', '#MCRchat', '#PrayforLA', 'received', 'Rarity', 'Dues', 'scrub', 'anything', 'pic.twitter.com/L44JqerEuL', 'Az', 'b/c', 'stats', 'w\\\\the', 'lawn', '#infose…', 'Peters', 'pic.twitter.com/O1af3ukdAK', 'railroad', '#NWA', 'Wedo', 'resting', 'sabko', 'Prem', \"Baby'...Even\", 'coast', 'looking', 'con', 'Havent', 'aiding', '1997', 'knocks', 'flier', 'Page', 'instead', 'Parcialmente', '#HBDBarunSobti', '9:14', 'TIKI', 'Mayflower', '400K', 'equipped', '#S', 'pitches', '1st', '#sex', 'coworkers', 'Subbo', 'Surely', 'PANDESAL', 'Ca', 'Herbivore', 'ufc', 'Region', 'Itulog', 'Inc', 'sali', 'stressful', 'toch', '6pm', 'minggunya', 'QUE', 'Soldiers', 'BO', 'custody', '#App', 'Carol', 'git', 'mucho', 'touring', 'south', 'Gunman', 'Knighttime', 'long', 'RE*TWEET', 'day', 'Breaking', 'experience', 'hunk', 'grows', 'BLOGGER', 'bloody', '#MayPac', 'wooooo', '300,000', 'Trixie', 'Graniteville', 'Badminton', 'nde', 'Camp', 'Necklace', '#CLASAPRESENTS', 'leonard', 'Junction', '#Sacramento', 'Ohio', 'maar', 'Selma', 'the', '\"', 'kailan', 'Equinox', 'retrial', '142nd', '#Trap', 'encouraged', 'picked', 'confront', '-cnnphilippines', 'life', 'Smhhhhh', '90', '#LONDON', 'ya#', 'Paramore', 'betting', 'nerd', 'comn', '#RevelryRoom', '#TalkTalk', 'splendidly', 'Won', 'Johannesburg', 'nath', 'LIT', 'matters', 'tally', 'Texts', 'pit', 'chose', 'menemukan', 'singing', 'Affected', 'Karen', 'Dejavu', 'Louisa', 'angeschrieben', 'CherryZenz', 'belly', '#constantcontact', '#doctorwhochristmas', 'Salesian', 'cheskunnadu', 'THiS', 'scrapbooking', 'DM', 'surplus', 'traumatised', 'Zinfandel', '6:16', 'disrupted', 'yip', 'QUAND', \"don'...\", 'Awarded', 'Lago', 'Scripps', '41-33', 'dropdown', 'casualties', 'Rica', 'malade', \"we'd\", 'Football', 'thx', 'condition', 'Brennan', 'Fulham', 'Bone', '#ReligionOfPeace', 'PARAWHORES', 'centers', 'Bottoms', 'Mashable', 'Penis', '#SunsVsMavs', 'PvP', 'indiegogo', 'Princess', 'De', 'wit', '.twitter.com/sZpKqQL8aa', 'i`ll', '#prelimsweek', 'dapatkan', 'Honey', 'Alison', 'Angels', \"'\", 'Launches', 'dosnt', 'incommun', 'Olympics', 'IZ', 'Luxury', 'RISER', 'Burrows', 'stopping', 'rpt', 'satu', 'Followed', 'truth', 'moderation', 'significant', 'oldskool', 'Manusia', 'iPad', 'calling', 'likely', '?.....', 'gurl', 'accused', '$150', 'bles', '#VSI', 'bare', 'kok', 'walang', 'Isis', 'play', 'conoce', 'Early', '#KathrynBernardoTheMMKComeback', 'post5sdf', 'Beginning', 'Allah', 'stage', '$AAPL', 'WATEROROOF', 'Okay', 'rover.ebay.com/rover/1/711-53200-19255-0/1?ff3', 'Nov', 'JaDineLoveteam', 'large', 'Leader', 'Were', '4.5', 'Bono', 'rice', 'Ya', 'roast', 'pony', 'Salamat', 'hingga', 'Viola', 'CK', 'kep', 'akala', '1.30', '934-3', 'trin', 'Its', '30,000', 'Liverpool', 'mean', 'go', 'heartbroken', 'makapagtweTWEET', 'FAR', 'spot', 'Spicoli', '04:27', 'nanti', 'pendakian', 'weeks-', 'upwards', 'GV', 'Ustream', 'bore', 'sadyang', 'MaiDen', 'NW', '#TeenChoice', 'high-speed', 'tuned', 'Lounge', '#DodgersVsMets', 'ENGLAND', 'midfielder', '#february', 'Fridays', \"haven't\", 'Bishop', 'Copenhagen', 'Signals', 'BOKO', 'disagree', 'nightclub', 'question', '#WTFFOAMPARTY', 'Media', 'Landry', 'Shout', 'Adulting', '#DiscoverOurEnergy', 'JOKE', 'beschikbaar', 'seamless', 'Shaw', 'amp', '8Rinks', 'Trip', 'at-your', '#TheRollingStones', '#geelong', 'Mirren', 'FEE', 'Sayang', 'Niro', 'consoltation', 'Jesus', 'shades', 'Improperly', 'Uwian', 'Gilbert', 'nuke', 'styling', 'Sta', 'Whoever', '10/10', 'amplas', 'BG', '#tadic', '3mos', '3lelaki', 'ibe', 'Point', '*Boston*', 'IMAGEM', 'Kuwait-born', '02:50', 'research', 'Tough', 'Saylorsburg', '30g', 'Proly', 'Jessum', 'ships', 'Niall', 'Year', 'points', 'Thank', '#northpark', 'Russian', 'winner', 'amporafest', 'KLH', 'timeline', 'Periscope', 'totally', 'hmm', '#ATeenageThought', 'Remembering', 'private', 'sexy', 'superbowl', '6-0', 'Wednesdays', '7.4', 'spoil', 'Ke2', 'experts', 'Pageant', 'booze', 'hook-up', 'woohoo', \"n't\", 'inverness', 'kitkat', 'Grille', 'film', 'dat', 'Lleida', '150114', 'congratulated', 'glad', 'Natomas-area', '#magic', '#softballready', '#RUWR', 'eu', 'tickets', 'Cara', 'expressed', 'BAC', 'Dean', 'Daren', 'Photographer', 'someones', 'Gala', 'Correct', 'climate', 'CBS-TV', 'commit', 'several', 'tae', '#interesting', 'drapeau', 'Suspends', '8:45', 'Iranian', 'prize', 'Deen-e-Hayat', 'PART', 'corner', 'blogger', 'UCLA', 'LEGENDARY/NOVELTIES', 'Summer)', 'makati', 'MOTHER', 'nab', 'Scott', 'provide', 'Tarik', 'Tall', '4.45', 'drug', 'Mothers', 'Teachers', 'Scratched', 'EVEN', 'MISERABLE', 'Rich', 'nx', 'Trans-Air', 'gunfire', 'NOPD', 'xxxxxx', 'sends', 'Abe', 'RANK', 'Parkville', '#Hiphop', 'Manhattan', '12/16', 'kathcakeees26', 'Spark', 'Magandang', 'mengajari', 'Informer', 'assuming', '22', 'muchachos', 'Ferrari', 'cure', 'telah', 'ranged', 'Redi', 'Ada', 'Lingerie', 'Complimentary', 'witty', 'votants', 'Lagosians', '”so', 'appendix', '#jersey', \"wouldn't\", 'crier', 'fig', 'dresses', 'UMAGA', 'Resort', '#newcomicday', '.twitter.com/JPnbvuFR8X', 'AK', 'flood', 'Revealed', 'fil-a', 'examinations', 'Utilizing', 'Snapchat', 'kiffer', 'Mukhang', 'Young', 'PARIS', '#Kershaw', 'Alsina', 'sariga', 'TONE', 'quasi-AHL', 'Nick', 'Ladder', 'Upper', '30k', 'just', 'consider', 'Electro', 'payments', '#NewOrleans', '#DiscountCodes', 'bolido123', 'Commission', 'chevre', 'tumblring', 'buwan', 'putting', 'Register', 'ACM', 'Father', 'About', 'modern', 'peaches', '13:59', 'Fellow', 'llista', '10TV', 'chief', 'swear', 'glory', '#Armon', ':', 'sedih', 'Eroplanong', 'favorite', 'Blood', 'tumblr', 'Rant', '*wakes', 'halloween', 'pleurer', 'D.C.', 'Travelling', 'Almost', 'tany', 'weigh', 'MsGuxx', 'Zennie62', 'showtime', '#Fedex', 'Primal', 'Yassss', 'pleased', 'KOMENTAR', '8', 'puddings', 'Some', '#Hack', '#lushy', \"WHO'S\", '#lilnigga', 'cassie', 'lmfaoo', '#flexiSched', 'count', 'Biker', '#aggy', '#SATURDAY', 'Daysary', 'cap', 'uncertain', 'Thru', 'Moz', 'yours', '#PSYTaguan', 'Jan-3-2016', 'MAKE', '#Mirage', 'Enslaved', 'Drakes', 'TVD', '#atheism', 'feelings', 'Friday', 'VALLA', 'oswego', 'Shange', 'tongue', 'ko', 'unknown', 'brush', 'SK2', 'concerns', 'lupa', 'yuck', 'Rs1000Gocash', 'Penny', 'Mio', 'potential', 'Weezy', 'Suggests', '4D', 'Searing', 'evg', 'c', 'el', 'Halt', 'investigation', 'samples', 'Thunderpussy', 'BAE', 'PussyY', 'Barometric', 'WE', 'sixteen', 'hasta', 'CAMERON', 'mags', '#XFactorENT', '#Science', 'kan', 'guiseeeee', 'picture', 'yeeee', 'Curious', 'Avocado', 'Cameron', 'Obama', 'TGI', 'SUFFER', '#Webcase', 'yupp', 'thoughtfully', 'feed', '0.00', 'University', 'sunny', '12:04', 'Paradym', 'News2', 'Mag', 'aircraft', 'allowed', 'Jan-Aug', 'salita', 'leak/security', 'HAPPY', 'Penutupan', 'Line', 'viendo', 'county', '#BERTENGGER', 'shoulder', 'MOTD', '.twitter.com/jKKtBBi8VF', 'vofetr', 'Studios', 'tem', '#pow#pow#pow@Cowboy_Wingo', 'ulema', '#shot', '#asian', 'ng', 'lightened', 'stirs', 'TheJewelryGirlsPlace', 'Tailgate', '05:18', 'PM-', 'Barack', 'otw', 'Guardian', 'Anthem', 'Combo', 'vice', '12th', 'memorize', 'sen_kamo_jp', 'dieu', 'twenty-four', 'hazy', 'Engine', 'ATTEND', 'Should', 'Wala', 'Cheryl', 'sadly', 'hahahah', '#RobertHooper', 'policisté', '#ColoradoSpringsShooting', 'NAPAPAGOD', 'Blackberry', 'tiroteo', 'Scammers', '#affiliatemarketing', 'lecture', 'Microsoft', 'sunrise', '#WRC', '#Wolvega', 'reported', 'hockey', 'unfortunately', 'websites', '#Texas', 'IT)', 'Darts', 'ngayon', 'miran', '#CamTo4Mill', 'Russia’s', 'cours', 'hula', 'Rabu', 'qassin', 'Russell', 'Fourth', '#btv', '#Horror', 'available', '#ALDUBTrust', 'Confirmed', 'Mouth', 'Aloha', 'blizzard', 'Florespic', 'ONLY', 'lmaoo', 'Junior', 'SulahShauchalay', 'smoothie', 'Memorable', '03:08', 'timeplay', 'Stein', 'Michalle', 'Powell', '-)/', 'fountainhead', 'headed', 'parle', 'Black', 'ass**sneezes', 'Victor', 'beau', '#Trance', '#DetroitPublicTelevision', 'marysville', 'art', 'Arasiyal', 'tout', '#snorkeling', 'Score', 'Dolls', 'kalau', '#NYEatQUAD', 'Church', '200', '#Hottest', 'Warfare', '|', 'FINALLY', ';-)', 'Bernardino', 'species', 'stuck', 'exists', 'xhe', 'Walls', 'BuhBYYYYYE', 'homage', 'temped', 'dank', 'installed', 'BREACH', '07:07', 'Joy', 'kpop', '#Capricorn', '#ObamacareFail', 'Roman', '401SO', 'ADDED', 'Instant', 'roll', 'Saturday', 'internet', 'three', 'Joos', 'Long', 'drizzle', 'reluctant', 'blood', 'foggy', 'SARILI', 'Michaelis', 'Packaging', 'sail', 'head', '|LIVE', 'hoje', 'fared', 'cotton', 'Wap', '#FCBihor', 'walls', 'NYR', 'Highrollers', 'cunts', 'sexuelle', 'POSTPONED', 'bailing', 'EBL', 'MERS', 'pussy', 'spilled', 'dominates', 'Delaware', 'allowing', 'guud', 'cafeteria', 'Morton', 'akong', 'Sean', '26-27', 'theycame', 'inna', 'Drama', 'Lolita', 'couples', 'PCWrld', '#Juneteenth', 'feet', 'Choosy', '18:53', 'Goodness', '#tits', 'Duh', '/10', 'Presentation', 'SHOW', 'kami', 'BEA', '#travel', '#healthIT', 'ELEGANT', 'Commissioner', 'Parker', '09:36', 'people', 'polls', 'UFM', 'Angeles', 'birth', 'anniversary', '#indiedev', '100s', 'jedno', 'NDTV', '#SFO', 'outta', 'luna', 'enuf', 'Kongers', 'detail', '11:00', 'highway', '#dwts', 'sacrifices', 'Flame', 'Tell', 'CUTE', '+or-', 'MAP', 'advertisements', '#TRC2015', 'us', 'SO', 'definitely', 'anaconda', 'Mason', 'Xx', 'BLAST', 'BAKIT', 'content', '#DFS', 'Cisco', 'T4G', 'magazine', 'freshies', 'FUN', 'One-day', 'Deacon', 'regret', '#7882', '#IamWithOddEven', 'dalo', 'option', 'alreadyyyy', 'juiced', 'THOGHT', 'zoom', 'C.J.', 'NZST)', 'Brendan', 'PHX', 'keras', 'ENTRY', 'AMBU', '1960', 'Pictures', 'charge', 'Wireless', '#OTWOL3rdTeaser', 'withdrawal', '#NOSBRocks', 'string', 'ir', 'Penampilan', 'Omg', 'Bussey', 'Clarke', '19-year-old', 'sent', 'Speech', 'Sauipe', 'AGUANT', 'officials', '#Steelers', 'Face', 'Shut', '86', 'Several', 'recuerdo', 'T-Mobile', 'APRIL', 'starts', 'sees', 'economy', 'generates', '#MediaSponsor', 'Handle]', 'Belgie', 'audio', 'Poor', 'anymore', 'weight', 'pm-', 'date', 'plenty', 'EGX', 'wanting', 'MetroPCS', 'terre', 'Ibiza', 'SILENCING', 'Limerick', '*BBM', 'who', 'understatement', 'Bradham', 'listenin', 'Stoked', 'kukuhanan', 'grumpy', '192.168', 'Radar', '(@mkngmvs', 'HHH', 'oasis', 'Pensiun', 'Bonus', 'estudyanteng', 'T10', 'DD', 'tackle', 'Harmony', 'Cyber-Ark', 'DONATED', '#31DBBB', 'beans', 'acostumou', 'LINKS', 'ipad', 'Fredrik', 'difficult', 'tune', '0-1', 'hani', 'berthing', ':p', 'Dallas', 'Previews', 'pic.twitter.com/zNxJiOwKdS', 'Stone', 'space', 'AVANT', 'checked', 'Maunalua', 'sayang', 'rebel', 'inabutan', 'INZ', 'PAPERS', 'Ol', 'grade', '#Misunderstood', 'SK-II', 'orbit', '1:00', 'KAYONG', 'Perfume', 'DAY', 'Dennis', 'anong', '#please', 'Sciences', 'dick', '356', 'downfall', '#LEMANS', 'Contacting', 'bonfire', 'JONES', 'murders', 'Genie', '150.00', '#KowboyKandy', \"'s\", 'rachelkaye7', 'cette', 'Informatics', 'CHICKEN', '!!!!!!!!!!!!!!!!!!!', 'fight', 'Inga', 'BAD', 'données', 'menu', 'FOLLOWD', 'attention', '#MGWV', '*N*I*K*K*I*', 'Ashton', 'Cary', 'deja', 'maais', 'smack', 'Hathaway', '#iahsfb', '#lovekillarney', 'Beyonce', '..!', 'Blazes', 'insolente', 'Diperkukuh', 'Nate', 'sums', 'Viera', 'app', 'Kacian', 'Charice', 'amen', 'x1x_ne_x1x', 'Welp', 'ASPCA', 'girls', '33733', 'Waay', 'butter', 'traffic', 'M88', 'Site', 'diff', '19/06', 'Projects', 'eighty', 'Resources', 'W/', 'argue', 'users', 'nyti', 'relationship', 'Kadrey', 'penis', '#Speech', 'whatnot', 'hype', '#FlavaFridays', '#AILYSDisplaced', '#FreebieFriday', 'LETS', '#News', 'New-home', 'Amazing', 'HAWAII', 'RIP', 'pinaramdam', 'overshadow', 'Swedish', 'es', '#3', 'Tick', '$500', '#Zendesk', 'annual', 'Laura', 'language', 'shining', 'thirsty', 'malla', 'paying', 'BURBANK', 'Ford', '#SouthernTrains', 'forecast', 'atheists', 'Pep', 'MERCI', 'DEVAL', 'gifts', 'Ahaha', 'Pumpkins', 'Math', 'Webinar', 'nearly', 'stunned', 'kann', 'innovative', '#RaceYourFriends', 'queens', 'Visit', 'holy', 'refund', 'Skate', 'mat', 'Earlier', 'Humidity', 'Ads', 'level', 'Deals', 'LMEILLEUR', 'Thug', '!...', 'our', 'Sara', 'Mayweathe', 'MOD', 'Chetan', 'POWER1051', 'http://', 'Seahawk', 'kev', 'Baveh', 'APLE', '#Worldwide', 'Slides', 'Captured', 'masterclass', 'Sana', '#PHOTOS', 'PU', 'QB', '#BattlestarGalactica', 'LoveTrain', 'win', 'Benjamin', 'Consider', 'THAT', \"Won't\", 'Guard', 'goers', 'million', 'SoPher', 'Thts', 'Cyrus', '#lightitup', 'DeAndre', 'Wolves', 'BR', 'Continues', 'cont', 'NBC', 'amazement', '#Retweet', 'MHC', '11-', 'dentist', '#carodeo', '#prayers', 'wagon', 'Shreveport', '#MissUniverse2015', 'ourselves', 'avicii', '?\"\\'', 'IM', '#CriticalRole', 'Youssef', '#ALDUBToSeeYouAgain', '#6', 'picturesque', 'Human', 'wiith', \"147'\", '#DRYakap', 'sainyo', 'Forsyth', 'yuk', 'BARCA', 'AEG', '#YnysMon', 'whistles', 'trending', 'ps', 'Tango', 'Vibes', 'Inkigayo', 'spray', 'GPS', '#Oddities', 'taz', 'High', 'HS', '#Crash', 'Pregnant', 'manager', 'defamation', 'Oklahoma', 'delicious', 'Videsh', 'load', 'SHOOTERS', 'networking', '07:03', 'Photography]', 'Poems', 'ratins', 'chosen', '01:48', '(@PaigeLouiseRyan', 'breach', 'Toomey', 'Breakfast', 'shooters', 'kakaiba', 'Where', 'Magcoconcert', 'candidate', 'THANKYOU', 'English', '07:11', 'Tomarrow', '..........', 'diaries', '#happybirthdaymichael', 'anna', 'Sausage', 'TUMBLR', 'bruikbare', 'Financiele', 'wild', 'grande', '#flhsfb', 'China’s', 'MONDAY', '#Soccer', 'tard', \"T'as\", 'Philippines', 'hoping', 'Menu', 'terrifying', 'frank', 'shoutout', 'siyang', 'Sharam', 'religious', '#CloseFcps', 'ILLNESS', 'Heatwave', 'mesmo', 'takeout', '912', 'distinctly', 'malah', 'Parti', 'viewers', 'dann', 'fish', '$', '78', 'banjo', 'LG', 'Inter', '12:44', 'assole', '#KamikKids', 'Clots', 'Jasmin', '#jobsearch', 'presentaties', 'Photograph', 'sneak', 'breached', 'Naniniwala', 'Emma', 'FH', 'IRRIRATED', 'cleared', 'ngakak', 'Woohoo', 'Missyou', 'ha', 'Sen', '#RadioNightItaly', 'sharks', 'draft', 'Brunei', 'Feelings', '30stm', 'deadly', 'glasses', 'et', 'during', '#5', 'Individuals', 'Ka', 'depressed', 'Start', 'works', 'Sex', 'education', 'clubhouse', 'Sorry', 'presentation', 'everyone', 'kaden', 'LIVING', 'Patchogue)', 'Amendments', 'tipong', 'Force…', 'Villanueva', 'exposes', 'explanation', 'you}', '#duellumdiewelt', 'vehicle', 'TAE', '\\\\', 'Me', 'Status', 'Woah', '#Voom', 'W/Rachel', 'piano', 'mode', '#PSYLabanNiYna', 'envie', 'Sequence', '#Astros', 'black', 'chipotle', 'Culoe', 'act)', 'tulong', 'simply', 'track', 'FORGET', 'dinnn', 'SOCCERCARD', 'browser', 'w/towering', 'Danger', 'Nov-2', 'Said', 'LATE', 'delete', '......', 'Friendly', 'characterize', 'Nak', 'entertaining', 'Quick', 'artboard', 'porch', \"How're\", 'Glimpse', 'Races', 'teasers', '#20ThingsIWantFor2015', '1:43', 'Freestyle', 'thinkprogresspic.twitter.com/N29q8gCZAr', 'Residents', '#WedemBoyz', 'ointment', 'options', 'Avian', 'Anush', 'Marysville-Pilchuck', '#eqnz', '#movieawards', 'spirit', 'Lofoten', 'languages', 'Hardwood', 'Forecast', 'Kasablanca', 'DISCOVERY', '04:46', 'bluebells', 'Through', 'serious', '#TCOT', 'CBIOT', 'Reflections', 'markets', 'khulay', '05:48', 'skimp', 'aam', '10th', 'squader', 'rajdeep', 'he', '#DAY6', '$150/day', 'seuls', '#invest', 'Camino', 'COMING', 'joy', 'Advanced', '#Kick2', 'Takin', 'public', 'cite', 'Belgium', 'funky', 'testing', 'York', 'mirror', 'die', 'Jobs', 'flight', ',?', '#monday', 'Faris', 'Stuff', 'penulis', 'espagnol', 'information', '!!!!!!!!', 'C', 'Court', 'luck', 'jalanmu', 'justt', 'Geoc', '$119', 'SW', 'recommends', 'orders', \"l'application\", 'MSU', 'Leftovers', ';d', 'You]', 'Churches', 'during/before', 'Recently', 'fais', 'Past', 'yard', 'believed', 'Anybody', 'mankind', 'Kanye', 'Ifani', 'mmm', 'COMEBACK', '#feedly', '#icky', '“@FOX29philly', 'Nods', '26th', 'john', '#twitchshare', 'mins', 'coupl', 'PESAWAR', '...:', '#Soba', 'DL3', 'dreamer/but', 'Gregorian', 'cmtte', 'titty', 'Soundcloud', 'ineedpromo@starstruckpromo', 'Tasty', 'Gadget', 'canny', '2ND', 'nararamdaman', 'woaahh', 'ANNIV', '#nerium', 'tap', '11.21', '#FindTheNearestExit', 'Dodgers', 'SCOTTY', 'hug', 'featured', 'edit', 'LOW', 'gig', 'Poetry', 'flavors', 'advancement', 'cameltoe', '10-0', 'nya', 'WEDNESDAY', 'Indianapolis', 'mag', 'WAKE', 'facts', 'Reach', '#SanBernadino', 'N.L.', 'confirms', 'Senin', 'ive', 'Aqa', 'prerecording', 'genius', '#WIN', 'apples', 'fighting', 'McDonald', 'Inland', 'expected', 'DOING', 'lauren', 'Credit', 'wachten', 'Dillion', '6282756051', 'albums', 'apartment', 'BC59DA8', 'Stockholm', 'luv', 'suree', 'chasin', 'height', 'Jermaine', 'yesss', '7:14', 'showcased', 'nighttttt', 'ASIATICO', '#NYIvsDAL', 'smacked', 'Staffordshire', 'akomg', 'Holy', 'preview', 'As', 'Animal', '#hopeyouareok', 'Kathie', 'Ramadan', 'ev', 'dynamite', '13', 'jobs', '35.1', 'feature', '#s8', 'nature', 'Denver-area', '#Dec26th', 'Filthy', '#inspiration', 'hain', 'COOKIE', 'sports', 'solve', 'Saraki', 'HAIRY', '[', 'Ctto', 'Spicewood', '#Freight', 'Gunmen', 'gav', 'Wings', 'glowing', 'Oxford', 'perception', '#Comcast', 'Carter', 'Cassper', 'hats', 'holidays', 'political', 'party', 'tomorrow-Sunday', 'constantly', 'Genesis', 'locations', 'apologise', 'bid', 'Totally', 'ouvrage', 'BUT', 'paranormal', 'Mother', 'Merci', 'Marie-Claire', '#JOEGIFTED', '#Eritrea', 'shine', 'GGV', 'meinem', '03:41', 'dull', '#online', \"'!!!\", 'podia', 'bye', 'preserving', 'pussys', 'passer', 'biomass', 'jim50', 'hey', 'Funds', 'Killers', 'midterms', '**Vintage', 'PAANO', 'Hope', 'sprints', 'Joins', 'PUNJAB', 'watering', 'Meds', 'felt', 'prince', 'Thinking', 'attending', '#CelineDion', 'papalitan', 'non-cancerous', 'released', '#benzene', 'Losses', 'Jigawa', 'Co-ass', 'XK8', 'JaDine', 'tryout', 'some', 'Goin', 'SUM', 'jalur', 'Ex-Dividend', 'Bulldogs', 'Patients’', 'IZM', 'Techland', 'choices', '#NASCAR', 'second-line', 'Though', '^^', 'apos', 'CHEVY', 'Vordingborg', 'magselos', 'viciados', '4-1', '#Jacqueline', 'wants', 'Kirkwood', 'PERIOD', \"aren't?\", 'MAIL', 'Toy', 'SU-34', 'Mabuhay', 'meeting', '#Ryerson', 'Cathedral', 'snoop', '2,000', '8am', 'WLDS-TV', 'Maccabees', 'taken', 'half', 'Issue', 'Suisse', 'beer', '#photography', 'idea', 'fit', 'destroyer', 'MY', 'Uni', 'Cocaine', 'pire', 'warms', '*inserts', 'Filipino', 'gains', 'proceed', 'MISSING', 'skating', 'Glee', 'begonnen', 'following', '#marksanchez', '%20', '#bbcaq', 'costs', 'vind', 'Leggings', 'Gold', 'Spaces', 'LA-area', 'Here', 'Continuing', 'way', 'influenza', 'bigbucksonline', 'makin', '#adirondacks', 'Etc', 'Exodus', 'Elgin', 'muscle', \"d'espoir\", 'perseverance', 'mosaic', 'myspace', '!:', '#Canucks', '08:12', 'Safe', 'enough', 'downloads', '09:58', 'trave', 'Bakit', 'soars', 'speak', 'Called', 're', 'Staffing', 'gsd', 'importing', 'soo', 'ends', 'creative', 'il', '6:41', '#Vote1DUK', 'retrouve', 'butterflies', 'FASTER', '#WALKOFF', '#Wholesale', '4:42', 'stillspoopingforspook', 'prospects', 'Tova', '#ProudOfLouis', 'Labels', 'Late', '#Drugs', 'somewhere', 'nt', '8th', 'circle', 'Crocs', 'Cullen', 'object', 'Protests', 'Anyways', 'scented', 'contentious', 'let', 'peed', '6.49', 'ki', 'niya', '5PM', 'sweet', '12:22', \"would've\", '29th', 'career', 'often', 'Baabda', 'barriers', 'Bartleson', 'kennels', 'babay', 'ASU', 'Bloomberg', 'Consumers', 'note', 'qtr', 'fxck', 'FOR', '18+', 'product', '#ExpelledMovieToNumberOne', 'gentlemen', 'problema', 'TALAGA', 'Mir', 'dear', '...?', 'pleure', 'Faculty', 'Milford', '&amp;omg', 'Lien', 'Mid-Week', 'wanna', 'saving', 'infidelity', '#dad', '#INFINITE_EFFECT', 'CMA', 'beauty', 'Liars', '#Sheffield', 'bus', 'org', 'shortages', '#Rijnmond', 'Unremarkable', 'Haines', 'ESPN2', 'onwards', 'AUTHENTIC', 'hopefully', 'selena', 'lighter', 'interest', 'should', '04:18', 'existed', 'bacam', '129', \"can't...\", 'Ko', 'amat', 'Big', 'travel', 'Switzerland', 'quoting', 'strikes', 'Nina', 'Cases', '#allteensthings', 'ZEKEY', 'lose', 'Subway', 'international', '#FridayThe13th', 'it', 'INDONESIA', '#santafe', 'handed', 'avait', 'Sports', 'Guess', 'evn', 'concealer', '-123', 'ight', 'contest', 'Seymour', 'semester', 'freckley', 'fastest', 'florence', 'Work', 'Using', 'Profile', 'Carroll', 'scale', 'manila', 'Oor', '#vote5sos', 'dump', 'charred', '#MyReconciliationIncludes', 'hands', 'Third', 'BNO', \"J'ai\", 'Huhn', 'Well-funded', 'history', 'subscribe', 'riding', 'Scam', 'Dupri', 'boilers', 'fatally', 'Lots', 'ratification', '118', 'rarely', 'masyadong', '#SingleReleaseParty', 'moment', 'city', 'Logs', 'device', 'PARK', 'RSVP', 'IE', 'Gidley', 'Aberdeen', 'HEARD', 'iOS', 'DeKalb', 'cream', 'murder', 'NOT', 'Makati', 'autocomplete', 'tourists', 'Sign', 'papel', 'Sacramentu', '%', 'hep', 'EUROPE', '100.5', 'ACT', 'Assad', 'self-inflicted', 'keys', 'saved', 'Scented', 'Pic', 'lifespan', 'Guns', 'Melamar', 'AHHAHAH', 'ii', '2-3', 'FAN', 'Hollywire', 'm/d/y', 'Eye', 'Cloud', 'Thnx', 'BLU', 'SEO', 'LA', 'dec', 'playing', 'rain', \"bf's.\", '#security+', 'sumar', '#iPadMini', 'nyt', 'Barang', 'rip', 'gunman', 'Juniper', 'professional', 'actuators', 'barfy', 'PSTBid', 'gmbr', 'kissing', 'demolished', '#bath', 'Instead', 'Laughlin', 'mye', 'Optimizing', 'jcs', 'Sunrise', 's2g', 'Fix', 'pillow', 'alejate', 'Layo', 'Brixton', 'isang', 'CES', 'surgery', 'memilih', 'price', 'de', '#Brooklyn', 'marathon', 'Staples', 'kinakabahan', 'Schaumburg', 'mistake', 'YASSSS', '~HAPPY', 'Messarounds', 'see', 'tha', '2070', 'Amanat', 'left', 'Warner', 'FAVS', 'Rim', 'portion', '13C', 'staff', 'successful', 'nanggugulo', 'qualification', 'pute', 'romantic', '#AlDubWeBelongTogether', \"sa'yo\", 'chelsea', 'credits', 'team', 'Busog', 'flag', 'daij', 'touch', 'Tennessee', 'Whiskey', 'Levin', 'CLOSES', 'Towing', 'dyan', '16TH', '#Gemini', 'appeared', 'Devil', 'PRE', 'terrorism', 'Woke', 'Spa', 'halfway', '#Yeast', 'Moonlight', 'Finchley', '#AdelHills', '#Twice', '#hiring', 'laser', 'lebih', 'symptoms', 'DOG', 'Quiet', 'editing', '#ALDUB19thWeeksary', '#Declaration', '#ALDUBKapitLang', 'HINDI', 'ragged', 'filmed', '#CyberSec', 'bigyang', 'Mortgage', '#amplotting', \"J'en\", 'STYLISH', 'antitrust', 'Missed', 'sbagliato', 'bookseller', 'Delirious', 'Detail', 'beach', '#mta', 'bought', '10%', 'Header', 'far', 'tod', 'Army', 'Heritage', 'WW2', 'Photo', 'gunna', 'National', 'all-time', 'x1047', 'surf', 'Wa', 'Gadgets', '441', 'suspected', 'waves', 'Linda', '#VintageToys', 'BirCraft', '#smiles', 'kill', \"CITY,WHAT'S\", 'environnement', 'Journal', 'Whitney', 'McDonnell', 'Fucking', '#Transportation', 'directing', '#RoyalBaby2', 'marketing', 'Fiddler', 'Great', '#beats', 'favors', 'via@securityblogger', 'growth', 'plata', 'ICANN', 'Industry', 'Holi', 'Yoko', 'mop', 'proposing', 'username', '12:15', 'blessing', 'Yesterday', 'Marketing', 'Cripes', 'D', '\"..', 'Hamza', 'reflects', 'wipe', 'Opposition', 'corps', '9GC', '#45', '16:20', 'and/fatt', 'guides', '#ohwx', \"Ma'am!\", 'ConservativeLA', 'AFC', 'Balco', '2x', 'look', '10.5', 'all', 'Inside', 'fatalities', '0815', '08:05', \"G'Liiiiiiiiiiiiiiiiiights!\", '01:46', 'Dead', 'aku', '1ST', 'books-based', 'Ugh', 'grind', 'spit', '#Playoffs', 'Notify', 'WALA', '#Kerk', 'Turuan', 'cleaning', 'shortcut', 'Rolled', 'Rise', 'Malhotra', 'yg', '#tooeasy', 'coaches', 'cane', 'IMAX', 'EYE', 'Ill', 'alle', 'warm', 'We', 'WOULD', 'Happiness', '#AirtelSBA', 'suggests', '#SGEFCB', 'womb', 'sean', 'Fills', 'Honolulu', 'participating', 'DONG', 'collapse', 'Conversations', 'daaa', 'unreliable', 'Dates', 'midnight', 'warn', 'freeeeeee', 'version', 'foul', 'Roxas', 'keli', 'PUNYEMAS', 'blocked', 'exempted', 'McLaren', 'waking', 'swift', '#Nonsense', 'Outlook', 'seminar', 'Convoy', 'london', 'full', '08', 'PS2', 'Biggie', 'YuLin', 'SlashGearTwitter', '1/10', 'Hampshire', 'complain', 'mommy', 'mid-size', 'Edition', 'gwapa', \"t'aime\", 'Replacement', 'Maturo', 'definitions', 'Daydreamer', 'mall', 'Supporters', 'intricately', 'January', 'shor', 'convincing', 'Excited', 'nite', 'pag-trend', 'Joaquin', 'jrg', 'LONG', 'election', 'goodnight', 'attack', '#VoteKatnissMTV', 'Def', 'dreaming', 'contater', '$LEG', 'GUYS', '#SPSPakNaPak', '#BirthdayGift', 'pic.twitter.com/5zpRGvwNKy', 'Debating', 'FOUNDATIONS', '9/2015', 'hari', 'programmes', 'creativity', 'artists', 'PICTURES', '#database', 'disiplin', '#PrayerTimes', 'innocent', '#RedFaction', 'trop', 'Drive', '$RGSE', 'schon', 'BEFORE', 'tht', 'impeach', 'SendGrid', 'revolver', '#Grazildas', 'Plac', 'Vick', 'STREAK', 'Finally', 'bolte', 'fRiDaY', 'brayyy', 'Magnetic', 'wall', 'corny', 'Whats', '!..', 'bands', 'mi', 'magsorry', 'Dixie', '#Camry', 'current', 'Gaza', 'hrs', 'procrastinator', 'action', 'Lip', 'wicked', '#wxob', 'close', 'happier', 'tues', 'also', 'Englewood', '#PushAwardsKathNiels', 'Holyroodhouse', \"'I\", 'ITUNES', 'voir', 'yeah', 'karam', '#newsletter', 'permainan', 'online', '22:48', 'Tom', 'sayaw', 'EXO-K', 'Fidel', 'lie', 'st', '8hr', \"..'\", 'boxes', 'Manajero', 'Shoutsout', 'NRA', 'watcing', '#Bamon#TVD', 'Renault', 'Problem', 'Xo', '1984', 'psych', 'Added', \"f'ing\", 'JIDAT', 'classes', '#trndnl', 'Meijer', 'Virtual', 'Jan-16-201', 'shall', 'omygosh', 'Pkwy', 'Accident', 'steak', '#ss4', 'pictures', 'Bihar', 'positive', 'beats', 'criticism', 'foo', 'mouth', 'airspace', 'virtual', 'ms', 'HOME', 'Acknowledges', 'Giveaway', 'bookstore', '#Coastal', 'cpl', '#UCCShooting', '2:06', 'down', 'Drake', '#EXOL1stAnniversary', 'supporting', '28th', 'SPECIAL', 'ink', 'perfffff', '16.56', 'Tbuddies', \"Bank'!\", 'LF1N', 'colossal', 'Ang', 'amd', 'Opium', 'POUNDERS', 'Enlarge)', 'stable', 'Silly', 'Except', 'lalo', 'Ramen', 'CoreLogic', 'eternally', 'bien', '02:21', 'Paint', 'money', 'BOGEN', '#technology', '500.00', 'pretend', '!!!!!!', '1:30', 'Coffee', 'meltdowns', '1923', 'Bulaga', 'Gigi', 'GMT+01', 'baba', 'Fling', 'TONITE', 'Host', 'Blackhawks', 'duckies', 'vigil', 'Plan', 'poolnewsfeed', '…', '946', 'sets', 'card', '#blogpost', '#Apple’s', 'Yakap-yakan', '4.0', 'force', 'Harrison', 'Grade', 'Mae', 'league', 'lies', '#Spain', 'Mission', '#newsdict', '#BEARDOWN', '#DarylDixon', 'GAC', '61', 'Immigration', 'Olu', 'Share', 'MHA', 'CETAIT', 'workshops', 'Mens', '#VampDannyOffline', 'ht', 'talaga', 'Lilia', '#windistricts', 'AL', 'bass', 'KK', 'Rex', 'Toulouse', 'evenzoveel', 'Gilberto', 'hook', 'Blemishes', 'curvy', '#Quran', \"sa'yong\", 'Bibliotheek', 'causes-late', 'Starland', '52', 'Fsbo', 'COURSE', 'AUD', 'rab', 'Scenes', '#datas', 'model', 'October', 'episodes', 'Blair', 'sharp', 'Classical', \"Wouldn't\", 'p', 'pic.twitter.com/GmsWEIVCkS', 'DEMAND', 'imas', 'suffers', 'By', '#theroom', 'New', 'pic.twitter.com/j7jrUDUhSS', 'Fates', 'Secret', 'JavaMonkeys', 'bake', 'Mak', '#Maracay', 'Issues', 'Kirti', 'Rodriguez', 'mulu', 'bar', 'Schwarber', 'donkey', '#Sustainability', 'wallpaper', '08:24', '#sculpture', 'gameplan', 'lunge', 'D55', 'trey', 'round-up', 'Jewish', 'book', '#DiggyFollows50', 'ensemble', 'flashback', 'complaining', 'except', 'ughh', 'facility', 'Resume', 'BOC', 'year-old', 'SBS', 'Xmas', 'Zombies', 'Facial', 'Middle', 'rooftop', 'stayed', 'one', 'Hohenau', 'labels', 'year', '#SBLeurope', '#sun', '28-Nov', 'dnt', 'mortal', '#brooklyn', 'mapapa', 'Euro', \"You'd\", 'TWO', 'ily*', 'Classes', '#Confederateflags', '#Movies', 'crossed', 'Maroon', 'hot-tubbing', 'Fitted', 'THURSDAY', 'BIGGEST', 'yrs', '08:34', '#badtatzmannsdorf', 'passengers', 'Aintree', 'Luv', 'badd', 'Aggressive', 'unleashed', 'Alison/', 'until', 'Gresham', '1st-rd', 'jamanSD', 'Libya', 'def', 'Pero', 'tryin', '#UPDATE', '9/13', '#CowboysNation', 'cheap', 'barricaded', 'admitted', 'complaint', 'master', 'spread', '8:30', 'conduct', 'closer', 'rotton', 'Soundtrack', 'on', 'spent', 'lapile', 'Apple', 'Only', 'Willow', '#NotCool', 'releasing', 'ALREADY', 'boozing', 'paid', 'incoherence', 'meant', 'natawag', 'night', 'Gawin', 'nasasaktan', 'killer', 'pic.twitter.com/NU2VO5Al8W', 'tad', 'Phil', 'hahahahaha', 'Geng', 'miler', 'kummindi', '166.781', 'journalist', 'michigan', 'pimple', 'stint', 'Luidger', 'Crash', 'masculinity', 'Anyone', 'tong', '#SHUCKERS', 'Listening', 'Yea', 'degrades', '10.000', 'become', 'Sing', 'pr', 'songz', 'Kentucky', 'Offense', 'Rotary', 'nudes', 'Scotland', 'INVITATION', 'hotel', 'Roses', 'spiralling', 'wat', '#astrology', 'btw', 'cudos', 'DINNER', 'yell', 'Calm', 'backdrop', 'Toltec', 'truck', 'Bowl', 'Dit', 'hardest', 'Astrology', 'Tide', 'duayein', 'w/o', 'Desde', 'NEWSLETTER', 'developers', 'BAND', 'expects', 'Fatal', 'swatted', '03:26', 'Wango', 'Mariel', 'Country', 'tax', 'pilit', '7:54', \"19'aavathu\", 'ft', '#cdnpoli', 'Justice', 'Digital', \"9th'is\", 'Roads', '#carnival', '#Twickenham', 'Laptop', 'provided', 'investigating', 'control', 'WONDERFUL', 'biased', 'returns', \"black'n\", 'DOMAIN', '=)', 'dr', 'dftar', '#Hacked', 'Gmar', 'Saathiya', 'uy', 'Comment', 'Crystal', 'Hollande', 'mounting', 'angel', 'weer', 'mp3(unknown', 'Aguero', 'Hurt', 'WOOOO', '07:25', '#Offline', 'VOTING', 'Ladbrokes', 'TSUNAMI', 'Kainis', 'leavin', \"o'clock\", 'mn', '72F7210', '678-223-3699', 'wears', 'para', 'shirts', 'nouveau', 'UTC', 'HBO', 'perfect', 'fandom', 'clearing', 'comprehension', 'Entire', 'Weeknd', 'Update', 'rnr', 'Up', 'bitchy', '#TeamFollowBack', '#Reynosafollow', 'LIST', 'tires', 'amounts', '#DirtyWorkVideoTOMORROW', 'Illest', '#fairtrade', '*-*', 'Fund', \"nor'easter\", 'friend', 'Joel', 'Grace', 'Pietersen', 'Snow', 'dealership', 'dapat', 'outscoring', 'western', 'Penguin', 'Set', 'malem', '#PushAwardsJaDines', 'luke', '23-03-15', 'BopisPaMore', '152%', 'suffered', 'EXAM', 'Ending', 'Burbank', 'Luther', 'shaped', '#ALISHAWORKSHARDFORHERVIEWERS', 'pic.twitter.com/NN1E2L9bi5', 'Mama/', '#DoctorWho', '2,500', 'Water', 'Doha', 'either', 'negate', '#colleges', 'self', 'ulo', 'Cebu', 'Color', 'Good', 'tks', '10-12', 'Anja', 'Dortmunder', '#Tarragona', 'Messi', 'noviembre', '{', 'Alice', 'reports', 'gump', 'TGIF', 'Marco', 'MLK', '8:00', 'Got', 'Soyrizo', 'seee', 'slowly', 'ironic', 'opens', 'bubusina', '#Giveaway', '*wink*', 'unbearable', 'persuade', '#letitfly', 'Passes', 'rehearsals', 'directly', 'warns', 'FlevoMeer', 'Exciting', 'Manny', 'senior', 'neglect', 'shot', 'ya//', 'vivo', 'trivia', 'diverse', 'targeting', 'tas', 'DETROIT', 'sing', 'Wonder', 'wsup', '#stock', 'difference', 'winners', '#BEChat', 'Round-Up', 'symbiosis', 'brawl', \"work:'(\", 'Jorge', 'posttt4', 'hoot', 'somethin', 'bosma', 'DAT', 'susuko', 'bench', 'Goudriaan', 'EP', 'fonction', 'Mediterrani', 'begun', '#Mariners', 'wkwk', '=', 'committed', '09:49', 'SELL', 'corn', 'FRIDAY', 'summit', 'bizarre', 'ESB', 'TF', 'juga', 'Robert', 'paper', '#gigs', 'pagbalik', 'hahaha', 'OFF', 'Melbourne', 'locating', 'PERO', 'Surita', 'corporations', 'ODI', 'GMT-4', 'YAAASSS', 'Underground', '#NotAnApology', '#lovecoffee', 'boxers', 'further', '2-year', '#Java20', 'Light', '#pet', 'satellite', '\"?', 'FINAL', 'IT', 'sta', '#PrayForMPpic', 'n.I', 'fils', 'register4', '#2010', 'HAPOENFING', 'Alcott', 'anxiety', 'Case', '#BIackOut', 'MOSH', 'pointless', '#EUreferendum', '#NodeJS', 'se', '#growinguptoofast', 'bathroom', 'FTM', 'tybg', 'infant-unknown', 'june~', 'ATTENDAIS', '#askDinahJane', '#Cobb', 'tried', '#Killed', 'server', 'TRIED', 'Supreme', '03:56', 'doin', 'Clutchfit', 'Lightning', 'iyiyi', 'give', 'voiced', '39.45', 'MS-Paint', 'Renee', 'eeeek', \"life-don't\", 'boltay', '4.6', 'Endangered', 'percent', 'Beautiful', '25TH', 'Kelsey', 'tart', 'Gundogan', 'babalik', '03:51', '14-8-2015', 'jason', 'Sausalito', 'urbe', 'EXO-L', 'checkers', 'ouat', '#StartUp', 'News', 'Taeyeon', 'three-ee-ee-oh', 'keyboard', 'geven', 'hidden', 'als', \"Parliament'il\", 'Nohhhh', 'rest', 'FOOTBALL', 'awareness', 'colors', 'Missouri', 'Sanders', 'Kalyeserye', 'wolf', 'Powder', 'tomorrow', 'officer', 'Brett', 'Answer', 'WRs', 'partnership', 'nvm', 'TX', 'Totin’', '!\"', '#partyyy', 'Pal', 'OTWOL', 'Nigeria', 'burns', 'offer', 'smirim', 'neymar', '#guncrisis', 'ahead', 'swing', 'Growing', 'endless', 'perfecy', 'AIRBORNE', 'Hospitalized', 'Hamilton', 'Diwali', 'infusion', '#Biafrans', 'goy', 'COM', 'danced', 'Hypervisor', 'NABABASA', 'Tooth', 'Kirsten', 'throwbacks', 'Sutra', 'Ana', 'shuffle', 'DIN', 'MarvinDancer', '#TTO', 'patate', 'Prodigy', 'giv', '10-year-old', 'Weisz', 'moon', 'President', 'Rare', 'AHEAD', 'forsaken', 'Tanjoubi', 'print', '#Sleep', '07:21', 'bronze', 'ago', 'Tonite', 'race', 'pots', 'investors', 'porq', 'boo', 'Tickets', 'Windows', 'App', 'Checking', 'Winner', '#PtboPoli', 'rubble', '#autumn', 'skin', 'lost', '#maispourquoiiii', 'Shabana', 'Mayaman', 'guilty', 'STAND', 'sitting', 'include', 'Away', 'DEF', 'choose', '#TFB', 'horrific', 'Eddie', 'susu/', 'Fletcher', 'RamaDaan', 'adorable', 'cursing', 'Library', 'happy', 'chocolate', 'Hows', 'fail', 'Medical', 'Mikel', 'Has', 'volent', 'raining', '01:59', 'minute', '11.00', '#TheRAC', 'recipe', 'footsoldiers', 'Valley', 'mkat', 'Meetup', 'k', 'you', 'Japan', 'Yuk', 'soon', '*Gwen', 'Killed', 'dumb', 'WORTH', 'From', 'Jeremy', 'Doctor', 'Hyped', 'Articles', 'celebrating', 'Copy', 'Less', 'market', 'wines', 'remember', 'microfoon', '23rd', 'abonnements', 'Naked', 'latte', 'phase', 'FAIL', 'December', 'Bridge', '#ShowtimeNgayongPasko', '#doinme', 'hearing', 'DIVINE', '#PJNET', 'Because', 'FULL', 'grandparents', 'sem', 'highlights', 'Downs', '#TeamDream', '#plan', 'Lubitz', 'Eyewitness', 'Jersey', 'miscommunication', '#Cybersecurity', 'ANOTHER', \"C'MON\", 'fee', 'Blue', 'actual', 'Brother', 'codes', 'rebound', 'Moi', 'Break-Online', 'doudou', 'Dark', 'PM', 'kiddie', '#God', 'eye', '03:36', 'Showering', '#havewritten-yay', '#unifedcomms', 'Cure', 'packed', 'Recruitment', 'tru', 'remarkable', 'UPDATE]', '5v5', 'ibang', 'Baby', 'Success', '#Apps', 'sya', 'denunciat', 'cmon', 'gualllluhh', 'Familia', 'reviewed', 'State', 'bungee', 'PDC', 'China', 'squab', 'Awareness', 'legs', 'Reads', 'okay', 'Juara', 'TorontoCrypto', 'Retweets', '#socialmedia', 'Little', 'Cash', 'Might', '9P/8C', 'Omega', 'some1', 'hacks', '#MelbourneTomorrow', \"hasn't\", 'reduce', 'gra', 'speeding', 'greater', 'Netflix', 'spiegeltje', 'mutant', 'PERF', '#HerdUp', 'Community', 'church', '#ChasingLife', 'Indo-UK', 'sy', 'blur', 'pangpa', 'Jackets', 'minimum', 'kiddo', 'L1FN', 'pic.twitter.com/rgd2ZKv5LC”look', 'Named', 'Hangover', 'rises', 'SHARE', 'Announcement', 'Window', 'Atlas', 'Thought', 'dad', 'puking', 'patients', 'Top', 'hows', 'meilleur', 'JC', 'Slovenia', 'Andrew', 'technology', 'kau', 'sleep', 'Sam', 'LET', 'BEAVERRRR', 'txt', 'rec', 'grub', 'akin', 'Global', 'Earth', 'Kendrick', 'jaket', 'flasks', '0.25', 'more', '#HaveAGoodRestZayn', 'CURVE', 'lazy', 'PITT', 'studio', 'Joyride', 'arena', 'Sharing', 'yay', 'weapons', 'golf', 'chill', 'lesson', 'gross', 'split', 'Beginner', 'Motherhood', 'sorting', 'nangako', '2nd', '2010Buy', 'yet', 'Due', '#cachejobs', 'weird', 'Tollan', 'PST', 'F', '1997th', 'really', 'also-sheesh', 'evacuated', '1e', '#Paddon', 'appreciated', 'wood', 'Body', 'allegedly', 'iron', '3TB', 'Biggz', 'MT', 'parties', 'Dementia', 'Cheeks', 'MovieSoonFor', 'survivors', '#Prayers”', 'Punch', 'kaming', '#hurryup', 'Says', 'Goal', '*purrs', 'ben', 'Memphis', 'M777', 'choice', 'Stories', 'kitty', 'cologne', 'having', 'weeding', 'mentions', 'dating', 'Potbelly', 'Nola', 'op', 'Weeksary', '#AUOSINT', 'vulnerability', 'Your', 'batted', 'Lmao', 'Entry', 'TeddyBears', '#santamonicacollege', 'spider', 'hy', '8120', '7+', 'ji', 'Kung', 'AGO-OCT', '#AuburnOSINT', 'Koffi', 'drummer', 'iba', 'Aaaaah', '#TBRList', 'ideology', 'Swim', 'trade)', '#detox', '2020', 'Class', 'bantayan', 'Rt', 'desh', 'Lee', 'maxin', 'threatpost', 'McDowell', 'applies', 'C4', 'goibibo', 'mosh', 'EAT', '#MTVStars', 'sentimientos', 'honorable', 'Pier', 'Sumber', 'candy', 'II', 'Retro', 'bison', 'CELUI', 'SUB-CULTURE', 'sama', 'sacrificed', '_dis_service', '#LiveOnKOMO', 'REAL', 'BEAUTY', \"O'clock\", 'hj', 'tweeps', 'Alcohol', 'Abgaben', 'BEAUTIFUL', '#911', '5HCAs', 'Chari', 'nyehehe', 'Or', 'tellin', '2010', 'Assault', '#FullHouse', '1day', 'impala', '#MemorialDay', 'Fabi', 'tissue', 'wala', 'IF', 'Einstein', 'Dow', 'swimming', 'Download', '#camilafollowmetonarnia', 'sympathtic', 'Hahahah', 'YULEE', '11:30', 'knowledge', 'NZ', 'Oo', 'Riots', 'GINAGAWA', '#The', 'dL', 'raise', 'Parks', 'tamped', 'HELP', 'Lifescript', '#Boss', '1.80', 'hahahaha', 'batman', 'theres', 'JKT48', 'animal', 'awsm', 'huge...that', 'aww', 'deceased', 'mhm', 'heheRT', 'goddddd', 'wait', 'GIVe', 'Red', 'Cable', '*', 'TeamiPhone', 'spell', '111-100', 'wertheim', 'haircut', '#p2000', 'ngehostnya', 'overcome', '189/5', 'volunteer', '#jamievardyshavingaparty', 'NEWS', 'ideas', 'motive', 'Deaths', 'legend', \",'\", '#Salem', 'Auburn', 'fuc', '#BigPapi', 'now-finished', 'plastic', 'Excellus', 'booting', 'EMA', 'fears', 'Lentek', 'While', 'mAy', 'theatertour', 'Colin', 'HSBC', 'Joyous', 'step', 'je', 'freedom', 'gladly', 'trampled', 'Let', 'HOUSE', 'adopting', 'concerned', 'Lausanne', 'takeover', 'Beast', 'latest', 'Costeira', 'ts', 'Faces', 'painting', 'birthdays', 'Taken', 'pass', 'created', '#Snapchat’s', 'wasnt', 'Ascension', 'PEI', '200,000', 'HAPPINESS', '09:53', 'kaun', 'strokes', '02:46', '#NDvsUK', 'remix', '#TaraguiRock', 'BISH', 'Kindle', '599.00', 'HAPPPY', 'daddy', 'Loft', 'across', '#Cemaes', 'mistakess', 'Feet', 'gift', 'Q', 'bbt', 'nxt', 'nobody', '#LIT', 'Trumbull', 'LAGA', '#space', '9/25', 'kilala', 'udah', 'Tweople', '#ShowtimeTuLoyAngPasko', 'pre-show', 'coaching', 'boussa', 'IranTalks', 'restraint', 'Cat', 'Buut', 'uncomfortable', 'Julliet', 'periods', '800.00', 'Shared', 'Es', 'equal', 'Stam', '$204M', 'quantum', 'ahora', 'reservation', 'HSM', 'Customer', 'plaudits', 'Administrative', 'Jeremiah', 'course', 'Jacqueline', 'Stadium', 'ATLANTA', 'Low', 'easier', 'evry', 'Zac', '#Australia', 'itchy', 'agree', '#HIPAA', 'at', 'Nov-29-2015', 'misbehaved', 'mind', '#FutureDodgers', 'COMES', 'steps', 'airing', 'LMaO', 'Wee', 'pronote', 'correctly', 'montage', 'Balloon', 'tex', 'beginning', 'Hero3+', 'whatsoever', 'nationwide', 'Ariana', '#cleaneating', 'rebate', '#BlueHens', 'half-empty', 'Models', 'Duke', 'BLOWS', 'Wolf', 'Sri', 'pic', 'ces', 'Centenario', 'Upstate', 'r.i.p', 'saken', 'Thinkpad', 'spurs', '36,000', 'OFFICIAL', \"you're\", '#GoHeels', 'YEARS', 'Apartments', '#NBATop10', '#tban', 'meaning', \"make'n\", 'FUCKING', '#LABORDAY14', 'Very', '#sfgiants', 'khana', 'Expo', 'Boyz', '#Earth', 'gud', 'aro', 'gumagawa', 'script', '#MOTAVATORMONDAY', 'Suck', 'Judas', 'Warriors', 'executions', '#tnnews', 'loos', 'noche', 'Knickers', 'Mar-Sept', 'IMPALA', '#asshole', 'ARENA', 'News-', 'WARRANTY', 'Gust', 'Walmart', '#OneoFMYfollowErs', 'Djs', 'Ries', 'Pesticide', '12/15', '#sosad', '#teen', 'pose', '#nowplaying', 'popularity', 'incident', 'EZM2M', 'gising', 'td', 'Kalado', 'pca_moh4', '19-0', 'radio.woai.com', 'notifications', 'alam', 'Kwiruka', '.twitter.com/8GTCH4VAsY', 'Les', 'Moderate', 'Do', 'LADY', 'orgs', 'Magic', 'Fresh', '168', 'Amerika', 'earth', 'festive', 'Parliament', 'sidekick', 'timetable', 'Backyard', 'leg', 'thiiis', 'noon', \"You'll\", 'lui', 'gr', 'dans', 'En', 'Orleans', 'offered', 'motor', 'mission', 'I', 'Programming', 'enemy', 'forced', 'Gasol', 'TX-Fort', 'mud', 'gouging', 'Jr', 'Halloween', '10/23/2015', '#ThankYouForTheLove', 'baju', '12,300', 'arrived', 'parade', '#ALDUBOneMoreDay', 'lesser', 'TFC', 'buat', 'havent', '#Colorado', '#SpreadLove', \"fo'me:/\", 'Gel', 'ad', '#ALNASSR', 'reverse', '#KIISJingleBall', 'VOTE', 'Uhmm', '150130', '#happening', 'every', 'Smile', 'Amasa', 'GOVERNMENT', 'encountering', '#celebration', '#ScoreSomeRuns', 'Rangers', '80', 'Travie', '#HeyThatsSoTrue', 'los', '#BMM', 'tomorrow**', 'Brie', 'clashes', 'THROUGH', 'Song', '#trade', 'funds', 'MU', \"?'\", '84-year-old', '!!;', 'LSU', 'looked', 'Hyde', '955', 'DISCOUNT', 'karo', 'such', 'workout', 'hear', 'Killjoys', 'Bowlounge', 'JUDAISM', 'pull', 'anniv', 'Coding', 'Savannah', 'culinary', 'Cassidy', 'huh', 'favoryits', 'talagang', 'maths', 'Figgy', 'financial', 'lex', 'Sleeping', 'explosion', 'jwus', 'taong', 'parinig', 'GOT', 'MO-Kansas', 'Choepa', 'Lincoln', 'Standing', 'Meade', 'approval', 'beaucoup', 'movie', 'Vesto', 'stumbled', 'breathe', 'annoying', 'guys~', 'totoong', 'AHAY', 'berpikir', '#Classic', 'upbeat', 'servers', 'E-cigarette', 'NK', 'OFCOURSE', 'call/text', 'Fitness', '#173', 'nine', '”', 'kids', 'Moldova', 'Officially', 'MODERN', 'Jemma', 'Speaker', 'victims', 'campaigners', 'pitch', 'Radio', 'Richard', 'Grayson', '#ENGJobs', 'Retina', '#4lokos', '06', 'tackles', 'dig', 'Aabot', 'plane', 'Narendra', 'officiating', '#uknouugly', 'TR', 'XO', 'LAST', 'yous', 'oras', 'ordinary', 'Sakht', 'KISS', '#HomeTraining', 'stole', 'SHIT', '03:23', 'NXT', 'rr', 'exhausted', '#Roseburg', 'hashtag', 'SpinRilla', '300', 'REIT', 'carried', 'tous', 'Chili', 'aktuální', 'msn', 'HAD', '+3', '#wineparty', 'hbu', 'Eminem', 'ECB', 'Doppler', 'SUPPLY', \"Rt'd\", 'Three-Disc', '3.30', 'Thurs', 'Municipal', 'Robin', 'Sexy', 'hebben', 'definition', '4Dbling', 'WITH', 'Rep', 'Days', 'Maraming', '22-Years-Old', '2mmrow', 'astherosphoto', 'deze', 'ciento', 'scored', 'Arizona', 'nigh', 'trumps', 'magmahal', '#StraightOuttaCompton', 'stories/etc', 'foundation', 'Bomb', 'precios', '21-year-old', 'aged', '38T', '*tear*', 'trackies', 'Ryu', 'ClimateX', 'UNT', 'leve', 'ellwood', 'puja', 'LiLo', 'tested', 'inglewood', \"Didn't\", '#Wax', 'yow', 'Para', 'struggled', '#Dense', 'xhonk', '#crime', 'Vanilla', 'bruha', 'YESSSSS', 'JS', 'hackers', '.twitter.com/1V5wfGPWMO', 'catastrophe', 'screaming', '31st', 'Town', 'nintendo', '#supportyourlocalboozer', 'SlashGear', 'eyebrows', '2.0', '#Data', 'BM', 'GUESS', '#webinar', 'MAiZE', '#RIP', 'reading', 'touching', 'devant', 'suspects', 'horen', '27', 'tho', 'oily', 'gekocht', 'Thankgod', 'U.K.', 'penalty', 'huhuhuhu', 'Precip', 'exams', 'Robinhoods', 'punasan', '1.45', 'bumili', 'Conditioning', 'SEC', 'angelo', 'Productions', 'Luncheon', 'pendaftaran', 'sending', 'moodu', 'puerto', 'Ilkay', 'relaunched', 'Assembly', 'goddamn', 'listening', 'w/santana', 'valu', 'sucks', 'Oma', 'Justin', 'Protection', 'ages', '#nowplaying-', 'Islip', 'Pokemon', '14-year-old', '081912233358', 'Dist', 'Sessions', 'AC', 'Skilled', 'NE448350', 'Georgia', 'CUT', 'NEPAL', 'Tornadoes', 'AZ', 'rockets', 'INFINITY', 'jealous', 'broke', 'ngantor', 'HOHO)', 'planned', 'Jeez', '19h00', 'lunches', 'Whooohooo', 'makeup', 'Marine', 'Ministry', 'Futoosh', 'mas', 'RaceDayCT', 'Design', 'SVU', '#Suspect', '#EventsUS', 'probaly', 'Tos', 'Nitfy50', 'real', 'ASOS', '#csk', 'PAG', 'religio', 'throu', 'Joburg', 'wash', 'Malibu', 'have…', 'said', 'eyes', 'kak', '#smsportschat', '#LinodeDataBreachpic', 'peak', '<USR>', '#appfriday', 'walking', 'Sachin', 'TOP', '#PARTYKINGS', 'pjs', 'of', 'FT', '#ViciousPBS', 'Wasnt', 'Salad', 'saying', 'fixing', 'NEEDED', 'BOUNCE', 'Match', '30+', 'eyes*wat', 'Intellectual', 'Finals', 'narrative', 'PAKI', 'corporate', 'may', 'TYSM', 'Order', 'kimbo', 'Dozen', 'DOES', '#breaking', '*freakingoutkhsf*', 'succeeded', 'Nope', 'cp', 'youth', 'stay', '#GRAMMYs', 'asses', 'Manu', 'bibilis', 'studies', 'wholly', 'festivities', 'Birthday', 'publishing', '#RanjiTrophyFinal', 'defendi', '#Value', '64.95', 'university', 'Maybe', 'Tank', 'reached', 'after*', 'mix', 'wen', 'bliss', '#HouseofCards', 'Timberlake', 'Along', 'honoured', 'sit', 'OPEN', 'eating', 'FACT', 'schoonmaakbeurtje', 'Blok', '#blackfriday', '#ColoradoSprings', 'tgl', 'ET-', 'T_T', '10:03', 'paraan', 'pumasok', '#Drumbeat', '#yconline', 'hardship', '350', 'sansom', 'Answer-4', 'stalking', 'disrespects', '19:10', 'bergabung', 'tampons', '2007', 'risk', 'Belle', 'ou', 'hw', 'Fryberg', 'yuuki', 'FAUTASI', 'Citrix', '100%', 'Series', 'daycare', 'plust', 'Boom', 'istg', '#NavyYardShooting', 'rolling', 'x-d*', 'AROUND', 'affiliate', 'Killing', 'Lord', '#asses', 'defence', 'Britain', 'prompting', 'ooooh', 'provider', 'MNF', '#PSYGameOn', 'whyyzed', 'engulf', 'glasses&amp;i', 'music**', 'sacked', 'terjadi', '“@BAESIC80s', 'home', '#bluebutton', 'catch', 'dire', 'consist', '#ChooseBeautiful', 'Stinson', 'Snowman', 'BlueCross', 'dabigatran', 'witnessing', 'Pedigree', 'needs', 'Data', 'own', 'HeartAndSoul', 'ya', 'predator', 'stepping', 'TUYU', 'Avin', '12:52', '10-4-10', 'stare', 'charged', 'flying', 'prequels', 'esh', 'PSYUnangHalik', 'knock', 'standards', 'Ragga', 'faces', 'daredevil', 'Thing', 'Chillin', 'Pinky', '#SoftScrub', '94', 'Naughty', '4/24', 'gopher', 'increase', 'Beauties', 'affects', 'Affecting', 'Gaga', 'Selamat', 'Spring', 'films', 'Homework', 'Dairy', '20', 'Well', 'farmers', 'Wait', 'Donnie', 'LIKE', 'TV', 'automatically', '#radio', 'Kesian', 'Reda', 'base', 'Chaffey', 'theatre', 'GamePro', 'Kimmel', 'TONIGHT', '#039', 'enjoying', 'COMIN', 'tumour', '#Buckeyes', 'ExMuch', 'Packin’', 'ntlegs11', 'CONNECTED', '11:29', '17-9-2010Tal', 'hunting', 'wounded', 'save', 'assisted', '-__-', 'Talks', 'shape', 'superstar', '#iKON', '930pm', 'Wanna', 'furniture-', 'Phone', 'homework', 'sorrows', 'permitted', 'picks', 'Pnt', 'Tomorrow', 'bt', 'LINEA', 'KEEP', '#ShowtimeCongratsXBGensan', 'Nike', '#Sunday', '#LGM', 'flagstaff', 'wann', 'AKONG', 'LOVEEE', 'clouds', 'sheer', 'TMZ', '650S', 'Rousey', '2008', 'row', 'Laws', 'forget', 'Advisory', 'showers', \"'RT\", 'Jamestown', '490', 'Pangpa', 'afraid', '#CSRRacing', 'NCAAF', 'support', 'joguei', 'Net', 'Noel', '#Mumbai', '#forex', 'terror', 'invisible', 'Nobu', 'tal', '2003', 'Vidayankal', 'Bit', 'grove', 'ABC', 'avis', 'marche', 'Biloxi', '#EverydayILoveYouMasiSILAYanNa', 'maganda', 'Ahok', 'Bakla', 'MotherDay', 'Verde', 'Holtz', '#Clubfitness', 'promising', '#Streaming', 'Especially', 'band', 'rounder', 'doubt', '14:30', 'CABOT', 'Mannie', 'writing', 'letter', 'Parts*)', 'marier', ';O', 'bacteria', 'Stamkos', 'Marry', 'favourite', 'sam', 'side', 'Luckily', 'Seat', 'treating', 'Subhan-o-Tala', 'convo', 'decisions', 'isnt', 'Dudleys', 'CAN', 'Dating', 'TOGETHER', '#staytuned', 'SF', 'Franny', 'Oct-12-2010', 'ending', 'CRD', 'shortened', \"Haven't\", 'funniest', '#OTWOLAngel', 'lowkey', 'ember', 'He', '#TBT', 'IBNLiveDoes', 'Ayodhya', 'Flikken', 'S', 'Heuer', 'seeing', 'REFINERY29', 'feel', 'forever', 'NA', 'maro', 'Dunc', 'sakin', 'DEBATE', '#Theatre', '??&quot;', 'Distance', 'antenna', '15', 'blast(s', 'awe', 'third', '#staff', 'Arming', 'calculation', 'Aww', 'underway', 'jerk-o', '2.40', '#yapper', 'amazing(', 'Luna', 'inside', 'tapping', 'testify', 'picking', 'THRONES', 'fathom', 'Someday', 'minsan', '0.97', '-Cr', 'karu', 'Nw', 'executive', 'motion', 'pure', 'Unrealistic', 'zombie', 'translations', 'visiter', 'howe', '#Cancer', 'Zyon', 'ceasefire', 'JSJ', 'Himself', 'damage', '$FXI', 'Aih', 'bi', 'RD', '5495989B', 'purposes', 'MDDDDDDDDR', 'Record', 'opt', '#Vh1', 'writes…', 'delivering', 'Tomorrows', '#NationalChamps', 'Miracle', 'Known', '#MarkTuan', '#Washington', 'disability', '#TheRock', 'emo-ness', 'hearts', 'Ik', 'Men', 'llorame', 'kumawala', 'Burnaby', 'sabi', 'xXx', '06:15', 'Battle', 'destination', 'foREVer', 'Parque', 'Olson', 'officer-involved', 'PROUD', 'Don', 'Shoutout', 'experiencias', 'spring', 'Planned', 'deepika', 'Akan', 'Ooooo', 'Padres', 'Suggest', 'cl', 'eh', 'mini', 'Castle', 'graduates', \"Would've\", 'faced', 'Jan-25-', 'Kokomo', 'upper', 'old', '5:30', 'kuya', 'dpt', 'Disagree', 'BeAsT', 'Graders', 'Information', 'then', 'KSPR', '#vacation', 'Robot', '20th-', 'Sir', 'chinese', 'crave', 'ready', 'work', 'sucked', 'Breach', 'Heroes', 'pati', 'Hillary', 'MANAPAK', 'No-humanity', 'admit', \"isn't\", 'leon', \"C'Mon\", '#will', 'Gaming', 'KASAL', 'celeb', 'practices', '22.956', 'put', 'weiter', '#CarmelIN', 'covers', 'Repp', 'Bowling', '10-02-10', 'Erron', 'Computer', 'PSTBuy', 'pic.twitter.com/9YuDiwZbWO', 'combined', 'Ukraine', 'vol', 'TELL', \"l'humour\", '95%', 'Raisa', 'discover', 'GDA', 'societal', '102nd', 'matching', 'record', 'country', '#whounfollowedme', 'jun', 'Cantare', 'Mohammad', 'Hawaii', 'Tip', 'individual', 'horner', 'Think', 'TAONG', 'unarmed', '01:06', 'bullshit', 'popcorn', 'nako', 'bkl', 'SHOOTING', 'approximately', 'silliness', \"though'\", 'Bestfriend', 'smash', 'AEST', 'random', 'imdb', 'asshole', 'Arcana', 'Euroleague', '30-125Ml/', 'DIVAS', 'haha', 'Entries', 'shop', 'beside', 'G24', '#invisibility', 'athletes', 'ketiga', 'vets', '15:31', 'Numbers', 'sounds', 'erratic', 'Chiles', 'iemand', 'condemned', 'ACTUAL', 'fear', '.;', 'Mitigating', '#SaveAfricanAnimals', 'lovely', 'morning', 'SECOND', 'golly', '#GETBUCDJS', 'hihihihi', 'drafted', 'Pekanbaru', 'Functional', 'co-op', '#MTG', 'resets', 'hurting', 'FEB', 'false-flag', '#Dodgers', 'TONYS', 'nangyare', 'alcoholic', '#IOS9', '#Saturday', 'zone', 'Jin', 'allows', 'ladder', 'better', 'till', '#MarysvilleShooting', 'Real', 'walks', 'Streit', '#NOCHILLPHILIPPINES', 'Powered', 'COME', 'Colour', 'cookin', 'LEXA', '#sighhh', 'MAGULO', '#talktalk', 'teaching', '#ResultatsBac', 'Nobel', 'Samardzija', 'Successful', 'Launch', 'ih', 'vocabulary', 'GUSTA', 'update', '#Umpqua', 'rule', '#sacstonersociety', '(*', 'Marlboro', '07:12', 'posh', '#gradschoolproblems', 'Browser', 'eats', 'Unless', 'GR', 'bah', 'Episodes', 'SEDUCTION', 'Kick-Ass', 'usually', '1', 'seven', 'deposit', '|||', 'Victims', '#Marriott', '09', '20:10', '|O', '[#SalemWeather]', 'Hair', 'Tweets', 'Sabre', 'AGES', 'Braun', '#PrayforChattanooga', 'Authentic', 'thjnking', 'PangakoSayo', 'AEDT', '#SmithTravelResearch', 'things', 'maliban', '3333ll', 'Tournament', 'Night-Good', 'IBANG', 'top', 'edge', '13/10', 'combination', 'mo', 'Billiards', '#BieberOnAMAs', 'DUETKAN', 'Begins', 'AP', 'TITIK', 'Prayer', 'win2bet', 'pense', '#10DaysOfTonys', 'BAZAAR', '#COYG', 'tuition', 'Soccer', 'utter', 'marshals', 'SEPTEMBER', 'RINGS', 'preciso', '#sanBrunofire', 'Ferry', 'consumers', 'homie', 'shoot-to-kill', 'reporting', 'rin', 'Awakening', '#dontsettle', 'May-2013', '#Devilian/Livestream', 'Sacrifice', 'Per', 'repaired', 'grandma', 'dell', 'Puis', '#HotelTrends', 'Institutional', '4.99', 'Kids', 'Django', '#8825', 'LANG', 'so', 'LED', 'SECTION', 'needed', 'mismong', 'Bennett-', 'DoE', 'steal', 'spoken', 'laid', 'vous', 'boyfren', 'Masquerade', 'Powerplay', 'Beta', 'Matthews', 'CEO', 'Fuckk', 'scared', 'MONday', 'Dat', 'M&amp;M', 'luggage', 'ASPEN', 'HUrrah', 'tinanong', 'jet', 'Izm', 'Game', '#TheOriginals', 'Miliband', 'mangyayari', '4G', 'Roddy', 'giveaway', 'that', '12/5)', 'Alexis', 'Il', 'walkin', \"I'VE\", '#fun', 'Toys', '#mrx', 'Statement', 'Pag', 'meaningful', 'regular', 'nieuwe', 'Large', 'realized', 'Eats', 'Incheon', 'Paying', '#shizz', 'YEAR', 'mahulaan', '512A3491', 'Welbeck', 'BranchOut', 'Oct-1994', 'sundown', 'Nexus', 'VW', '#typeamom', 'punish', 'ON', 'Pentagon', 'pizza', 'appears', 'MORNING', 'PARTS', 'Gostava', 'Wrap', 'solution', 'recognition', ',', '#OTWOLLoveDrunk', 'Wintor', 'Valentines', 'wish', 'pin', 'ANW', 'FCS', '#HQ', 'Wish', 'ped', 'evasion', '#myhandismulicolored', 'JULY', 'Johnson', 'Plata', 'Arabia', 'li', 'blueprint', 'hack', 'socialtv30', '#Legacy', \"d'humeur\", 'Capitol', 'Find', 'grave', 'A.M.E.', '#ICC2015', 'bestie', 'Story', '#Shootingstar', 'Beauty', '#YouGotMyFxcKedUp', 'nga', 'log', 'teach', 'Lucas', 'Belieber', 'feels', 'gezien', 'agreement', 'ALDEN', '#Survey', 'tragus', 'Stoppers', 'damn', '07:46', 'greatest', '#fiverr', 'selling', '#Empire', 'Doomsday', 'red', '#Arkadelphia', 'Sole', 'Bid', 'OpenSSL', 'post5ty', 'blending', '#Luxury', 'april', 'debt', 'Yet', 'shelves', 'BECOME', 'KJP', 'pierced', '#Kick', '#Acquisition', 'Intolerant', 'Desire', '2p', 'Cazorla', 'Cardiff', 'Typical', 'Badd', 'TOWERS', 'KyleV', 'At', 'media', 'El', 'Peyton', 'tanya', 'protecting', 'Xbox', 'AlDubnation', 'GoodNight', 'Lls', 'Hattiesburg', 'obsessed', 'TICKETS', 'Executive', 'WHOOOOP', 'cells', 'latter', 'college', 'possible', 'women', 'lying', 'piercings', 'Temple', 'fertility', 'protection', 'VAVAVOOM0328', 'hapiness', 'ratu', 'Weir', 'man', 'Pope', 'bola', '11:06', '04:58', '#NobodySmilin', 'spanning', '#lunkercatch', '08:22', 'Manning', 'Thats', 'Utah', 'thought', 'Debut', 'Kansas', 'MANA', '#womeninfiction', 'Camera', 'mamam', 'lke', '#NOLA', 'inclusion', 'EXA-OIL', 'BLOG', 'Opponent', '#SharkNation', 'Inuyasha', 'BESTIE', 'loyal', '2013', 'Venus', 'Bandung', 'hash-tag', 'Celebrates', 'itinerary', '02:44', '#23', 'finger', 'boys', 'Fact', 'FAIS', 'Relays', '5320', 'Leaving', 'QUEZON', 'PA++', 'Dost', 'cars', 'suitcase', '#NEW', '#smartboard', 'custom', '10K', '#RollTide', '11.45', '8-11pm', 'living', 'flagged', 'flowing', 'buckle', 'www.cnn.com/2015/12/02/us/san-bernardino-shooting/index.html', 'Keppinger', 'color', '03:44', 'AAAAAHHH', 'Lending', 'hanapin', 'Already', 'vitor', 'Orleans’s', '#5SOSMelbourne', '3310', '30th', 'Genuine', 'Halford', '4-8pm', 'obituary', '#JuniorOrteqa', 'meme', '#ALDUBSaveMaine', 'belongs', '#MiamiGardens', '160RB', 'thrilling', '9/11', 'dedication', 'READY', 'Naples', 'connection', 'High=', '#stormtrooper', 'Valve', '950)', 'CNN', 'Ch', 'Uptown', 'knell', 'Mattingly', '#RedSmoke', 'juuuust', 'dc4c', 'Conan', 'Sonum', '#ALDUBmeetsTVJ', 'fell', '104&amp;#xB0', 'Platinum', '#teamkatstacksbitch', 'Sun', 'Saido', 'jail', '10ish', 'Fall', 'weakening', 'rains', 'traveling', 'mantel', 'dm', 'Dirty', '#8220', '#protest', 'AIRPORT', 'abatement', 'plants', 'joking', 'lola', 'Morning', 'Love', 'Hysteria', '#B1A4', \"didn't.\", '`07', 'exposed', 'change', 'niggas', 'Wisconsin', 'Christmas', '#karaoke', 'Cops', 'GOODWILL', 'Wishing', 'checkbook', 'PaperGods', 'grader', 'nat', 'Lent', 'QQ', 'European', 'Started', '#houwx', 'elaborate', 'added', 'CHINA', 'killed', '2012', 'rid', 'Madonna', 'invite', 'inspiration', '(#wnn2', '#Green', 'Upcoming', 'chaotic', 'Spot', 'Fabulous', 'Nikes', 'Personnel', 'newman@foxnews', 'Promising', 'zien', '#SanayaIrani', 'UR', 'embarrassed', 'ride', '2400', 'LadyLOISA', 'Safety', 'variar', 'Sniper', 'organisations', 'Department', 'Treatment', 'COMPLETE', 'Fla', 'HI', 'heartfail', 'Cleveland', 'WinnipegWatch', 'toen', '588mins', '#YOUBLAMECLIVENBUNDY', 'Quds', '!!,', 'Exclusive', 'notifs', 'poukave', '#clubhectare', 'Retail', 'fo350g', 'pancakes', 'aloud', 'kilkenny', 'OVA', 'Santy', 'BANKS', 'Ulla', '1/31)', 'advances', 'imagination', 'popular', 'Halo', 'companies', 'wooooooow', 'executing', '081235994171', 'Peach', 'NAME', 'Keygen', 'dhuvas', 'Reich', 'Papel', 'tempting', 'JET', 'pressure', 'portable', 'TrinityLooking', 'never', 'families/students', 'Onga', 'mama', 'Chicago', 'unexpected', 'toetsen', 'respected', 'bites', '7:06', 'quoi', '#fuel', 'Hours', 'pukul', 'Gigli', 'vet', 'jam', 'TPCS', 'darkest', 'BIRTHDY', '#DataBreach', 'Busch', 'mayo', 'OREOS', 'IST', '16th', 'gawin', 'profundos', 'Siak', 'yen', 'Minsan', '#UN', 'ALlF', 'hanging', 'yeh', 'Sudamericana', 'navy', 'electric', '2617', 'Coltrane', '------', '03:39', '#TATW', 'lap', '1,900', 'stand', 'Guster', '#ALDubEBTamangPanahon', 'leers', '02:08', '//', 'fabric', 'Bella', 'Jerseyed', 'Je', 'Compilation', '#KnowFH', 'video)', 'Mules', '#ChipKelly', 'Garotos', 'Mark', 'balls', 'Bourbon', '#PassportTo', 'angry', 'German', 'swims', 'match-high', 'Rushing', '#Follow', 'Juc', 'itan', '05:24', '#Vancouver', 'Platform', 'Panahon', 'yungr', 'score', \"Isn't\", 'Forgotten', 'Lauren', 'HAHAHAHAAAA', 'himself', 'SUCKS', 'Lecompte', 'Colbert', '#Snapchat', 'SG/MLA/KL', 'thats', 'wavefunction', 'dress', '#blocked', 'amie', 'Panasonic', 'Size', 'today-', '#Rap', 'welcomes', 'tra', 'destroy', '187', '#Security', 'toes', 'goal', '#OTWOL', '060v', 'fetch', '#Iran', 'King', 'Regarde', 'Beach', 'Alpha', 'photos/videos', 'three-way', 'doors', '1210', '8pm', 'trust', 'waits', 'Eagle', 'Snooth', 'LAKI', 'Glassi', 'WATERPROOF', 'reply', 'Younus', 'waters', 'Hwy', '?!\"', \"attack...we'll\", 'Lafayette', 'profound', 'Rocket', 'judgment', 'disproportionate', 'Tyrone', 'lone', 'tennis', 'PRINCESS', 'dunno', 'Gainesville', 'sum1', '545454', 'ganyan', '#GoStars', 'imma', 'mjd', 'Michelle', '06:25', 'jury', 'Uth', 'myself', 'bogus', 'tersayangg', 'Viens', 'drunk', 'doe', '08:21', 'Bids', '#ripgia', 'nou', 'nd', 'figuring', '#EroticSciFi', 'Touchnote', 'senseless', 'masamang', \"'Rickey\", 'this', 'macdonalds', 'want', 'S8', 'criticize', 'Fairs', 'friendship', 'Este', 'Asiad', 'And', 'Smoky', 'respecting', 'City', '#ASUGBIWebinar', 'BKK/JKT', 'vokal', '#ocoly', '#hackers', 'talkin', '59', 'takte', 'MANCINI', 'bill', 'Quite', 'fretting', 'buckboardday', 'Fugitive', 'Beddy', 'spree', 'ragrets', 'still', 'malaki', 'n', 'Kailangan', 'Scientific', 'SmackMyHead', 'HOW', 'arggghhh', 'venom', '1/2', 'RAN', 'Meeting', '#np', 'PITS', 'Jepang', 'availability', 'debuted', 'eurozone', '#FeedYourFaith', 'Implementing', 'rocking', 'maguupdate', 'Freddie', 'fled', 'Steer', 'Hatake', '5min', 'KT)', 'billable', '#magicthegathering', 'Asa', 'Roseburg', 'ranked', 'between', '*turns', '**', 'Deona', 'guitar', 'ikan', \"b'days\", 'Bradenton', '#GirlsOnGirl', 'Classic', '#Biafra', '#ILoveDC', 'Stan', '#opsec', 'Jordan', '2:03', 'I`m', 'ino', 'adolf', '#NowIndia', 'quando', 'Subscribe', 'x719', 'Hehe', 'unattached', 'Caliman', '03:19', 'Champlain', 'Antipsychotic', '00:43', 'ima', '#ParisJS', 'believer', \"Nyong'o,\", 'refugee', 'Barefoot', 'SUENALO', 'Hoy', 'flowers', 'visa', '~madi', '#cantdecide', 'guareezy', 'disco', 'besides', 'Bae', 'Playlist', '1.5', 'forgave', 'PIOLAA', 'fools', 'internal', 'vodka', 'Forever', '#samsungsocialtvdms', 'motors', 'FEELIN', 'vocal', 'Rub', 'patutunguhan', 'STOP', 'hilton', 'Password', '#Pittsburgh', 'Tweet', 'teenage', 'Starstruck', 'Sog', 'chapters', 'Oz', 'coldd', '43rd', 'mijn', '#uknews', 'sacrafices', 'lining', 'Formula', '#SCUR', 'legislative', 'Homepage', 'suspended', 'able', 'stukas', 'fade', 'ty', 'collapses', 'Card', 'foi', 'orleans', 'MILLIONS', 'Twice', 'Buka', '1810h', 'KAIBIGAN', 'Learned', 'kamu', 'YORK', 'locked', 'Hour', 'usad', 'Ini', 'Rap', 'pair', 'Tracklist', '#ShowtimeHarana', 'PERAK', '05:00', '#sab', 'CHRISTIANITY', 'lucky', 'scare', 'survivor', 'Baosteel', 'Armed', 'kompa', 'Tucson', 'xxxxxxx', '.&quot;', 'gets', 'Tx', '6:59', 'Shrimp', 'Senior', 'Darien', 'Shotdown', 'Attack', 'apologizes', 'Relieved', 'IPad', 'PG&lt;E', '#SofaKingFlyy', 'show', '#COYS', 'membean', 'Nature', '#Aggieland', 'condoms', 'theater', 'RESERVATION', 'di', '#cutlertribute', 'sunset', '#polair', 'Bite', 'punchline', 'Lari', 'en', 'not', 'Treaty', 'eng', '26C', 'sometimes', 'panaginip', 'JAN', 'candour', '#NXTTakeOverRespect', '1980', 'doctored', '#SQLi', 'tes', 'HARAM', \"rockin'.\", 'Rodgers', 'Perang', '179', 'won', '???', 'shower', 'Squats', 'ik', 'Natty', 'calendar', 'favorited', '538', 'All', '7&amp;#x25', 'vine', 'blowjobs', 'coffee', 'alumni', 'Barcelona', 'Karlos', 'Bitan', '#blacklisting', 'lluvias', 'States', '(geloof', 'yupppppp', 'Uber', 'WALLET', '173k', 'trip', 'hvatam', 'RELEASE', 'ARIZONA', 'maker', 'mampu', 'ever', '07', 'Hlokoloza', 'hospital', 'AZZ', '#teamfollowback', 'louis', 'Gallery', 'Zips', 'oak', 'CofE', 'aintree', 'Shake', 'eight', 'tasty', 'India', '(-1', 'diri', '#ApolloNation', 'by', 'Sawyer', 'Contest', 'sexual', 'lagi', '18.30', 'Sounds', 'doggie', 'outro', 'live', 'PAGSUBOK', 'Address', 'AW', 'department', 'Tidak', 'frere', 'HARLEM', 'BlueShield', 'Midnight', 'Clinton', 'KNOW', '#Jesus', '#Citizenship', 'north', 'TERRORISM', '#Boston', '6S', 'bday', 'Conditions', 'but', 'means', 'Romney', 'Drug', '3hr', 'Alejandro', '2:2', 'ofClans', '#4615', 'loads', 'strength', '#fitblog', 'thee', 'ketika', '12:11', 'Star', 't', 'Trap', '4:16', 'Redmon', 'REMNINDER', 'blunt', 'Silva', '3:5', 'Simona', '#ALDUBComplicated', 'aber', 'Pulling', 'alles', 'TL', 'mengapa', '#WAKEUP', 'Cal', 'Temperature', 'tova', 'start', 'Pagar', 'Switch', 'African', 'apologize', '#BBCnews', 'Infection', 'PIX', 'Television', 'LEGENDARY', 'philippines', 'Emile', 'interacting', 'LEAVE', '#quotes', 'Follow', '#GG', 'Analogy', 'avec', '#Ticket', 'farm', 'pic.twitter.com/aL5Djt2F7m', 'DUDE', '#ANADucks', \"i'm\", 'Sierra', 'Nations', 'pam', 'MiltonSecurity', 'vision', 'Sabrina', 'Sc', 'Sitting', 'wanted', 'Homies', 'Cristobal', 'renewing', 'deficit', 'verdict', '#OTWOLHubbyWifey', 'Doc', 'Nicole', 'N.E.R.D.', 'act', 'rush', '#KARvTN', 'WATCH', 'looong', 'Eve', 'Helluva', 'dead', 'write', 'nkaka', 'Midwest', 'WEIRD', 'ph', 're-match', 'Rising', 'Responds', 'lack', 'Attending', 'Lelystad', '#WeightLoss', 'Linden', 'Aragon', 'Next', 'Possible', 'Orange', 'mapanembn', 'Notre', 'Split', 'tanning', '#YouKnowHow', 'baeby', 'measures', 'wedding', 'ARTIST', 'covering', 'L19', 'where', 'itu', 'four', 'header', 'updates', 'NHS', 'SD2', 'DEC', 'consecutive', '#charity', '#swimwear', 'Champion', 'MTS', 'Worldwide', 'F**k', 'atacan', 'Nah', 'Midland', 'siiiiiyaaaa', 'Deadly', 'covered', 'Twitpic', 'Zune', '#TheFlash', 'PETA', '#Dime_Miloko', 'Museveni', 'mood', 'P', '07:26', 'PONE', 'havin', 'Aims', 'DATA', 'tete', 'Loveless', 'fights', 'richmond', 'tmn', '#BDSM', 'Allen', 'complex', 'Buffs', 'finese', 'Mendez', 'FL', 'Logging', '#wkndreads', 'careful', 'manual', 'supeeer', 'oko', '00.99', '#HoodRatsNeedLoveToo', 'Starpoint', 'SAY', 'sink', 'visit', 'Shaking', 'kicked', '#Shady', 'anti-government', 'DONT', 'Namiss', 'spills', 'THINKS', 'CLASSICS', 'Special', '#MidnightHugot', '2:37', 'striker', 'Walton', 'emo', 'gaanv', 'hacia', 'Holiday', 'silly', 'Egypt', '11PM', '22.24', 'sono', '#happy', 'Rio', '12:10', 'throw', 'amazin', '#HelloMornings', 'Movie', 'February', 'Personal', 'BS', 'somethings', 'bukan', 'Monitor', 'L', 'Birthdays', 'Kovalev', 'Current', 'Atwater', 'snacks', 'Addresses', 'FOLLOW', 'Poloz', 'rubbish', 'Something', '4-7', 'GT-R', 'personality', '150325', 'Emergency', 'van', 'monastery', '#49969', 'Fab', 'Elements', 'arsenal', 'USB', 'rose', '3(', '*covers', 'UNTUK', '22h05m', 'Value', '#cl', 'echt', 'answers', 'JeA', 'attend', 'identity', 'MST', 'investments', '#reallymeans', '04:57', 'LJAJIC', \"tomorrow,I'd\", 'resumes', '12:09', 'East', 'networks', 'karoke', 'stayin', 'wording', 'rappers', '#WakeUpAmerica', '#SISTAR', '#JWST', 'dormir', 'Creative', 'WON', 'reality', 'tool', 's.w.t', 'Lewis', 'Post', 'Bringing', 'Osaka', 'triple', 'Bank', 'Bike', 'Noodleshop', 'developed', 'fall', 'lt', 'loool', 'c4', 'Soho', 'Bode', 'WAR', 'compte', 'd.I', '20%', '#JanasenaFoundationDay', '#EverydayILoveYouTrailerLaunch', 'purdy', 'soda', 'Feds', 'nuboso', 'SD', '#youusedtoknowhowtoflush', 'cons', 'Skarbo', 'winning', 'ABOUT', 'Longli', \"we've\", 'DEMI', 'Chup', 'Mack', 'Bondi', '#BSBTheMovie', 'style', 'usianya', '#finance', 'committee', 'suburban', 'onFB', 'guide', 'included', 'Kwon', '#408', 'Babe', 'NIGHTWEAR', 'Corruption', 'sa', 'mile', 'MAKES', '18th', 'Her', 'Australia', '12:00', 'Finna', 'Pics)', '05:32', '*Tonight*', 'actuele', 'Simpson', 'B.A.P', '*sits', 'expert', '#Fort', 'Vikki', 'useful', 'scouts', 'Katie', '1,450', 'calculator', 'S5', 'rye', 'merek', 'forewarning', 'temporarily', 'remains', 'Daydream', 'Talkin', 'Chick-fil-A', 'Metro', 'spoke', 'NOON', 'cali', 'Clorox', '#flash', '#theguardian', 'Wazza', 'jinxing', 'Cell', 'POURING', 'cats', '404.532', 'religion', 'camp', 'day~', 'Care', '#Livescore', 'Nadz', 'Deborah', 'KYLIE', '9th-11th', '#health', 'younger', 'Monday-Wednesday', 'Bruggink', 'Fenway', 'Helen', 'principles', 'cerveja', 'Highlights', 'HAHAHAHA', 'Clash', '#laptop', 'GOD', 'Tony', '#Victory', 'Mariano', 'Widener', 'conflict', 'dark', 'ex', 'istey', 'clearly', 'manatili', 'drizzy', '“@ABC7', 'prevail', 'THREE-oh', 'akk', '#NaturaSugars', 'Bernie', '7-Sept', 'demo', 'Floyd', '9,000', 'Enebeyen', '#falseflag', 'mentally', 'quizzes', 'ADIDAS', 'Catching', '#9764', 'Raises', 'BBTM', 'reranged', ',\"', 'FyrizSekiya', 'Retriever', '#Merger', '07:36', '#LoveLustTour', 'WA', 'Have', 'outstandingly', 'project', 'Brothers', 'abiertos', 'each', 'whose', 'students', 'ten', 'over', 'Vicky', 'Hernandez', 'USE', 'Gaye', 'Ashutosh', 'Houston-based', 'Thrilled', 'fall/winter', '93,000', 'HATE', 'LISTEN', 'christmas', 'ada', 'KE', 'UNDERSTAND', '05:55', 'conference', 'Canny', 'shiny', '#MACBABIES', 'pic.twitter.com/tiGkeQNkcj', '93', '05', 'NIGHTS', 'wtf', 'entails', 'Fiction', 'Puncak', 'awake', 'innings', 'accolade', '#StressFree', 'pushed', 'sofa', 'GK)', 'Rehab', 'cover', '#chrisbrown', '05:42', 'Purchase', 'linda', 'Unfortunately', 'general', 'B', 'Pamela', 'yelled', 'Motoland', 'Pwede', 'viel', 'REI', 'interviews', 'ate&amp;#39', 'Takes', '#TokaidoRoad', 'loaded', '#UFCBoston', 'LAPD', 'exercise', 'AUDIO', 'tran', 'recalling', 'BUKAS', 'apple', 'cigarettes', '*Danielle', '0trn', 'Jadi', 'Steven', 'crem', '#follow', 'meyerowitz', '\",', 'legacy', 'sponsorship', 'Investigations', 'Bangun', 'stings', '^Te', 'wrong', 'stockings', 'yesterday', '#bricioz', 'PTDR', 'Sympathy', 'Leak', 'In', 'Rodanthe', 'walain', '#sexo', 'hated', 'woodpeckers', 'texted', 'NOTHING', '#AppSec', 'confronts', 'Metal', 'Verona', 'pwede', 'UN', 'someday', 'workings', 'barksdale', 'Dollars', 'System', 'stressing', 'Santi', 'iPhone', 'merriment', 'Steel', 'SocialSponsoring', 'Comets', 'garnet', 'NewStart', '3hunna', 'pagkakataon', '#identitytheft', 'WINGS', 'lied', 'Cr', 'Republic', 'Lol', '#PartyHardy', '4Maret', 'witcher', 'ruimste', 'Metairie', 'precious', 'SEND', 'Albin', 'return', 'SQL', 'OPM', 'Is', '07:49', 'March', 'DEL', 'jen', 'Adentro', 'restore', 'VBulletin', '#USArmy', 'MUHLONGA', 'problem', 'RGA', 'Vanc', 'clinching', 'golfer', 'day//yes', 'RUNNING', 'chart', '#TacoTuesday', 'Surrounded', 'extremely', '-240', '#InOMN10', '#MLKDay', 'Webcasting', 'Hala', 'representation', 'pooky', 'Manufacturing', 'batch', 'Ballotpedia', 'pains', 'Sacramento', 'pard', '10-12E', 'posisiin', 'VIDEO', 'Woo', 'retweets', 'Brae', 'ability', 'DRM', 'Charlie', 'Mug**', 'Manitoba', 'Did', 'Temperaturas', 'LW', '\"\"', 'naten', 'special', 'Mavs/Rockets', 'sits', '08978659564', 'DIEU', 'S2', 'farmer', 'details', 'Wilmington', 'manifestation', 'Hobbit', 'superhero', '00', 'll', 'Tidora', 'buy', 'falls', 'spectacular', 'BEGGING', 'blank', 'does', 'citizens', 'Excuses', 'Second', 'fairies', 'Lois', '#KREAM', 'losing', 'faire', '2016', 'challenge', 'vacancy', 'Gives', 'service', 'care', 'SUV', 'apart', '#AFC', 'towards', 'Pearson', 'shooter', 'jalepeno', 'ABCD', 'visites', 'shame', 'rattrapage', 'Frost', '#Rt', 'SA', 'Mancini', 'inbox', 'try', 'SOBRANG', 'expand', '150000', 'toad', 'post4', 'domain', 'Forgets', 'Canada', 'malicious', 'curly', '#twistedsoul', 'Surya', '_Shomari', 'minister', 'Telecom', '5.30', 'Favorite', 'Bangkok', 'propose', 'Scottish', 'Whole', 'respective', 'disseminated', '#getintogolf', 'Line-up', '.twitter.com/oRrbyBZw5j', 'Qube', 'evening', 'abordar', 'stronger', 'quadruple', 'Ten', 'bias', 'Povo', 'dey', 'keuken', '#MTVEMA', 'booth', 'todays', 'why', 'FLOOD', 'name', 'addresses', 'Laguna', 'suprising', 'sniff', 'requesting', 'magshipping', '#marley', 'skills', 'magic', '916A', 'starting', 'SAMANA', 'places', 'fill', '#Nyc', '90.00', 'circumstance', 'Mr', 'aha', 'bed', 'Single', 'dwn', 'LAX', 'chest', 'Transformation', 'Metropolitan', 'asylum', '#TheMinions', 'yuri', 'Each', 'Market-', 'Standard', 'Miley', 'viewing', '#SantaMonica', '1260T', 'perish', 'Boa', 'recovery', 'delay', '#SalesianVolleyball', 'BBA', 'HALL', 'Base', 'Ni', 'BatMobile', 'outcome', '#Inlaws', 'AMAZING', 'rasta', '#Deals_US', 'cartoon', '#Texans', 'Buford', 'reallll', '#google', 'minuman', 'Nalaman', 'hido', 'SWEAR', 'OUR', 'ITIM', '#pissed', 'Strike', 'cardboard', 'seconds', 'TT', 'Closed', 'FRA', '9PM', 'Isindu', 'romper', 'slacker', 'magsepanx', 'Fast', 'characters', 'Explore', 'niiiiiiiiiight', 'Wayne', '116', 'MIAMI', '#UAE', 'datjayycarterkidd', 'ST', '12-4pm', 'NAMAN', 'sad-just', 'Snap', 'LT', 'Kitchen', '#FridayFoto', 'sittin', 'Egg', 'Miho', '#EAv', 'program', 'B-Day', 'Whomever', 'Schedule', 'Jonghyun', 'Kar', 'KEY', 'electricity', 'quelqun', 'STARCAST', 'government', '#thesaltandlight', 'Kendhoo', 'asssss', 'AVCCAM', 'entre', 'patches', 'Run', 'Swat', '2015)-', 'CALLED', 'comic', 'dye', 'Fastest', 'Sign-up', 'AGAIN', '02:51', 'Dude', '#FOURVinyl', 'Strategies', 'defeated', 'crash', 'advice', 'lady', 'frst', 'edits', 'universe', 'MOM', 'Jul', '1,000', \"America's...\", 'SLEEPING', 'BURGER', '#Motor', 'twit', 'ANY', 'P.E.I.', 'Promo', 'inspiring', '#Amg', 'twitter.com/bettyfreedoms/status/548954213800108032', 'Hog', 'donut', '16K', 'astound', '06:00', 'other', 'Nightclub', 'Qu', 'Edward', '#BoardwalkEmpire', 'hae', 'depends', 'Youth', 'shave', '#GiveAdenanAChance', 'sticks', 'phily', 'comfy', 'MULAN', 'fatal', 'Tali', 'Limelight', \"breach':\", 'xd', 'Barbados', '#The1906andPearlsShow', 'Helloooo', 'lives', 'Medium', '#theforce', 'Officer', 'Tuesdays', 'politics', 'HAVING', 'vapor', 'ave', 'Cup', 'Follows', 'trial', 'Par', 'eva', 'byli', 'FIRST', 'promised', 'clever', '19-December-2015', '#storyofmylife', 'guests', 'chatted', 'Respiratory', 'BELIEVE', 'Jogging', 'mar', 'Victim', 'Maths', 'Round', 'aabot', 'turned', 'dont', 'Swish', 'Fans', 'asap', 'Dec', 'Trying', '1988', 'Caroline', 'build', 'Donetsk', 'vieja', 'TIFF', '30', 'Beyer', 'YAY', '#seeyouthere', 'tomrrw', '7-', '#fail', '#WJE', 'purpose', 'gak', 'British…', '#WhoIsBurningBlackChurches', 'reflect', 'theyr', 'Nog', '#ecigarette', 'Tuesday-Fight', 'distraction', 'slap', 'Perdana', \"don't.\", '06:57', 'marque', 'Facts', 'whassup', 'Earthquakes', 'Flashback', '#TheForceAwakens', 'pound', 'Famous', 'everything', '4762', 'realy', 'mogelijk', 'ATWT', \"'ll\", 'Links', 'Jumping', 'SCHOOL', '#ThaHipHopHeadpic', '#RobertSugden', '\\\\\\\\', 'jaa', 'Jamshed', '07:50', 'solely', 'Exchange', 'Oi', 'riff', 'fitness', 'dahil', 'Mondayest', '03:24', 'charging', 'merci', 'Formidable', 'Israeli', 'Regrowth', 'perayaan', 'thread', 'Hawk', 'Die', 'PD', 'DJ', 'porket', 'HASHTAG', 'Badass', 'joystick', 'Aye', 'Leitura', 'fails', 'getting', 'valid', '#Colts', 'leading', 'exciting', 'Sunset', 'ushuahsahs', 'wetting', 'WHO', 'Side', 'unless', 'hide', 'Brilmayer', 'trs', 'Occupy', 'WHAAAA', 'wrapped', 'Dir', '12:39', 'natin', 'pic.twitter.com/Zwk3RRhS4A', 'bail', '!!!!!!!!!!!...', 'assets', 'sneaking', 'Louis', 'repris', 'Discover', 'refuel', '<UNK>', 'edu', '7:42', \"YOU'RE\", 'C/1963', 'Schemes', 'GOODIE', 'David', 'Stalker', 'Bird', 'shoe', 'splurb', 'LIV', 'Studies', 'Exhausted', '#LadyAntebellum', 'Ohhh', 'host', 'Surround', '#LastChristmas', 'Boulder', 'HIT', 'Kaduna', 'jom', 'password', 'B1A4', 's', 'Afridi', 'tough', 'Enjoy', '1982', 'banks', 'jumped', '#ALDUBisforREAL', 'SLOT', 'sube', '#1stChampion', 'Director', '911', 'battle', '#FABreality', 'poin', 'Sarkozy', 'dhoni', 'gamit', 'Avengers', 'Cassies', 'Anonymous', 'twitpic', ':...', 'Could', 'stone', 'Salut', 'Married', 'w/@alcarrogrier', 'PTTTTDDDDDDDDR', 'Ultimate', 'Cheyenne', 'running', 'returned', 'Homemade', '1:13', 'citizenry', 'police', 'Activity', 'Wwe', '#reality', 'pages', 'fin', 'Trending', 'fucking', '5pm', 'played', 'Comforting', 'boobs', 'Speed', '#gasoline', 'Berlated', 'died', 'gettinhg', '#vBulletin', '#videos', '#SamuelDubose', 'settle', 'blast', 'screwed', 'example', 'Last', 'grocery', 'Episode', '-Who', 'messaging', 'certain', '1245', 'jedna', 'vorige', 'harsh', 'Yip', 'Shrugs', 'lessons', 'forests', 'celle', 'Spread', 'concentrating', 'Observances', 'Mbps', 'xk', 'contemplative', 'feat', 'arriving', 'halong', 'air', 'WORRY', '#if5', '-Swadesh', '$6', '10:22', 'Focusing', 'forms', 'Shirt', 'tampuhan', 'baked', '1:48', 'Mandi', 'NOW|', 'posted', 'yapping', 'Hash', 'pic.twitter.com/sCOUGq5IWX', 'Imperfectly', 'Info', '042', 'cherry', 'Fearless', '#floodmywall', 'ansley', 'Diliman', 'disappointed', 'carbon', '((((', 'lefty', 'Online', 'Pat', 'tm', 'Twinsie', '9232', 'banco', 'Asian', 'PDF', 'Spelling', 'granted', 'Brooklyn', 'offering', '#Salamanca', 'BABY(', 'Holla', 'Kong', 'Mail', 'learning', '#wazzaaaa', '#SDCC', 'PAG-ASA', 'border', 'Arre', 'GET', 'mlb', 'CHATTANOOGA', 'limit', 'window', 'Mixed', '89', 'hoor', '#trycycle2015', 'Scoot', 'Hari', 'Bayreuth', 'bros', 'Opening', 'tan', 'MINI', 'Stairs', '#BostonNews', 'EK', '#Rachel', 'Van', '$1497-$3497', 'gift-wraps', '5-billion', 'MAD', '#State', \"don't\", 'Brings', 'captures', 'von', 'Rays', 'flew', 'WhatsApp', 'Effingham', 'steeply', 'seus', 'Dogg', 'fckn', 'Filling', 'Breezy', \"Cap'n\", 'buong', 'run', 'thur', 'x1x_Ne_x1x', 'pleaded', 'Privileged', 'Dave', 'mains', 'manko', '#letters', 'pags', '#AgentsOfSHIELD', 'Australian', '40-18', 'Easy', 'Ciroc', '#wEDnesday', 'babes', 'decide', 'SAVAGE', 'Explorers', 'olds', '#checkthisout', 'decided', 'Photoshopping', 'premiere', 'Newer', 'Artist', 'WB350F', 'anyone', 'sakit', 'Ice', 'Sat-Thu', 'RULES', 'November)-', 'RBI', '4yrs', 'realised', '12', 'fuckin', 'coastline', '5.29', 'Joe', '#useless', 'correction', 'houses', 'LiNGGO', '#NepalRelief', \"Mark's.\", '#meerkat', 'Paalam', 'Daniels', 'shorts', 'housing', 'Developing', 'KRISPY', 'please', 'Jung', 'parts', 'pig', 'effective', 'beforehand', 'KST', '10.06', 'Tommy', '#punkrockkaraoke', 'approaching', 'Instagram', 'revine', 'Float-Ellicott', 'finale', '#rejoice', 'Dujardin', 'Thankyou', 'wd', '#followtrain', '12-15yr', 'Creation', 'Tanah', '7-1', 'MI', 'yakuza', 'Grip', 'anak', '1St', 'Mayweather', '524', 'Comm', 'Philly', '#cantenjoy', 'connect', '9.99', 'coloco', 'HOPE', 'important', '#NHL', '1030', 'unseen', 'l', 'Retweet', 'gooooooooooo', 'teenagers', 'pulls', 'kathnielmeoww', '#Marines', 'Crosby', 'windows', 'Slopes', 'Babes', 'vendor', 'Vulnerabilities', 'thirty', 'voulez', 'good', 'forget*wink*', 'Tout', 'december', 'vanilla', 'ignoring', 'floors', 'Vintage', 'ORD', 'sms', '#ThisGuy', 'T-SHIRT', '#France', 'crib', 'George', 'job', 'Pac', 'serve', 'Vuelter', 'It’s', '#IsaacHo', 'upon', 'Naast', 'PARTY', '13-3', 'Reading', 'pre-wedding', '#Tennessee_US', 'meal', '36', '#ff', 'Dems', 'allow', 'Focus', 'society', 'ministry', 'kang', 'Theeeeeeeeeee', 'hij', 'Ready', '#mayabreaker', 'drag', 'Forreal', 'Tabor', 'Ještě', 'apparently', 'lipstick', 'cow', 'hun', '#NEWS', 'MITE', 'gilid', 'lhexine1111', 'names', 'Mikaelson', 'Trouble', 'edition', '$100', '4-month', 'makikita', 'sweeeet16', 'Miserables', 'dohta', 'accurate', '#MPHS', 'taco', 'Abdulazeez', 'rooted', 'Publisher', 'LISS', 'Summit', 'Porsche', 'Kathy', 'mighty', 'meets', 'UI', 'pinakawalan', 'Baptist', 'BE', 'borders', 'SOO', 'EVERYDAYILOVEYOU', '4:30', 'Nawlins', 'shopping', 'Diego', '1s', 'suck', 'appear', 'horse', 'Aus', '#californie', 'consciously', 'vagueness', 'phishing', 'Chaplin', 'seq', 'Choir', 'gear', 'chick', 'Jason', 'H.R.', 'Moncada', 'ministerial', 'hardly', 'Finds', 'Nov-1993', 'long*', 'Seeyas', 'Grunge', 'Corners', 'ray', '#BIGBEN', 'Interesting', 'Directioners', 'Episcopal', 'compared', 'd', 'bisa', 'Bowman', 'gamecard', 'DITR', '#14906', 'Aries', 'ruin', 'nagtatampo', 'AFT', 'clutching', 'stones', 'Pre-order', 'HodderScape', '#FF', 'Jumped', 'weapon', 'aming', '#GoBucks', 'DING', 'players', 'MONTCLAIR', 'Incident', 'MENDES', 'Bands', 'Lupita', 'kangen', 'twelve', 'status', '10-2-10', 'Thacker', 'proud', 'Why', 'award', 'somewhat', 'trilogy', 'Ayo', 'within', 'Bio', 'tip', 'manija', 'top-ranked', 'r', '#yoga', 'distance', '#Berlinale', 'MAGKASUNOD', '7ans', 'meet', 'Kudos', 'MUV', '05:54', 'bite', 'walmart', '#TOUCHDOWN', 'hypocrites', '7.5', 'Feku', 'Camila', 'hermosa', 'Alfredo', '#uspro', 'Carpet', 'Alternative', 'unsure', 'Part', 'worship', 'Retailers', 'piss', 'raven', 'Movies', 'Apr', 'Anniversary', 'soar', 'vomited', '\"...', 'VMA', 'CocoFunka', 'excitement', 'TRUE', 'Rab', 'reward', 'chewables', 'Cameras', 'Mozart', 'ATA', 'reolo.com', 'shoot', 'Experts', 'exp', '#AskEllen', 'nice', 'swordswoman', 'Yourself', 'spam', 'KOOO', '#turkey', 'Republicans', 'Banner', 'swole', 'through', 'budget', 'Maraton', '#android', 'Runner', 'nangyayare', '08:26', 'Vector', 'crock', 'shaken', 'lab', 'rooms', 'Sweet', '10)', 'foam', '#1DonGMA', 'Ruby', 'ANONG', 'adding', 'Memo', 'otherQuote', \"'@krtgrphr\", 'TILL', 'researchers', 'SUPAHFEST', 'pretty', 'Esther', '#EtsySale', 'love', 'design', 'ZDNet', '#GansettLane', 'lounge', 'ultimate', 'Compliance', 'fishing', 'Reason', 'REPUBLICAN', 'stick', 'resubmit', 'Rhodes', 'alhamdulillah', '#phoenix', 'leggings', 'GUYSSS', 'BORDER', 'destroyed', '#Tegrenation', 'OSU', 'Saying', 'Hack', 'anger', 'something', ':\"', 'NICOLE', 'ItS', 'contract', '#BREAKING', 'creeping', 'AUGUST', 'LUVZ', 'Maurice', \"u'll\", 'FUTHUR', 'Fiber', 'flights', 'Seconds', 'Ha', 'playlist', 'mooi', 'Fourteen', 'reunited', 'tawa', '5000', 'tempted', 'XD', 'drowning', 'EcoMom', '#fashion', 'mad', 'J', 'M)', 'Bonita', 'presents', 'prices', 'teehee', 'Jalen', 'Century', 'Secretary-Generals', 'km/h', 'nyo', 'grant', 'Notarization', 'chain-', '#SECMD15', 'Rihanna', 'Hospital', 'SHS', 'EVERYONE', 'Range', 'infinite', 'BLACK', 'vai', 'iloveyousomuch&amp;hearts', 'pourrai', 'LIRR', 'Ryan', 'JL', 'Box', 'promise', 'visions', 'BBC1', 'thong', '#blown', 'evenings', 'thakbo', '#RandomQuotes', 'appearing', 'october', 'GRADE', 'tragic', 'loved', 'nakuha', 'Favorites', 'DOCENSIA', 'spin', 'weak', 'bojh', 'Constitution', 'Job', 'hope', 'Slider', 'yr/yr', 'terminals', 'mess', 'lasa2', 'Aburrimiento', 'MANFROTTO', 'DAMMIT', 'est', 'place', '#ALDUBWishMoKayaKo', 'smile', 'TUESDAY', 'Feels', '49', '#Crime', 'ensure', 'joy_redona', 'commandment', 'Dealing', 'Ecclesiastes', 'Cachupas', 'tests', 'Corp', 'socially', 'Own', '#May', '#Bulgari', 'neighborhood', '1200', '#Thirstdays', '#WizdomBody', 'moves', '#NOFF', 'genuinely', 'Soooo', '#EDWeekly', 'countries', 'giving', 'Floor', 'isa', 'Guided', 'vicariously', 'Lilac', 'festival', '#hacking', 'CV', 'Salvatore', 'No', 'sunroof', '31', \"TEACHER'S\", 'boloss', 'N3', '32', 'motherfuck', 'nearby', 'prayer', 'birthday^_^', 'cheeky', 'Selling', 'Rather', 'candidate/commissioner', 'SNAPCHAT', 'Op', 'motto', 'doing', 'Agora', '#Wednesday', 'eve', 'girrrrrrl', '04:09', 'komende', 'topped', 'success', 'drove', '#ItsTheTeenLife', 'Hm', 'hurts', \"LIAM'S\", 'chicaaa', '#oilcity', 'black-blue', 'cheetah', 'Ehe', 'Derek', 'bitching', 'Harvard', 'Leno', 'unto', 'task', 'Bloom', '7550', 'rim', 'freaky', 'eye&amp;i', 'shoes', '#gradjob', 'tomar', 'autographs', 'bb', 'Matter', 'finds', 'ricotta', '#SensoryPlay', 'sheriff', 'tribe', 'MacKinnon', '.,', 'maza', 'bride', 'PEOPLE', 'SMITE', 'trap', 'Tahan', 'Patreon', 'actif', 'Lebowski', 'mealworm', 'Favourite', 'have', 'Barrow', 'anti-DDoS', 'seulgi', 'greeting', '47', 'keep', 'le', '#astronomy', '28', 'budgeting', 'original', 'sht', 'tuloy', 'AKO', '12:57', 'Answers', 'KiligMonday', 'Sweden', 'treasures', 'yooo', 'gggrrrrr', 'october-december', 'jump', 'Bantam', 'blow', 'Buck', 'season', 'burned-out', 'Astaghfirullah', 'tailgate', 'ein', 'Cake', 'Yo', 'randomly', '03:07', 'manques', 'peace', 'quiz', 'surprise', 'Jan-1', 'astonishing', 'Watched', 'gibs', 'Pharmacy', '03:09', 'IV', 'fabulous', 'pic.twitter.com/letPcEAD5u', 'enfin', 'banyak', 'Ozil', 'caliente', 'Boston', '#EMM', 'Robinho', 'entusiasmada', '#TFW', 'Ligo', 'GLASGOW', 'Realizing', 'paris', 'Cartier', '02:18', 'final', 'basketball', 'hard', 'reference', 'hint', 'candles', '9/20', 'AMp', 'Todo', 'kailangan', 'Craft', 'Commentaries', 'gasuka', 'pasok', 'burdens', 'ninth', 'voters', 'bumping', 't.i', 'House', '#Afib', '#Helix', 'hill', 'VIERNE', 'shade', 'Broadcast', 'fri', 'Pringles', 'potatoes', 'Of', 'laughter', 'Sept', 'dickt', 'uwi', 'Breyer', 'NG', 'Ibu', 'HARRY', 'Dick', 'permanent', 'w/3', '#edchat', 'Swansea', 'SUPERBOWL', 'Accounts', 'you143', 'CANCEL', 'Day', 'kvx7', 'pursuing', 'Greg', 'Confesses', 'lobster', '#JumpingLaBaule', '#BottleRock2015', 'STAPLES', 'Comedy', 'food', 'Thunderstorms', 'gadgets', '#EXID', 'Walker', 'EVER', 'boy', 'PIT', 'crows', 'autumn', '12:05', '#woot', '#MLBDraft', 'surfing', 'Israelstam', 'Intelligence', 'mucks', 'Bids)End', 'mengatakan', 'Interactive', 'Hahaha', 'three…', 'Always', 'exclusively', '#lesbian', '#RST', 'menjadi', 'CRUSH', 'NWS', 'Embraer', 'Three', 'hahah', 'tb', 'Wats', 'Monaco', 'City/Philadelphia', 'Auctions', 'clutch', '3PCS', 'EM', 'GO-GO-GO', 'RAPPERS', 'natation', 'qui', 'comme', 'shithole', 'Interlochen', 'bc', 'KAMI', '666', '#5771', '#screenshotsaturday', 'Mom', 'Enuff', 'Hip', 'XX', 'SAM', 'carefully', 'state', 'Nine', 'Books', '#Deal', 'mixing', '501', 'match', 'ARE', 'born', 'thuhumathugai', '1.00', '4m', 'Michael', 'invest', 'siang', 'goals', 'FOXTV', 'COLLEGE', 'Germano', '#CA', 'denk', '#syfy', 'Nimitz', 'Untold', 'spanish', 'Reggae', 'dispute', 'Rabbit', 'dibo', '10pm', 'manhunt', 'muna', 'FOREVER', 'Yeah', 'JOVETIC', 'Phillip', 'Commemorating', 'Ngayon', '#VoteJKT48ID', '#timetogetserious', 'Yeezy', '03:40', 'Natalie', 'logged', 'm', 'bom', 'amendment', 'capable', 'Ogden', '#Russia', '#TEAMBOMADE', 'SB1070', '#CNN', 'being', 'Koum', '#NFC', 'Land', 'SUDESTE', '#BMT', 'ATM', 'Ballyhoo', 'thrives', '#losers', 'pride', 'Woods', 'x20', 'Rumba', 'Buffalo', 'intended)', 'Shade', 'It', 'hulhujehi', 'vie', 'Performing', 'escrever', 'Practices', 'bout', 'Strong', 'blackmail', 'Sue', '180rb', 'takin', '!&quot;', ',,', 'airport', 'brutas', 'gettin', 'drama', 'upload', 'GAN', \"Gumbo's...\", 'up', 'trailer', 'ADOGUEI', 'Iar', 'curling', 'BREATH', 'ISC', 'millionth', '#Tech', 'moravians', 'continuing', 'Chakra', 'find', 'JUTHTIN', 'Keller', 'testicles', 'must', 'expression', '*PAG', '#Sick', 'Client', '#PLL', 'Pasok', 'Desert', 'coincidence', '#ALDUBWayBackHome', 'risk-', 'appearances', 'Temp', 'PLZ', 'MAHABOL', 'mentioned', 'informative', 'Rashad', '#TLS', 'long-term', 'Champions', 'GQ', 'understood', '70cm', 'Lineker', 'x74', 'Hamas', 'owner', 'LOVETEAMS', 'Orleans”', 'Chris', 'FIFA', 'Ellen', 'existence', 'Bitcoin', 'agenda', 'Reporting', '#tweetbatt', 'ygm', 'adverse', 'Petanque', 'bro', 'FHSU', 'Played', 'Fired', 'Hubert', 'wrestler', 'Anime', 'cause', 'VIDEOS', ':-/', '08:01', '#Kennesaw', 'SK', 'cracks', 'RT', '50', 'prof', 'Filmed', 'occurrence', 'premier', '#FortHood', 'son', 'Navy', 'environmentalists', 'Rd', 'Daftar', 'declaration', '...\".', 'meu', 'o.I', 'Fasting', 'form', 'Cop', '.:', '10:28', '#KATV7', 'Peppers', 'freshman', 'TheDeAndreWay', '#tucson', 'shoulda', '–', 'Donations', 'cinco', 'tumoz', '#Weather', 'bigla', 'Barnsley', '#OKC-', 'HOAX', 'va', '#dontmakemeleave', '#Touchnote', 'Dreading', '!!', 'maa', 'HOES', 'Rabbis', 'hubby-', 'Maker', 'ze', 'Mayday', 'CATCH', '#INTERCEPTION', 'shoutouts', 'Lane', 'IdeaboxStore', 'Then', 'game-changer', 'WEEKEND', 'RTs', 'experiment', 'Crossword', 'around', 'Lamborghini', 'unbreakableh1', 'kiss', 'LIVESTRONG', 'guards', '#Mauritius', 'madw', 'Dinner', '~967~', 'intentions', 'BoiRevolution', 'River', '01:16', 'glassy', 'oi', 'R', 'Employee', \"DENTAL'S\", '106', '#AllIWantIs', 'IITM', 'saben', 'borrow', '#illinois', 'Wines', 'fags', 'WEEK', 'LFW', 'Wetherspoon', 'Use', 'bored', 'bobok', 'affilate', 'IPL', 'onboard', '<url>', 'strange', 'Ernie', '#IndVSire', '#wx', 'Hyunbin', 'wonder', 'Gear】', 'Carolina', '#nouvelles', 'seen', 'f', 'MPH', 'bike', '#BevHills', 'Birds', \"L'AVAIS\", \"I'll\", 'Meet', 'JOB', 'Thx', 'Needs', 'pfff', 'triste', 'abuse', 'holograms', 'Patch', 'considering', 'tidak', 'days/times', 'unit', '==', 'GB', 'AlDub', 'million-year-old', 'july', 'PAK', '#miami', '#gothic', 'asked', 'co-pilot', 'Map', 'Atlanta', 'girlfriend', 'BEANIE', 'pic.twitter.com/8g9kY6qvLM', 'machucado', '#REALLYMEANS', 'Pxleyes', 'Marathon', 'alot', 'Als', 'families', 'Tyler', 'perfom', 'schools', '#twitterstorians', 'bone', 'eleanormarksprior', '3-5', 'pi', 'move', 'keynote', '8K', 'DAHIL', '06:38', 'article', 'unattractive', 'think', 'boyfriend', 'Y', 'strongest', 'Toby', 'behavior', 'post2', 'NAN', 'HOLD', 'mod', 'Yessss', 'simone', 'Sabtu', 'Suresh', 'Lucky', 'Least', 'Hidup', 'neo-nazis', 'Vol', '#if9', 'fazer', 'Mechanical', 'Heard', 'tiraba', '!....', 'ARMED', 'hold', '#YR', 'freeze', 'Summer', 'Dan', 'brain', 'deadline', 'resort', 'expires', 'pace', 'CALM', 'strike', 'br', 'Agustus-25', '#blueandwhitedynamite', '21-7', 'First-time', 'brought', 'Notes', 'counter', 'Burning', 'investment', 'hav', 'Open', 'event', '#entreprenuer', 'Venice', 'Smiley', 'WITHOUT', '#atheist', 'andri', 'ison', 'Middlesex', '#ALDUB11thWeeksary', 'Important', 'Vodafone', 'Uve', 'Betsey', '02:01', 'Tendulkar', '6000K', '1160465', 'hacking', 'dejk', '#rulesbetweenmen', 'Bonfire', 'assertion', '【Slash', 'fond', 'ferry', 'Corner', '#NOLAjobs', 'Prieto', 'Decision', 'Jaybilizer', 'bem', 'alcohol', 'Causeway', 'excitedddd', 'TO', '6-5', 'Diary', 'suelo', 'sunday', 'states-2nd', 'purest', 'untuk', '_', 'rankings', ':-)', 'spend', 'Club', 'pumpkins', 'Meat', 'fast', '#BeThere', 'hooray', 'PAR', 'Outside', 'Dec-28-2014', 'personnel', 'ONEW', 'nakita', 'broski', 'Official', 'midway', 'high', 'CAST', 'Riley', '#China', 'THANK', '04:00', 'Ramp', 'Apollo', 'Posted', 'number', 'cried', 'IKNOWIT', 'throws', 'to', '#MultiUnitMadness', 'Having', '^_^', 'Supra', 'interesting', 'Crooked', 'Siento', 'folks', 'kmsta', 'Carly', 'hmmmm', 'hardcore', 'MLB', 'Act', 'pos', 'His', '01', 'SQUAD', 'culinarias', '355th', '#OMGwhatateen', 'PLANET', 'melodeyy22', 'Untuk', 'quest', 'yep', 'HR', '08:45', 'Naku', '#winning', 'trolling', 'road', 'Z', 'das', 'via', 'fuuuuuuuuck', '#Technology', 'umbrella', 'Allroad', 'discusses', 'SEAsia', 'Gulp', '#March', 'DDoS', 'GRAND', 'tatts', '#Anonymous', 'Ramaikan', '#MesaShooting', 'Hounds', 'PlayStation', '-S', 'BPA-Free', 'STILL', 'Edmonton', 'Leadership', 'clear', 'If', 'held', 'KimarieTorres', 'YG', 'woord', 'Guide', 'gone', 'href=', 'SKY', 'Jayalalithaa', '02:19', 'alive', 'rare', '#ReallyDoe', 'describes', '103.5', 'Governor', 'People', 'poss', 'sampai', 'Tanner', 'Study', 'Ducati', 'interceptions', '~Spam~', 'true', 'Noon', 'confidence', '08:31', '#AyanSayangTuloy', '10th-12th', 'xx', 'syringe', 'NIH', 'inNewOrleans', 'Sell', 'Fac', 'Hashtag', 'Center', 'great', 'Being', 'fr', 'diet', 'censored', 'discovered', 'teacher', 'Zachary', 'Results', '*puss', 'binoculars', 'Barry', 'Illinois', 'RSX', '23', '#JKT48JuaraKCA2015', 'saute', 'Zuma', 'Hyper', 'while', '#hilarious', 'invented', 'Frustration', 'Varum', 'Partai', 'renouveler', 'elderly', 'Twitter', 'SELLIN', 'Music', 'Piranha', '#dreadlock', 'Migos', 'chip', 'squats', 'Affidavit', 'BFF', '-the', 'vamooooooo', 'Hofstra', '(((', 'aint', '#Passwords', 'sega', '#Mexico', 'Accel', '21:41', 'em', 'MEET', 'Extras', 'See', 'industrial-grade', 'Bureau', 'tail', 'jacket', 'Sultan', 'entertainment', 'getn', 'government-may', 'baka', 'rainy', 'affordable', 'help', '5-year-old', 'Ptn', 'FUTURE', 'boom', 'Sikkimese', 'congenital', \"We've\", 'sis', 'PL', 'convinced', 'korek', 'takes', '#may', '12:41', 'Hunger', 'Mijn', 'Attackers', 'Sainz', 'anime', 'Tonight', 'trys', '#cybersecmonth', 'JaDineOnTheirWingsToLondon', 'Brom', 'ICAST', '#mufc', 'persist', 'northern', 'McCartney', 'tasting', 'Made', '#Carnival2015', 'army', 'Hook', '05:15', '#DIIME_LOCO', 'guarantee', '#LOL', 'billy', 'zombies', '10/25/2015', 'shares', 'NRIs', 'Kennesaw', 'HOSPITAL', 'DVRs', '::', '[[', 'Sep-14-201', 'annoy', 'inflexible', 'nakapag', '$4T', 'Message', '#welcomerefugees', 'Regarding', 'terms', 'surprised', 'www.blogtalkradio.com/boi-revolution', 'jell', 'Neil', '82,160', '1:41', '#CPCC', 'Coming', 'stirred', 'vroege', 'Bussines', 'HEART', 'Raiders', '03:28', 'inscribed', 'KABC', 'switch', 'energy', 'User', 'transplant', 'THISSS', 'Prayers', '11pm/EST', '#Followers', 'G+', 'hairdresser', 'Soda', 'Farmers', 'Dear', 'closing', 'schedules', 'Dies', 'critically', 'nul', 'WORD', 'SUPERCHARGERS', '4pm', 'Mars', 'monochromatic', '#friday', '#TuitMakassar', '7.30', '4%', 'Syndrome', 'NEED', 'hacked', '550', 'guna', 'scifi', 'Lyndon', 'Freshman-seniorz', 'nabanga', 'MMDCCLXVIII', 'Seanzie', 'assist', '!?!:', 'Benitez', '#JustinForMMVA', 'papupuntahin', 'stolen', 'apply', 'Tanggal', 'cum', 'coworker', 'receiver', 'RED', 'destiny', 'thus', 'notification', 'figures', 'fined', 'benefit', 'BIackMaglc', 'SEE', '#AutoFreeFollowers', 'power', 'Kevin', 'committe', 'Home-Going', '80s', 'bottled', 'torn', '#PSYAngPagsinta', '#Photoactive', 'stuf', 'Kick', 'Lo', '#twilight', '#news', '04:30', 'Harry', 'Gov', 'Fox', '#margaret', 'Changed', 'bestfriend', \"i'ma\", 'readers-', 'SUPPOSED', 'mattoon', 'cat', 'junior', 'SJW', 'RUMOR', 'She', 'akhir', 'SMPD', 'Ga', '#MTVHottest', 'yan', 'Seriously', 'Nothing', 'Bases', 'ward', 'crying', 'Law', '#thesolesurvivors', 'PAN', 'www.scmagazine.com/320k-time-warner-cable-customers-possibly-victimized/article/463803/', 'Sotheby', '#friends', '#1', 'Arson/Explosives', '#StingVsTripleH', 'manusia', 'eduncan@iwcc', 'busy', '#13-16', 'melt', 'dnce', 'paleontologists', 'KY', '01:12', 'foreign', 'IG', '408', 'GigaOM', 'didnt', 'revealed', 'am-', 'Belinelli', 'customer', 'Weather', 'Agents', 'tide', 'inning', 'SWEATSHIRT', 'brighter', 'vip', 'whatchu', 'Speaking', '#porn', 'YES24', 'Lancers', 'Nostalgia', 'geweldig', 'Must', 'willing', 'warnings', 'Musik', 'McCain', 'Mini', 'WHUFC', 'BUY', 'shortly', 'kinds', 'UI(as', 'www.inquisitr.com/2257852/chattanooga-shooting-isis-twitter-account-warned-of-attack-minutes-before-shooting-authorities-calling-it-terrorism/', '#BORA', 'tacos', 'Jomblo', 'PT', 'lbs', '400', '#Pathologist-Childrens', 'Changes', '#yum', 'AS', 'Ft', '#Ameen', 'Greenville', '#ALDUBTheBigSurprise', 'Jueves', 'arrival', \"J'suis\", '03:52', 'pets', 'Shots', '#Team_Wolf1', 'hihi', 'Statewide', 'Weh', 'ALOT', 'Fest', 'signs', 'Tape', 'ang', '#Shooting', '247', \"We're\", 'withdraw', '#PureTragedy', 'enzo', 'Frank', 'pasalubong', 'FROM', '#premierleague', 'Bailey', 'Chink-A-Link', 'Elephant', 'Weed', 'Still', 'comple', 'loko', '#musical', 'Services', 'enlist', 'BREAKING', 'LIVE', '5SOS', 'knws', 'Europe', 'fart', 'Fort', '#jesustweeters', 'Lived', \"can't\", 'airports/coffee/conferences', 'throwback', '1000', 'Davos', 'Eco', 'NewsBBC', 'tim', 'Jan-21-2015', 'dulu', 'foundational', '#betternews', 'USD', 'entered', 'Punta', '#KungSiCoachLeaTeacherKo', '223,000', '#IoT', 'pd', '27-', 'drive-by', '(@The_Cobes', 'Robredo', 'powerful', 'NCC-1701', 'Beijinhos', 'Posford', 'Budget', 'ROOM', '#NYDONUT', 'driving', 'MSN', 'experienced', 'Perhaps', 'NGAYON', 'Glover', '1-2pm', 'MARCH', '1996', '.!', 'lift', 'okkk', 'mothers', '#ferry', 'Others', 'Technology', 'Onion', '#SanBernardino', 'bowler', 'whispering', ',...', 'perfection', 'measurement', 'wrap', 'Liffey', 'Systems', 'dolla', 'Swift', '2000', 'FACED', 'away', 'Campus', 'HAT-TRICK', 'background', 'Networks', 'wreck', 'tu', '05:12', 'dirait', 'Compu', 'Southern', 'Bieber', 'sandwich', '10:07', 'envoy', '#bilderdiekeinerversteht', 'smh', 'xoxox', 'ASISTEN', 'meri', 'session', 'affected', 'betos', '#functionalmobility', 'Co-champions', 'Off', 'puppy', '9-27-10', '+', 'pa-fall', 'Ja', '#futbol', 'Saturation', 'aphrodisiacs', 'fete', '09:26', 'ily', 'Editor', 'Completed', 'Metallica', 'RL2455HM', 'Whatsap', 'Wire', 'knowing', 'siswa', 'GPD', '#MotionX', 'drive', 'slaying', 'Met', 'house', 'FedEx', 'worst', 'welive#', 'photo', 'Proud', 'neighbors', '704-428-9009', 'direito', 'Cabio', 'Haitien', 'Exposes', 'talked', '#Detroit', 'TAG', 'Deadline', 'JE', 'VUE', 'Moves', 'llena', 'YOu', 'Wipes', \"breach',\", '7am', '143', '#AribyArianaGrande', 'WiFi', '.twitter.com/NNtHfrRtxu', 'T.T', 'messages', \"PATIENCE'S\", 'pain', 'temps', 'Spoilers', 'CREATIVE', 'Titusville', 'trauma', 'magiging', 'www.flancers.com', 'OH', 'peels', 'grip', 'aga', 'debate', 'arrivals', 'musical', 'BUSINESS', 'kaibigan', 'stranger', 'visual', 'UNC', 'EXO-M', \"Mary's.\", 'IFE', 'worker', 'Way', 'Crab', '#Infloodwetrust', '#hack', 'Turn', 'Nest', 'duper', 'Emmy', 'Us', 'CCU', 'WINTER', 'FOOD', 'Ladarius', '06:31', 'Evening', 'Wehrmacht', 'Favre', 'Group', 'dis', 'daaaaay', '#NextDoorNerd', 'VMAs', 'describe', '360-s', '.......................', 'Age', 'interview-', 'Caroleta', '!!!!', 'Steve', 'Spanish', 'promotional', 'appointment', 'add', 'Caramalized', 'Came', 'teh', 'Incentives', 'fab', '#Anybody', 'although', 'connecting', 'shes', 'seems', '1964', 'Mukherjee', '1,400', 'Apr-', 'Vs', 'embraces', 'cert', 'goof', 'Shafi', '#at', 'acknowledge', \"he'll\", 'prayers', 'Airplane', 'socks', 'Users', 'legit', 'sonngg', 'Bihwo', 'amazingrific', 'someone', 'pinaka-ALDUB', '#UkNews', 'odds', \"Roshe's!\", 'ange', '#baseball', 'realise', \"White'15\", 'Arthurs', '9-1', 'Mobile', 'NEWH', '026', 'tahun', 'Seed', 'Hindi', 'Compton', 'class', 'Sarah', \"d'Angers\", 'PLAY', 'opportunity', 'vais', 'source', 'Sometimes', '#menlopark', 'xxxxx', 'horan', 'ibash', 'throne', 'North', '#nightwear', 'Viento', '#PieDayFriday', 'ignore', '#Robron', 'Sky', '141', 'me..Parlae', 'Questions', 'Ivan', 'Mackail-Smith', 'WANNA', 'Calaman', '#sayitaintso', 'Barrel', 'Date', 'Harmon', 'nanoparticles', 'A7X', 'IS', 'deposition', '£1', 'Tulsa', 'her', 'Overhaul', 'aaahhh', 'LIVESTREAM', 'Sun-day', 'BYE', 'Hill', 'park', 'Khush', 'mums', 'playoffs', 'wasted', '1.6', 'chillin', 'pronto', 'hehee', 'cannot', 'Chase', 'ulhandhuthakugai', 'violence', 'tastes', 'Inbox', 'raffles', 'College', 'removed', 'belieber', '34', 'Lindsay', 'adjourned', 'Eventide', 'MOC', 'Louisiana', 'haters', 'Simmons', 'bonds', '#southernhospitality', 'know', '#1st', 'Massive', '#Topp', 'Engagement', 'arrested', 'basically', 'MEETING', '#ALDUB2ndMonthsary', 'BABIES', 'reaction', 'daru', 'tables', 'egg', '8888', 'Honored', 'TxT', '#ENDANDGERED', 'co', 'Ram', '50%', 'conservative', '138', '#Contributed', 'PICTURE', 'Cyclone', '#rumors', 'desperately', 'technicality', 'Chinese', 'sue', '#gardening', 'Gates', \"He'll\", 'hurt', 'italiana', 'Seems', '#IranTalks', 'CTA', 'DERBY', 'followers', 'Keganasan', 'post5', 'D@ck', 'T4', 'Cape', 'DRESS', 'declared', '10mins', 'BlogCon', 'week', 'fair', '#followthrough', 'Forevermore', 'whole', 'Albert', 'J.J.', 'sons', 'Port', 'Championship', '#GunFAIL', 'chances', '10:59', 'MAHARASHTRA(INDIA', \"dON'T\", 'firing', 'tee', 'Bucharest', 'pic.twitter.com/MuscZsa0DY', 'NYC', 'Chicksen', '#Like', 'fo', 'Embankment', 'Worst', 'hooping', 'Drawings', '#shoes', 'Aga', 'television', '#ChattanoogaShooting', 'acara', 'Tapos', 'insanely', 'main', 'loading', 'machines', 'jai', 'alternative', 'hayyarukuri', 'migranti', '364:159', 'TURNS', 'Recovery', 'writes', 'w/special', '#thanks', 'been', 'NALAMAN', 'Ne', 'NFL)', 'Closest', 'making', 'wilmington', 'twist', 'o.O', 'noites', \"c'mon\", 'GDS', '.....', 'Delphi', 'eventhough', \"They're\", 'WALK', 'image', '#Live', '#opm', 'UK/UofL', 'Private', '*knows', 'brightens', 'grunge', 'niyang', 'coeur', 'Decline', 'communal', 'Chillo', 'Arma', 'an', 'Headed', 'Luck', 'Mean', '??', 'initial', 'Raw', 'bright', 'Tryna', 'Boris', 'Witnesses', 'BACK', 'Paypal', 'delaware', 'Hiding', 'Bomba', 'Direc', 're-group', 'Umpqua', 'Greece', '#GappuKiRani', 'Gets', 'blackberries', 'Kankakee', 'salir', '#ALDUBSwitch', 'couldn', 'Larry', 'unprepared', 'Telly', 'sukses', '#comedownwithlove', '#Ottawa', '#LosMiniDelSonido', 'guesting', 'Savage', 'Mondays', 'steve', 'pm', '1-3', 'Spice', 'Oct-2014', '227.57', 'uploads', '#jail', 'ntake', 'Forget', 'designs', 'Starring', 'YUM', 'hick', 'Serye', 'bricht', 'member', 'ringtone', '#sony3d', 'adversity', '#september', 'crush', 'shouldber', 'partout', '#Eskorte', 'NFL', 'secure', 'Lyrics', 'Yap', 'swim', 'Makes', 'BIGGIE', 'units', 'Dish//', 'nagpupuyat', 'Attingham', 'Course', 'Civilians', 'SMUT', '#OTWOLPusongOFW', 'Bradley', 'sakanaya', 'this/is', '#timetravel', 'mike', 'alllll', '#ALDUBSumptuousLunch', '#wtfmoment', 'pic.twitter.com/EndtZPlhWz', 'duhh', '16.1', '#ALDUBBirthdayPLAN', 'Stand', 'function', 'Tray', 'Smallpools', 'Assessment', '#SELFISH', 'Danish', 'Sooo', 'Be', '1100', 'Want', ';o', 'wins', '#bigtits', 'Any', 'VIXX', 'Chef', 'Ngtxt', 'Emerge', \"C'MON!\", '#muchlove', 'rejected', 'whether', 'Airlines', '#SB49', 'beg', 'batteries', 'message', 'marriage', 'underwater', 'hoes', 'broadcast', 'Depot', 'Poker', 'ter', 'Te', 'wind', 'messing', 'sila', 'bailout', 'T', 'Observer', 'JV', '#ROOMmovie', 'Try', 'cigarette', 'vote', 'Jim', 'Roger', 'dtg', 'cri', '“@BBCBreaking', 'francis', '#TFL', 'Colorado', '#TGIBF', 'LUCK', 'ti', 'wet', 'Mo', 'Transnational', 'Terrorism', 'Refresh', 'lest', 'ouvindo', 'adress', 'Feminista', 'open', 'tierno', 'puree', 'ahhhh', '$30', 'ridiculous', 'fairy', 'savage', 'exhaustingly', 'surprises', \"d'me\", 'thundering', 'Muthal', 'others', 'fluctuations', 'laughing', 'chores', 'WISE', '#TGIF', \"'re\", 'Kmart', 'mon/tues', '#VideoVeranoMTV', 'promote', 'Brinkhaven', '#52', '#1989', 'Vine', 'chanwoo', '-this-', 'Rza', 'telugu', 'scholars', 'Dominic', 'Bash', 'Annual', 'Height', 'fix', 'Pawnee', 'Prize', 'tos', 'braids', 'Nelly', 'duitnya', 'neutral', 'Serena', 'DRINKS', 'Morning#', '5-4', '#aha30', '29.11', 'illuminated', 'Mostly', 'mangkok', 'freestyle', 'believes', 'federer', 'oz', 'ALDUB', 'dream', 'Cool', 'INDIA', 'sensible', 'gilshope', '/ht', '--', 'midweek', 'FB', 'non-Twitter', 'mawala', 'system', 'walked', '#October', '$25K', 'Undefeated', 'Minimalist', '#gunman', 'QUAKE', 'announce', 'bitchessss', '#PrkDR', 'Edin', 'del', 'Strip', 'UFlex', 'bomb', 'LIAMS', 'Sony/Bud', 'Maikes', 'dancer', 'Midtown', 'sec', '#Ingress', 'TENTE', '8-12', 'bitch', 'sorted', 'PS4', 'bat', 'discussions', 'Since', 'children', 'Fashion', 'snapped', 'Del', 'D-Day', '5', 'Watching', 'Luke', 'Obamacare', 'happiest', 'parade-goers', 'Barbershop', 'Street', 'tell', 'relax', 'Driving', 'twits', 'u', '140', '#Apple', 'antique', 'Golf^', '.......', '#InstaMagAndroid', 'launch', 'Daredevil', 'butterfly', 'ice', 'mass/commercial', 'quality', 'Unarmed', 'HAPPENED', 'bruh', '.\":', 'howitzer', 'Jerman', \"Lund's.\", 'had', '#Khaatumo', 'Senioritis', 'Umiwas', 'supportive', '06:02', 'Nazi', 'Kom', '#maygodblessusall', 'Tennesse…', 'Reagan-UCLA', 'Semoga', 'vemos', 'Thailand', 'History', 'Ver', 'PO', 'MirLes', 'Vikings', 'suicide', 'fudge', 'Yesssss', 'OKC', 'Lama', 'gives', 'watchdog', 'Cecilia', 'tighten', 'nah', 'Moreno', 'Chill', 'KatelynandKylie', 'Going', 'Xm', 'Putin', 'fuel', 'Insipid', '#MuseumBar', 'dislike', 'Released', 'possibly', 'smoking', '7/25', '...', 'Daughter', 'Ops', 'youppppiiieeee', 'Penguins', 'Nation', '#if24', 'news-journalonline', 'Copa', '11', 'SacBee', 'Gimme', 'finest', 'cussin', 'Cause', 'prime', 'postcard', 'negeri', 'Bless', 'Lineup', '18TH', 'conviction', 'Customers', 'Mix', 'Key', '#Ghent', 'BOX', 'bolta', 'Moon', 'Liked', 'Oblak', 'Lamar', 'anggota', 'JA', '#LifeCoaching', 'Hahahaha', 'barrier', 'Reg', 'afta', '#conquering', '09:32', 'body', '06:22', 'Geoffroy', 'same', 'PRN', 'Effect', 'frat', 'GOP', 'responding', 'dias', 'weiss', 'Regional', 'pag-asa', 'lycee', 'Reward', 'ouf', 'performs', 'blmd', '#followback', 'photograph', 'Smartwatch', 'Friday/Saturday', 'performances', 'intervention', 'Public', 'wa', 'buckhead', 'client', 'updated', 'EXO', 'revels', 'DADDY', 'against', 'LOLZ', '#rip', 'Pro', '#Ahlulbayt', 'nyabutin', '01:28', 'thinkin', 'Railway', 'Cudi', 'boredom', 'SS9', '#supplies', 'blessed', 'Photographs', 'rsvp', '#elxn42', '68%', 'pros', 'Pencil', 'Bullpens', ':)', 'chair', 'novel', 'upswing', 'Englishman', 'TPC-Audubon', 'jajan', 'Trail', 'GOOD', '2mar', 'aja', 'DONATE', 'Stupid', 'john@thelittleaussiebakery', 'Few', 'pg', 'results', 'CountdownBegins', 'KeatonMW3', 'nel', 'selections', 'Nijverdal', 'fee-free', 'forgetting', '#MAINBUILDING', 'Dance', 'Solving', 'Mesut', 'speaking', 'OUT', 'Murphy', '#free', '0.0', 'uni', 'mere', 'Cheese', 'ahi', 'Bet', 'lively', '16', '#shooting', 'coifferais', 'Taorminaa', 'NEVER', 'instantly', 'Gak', 'Alien', 'cant', 'leaked', 'xo', 'link', 'need', 'por', 'Pontianak-Ketapang', 'qund', 'deprived', 'Minds', 'Diluncurkan', 'worth', 'Bouncing', 'bust', 'nog', 'Gelar', 'photos', 'saynow', '#twitterstake', 'Brentwood', 'consultation', 'Turkey', 'whoa', 'confused', 'speaks', 'equivalent', 'AstronomersWithoutBorders', 'PARISIAN', 'probation', '#ClubLacura', 'unannounced', 'Modern', 'BABALA', 'VJ', 'Choose', 'nightttt', 'cardiologist', 'facebook', 'DATABASE', 'Mama', 'images', 'Vote', 'occurred', '#admissions', 'BASHAHAN', 'Dr', 'Rates', '#SupportIt', 'focus', 'shampoo', '#1915', 'Note', '03:27', 'Rock', 'miles', 'condemn', 'Texas', 'picnic', 'Managed', 'muda', 'those', 'eighty-five', 'nouvelle', 'mieux', 'Camelbak', '#2', 'dari', '02', 'plans', 'WRONG', '#JCSU', 'Cardel', 'hehe', 'MOTOGP', '#to', '1972)', 'replay', '#27', 'DRUGS', 'gih', 'WAIT', 'Margaret', 'AUTOPISTA', 'outfit', 'herz', 'director', '#essay', '4', '17,201', 'fucker', 'mt', 'Razor', 'deserve', 'recently', 'few', 'me)mlkjhgfdsq', '#weerfoto2015', '#wilty', 'listened', 'Lollipop', 'Castro', 'La', 'Buckle', 'kya', '#Midvaleshooting', 'Mohammedi', 'dawg', '#movie', 'Affects', '#Vaalu', 'kilig', 'Race', 'Fantastic', 'SCHEDULE', 'preps', 'Allstars', 'solutions', 'Giles', 'tender', 'mutually', 'Jaap', 'Newcastle', 'goooood', 'Considered', 'Voting', 'MAJOR', 'Patty', '467,551', '#RealChange', 'Scorpio', \"face''.....''smiley\", 'reception', 'BORN', 'cloud', '#CWFallPremieres', 'Weak', 'bale', 'jazz', 'lari2', 'Network', 'Goodluck', 'slept', 'stupid', '02:00', 'Gdns', 'printing', '#PrayingForFtHood', 'ThAnK', '#Monday', 'Probox', 'songs', 'buttery', 'science', 'aunty', 'SkySports', 'Kitni', 'wens', 'wel', 'clothes-based', 'Pranab', 'Live)', 'kon', '#drunkengoat', 'powder', 'filipino', 'Final', 'Names', 'COMPETITION', 'mansion', 'Boat', '16GB', 'Sale', '7-9', '12.30', '#Onlireeks', 'sooooooooooooooooooo', 'struggling', 'MUFC', 'zine', 'uban', '$MAR', 'moments', 'countr', 'Boyfriend', 'Disney', 'Jaket', 'Fetty', 'decorate', 'Apt', 'Conference', 'rebounds', '#HyukBestMaknae', 'Persuaders', 'tub', '??\"', '#GoBetter', '#JaneSeymour', '#Pisces', 'FUNDAY', 'sources', 'thuisshirt', '10:20', 'login', 'segment', 'brave', 'Datome', '11:13', 'May', 'rapping', 'Jenny', 'Jooth', '#NationalFriedChickenDay', '---', \"'Come\", 'Quit', '#Sun', 'Creek', 'quarter', 'CAPAS', 'Freedom', 'iTunes', 'Tame', '#Bills', 'reasons', 'Ben', 'Scarborough', 'fuckinn', 'chihuahua', 'WEEKS', 'cast', 'Learn', 'suspension', 'Firming', '05:46', 'Gabriella', 'Stephen', '1/', 'SlutWife', 'Doinq', '?\"', 'imleeegwaras', 'idk', 'KONSER', \"Monday's.\", \"qu'il\", 'hve', 'ball', 'Carlos', 'UP', 'contacts', '#resume', 'undefeated', '200K', 'Carmona', '24', '12.00', 'sorry', 'nag', 'Bolton', 'ain', 'BAR', 'Forward', 'Estereo', 'inspired', 'pink', 'druggie/acoholic', 'unemployed', '8,000', 'bun', 'Southampton', '----', 'SMS', 'Badawi', 'Treasury', '!!!?', 'severe', 'chat', '#Art', 'tall', 'V', 'ticket', '50000', 'dijamin', 'Somaliland', 'Advantages', 'Grind', 'Iran', 'BET', 'cry', 'Crater', 'Drops', '#ncaaLAX', '#BoyleHeights', 'brooms', '150610', 'someone/anyone', 'ok', 'premiered', 'forgotten', 'SDK', 'Con', 'suppossed', '#fact', 'wack', '#MSG2TeaserLaunch', 'circus', 'cooked', 'EzineArticles', 'burn', 'Respond', 'Empls', 'HOOT', 'failed', 'obnoxious', 'Gale', '#DreamLabRobot', 'Rutgers', 'freshmen', '`MAMA`', '3:01', 'nigga', 'Angkutan', 'bedtime', 'oig', 'il200', 'DEBUT', 'investigate', 'IPOWER', 'rehab', 'lead', 'necesito', 'largest-ever', '#OTWOLAmericanDream', 'elsewhere', '#Rockies', 'FIVE', '#RUSH_HOUR_AT_5', 'invited', 'boi', 'green', 'ahaha', 'Direct', 'phrasing', '#fx', '3.0', '2/22/15', '#OlimpiaSatuMare', '#bittersweet', 'Challenge', 'Sloppy', 'brittany', 'Portia', '320K+', 'Dion', 'tryna', 'PPL', 'Aptos', '/3', 'No-Humanity', '#FourthTeenager', 'Trisha', '14-Year-Old', '#relaxingnights', 'FESTIVAL', 'Spirit', 'EVERYBODY', 'spotted', '45', 'Haliburton', 'clots', '#bankholidayweekend', 'pake', 'Jesse', 'senin', 'baristas', 'amiss', '34637', 'Killarney', '49F', '#Scandal', '#dd', 'zraněni', 'luntur', 'secrets', 'Mines', '#8', '2015/12/07', 'Ironic', '#RedArmy', 'Break', 'decline', '02:33', 'drumstick', 'december_tv', 'bourbier', 'MONSTER', 'presenter', 'MKS', '#3146', 'pillows', 'SAT', '3-0', 'Save', 'SWAT', '$HBC', 'unlocking', 'safe', 'Ottawa', '#committed', 'TheEconomist', 'ganteng', 'Assistant', 'HAHA', '#OTWOLKasalKasalan', '#APECtado', 'Christ', 'female', '#guncontrol', 'forgot', 'pelabuhan', 'CIRCUS', 'Broke', 'off', 'Florida', 'largest', 'Saw', 'Reloded', 'BLVD', 'Gramm', 'exploited', 'keyboards', 'Tutoring', 'yosi', 'shitshow', 'WIN', 'Problems', 'Memoir', 'Congressman', 'dance*', 'parliamentary', 'lunatic', '10:01', 'graduating', 'Tamang', 'Southwestern', '85%', '#SNSD', '183,044', 'different', 'Spo', 'Vendo', 'lagrimas', 'Vai', 'Webb', 'Return', 'Chuck', 'happiness', 'Detroit', 'pursuit', 'rate', 'self-critical', '#Bengals', '#backtowork', 'Bradley-Jessie', 'Touch', 'LATEST', 'British', 'F_O_R_E_V_E_R', 'Union', 'auburn', 'guy', '#thiswomaniscrazy', 'Lines', 'Crof', 'Buti', 'fed', 'dragged', 'toga', 'whn', 'pada', 'stared', 'BELI', 'MAY', '#LogOutWithHennessey', '#DemiLovatoWorldTourMNL', 'series', 'headlines', 'smother', 'autant', '))', 'nein', '3/5', 'wore', '5:00', 'YEAAAAHHHH', 'WHEN', 'Live', 'gloves', 'belong', 'billboards', 'Stingers', 'Doing', 'erg', 'social', 'gua', '#RSVP', 'chairman', 'mother', '#EastLeake', 'scene', 'TNGM', 'mandated', '140.00', '980-333-3923', 'texts', 'te', '#Payback', 'second', 'beat', 'recap', 'UOEM', 'Tarthousemade', 'TIME', '80+', 'dries', 'its', 'Le', 'Members', 'TurnUp', '#Success', 'pope', 'nowhere', 'verbosity', 'REALIZE', 'YESSSSSS', 'Gang-Related', 'px', 'Williams', 'moved', 'Baseball', 'fondamentalistes', 'twentyfve', 'cavalas', 'Implicit', 'checking', 'rounds', 'IRS', 'rock', 'Chester', 'Linval', 'Boot', '#tshirts', 'W/DAD', '#LIBRALIZM', 'An', '#SEC', 'CE', 'kitchen', 'Des', 'HRC', 'nymor', 'Greenland', 'Terry', '#WhereAreUNowMusicVideo', 'Thirsty', 'TY', 'SYRIAN', 'Bourjois', 'trailing', 'block', 'gnyan', 'Abangan', 'showed', 'WOW', 'Som1', 'blockbuster', 'rating', 'sundays', 'NCC', 'hiking', 'Ticket', 'Paper', 'Rush', 'journey', 'features', 'Hood', 'lake', '#ALDUBCountdown', '078', 'Blaqout', '#greaterlala', 'Ima', '16-2', 'Money', 'roubaram', 'september', 'sore', 'IoT', 'JewChronicle', '77,000', 'bisaya', 'Membership', 'Election', 'LIZARD', 'Aaahh', 'TEAM', 'Nu', 'Tag', 'boyfrien', 'Soo', 'Tech', 'FUCKED', 'joined', 'Disneyland', '#VoteTrisMTV', 'vancouver', 'discuss', '9700', 'Airport', '03:20', 'break', 'niyan', 'sale', '#gorgeous', 'Place', 'na', 'iceskating', 'Lowcountry', 'birds', 'Tips', 'Oritsejafor', 'U21', 'dispatched', 'DI', 'TAYLOR', 'kasalanan', '#FRIDAY#MANIA', 'Nuclear', 'hitchhikers', 'PDT', 'there', '#Breach', 'volleybaltraining', '#trending', 'evidence', 'Wildlife', '#TYTLIVE', 'sargittarius', 'Test', 'LALALAND', 'Approach', 'YOM', 'mountain', '#ALDUBMagicLivesOn', 'Market', 'Yong', '#yxe', 'vivid', 'Kasich', '11.20', '64GB', 'ilibre', 'WKMT-DB', 'feeling', 'Ricky', 'Bee', '$49', 'Louisville', 'Rockin', 'Tahun', 'Truckin', \"post-'flash\", 'Son', 'NC', 'pobre', '650,000', 'JMY', 'Progress', 'Chemistry', 'Masaya', 'Dirk', 'curb', 'Apink', 'Rick', 'school…', '25/11', 'fb', \"j'adore\", 'Also', 'Anna', 'Hookah', '#trading', 'hacen', 'MC', 'Impala', 'tumulong', '$1000', 'Scope', 'Stylez', 'Marvin', 'gangs', 'Peter', '#CES2015', 'Arrested', '#vanpool', '#DearInstagram', 'THEM', '#writerslife', 'Zach', 'Temecula', 'jtm', 'Sus', 'UCS', 'nagsisink', 'Tiempo', 'deaths', 'Looney', 'Exit', '#BatB', 'Probably', 'post', 'squash', 'auto', 'Things', 'indicted', 'arts', 'Praying', '#sunday', 'somehow', 'lunch', 'interviewed', 'approve', 'dalawa', 'Walkabout', 'borrowed', 'influenced', 'JFK', 'Rams', '175rb', 'Costco', 'Kardashian', 'TEXTING', 'young', 'EDM', 'infinitos', 'Read', 'Shacharit', '#AlDubGameofDestiny', 'developmental', 'trippin', 'productive', '#Trend', 'Details', '#Miramichi', 'dimmak.com', 'gratitude', 'Onward', 'Sedunia', '#music', 'sense', 'Kill', 'discouraged', 'ugly', '#afterweekend', '1/3', 'Nvm', '24yo', 'Lull', 'attorney', 'bei', 'herfst', '#severewx', '20,000', 'SD11', '#birthday', '#growingweeds', 'obviously', '#ALDUBMostAwaitedDate', 'duet', 'All-Star', 'M3', 'Rousseff', 'Vortex', '37', 'reportedly', 'Pedrosa', '?????', 'showdown', 'Beleskey', 'jil', 'hits', 'bad', 'store', 'wate', 'Coupon', 'wounds', '10:15', 'iCARE', 'Hunter', 'MiKenJo', 'SOMEONE', 'VIA', 'Null#', 'commenters', 'kamukha', '#Heinz', 'anchoring', '#CountryClub', '3052507', 'sexiness', '1103', 'Rimutakas', 'Stray', '411', 'Spoons', 'human', 'selfie', 'Conf', 'Before', 'assumptoin', '#dirtygrandpa', 'acting', 'wishing', '1000th', 'searched', 'duty', 'au', 'cntg', 'CBS', '#BREAKINGNEWS', \"aren't\", '#MedicalJobs', 'Portland', 'oreo', 'poppers', 'dance', 'follower', 'Burrow', 'SORRRY', 'Death', 'thingies', 'Tumblr/Pinterest/Twitter', '09/16/2015', '#KUWTK', '#aldo', 'Economy', 'collector', 'mid', '45.00', '#Phillies', '2-hr', 'Premier', 'subs', 'What', 'par', 'přestřelka', 'talk', \"Hahaha'\", 'Over', '22.0', 'Donovan', 'Broken', 'grab', 'offerings', 'audition', 'Mecca', \"'@stephaniebriggs\", '#4GElite2', 'Updates', 'Floods', 'tracks', 'allday', 'responded', '989', 'Yatang', '#Business', '#Belgium', '32nd', 'competitor', 'Conquers', 'Mahal', '#germany', 'inanimate', 'Volleyball', 'passwords', 'LIFEEEE', 'Session', 'Holding', 'scheduled', '1M', 'Bluegrass', 'Allow', 'Mandaric', 'Tamales', 'Goals', 'RIDE', 'Pre-meal', 'hb', 'shelf', 'mort', 'TVPS', 'litigation', 'goober', 'tel', 'Basketball', 'PG', 'SWEETY', '#tea', 'lawmakers', '21st', 'zamu', 'home-relaxing', 'bumper', 'Collins', 'Aussies', 'products', '0600', 'Quarter', '12:56', 'shortening', 'accts', 'gorgeous', '160cm', '1000g', 'Depths', 'til', 'hoodies', 'Sinar', 'athletic', 'WISHIN', 'monopolization', 'realize', '=D', 'KPOP', 'arm', 'Google', 'CATET', 'Tenth', 'meager', '06:54', 'Shane', 'FEVER', 'O', '#netsec', 'southeast', 'Stop', 'Beverly', 'pleut', 'Feeling', 'Anderson', '2night', 'William', 'saturday', 've', 'Jump', 'vinan', 'EILY', 'cg', 'Rip', 'SICK', ':P', 'Force', 'Soulja', 'already', 'loud', 'Meron', '1953', 'from', '#seeyouatgringos', 'dope', 'says', 'Mikes', 'hubby', '01:25', 'Starwood', 'pounds', '#RETWEET', 'Daily', 'Warning', 'crazily', 'NPT', 'MOST', 'stop', 'UCF', 'training', 'Adventures', '#THURSDAY', 'kisses', 'TD', '#insurance', 'Sahebrao', 'leav', 'ROAD', '#NDWX', '#NewOldPhotos', 'e', 'Chilies', '#success', '#passion', 'conquer', '#Cagayan', 'Grey-blue', 'Chiefs', 'caption', 'Reveals', 'catching', 'Thompson', 'REALLY', 'offices', 'Sosyal', 'channel', 'Climate', '#foreveralone', 'fewest', 'Sayreville', 'Gif', 'moms', 'Guestmix', '9:30', '98-02', '#adopt', 'Sensibility', 'naiiinggit', 'veux', 'Jingle', 'BOYS', 'bagay', 'short-term', 'respond', 'Autumn', '#followtrick', '#lawblog', 'homeworkkk', '22,000', 'aggressiv', 'hookah', 'minutes', 'Poudre', 'FEBRUARY', 'shyt', ':D', 'makan', 'Deck', 'published', 'dancing', 'ptdr', '9.17', 'Rs', 'Thanks', 'eNCA', 'hasn&apos;', 'NAKITA', 'gay', 'preoccupied', 'GUSTO', 'hmmm', 'heard', 'weather.com', 'Teg', 'Deer', 'Clifford', 'REMC', 'WHAT', 'pic.twitter.com/i2DD4AZGXk', '#MoonDay', 'levied', 'recount', 'ended', 'Gone', 'rabbit', 'americká', 'parking', 'Enigma', 'CamelBak', 'Ninosebleed', 'Topics', '55', 'Whiteside', 'rode', 'includes', 'else', 'Zuidzijde', 'Gods', 'jones', 'nila', 'Gabriel', 'Lea', 'whatever', 'Vegan', 'Suspects', 'zielig', 'ditukar', 'misaddressing', 'Patriots', 'nuvi', 'Mdr', 'RIGHT', 'Garmin', 'winged', 'Investor', 'Ok', 'wow', 'silence', 'Abusadong', 'pricing', 'town', 'mcdz', '#GoVandals', \"O'clock.\", 'Constitutionally', 'Islamic', 'Park(ing', '#StarWars', '#NMN', 'manque', 'Editorial', 'america', 'natbynature', 'Mario', 'Freeway', 'wakes', 'kingpin', 'tweeted', 'EVERY', 'SHAKEMODE', 'competitions', 'tendencies', 'made', 'unpacking', 'referral', 'ra', 'nazomer', 'shield', 'calender*', 'Lover', 'disconnects', '-Rumi', 'if', 'preacher', 'graces', '13.9', '#PRDPWithFamily', 'quote', 'Million', 'Hum', '#Madison', 'gotta', 'democracy', 'interests', 'Troy', 'ohh', '#PURPOSE', 'favorites', 'ye', 'again', 'neither', '#Infosec', '#law', 'easily', 'rising', 'Observing', 'agricole', 'Playboy', 'famous', '-tiro', 'mom#priceless', '#birdgang', 'Dobby', 'Same', '#UNM', 'LADIES', 'support/safety', 'Pembroke', '#12sEverywhere', 'item', 'contributed', 'capacity', 'WHATTIME', 'rocket', '#noooooo', 'daesang', 'Hmm', 'ORLEANS', 'management', 'poslije', 'always', '*OOOOOOOOO*', 'analogue', 'monster', 'Camcorder', '09/14/2015', 'ch', 'lunchroom', 'Comic-Con', '4years', 'seriously', 'dramatically', 'Towers', 'wnt', '#P4P', \")'\", 'Minggu', 'Impacted', 'Kalye', 'document', 'truly', 'cocktails', 'Sunshine', 'polk', 'F-F-Friday', 'KB', 'chos', 'Fried', 'Jan', 'Bedi', 'REBOOT', 'marching', '#quote', 'Bullets', 'Aug', 'FSBO', 'ASK', '#World', 'went', '#WHL', 'nothing', 'Tweet-a-Thon', 'stated', 'Leopards', 'brew', 'preshipment', 'invalid', 'FUUCCCKKKK', 'Inspired', 'sizes', 'General', 'Pack', 'willget', 'mon', 'YALL', 'Lunch', 'nOT', 'clothes', 'finally', '!!!!!!!!!!', 'mana', 'disgrace', 'magdamag', '04', '#PrayForNewOrleans', 'mariaelena', 'Releases', 'Coba', 'pic.twitter.com/jNjO4fiZu2', 'pinagsamahan', 'khir', 'Singapore', \"sayin'.\", 'chalk', 'curren2956xiy', 'Tangina', 'Lawyer', 'go-to', 'Wednesday-MvC3', '#i', 'fer']\n",
      "defaultdict(<function build_dict.<locals>.<lambda> at 0x7f5af6090f28>, {'I-person': 0, 'B-other': 2, 'I-geo-loc': 3, 'B-company': 4, 'I-musicartist': 9, 'B-geo-loc': 10, 'I-facility': 8, 'B-person': 5, 'B-movie': 1, 'I-product': 6, 'O': 16, 'I-company': 13, 'B-facility': 12, 'B-musicartist': 15, 'I-tvshow': 19, 'I-movie': 11, 'B-product': 7, 'I-other': 14, 'B-sportsteam': 18, 'I-sportsteam': 20, 'B-tvshow': 17})\n",
      "['I-person', 'B-movie', 'B-other', 'I-geo-loc', 'B-company', 'B-person', 'I-product', 'B-product', 'I-facility', 'I-musicartist', 'B-geo-loc', 'I-movie', 'B-facility', 'I-company', 'I-other', 'B-musicartist', 'O', 'B-tvshow', 'B-sportsteam', 'I-tvshow', 'I-sportsteam']\n"
     ]
    }
   ],
   "source": [
    "print(len(token2idx))\n",
    "print(idx2token)\n",
    "print(tag2idx)\n",
    "print(idx2tag)\n"
   ]
  },
  {
   "cell_type": "markdown",
   "metadata": {
    "colab_type": "text",
    "id": "hjybjhSuUcuM"
   },
   "source": [
    "The next additional functions will help you to create the mapping between tokens and ids for a sentence. "
   ]
  },
  {
   "cell_type": "code",
   "execution_count": 45,
   "metadata": {
    "colab": {},
    "colab_type": "code",
    "id": "vgKrXxn-UcuN"
   },
   "outputs": [],
   "source": [
    "def words2idxs(tokens_list):\n",
    "    return [token2idx[word] for word in tokens_list]\n",
    "\n",
    "def tags2idxs(tags_list):\n",
    "    return [tag2idx[tag] for tag in tags_list]\n",
    "\n",
    "def idxs2words(idxs):\n",
    "    return [idx2token[idx] for idx in idxs]\n",
    "\n",
    "def idxs2tags(idxs):\n",
    "    return [idx2tag[idx] for idx in idxs]"
   ]
  },
  {
   "cell_type": "markdown",
   "metadata": {
    "colab_type": "text",
    "id": "f8sTxVeRUcuR"
   },
   "source": [
    "### Generate batches\n",
    "\n",
    "Neural Networks are usually trained with batches. It means that weight updates of the network are based on several sequences at every single time. The tricky part is that all sequences within a batch need to have the same length. So we will pad them with a special `<PAD>` token. It is also a good practice to provide RNN with sequence lengths, so it can skip computations for padding parts. We provide the batching function *batches_generator* readily available for you to save time. "
   ]
  },
  {
   "cell_type": "code",
   "execution_count": 46,
   "metadata": {
    "colab": {},
    "colab_type": "code",
    "id": "p82BFZB1UcuS"
   },
   "outputs": [],
   "source": [
    "def batches_generator(batch_size, tokens, tags,\n",
    "                      shuffle=True, allow_smaller_last_batch=True):\n",
    "    \"\"\"Generates padded batches of tokens and tags.\"\"\"\n",
    "    \n",
    "    n_samples = len(tokens)\n",
    "    if shuffle:\n",
    "        order = np.random.permutation(n_samples)\n",
    "    else:\n",
    "        order = np.arange(n_samples)\n",
    "\n",
    "    n_batches = n_samples // batch_size\n",
    "    if allow_smaller_last_batch and n_samples % batch_size:\n",
    "        n_batches += 1\n",
    "\n",
    "    for k in range(n_batches):\n",
    "        batch_start = k * batch_size\n",
    "        batch_end = min((k + 1) * batch_size, n_samples)\n",
    "        current_batch_size = batch_end - batch_start\n",
    "        x_list = []\n",
    "        y_list = []\n",
    "        max_len_token = 0\n",
    "        for idx in order[batch_start: batch_end]:\n",
    "            x_list.append(words2idxs(tokens[idx]))\n",
    "            y_list.append(tags2idxs(tags[idx]))\n",
    "            max_len_token = max(max_len_token, len(tags[idx]))\n",
    "            \n",
    "        # Fill in the data into numpy nd-arrays filled with padding indices.\n",
    "        x = np.ones([current_batch_size, max_len_token], dtype=np.int32) * token2idx['<PAD>']\n",
    "        y = np.ones([current_batch_size, max_len_token], dtype=np.int32) * tag2idx['O']\n",
    "        lengths = np.zeros(current_batch_size, dtype=np.int32)\n",
    "        for n in range(current_batch_size):\n",
    "            utt_len = len(x_list[n])\n",
    "            x[n, :utt_len] = x_list[n]\n",
    "            lengths[n] = utt_len\n",
    "            y[n, :utt_len] = y_list[n]\n",
    "        yield x, y, lengths"
   ]
  },
  {
   "cell_type": "markdown",
   "metadata": {
    "colab_type": "text",
    "id": "KWc9x8P-UcuV"
   },
   "source": [
    "## Build a recurrent neural network\n",
    "\n",
    "This is the most important part of the assignment. Here we will specify the network architecture based on TensorFlow building blocks. It's fun and easy as a lego constructor! We will create an LSTM network which will produce probability distribution over tags for each token in a sentence. To take into account both right and left contexts of the token, we will use Bi-Directional LSTM (Bi-LSTM). Dense layer will be used on top to perform tag classification.  "
   ]
  },
  {
   "cell_type": "code",
   "execution_count": 47,
   "metadata": {
    "colab": {
     "base_uri": "https://localhost:8080/",
     "height": 63
    },
    "colab_type": "code",
    "id": "M3-dD1epUcuW",
    "outputId": "3e691a70-9568-464a-af40-8db53af4186c"
   },
   "outputs": [],
   "source": [
    "import tensorflow as tf\n",
    "import numpy as np"
   ]
  },
  {
   "cell_type": "code",
   "execution_count": 48,
   "metadata": {
    "colab": {},
    "colab_type": "code",
    "id": "zXWAObBgUcua"
   },
   "outputs": [],
   "source": [
    "class BiLSTMModel():\n",
    "    pass"
   ]
  },
  {
   "cell_type": "markdown",
   "metadata": {
    "colab_type": "text",
    "collapsed": true,
    "id": "lv1ZrKPJUcud"
   },
   "source": [
    "First, we need to create [placeholders](https://www.tensorflow.org/versions/master/api_docs/python/tf/placeholder) to specify what data we are going to feed into the network during the execution time.  For this task we will need the following placeholders:\n",
    " - *input_batch* — sequences of words (the shape equals to [batch_size, sequence_len]);\n",
    " - *ground_truth_tags* — sequences of tags (the shape equals to [batch_size, sequence_len]);\n",
    " - *lengths* — lengths of not padded sequences (the shape equals to [batch_size]);\n",
    " - *dropout_ph* — dropout keep probability; this placeholder has a predefined value 1;\n",
    " - *learning_rate_ph* — learning rate; we need this placeholder because we want to change the value during training.\n",
    "\n",
    "It could be noticed that we use *None* in the shapes in the declaration, which means that data of any size can be feeded. \n",
    "\n",
    "You need to complete the function *declare_placeholders*."
   ]
  },
  {
   "cell_type": "code",
   "execution_count": 49,
   "metadata": {
    "colab": {},
    "colab_type": "code",
    "id": "s4UkXsH6Ucuf"
   },
   "outputs": [],
   "source": [
    "def declare_placeholders(self):\n",
    "    \"\"\"Specifies placeholders for the model.\"\"\"\n",
    "\n",
    "    # Placeholders for input and ground truth output.\n",
    "    self.input_batch = tf.placeholder(dtype=tf.int32, shape=[None, None], name='input_batch') \n",
    "    self.ground_truth_tags = tf.placeholder(dtype=tf.int32, shape=[None, None], name='ground_truth_tags') ######### YOUR CODE HERE #############\n",
    "  \n",
    "    # Placeholder for lengths of the sequences.\n",
    "    self.lengths = tf.placeholder(dtype=tf.int32, shape=[None], name='lengths') \n",
    "    \n",
    "    # Placeholder for a dropout keep probability. If we don't feed\n",
    "    # a value for this placeholder, it will be equal to 1.0.\n",
    "    self.dropout_ph = tf.placeholder_with_default(tf.cast(1.0, tf.float32), shape=[])\n",
    "    \n",
    "    # Placeholder for a learning rate (tf.float32).\n",
    "    self.learning_rate_ph = tf.placeholder(dtype=tf.float32, name='learning_rate_ph')######### YOUR CODE HERE #############"
   ]
  },
  {
   "cell_type": "code",
   "execution_count": 50,
   "metadata": {
    "colab": {},
    "colab_type": "code",
    "id": "CYxQGHG5Ucuk"
   },
   "outputs": [],
   "source": [
    "BiLSTMModel.__declare_placeholders = classmethod(declare_placeholders)"
   ]
  },
  {
   "cell_type": "markdown",
   "metadata": {
    "colab_type": "text",
    "collapsed": true,
    "id": "TWE1tt20Ucuo"
   },
   "source": [
    "Now, let us specify the layers of the neural network. First, we need to perform some preparatory steps: \n",
    " \n",
    "- Create embeddings matrix with [tf.Variable](https://www.tensorflow.org/api_docs/python/tf/Variable). Specify its name (*embeddings_matrix*), type  (*tf.float32*), and initialize with random values.\n",
    "- Create forward and backward LSTM cells. TensorFlow provides a number of RNN cells ready for you. We suggest that you use *LSTMCell*, but you can also experiment with other types, e.g. GRU cells. [This](http://colah.github.io/posts/2015-08-Understanding-LSTMs/) blogpost could be interesting if you want to learn more about the differences.\n",
    "- Wrap your cells with [DropoutWrapper](https://www.tensorflow.org/api_docs/python/tf/contrib/rnn/DropoutWrapper). Dropout is an important regularization technique for neural networks. Specify all keep probabilities using the dropout placeholder that we created before.\n",
    " \n",
    "After that, you can build the computation graph that transforms an input_batch:\n",
    "\n",
    "- [Look up](https://www.tensorflow.org/api_docs/python/tf/nn/embedding_lookup) embeddings for an *input_batch* in the prepared *embedding_matrix*.\n",
    "- Pass the embeddings through [Bidirectional Dynamic RNN](https://www.tensorflow.org/api_docs/python/tf/nn/bidirectional_dynamic_rnn) with the specified forward and backward cells. Use the lengths placeholder here to avoid computations for padding tokens inside the RNN.\n",
    "- Create a dense layer on top. Its output will be used directly in loss function.  \n",
    " \n",
    "Fill in the code below. In case you need to debug something, the easiest way is to check that tensor shapes of each step match the expected ones. \n",
    " "
   ]
  },
  {
   "cell_type": "code",
   "execution_count": 51,
   "metadata": {
    "colab": {},
    "colab_type": "code",
    "id": "SqzlYxIyUcup"
   },
   "outputs": [],
   "source": [
    "def build_layers(self, vocabulary_size, embedding_dim, n_hidden_rnn, n_tags):\n",
    "    \"\"\"Specifies bi-LSTM architecture and computes logits for inputs.\"\"\"\n",
    "    \n",
    "    # Create embedding variable (tf.Variable) with dtype tf.float32\n",
    "    initial_embedding_matrix = np.random.randn(vocabulary_size, embedding_dim) / np.sqrt(embedding_dim)\n",
    "    embedding_matrix_variable = tf.Variable(name = \"embeddings_matrix\", dtype = tf.float32, initial_value=initial_embedding_matrix)######### YOUR CODE HERE #############\n",
    "    \n",
    "    # Create RNN cells (for example, tf.nn.rnn_cell.BasicLSTMCell) with n_hidden_rnn number of units \n",
    "    # and dropout (tf.nn.rnn_cell.DropoutWrapper), initializing all *_keep_prob with dropout placeholder.\n",
    "    forward_cell =  tf.nn.rnn_cell.BasicLSTMCell(n_hidden_rnn)######### YOUR CODE HERE #############\n",
    "    backward_cell =   tf.nn.rnn_cell.BasicLSTMCell(n_hidden_rnn)######### YOUR CODE HERE #############\n",
    "    if self.dropout_ph is not None:\n",
    "            lstm_fw_cell=tf.nn.rnn_cell.DropoutWrapper(forward_cell,output_keep_prob=self.dropout_ph, input_keep_prob = self.dropout_ph )\n",
    "            lstm_bw_cell=tf.nn.rnn_cell.DropoutWrapper(backward_cell,output_keep_prob=self.dropout_ph, input_keep_prob = self.dropout_ph)\n",
    "\n",
    "    # Look up embeddings for self.input_batch (tf.nn.embedding_lookup).\n",
    "    # Shape: [batch_size, sequence_len, embedding_dim].\n",
    "    embeddings = tf.nn.embedding_lookup(embedding_matrix_variable, ids = self.input_batch)######### YOUR CODE HERE #############\n",
    "    \n",
    "    # Pass them through Bidirectional Dynamic RNN (tf.nn.bidirectional_dynamic_rnn).\n",
    "    # Shape: [batch_size, sequence_len, 2 * n_hidden_rnn]. \n",
    "    # Also don't forget to initialize sequence_length as self.lengths and dtype as tf.float32.\n",
    "    (rnn_output_fw, rnn_output_bw), _ =  tf.nn.bidirectional_dynamic_rnn(forward_cell, backward_cell, sequence_length=self.lengths, inputs=embeddings,dtype = tf.float32) ######### YOUR CODE HERE #############\n",
    "    rnn_output = tf.concat([rnn_output_fw, rnn_output_bw], axis=2)\n",
    "\n",
    "    # Dense layer on top.\n",
    "    # Shape: [batch_size, sequence_len, n_tags].   \n",
    "    self.logits = tf.layers.dense(rnn_output, n_tags, activation=None)"
   ]
  },
  {
   "cell_type": "code",
   "execution_count": 52,
   "metadata": {
    "colab": {},
    "colab_type": "code",
    "id": "U_lWmikMUcus"
   },
   "outputs": [],
   "source": [
    "BiLSTMModel.__build_layers = classmethod(build_layers)"
   ]
  },
  {
   "cell_type": "markdown",
   "metadata": {
    "colab_type": "text",
    "id": "hmRQpHxyUcuw"
   },
   "source": [
    "To compute the actual predictions of the neural network, you need to apply [softmax](https://www.tensorflow.org/api_docs/python/tf/nn/softmax) to the last layer and find the most probable tags with [argmax](https://www.tensorflow.org/api_docs/python/tf/argmax)."
   ]
  },
  {
   "cell_type": "code",
   "execution_count": 53,
   "metadata": {
    "colab": {},
    "colab_type": "code",
    "id": "v46ZFmDIUcux"
   },
   "outputs": [],
   "source": [
    "def compute_predictions(self):\n",
    "    \"\"\"Transforms logits to probabilities and finds the most probable tags.\"\"\"\n",
    "    \n",
    "    # Create softmax (tf.nn.softmax) function\n",
    "    softmax_output = tf.nn.softmax(self.logits)######### YOUR CODE HERE #############\n",
    "    \n",
    "    # Use argmax (tf.argmax) to get the most probable tags\n",
    "    # Don't forget to set axis=-1\n",
    "    # otherwise argmax will be calculated in a wrong way\n",
    "    self.predictions = tf.argmax(softmax_output,axis = -1)######### YOUR CODE HERE #############"
   ]
  },
  {
   "cell_type": "code",
   "execution_count": 54,
   "metadata": {
    "colab": {},
    "colab_type": "code",
    "id": "efQz9jkaUcu3"
   },
   "outputs": [],
   "source": [
    "BiLSTMModel.__compute_predictions = classmethod(compute_predictions)"
   ]
  },
  {
   "cell_type": "markdown",
   "metadata": {
    "colab_type": "text",
    "collapsed": true,
    "id": "x6jQhsMYUcu7"
   },
   "source": [
    "During training we do not need predictions of the network, but we need a loss function. We will use [cross-entropy loss](http://ml-cheatsheet.readthedocs.io/en/latest/loss_functions.html#cross-entropy), efficiently implemented in TF as \n",
    "[cross entropy with logits](https://www.tensorflow.org/api_docs/python/tf/nn/softmax_cross_entropy_with_logits_v2). Note that it should be applied to logits of the model (not to softmax probabilities!). Also note,  that we do not want to take into account loss terms coming from `<PAD>` tokens. So we need to mask them out, before computing [mean](https://www.tensorflow.org/api_docs/python/tf/reduce_mean)."
   ]
  },
  {
   "cell_type": "code",
   "execution_count": 55,
   "metadata": {
    "colab": {},
    "colab_type": "code",
    "id": "77qspznVUcu9"
   },
   "outputs": [],
   "source": [
    "def compute_loss(self, n_tags, PAD_index):\n",
    "    \"\"\"Computes masked cross-entopy loss with logits.\"\"\"\n",
    "    \n",
    "    # Create cross entropy function function (tf.nn.softmax_cross_entropy_with_logits_v2)\n",
    "    ground_truth_tags_one_hot = tf.one_hot(self.ground_truth_tags, n_tags)\n",
    "    loss_tensor = tf.nn.softmax_cross_entropy_with_logits_v2(ground_truth_tags_one_hot, self.logits) ######### YOUR CODE HERE #############\n",
    "    \n",
    "    mask = tf.cast(tf.not_equal(self.input_batch, PAD_index), tf.float32)\n",
    "    # Create loss function which doesn't operate with <PAD> tokens (tf.reduce_mean)\n",
    "    # Be careful that the argument of tf.reduce_mean should be\n",
    "    # multiplication of mask and loss_tensor.\n",
    "    self.loss =  tf.reduce_mean(tf.math.multiply(mask,loss_tensor))######### YOUR CODE HERE #############"
   ]
  },
  {
   "cell_type": "code",
   "execution_count": 56,
   "metadata": {
    "colab": {},
    "colab_type": "code",
    "id": "UOkRTUdsUcvB"
   },
   "outputs": [],
   "source": [
    "BiLSTMModel.__compute_loss = classmethod(compute_loss)"
   ]
  },
  {
   "cell_type": "markdown",
   "metadata": {
    "colab_type": "text",
    "id": "aW27wqv4UcvE"
   },
   "source": [
    "The last thing to specify is how we want to optimize the loss. \n",
    "We suggest that you use [Adam](https://www.tensorflow.org/api_docs/python/tf/train/AdamOptimizer) optimizer with a learning rate from the corresponding placeholder. \n",
    "You will also need to apply clipping to eliminate exploding gradients. It can be easily done with [clip_by_norm](https://www.tensorflow.org/api_docs/python/tf/clip_by_norm) function. "
   ]
  },
  {
   "cell_type": "code",
   "execution_count": 57,
   "metadata": {
    "colab": {},
    "colab_type": "code",
    "id": "VrmhPT1KUcvF"
   },
   "outputs": [],
   "source": [
    "def perform_optimization(self):\n",
    "    \"\"\"Specifies the optimizer and train_op for the model.\"\"\"\n",
    "    \n",
    "    # Create an optimizer (tf.train.AdamOptimizer)\n",
    "    self.optimizer = tf.train.AdamOptimizer() ######### YOUR CODE HERE #############\n",
    "    self.grads_and_vars = self.optimizer.compute_gradients(self.loss)\n",
    "    \n",
    "    # Gradient clipping (tf.clip_by_norm) for self.grads_and_vars\n",
    "    # Pay attention that you need to apply this operation only for gradients \n",
    "    # because self.grads_and_vars also contains variables.\n",
    "    # list comprehension might be useful in this case.\n",
    "    clip_norm = tf.cast(1.0, tf.float32)\n",
    "    self.grads_and_vars = [\n",
    "            (tf.clip_by_norm(grad, clip_norm), var)\n",
    "            if grad is not None else (grad, var)\n",
    "            for grad, var in self.grads_and_vars]\n",
    "    # self.grads_and_vars =  tf.clip_by_norm(self.grads_and_vars, clip_norm=clip_norm) ######### YOUR CODE HERE #############\n",
    "    \n",
    "    self.train_op = self.optimizer.apply_gradients(self.grads_and_vars)"
   ]
  },
  {
   "cell_type": "code",
   "execution_count": 58,
   "metadata": {
    "colab": {},
    "colab_type": "code",
    "id": "kbx4qwvBUcvJ"
   },
   "outputs": [],
   "source": [
    "BiLSTMModel.__perform_optimization = classmethod(perform_optimization)"
   ]
  },
  {
   "cell_type": "markdown",
   "metadata": {
    "colab_type": "text",
    "collapsed": true,
    "id": "O2c7pYbrUcvM"
   },
   "source": [
    "Congratulations! You have specified all the parts of your network. You may have noticed, that we didn't deal with any real data yet, so what you have written is just recipes on how the network should function.\n",
    "Now we will put them to the constructor of our Bi-LSTM class to use it in the next section. "
   ]
  },
  {
   "cell_type": "code",
   "execution_count": 59,
   "metadata": {
    "colab": {},
    "colab_type": "code",
    "id": "auptvyQuUcvN"
   },
   "outputs": [],
   "source": [
    "def init_model(self, vocabulary_size, n_tags, embedding_dim, n_hidden_rnn, PAD_index):\n",
    "    self.__declare_placeholders()\n",
    "    self.__build_layers(vocabulary_size, embedding_dim, n_hidden_rnn, n_tags)\n",
    "    self.__compute_predictions()\n",
    "    self.__compute_loss(n_tags, PAD_index)\n",
    "    self.__perform_optimization()"
   ]
  },
  {
   "cell_type": "code",
   "execution_count": 60,
   "metadata": {
    "colab": {},
    "colab_type": "code",
    "id": "NHH8dGjrUcvQ"
   },
   "outputs": [],
   "source": [
    "BiLSTMModel.__init__ = classmethod(init_model)"
   ]
  },
  {
   "cell_type": "markdown",
   "metadata": {
    "colab_type": "text",
    "id": "e8I_tD_DUcvT"
   },
   "source": [
    "## Train the network and predict tags"
   ]
  },
  {
   "cell_type": "markdown",
   "metadata": {
    "colab_type": "text",
    "collapsed": true,
    "id": "-gQkyeyGUcvU"
   },
   "source": [
    "[Session.run](https://www.tensorflow.org/api_docs/python/tf/Session#run) is a point which initiates computations in the graph that we have defined. To train the network, we need to compute *self.train_op*, which was declared in *perform_optimization*. To predict tags, we just need to compute *self.predictions*. Anyway, we need to feed actual data through the placeholders that we defined before. "
   ]
  },
  {
   "cell_type": "code",
   "execution_count": 61,
   "metadata": {
    "colab": {},
    "colab_type": "code",
    "id": "D3SbJEr9UcvW"
   },
   "outputs": [],
   "source": [
    "def train_on_batch(self, session, x_batch, y_batch, lengths, learning_rate, dropout_keep_probability):\n",
    "    feed_dict = {self.input_batch: x_batch,\n",
    "                 self.ground_truth_tags: y_batch,\n",
    "                 self.learning_rate_ph: learning_rate,\n",
    "                 self.dropout_ph: dropout_keep_probability,\n",
    "                 self.lengths: lengths}\n",
    "    \n",
    "    session.run(self.train_op, feed_dict=feed_dict)"
   ]
  },
  {
   "cell_type": "code",
   "execution_count": 62,
   "metadata": {
    "colab": {},
    "colab_type": "code",
    "id": "fW34Sf1aUcvb"
   },
   "outputs": [],
   "source": [
    "BiLSTMModel.train_on_batch = classmethod(train_on_batch)"
   ]
  },
  {
   "cell_type": "markdown",
   "metadata": {
    "colab_type": "text",
    "id": "WFApVmHVUcvn"
   },
   "source": [
    "Implement the function *predict_for_batch* by initializing *feed_dict* with input *x_batch* and *lengths* and running the *session* for *self.predictions*."
   ]
  },
  {
   "cell_type": "code",
   "execution_count": 63,
   "metadata": {
    "colab": {},
    "colab_type": "code",
    "id": "fuz_gB9PUcvo"
   },
   "outputs": [],
   "source": [
    "def predict_for_batch(self, session, x_batch, lengths):\n",
    "    ######################################\n",
    "    ######### YOUR CODE HERE #############\n",
    "    ######################################\n",
    "    feed_dict = {self.input_batch: x_batch,\n",
    "                 self.lengths: lengths}\n",
    "\n",
    "    predictions=    session.run(self.predictions, feed_dict = feed_dict)\n",
    "    return predictions"
   ]
  },
  {
   "cell_type": "code",
   "execution_count": 64,
   "metadata": {
    "colab": {},
    "colab_type": "code",
    "id": "dlNB5p3mUcvs"
   },
   "outputs": [],
   "source": [
    "\n",
    "BiLSTMModel.predict_for_batch = classmethod(predict_for_batch)"
   ]
  },
  {
   "cell_type": "markdown",
   "metadata": {
    "colab_type": "text",
    "id": "bIYu6Gp_Ucv3"
   },
   "source": [
    "We finished with necessary methods of our BiLSTMModel model and almost ready to start experimenting.\n",
    "\n",
    "### Evaluation \n",
    "To simplify the evaluation process we provide two functions for you:\n",
    " - *predict_tags*: uses a model to get predictions and transforms indices to tokens and tags;\n",
    " - *eval_conll*: calculates precision, recall and F1 for the results."
   ]
  },
  {
   "cell_type": "code",
   "execution_count": 65,
   "metadata": {
    "colab": {},
    "colab_type": "code",
    "id": "0oW2v4xKUcv3"
   },
   "outputs": [],
   "source": [
    "from evaluation import precision_recall_f1"
   ]
  },
  {
   "cell_type": "code",
   "execution_count": 66,
   "metadata": {
    "colab": {},
    "colab_type": "code",
    "id": "4JnwlLTaUcv6"
   },
   "outputs": [],
   "source": [
    "def predict_tags(model, session, token_idxs_batch, lengths):\n",
    "    \"\"\"Performs predictions and transforms indices to tokens and tags.\"\"\"\n",
    "    \n",
    "    tag_idxs_batch = model.predict_for_batch(session, token_idxs_batch, lengths)\n",
    "    \n",
    "    tags_batch, tokens_batch = [], []\n",
    "    for tag_idxs, token_idxs in zip(tag_idxs_batch, token_idxs_batch):\n",
    "        tags, tokens = [], []\n",
    "        for tag_idx, token_idx in zip(tag_idxs, token_idxs):\n",
    "            tags.append(idx2tag[tag_idx])\n",
    "            tokens.append(idx2token[token_idx])\n",
    "        tags_batch.append(tags)\n",
    "        tokens_batch.append(tokens)\n",
    "    return tags_batch, tokens_batch\n",
    "    \n",
    "    \n",
    "def eval_conll(model, session, tokens, tags, short_report=True):\n",
    "    \"\"\"Computes NER quality measures using CONLL shared task script.\"\"\"\n",
    "    \n",
    "    y_true, y_pred = [], []\n",
    "    for x_batch, y_batch, lengths in batches_generator(1, tokens, tags):\n",
    "        tags_batch, tokens_batch = predict_tags(model, session, x_batch, lengths)\n",
    "        if len(x_batch[0]) != len(tags_batch[0]):\n",
    "            raise Exception(\"Incorrect length of prediction for the input, \"\n",
    "                            \"expected length: %i, got: %i\" % (len(x_batch[0]), len(tags_batch[0])))\n",
    "        predicted_tags = []\n",
    "        ground_truth_tags = []\n",
    "        for gt_tag_idx, pred_tag, token in zip(y_batch[0], tags_batch[0], tokens_batch[0]): \n",
    "            if token != '<PAD>':\n",
    "                ground_truth_tags.append(idx2tag[gt_tag_idx])\n",
    "                predicted_tags.append(pred_tag)\n",
    "\n",
    "        # We extend every prediction and ground truth sequence with 'O' tag\n",
    "        # to indicate a possible end of entity.\n",
    "        y_true.extend(ground_truth_tags + ['O'])\n",
    "        y_pred.extend(predicted_tags + ['O'])\n",
    "        \n",
    "    results = precision_recall_f1(y_true, y_pred, print_results=True, short_report=short_report)\n",
    "    return results"
   ]
  },
  {
   "cell_type": "markdown",
   "metadata": {
    "colab_type": "text",
    "id": "uBAz00INUcv9"
   },
   "source": [
    "## Run your experiment"
   ]
  },
  {
   "cell_type": "markdown",
   "metadata": {
    "colab_type": "text",
    "id": "vI3EtYbAUcv9"
   },
   "source": [
    "Create *BiLSTMModel* model with the following parameters:\n",
    " - *vocabulary_size* — number of tokens;\n",
    " - *n_tags* — number of tags;\n",
    " - *embedding_dim* — dimension of embeddings, recommended value: 200;\n",
    " - *n_hidden_rnn* — size of hidden layers for RNN, recommended value: 200;\n",
    " - *PAD_index* — an index of the padding token (`<PAD>`).\n",
    "\n",
    "Set hyperparameters. You might want to start with the following recommended values:\n",
    "- *batch_size*: 32;\n",
    "- 4 epochs;\n",
    "- starting value of *learning_rate*: 0.005\n",
    "- *learning_rate_decay*: a square root of 2;\n",
    "- *dropout_keep_probability*: try several values: 0.1, 0.5, 0.9.\n",
    "\n",
    "However, feel free to conduct more experiments to tune hyperparameters and earn extra points for the assignment."
   ]
  },
  {
   "cell_type": "code",
   "execution_count": 67,
   "metadata": {
    "colab": {
     "base_uri": "https://localhost:8080/",
     "height": 34
    },
    "colab_type": "code",
    "id": "vcnHdidnywCf",
    "outputId": "da795ecb-ebae-4807-ddeb-08e75b9a182b"
   },
   "outputs": [
    {
     "data": {
      "text/plain": [
       "21"
      ]
     },
     "execution_count": 67,
     "metadata": {},
     "output_type": "execute_result"
    }
   ],
   "source": [
    "len(tag2idx)"
   ]
  },
  {
   "cell_type": "code",
   "execution_count": 68,
   "metadata": {
    "colab": {},
    "colab_type": "code",
    "id": "iYLnVpz5Ucv-"
   },
   "outputs": [
    {
     "ename": "AttributeError",
     "evalue": "module 'tensorflow.python.ops.nn' has no attribute 'softmax_cross_entropy_with_logits_v2'",
     "output_type": "error",
     "traceback": [
      "\u001b[0;31m---------------------------------------------------------------------------\u001b[0m",
      "\u001b[0;31mAttributeError\u001b[0m                            Traceback (most recent call last)",
      "\u001b[0;32m<ipython-input-68-1a063085dc8f>\u001b[0m in \u001b[0;36m<module>\u001b[0;34m()\u001b[0m\n\u001b[1;32m      2\u001b[0m \u001b[0mtf\u001b[0m\u001b[0;34m.\u001b[0m\u001b[0mreset_default_graph\u001b[0m\u001b[0;34m(\u001b[0m\u001b[0;34m)\u001b[0m\u001b[0;34m\u001b[0m\u001b[0m\n\u001b[1;32m      3\u001b[0m \u001b[0;34m\u001b[0m\u001b[0m\n\u001b[0;32m----> 4\u001b[0;31m \u001b[0mmodel\u001b[0m \u001b[0;34m=\u001b[0m \u001b[0mBiLSTMModel\u001b[0m\u001b[0;34m(\u001b[0m\u001b[0;36m20507\u001b[0m\u001b[0;34m,\u001b[0m \u001b[0;36m21\u001b[0m\u001b[0;34m,\u001b[0m \u001b[0;36m200\u001b[0m\u001b[0;34m,\u001b[0m \u001b[0;36m200\u001b[0m\u001b[0;34m,\u001b[0m \u001b[0mtag2idx\u001b[0m\u001b[0;34m[\u001b[0m\u001b[0;34m'<PAD>'\u001b[0m\u001b[0;34m]\u001b[0m\u001b[0;34m)\u001b[0m\u001b[0;31m######### YOUR CODE HERE #############\u001b[0m\u001b[0;34m\u001b[0m\u001b[0m\n\u001b[0m\u001b[1;32m      5\u001b[0m \u001b[0;34m\u001b[0m\u001b[0m\n\u001b[1;32m      6\u001b[0m \u001b[0mbatch_size\u001b[0m \u001b[0;34m=\u001b[0m \u001b[0;36m32\u001b[0m\u001b[0;31m######### YOUR CODE HERE #############\u001b[0m\u001b[0;34m\u001b[0m\u001b[0m\n",
      "\u001b[0;32m<ipython-input-59-62a92f5a651b>\u001b[0m in \u001b[0;36minit_model\u001b[0;34m(self, vocabulary_size, n_tags, embedding_dim, n_hidden_rnn, PAD_index)\u001b[0m\n\u001b[1;32m      3\u001b[0m     \u001b[0mself\u001b[0m\u001b[0;34m.\u001b[0m\u001b[0m__build_layers\u001b[0m\u001b[0;34m(\u001b[0m\u001b[0mvocabulary_size\u001b[0m\u001b[0;34m,\u001b[0m \u001b[0membedding_dim\u001b[0m\u001b[0;34m,\u001b[0m \u001b[0mn_hidden_rnn\u001b[0m\u001b[0;34m,\u001b[0m \u001b[0mn_tags\u001b[0m\u001b[0;34m)\u001b[0m\u001b[0;34m\u001b[0m\u001b[0m\n\u001b[1;32m      4\u001b[0m     \u001b[0mself\u001b[0m\u001b[0;34m.\u001b[0m\u001b[0m__compute_predictions\u001b[0m\u001b[0;34m(\u001b[0m\u001b[0;34m)\u001b[0m\u001b[0;34m\u001b[0m\u001b[0m\n\u001b[0;32m----> 5\u001b[0;31m     \u001b[0mself\u001b[0m\u001b[0;34m.\u001b[0m\u001b[0m__compute_loss\u001b[0m\u001b[0;34m(\u001b[0m\u001b[0mn_tags\u001b[0m\u001b[0;34m,\u001b[0m \u001b[0mPAD_index\u001b[0m\u001b[0;34m)\u001b[0m\u001b[0;34m\u001b[0m\u001b[0m\n\u001b[0m\u001b[1;32m      6\u001b[0m     \u001b[0mself\u001b[0m\u001b[0;34m.\u001b[0m\u001b[0m__perform_optimization\u001b[0m\u001b[0;34m(\u001b[0m\u001b[0;34m)\u001b[0m\u001b[0;34m\u001b[0m\u001b[0m\n",
      "\u001b[0;32m<ipython-input-55-a4af3d556a96>\u001b[0m in \u001b[0;36mcompute_loss\u001b[0;34m(self, n_tags, PAD_index)\u001b[0m\n\u001b[1;32m      4\u001b[0m     \u001b[0;31m# Create cross entropy function function (tf.nn.softmax_cross_entropy_with_logits_v2)\u001b[0m\u001b[0;34m\u001b[0m\u001b[0;34m\u001b[0m\u001b[0m\n\u001b[1;32m      5\u001b[0m     \u001b[0mground_truth_tags_one_hot\u001b[0m \u001b[0;34m=\u001b[0m \u001b[0mtf\u001b[0m\u001b[0;34m.\u001b[0m\u001b[0mone_hot\u001b[0m\u001b[0;34m(\u001b[0m\u001b[0mself\u001b[0m\u001b[0;34m.\u001b[0m\u001b[0mground_truth_tags\u001b[0m\u001b[0;34m,\u001b[0m \u001b[0mn_tags\u001b[0m\u001b[0;34m)\u001b[0m\u001b[0;34m\u001b[0m\u001b[0m\n\u001b[0;32m----> 6\u001b[0;31m     \u001b[0mloss_tensor\u001b[0m \u001b[0;34m=\u001b[0m \u001b[0mtf\u001b[0m\u001b[0;34m.\u001b[0m\u001b[0mnn\u001b[0m\u001b[0;34m.\u001b[0m\u001b[0msoftmax_cross_entropy_with_logits_v2\u001b[0m\u001b[0;34m(\u001b[0m\u001b[0mground_truth_tags_one_hot\u001b[0m\u001b[0;34m,\u001b[0m \u001b[0mself\u001b[0m\u001b[0;34m.\u001b[0m\u001b[0mlogits\u001b[0m\u001b[0;34m)\u001b[0m \u001b[0;31m######### YOUR CODE HERE #############\u001b[0m\u001b[0;34m\u001b[0m\u001b[0m\n\u001b[0m\u001b[1;32m      7\u001b[0m \u001b[0;34m\u001b[0m\u001b[0m\n\u001b[1;32m      8\u001b[0m     \u001b[0mmask\u001b[0m \u001b[0;34m=\u001b[0m \u001b[0mtf\u001b[0m\u001b[0;34m.\u001b[0m\u001b[0mcast\u001b[0m\u001b[0;34m(\u001b[0m\u001b[0mtf\u001b[0m\u001b[0;34m.\u001b[0m\u001b[0mnot_equal\u001b[0m\u001b[0;34m(\u001b[0m\u001b[0mself\u001b[0m\u001b[0;34m.\u001b[0m\u001b[0minput_batch\u001b[0m\u001b[0;34m,\u001b[0m \u001b[0mPAD_index\u001b[0m\u001b[0;34m)\u001b[0m\u001b[0;34m,\u001b[0m \u001b[0mtf\u001b[0m\u001b[0;34m.\u001b[0m\u001b[0mfloat32\u001b[0m\u001b[0;34m)\u001b[0m\u001b[0;34m\u001b[0m\u001b[0m\n",
      "\u001b[0;31mAttributeError\u001b[0m: module 'tensorflow.python.ops.nn' has no attribute 'softmax_cross_entropy_with_logits_v2'"
     ]
    }
   ],
   "source": [
    "import math\n",
    "tf.reset_default_graph()\n",
    "\n",
    "model = BiLSTMModel(20507, 21, 200, 200, tag2idx['<PAD>'])######### YOUR CODE HERE #############\n",
    "\n",
    "batch_size = 32######### YOUR CODE HERE #############\n",
    "n_epochs = 4######### YOUR CODE HERE #############\n",
    "learning_rate = 0.005######### YOUR CODE HERE #############\n",
    "learning_rate_decay = math.sqrt(2)######### YOUR CODE HERE #############\n",
    "dropout_keep_probability = 0.1######### YOUR CODE HERE #############"
   ]
  },
  {
   "cell_type": "markdown",
   "metadata": {
    "colab_type": "text",
    "id": "KK5Y6cXcUcwB"
   },
   "source": [
    "If you got an error *\"Tensor conversion requested dtype float64 for Tensor with dtype float32\"* in this point, check if there are variables without dtype initialised. Set the value of dtype equals to *tf.float32* for such variables."
   ]
  },
  {
   "cell_type": "markdown",
   "metadata": {
    "colab_type": "text",
    "id": "QKzc1fBeUcwC"
   },
   "source": [
    "Finally, we are ready to run the training!"
   ]
  },
  {
   "cell_type": "code",
   "execution_count": 85,
   "metadata": {
    "colab": {
     "base_uri": "https://localhost:8080/",
     "height": 816
    },
    "colab_type": "code",
    "id": "Z4zLf-ckUcwD",
    "outputId": "bda65c00-04ea-4105-b7df-f914956eb5b2"
   },
   "outputs": [
    {
     "name": "stdout",
     "output_type": "stream",
     "text": [
      "Start training... \n",
      "\n",
      "-------------------- Epoch 1 of 4 --------------------\n",
      "Train data evaluation:\n",
      "processed 105778 tokens with 4489 phrases; found: 70848 phrases; correct: 185.\n",
      "\n",
      "precision:  0.26%; recall:  4.12%; F1:  0.49\n",
      "\n",
      "Validation data evaluation:\n",
      "processed 12836 tokens with 537 phrases; found: 8592 phrases; correct: 30.\n",
      "\n",
      "precision:  0.35%; recall:  5.59%; F1:  0.66\n",
      "\n",
      "-------------------- Epoch 2 of 4 --------------------\n",
      "Train data evaluation:\n",
      "processed 105778 tokens with 4489 phrases; found: 189 phrases; correct: 19.\n",
      "\n",
      "precision:  10.05%; recall:  0.42%; F1:  0.81\n",
      "\n",
      "Validation data evaluation:\n",
      "processed 12836 tokens with 537 phrases; found: 26 phrases; correct: 2.\n",
      "\n",
      "precision:  7.69%; recall:  0.37%; F1:  0.71\n",
      "\n",
      "-------------------- Epoch 3 of 4 --------------------\n",
      "Train data evaluation:\n",
      "processed 105778 tokens with 4489 phrases; found: 4137 phrases; correct: 881.\n",
      "\n",
      "precision:  21.30%; recall:  19.63%; F1:  20.43\n",
      "\n",
      "Validation data evaluation:\n",
      "processed 12836 tokens with 537 phrases; found: 323 phrases; correct: 56.\n",
      "\n",
      "precision:  17.34%; recall:  10.43%; F1:  13.02\n",
      "\n",
      "-------------------- Epoch 4 of 4 --------------------\n",
      "Train data evaluation:\n",
      "processed 105778 tokens with 4489 phrases; found: 4376 phrases; correct: 1319.\n",
      "\n",
      "precision:  30.14%; recall:  29.38%; F1:  29.76\n",
      "\n",
      "Validation data evaluation:\n",
      "processed 12836 tokens with 537 phrases; found: 322 phrases; correct: 87.\n",
      "\n",
      "precision:  27.02%; recall:  16.20%; F1:  20.26\n",
      "\n",
      "...training finished.\n"
     ]
    }
   ],
   "source": [
    "sess = tf.Session()\n",
    "sess.run(tf.global_variables_initializer())\n",
    "\n",
    "print('Start training... \\n')\n",
    "for epoch in range(n_epochs):\n",
    "    # For each epoch evaluate the model on train and validation data\n",
    "    print('-' * 20 + ' Epoch {} '.format(epoch+1) + 'of {} '.format(n_epochs) + '-' * 20)\n",
    "    print('Train data evaluation:')\n",
    "    eval_conll(model, sess, train_tokens, train_tags, short_report=True)\n",
    "    print('Validation data evaluation:')\n",
    "    eval_conll(model, sess, validation_tokens, validation_tags, short_report=True)\n",
    "    \n",
    "    # Train the model\n",
    "    for x_batch, y_batch, lengths in batches_generator(batch_size, train_tokens, train_tags):\n",
    "        model.train_on_batch(sess, x_batch, y_batch, lengths, learning_rate, dropout_keep_probability)\n",
    "        \n",
    "    # Decaying the learning rate\n",
    "    learning_rate = learning_rate / learning_rate_decay\n",
    "    \n",
    "print('...training finished.')"
   ]
  },
  {
   "cell_type": "markdown",
   "metadata": {
    "colab_type": "text",
    "id": "-Gp-3GSrUcwG"
   },
   "source": [
    "Now let us see full quality reports for the final model on train, validation, and test sets. To give you a hint whether you have implemented everything correctly, you might expect F-score about 40% on the validation set.\n",
    "\n",
    "**The output of the cell below (as well as the output of all the other cells) should be present in the notebook for peer2peer review!**"
   ]
  },
  {
   "cell_type": "code",
   "execution_count": 88,
   "metadata": {
    "colab": {
     "base_uri": "https://localhost:8080/",
     "height": 1000
    },
    "colab_type": "code",
    "id": "1ibYWRF-UcwH",
    "outputId": "522c28fd-a0ce-4d1b-a8b8-249b68892e62"
   },
   "outputs": [
    {
     "name": "stdout",
     "output_type": "stream",
     "text": [
      "-------------------- Train set quality: --------------------\n",
      "processed 105778 tokens with 4489 phrases; found: 4503 phrases; correct: 2139.\n",
      "\n",
      "precision:  47.50%; recall:  47.65%; F1:  47.58\n",
      "\n",
      "\t     company: precision:   59.19%; recall:   61.12%; F1:   60.14; predicted:   664\n",
      "\n",
      "\t    facility: precision:   39.43%; recall:   48.73%; F1:   43.59; predicted:   388\n",
      "\n",
      "\t     geo-loc: precision:   66.00%; recall:   76.00%; F1:   70.65; predicted:  1147\n",
      "\n",
      "\t       movie: precision:    0.00%; recall:    0.00%; F1:    0.00; predicted:     0\n",
      "\n",
      "\t musicartist: precision:    0.00%; recall:    0.00%; F1:    0.00; predicted:     1\n",
      "\n",
      "\t       other: precision:   26.70%; recall:   28.53%; F1:   27.59; predicted:   809\n",
      "\n",
      "\t      person: precision:   44.03%; recall:   67.83%; F1:   53.40; predicted:  1365\n",
      "\n",
      "\t     product: precision:   14.73%; recall:    5.97%; F1:    8.50; predicted:   129\n",
      "\n",
      "\t  sportsteam: precision:    0.00%; recall:    0.00%; F1:    0.00; predicted:     0\n",
      "\n",
      "\t      tvshow: precision:    0.00%; recall:    0.00%; F1:    0.00; predicted:     0\n",
      "\n",
      "-------------------- Validation set quality: --------------------\n",
      "processed 12836 tokens with 537 phrases; found: 347 phrases; correct: 121.\n",
      "\n",
      "precision:  34.87%; recall:  22.53%; F1:  27.38\n",
      "\n",
      "\t     company: precision:   54.43%; recall:   41.35%; F1:   46.99; predicted:    79\n",
      "\n",
      "\t    facility: precision:   21.88%; recall:   20.59%; F1:   21.21; predicted:    32\n",
      "\n",
      "\t     geo-loc: precision:   60.00%; recall:   37.17%; F1:   45.90; predicted:    70\n",
      "\n",
      "\t       movie: precision:    0.00%; recall:    0.00%; F1:    0.00; predicted:     0\n",
      "\n",
      "\t musicartist: precision:    0.00%; recall:    0.00%; F1:    0.00; predicted:     0\n",
      "\n",
      "\t       other: precision:   13.92%; recall:   13.58%; F1:   13.75; predicted:    79\n",
      "\n",
      "\t      person: precision:   22.50%; recall:   16.07%; F1:   18.75; predicted:    80\n",
      "\n",
      "\t     product: precision:    0.00%; recall:    0.00%; F1:    0.00; predicted:     7\n",
      "\n",
      "\t  sportsteam: precision:    0.00%; recall:    0.00%; F1:    0.00; predicted:     0\n",
      "\n",
      "\t      tvshow: precision:    0.00%; recall:    0.00%; F1:    0.00; predicted:     0\n",
      "\n",
      "-------------------- Test set quality: --------------------\n",
      "processed 13258 tokens with 604 phrases; found: 329 phrases; correct: 150.\n",
      "\n",
      "precision:  45.59%; recall:  24.83%; F1:  32.15\n",
      "\n",
      "\t     company: precision:   54.76%; recall:   27.38%; F1:   36.51; predicted:    42\n",
      "\n",
      "\t    facility: precision:   33.33%; recall:   23.40%; F1:   27.50; predicted:    33\n",
      "\n",
      "\t     geo-loc: precision:   61.72%; recall:   47.88%; F1:   53.92; predicted:   128\n",
      "\n",
      "\t       movie: precision:    0.00%; recall:    0.00%; F1:    0.00; predicted:     0\n",
      "\n",
      "\t musicartist: precision:    0.00%; recall:    0.00%; F1:    0.00; predicted:     0\n",
      "\n",
      "\t       other: precision:   24.00%; recall:   11.65%; F1:   15.69; predicted:    50\n",
      "\n",
      "\t      person: precision:   32.88%; recall:   23.08%; F1:   27.12; predicted:    73\n",
      "\n",
      "\t     product: precision:   33.33%; recall:    3.57%; F1:    6.45; predicted:     3\n",
      "\n",
      "\t  sportsteam: precision:    0.00%; recall:    0.00%; F1:    0.00; predicted:     0\n",
      "\n",
      "\t      tvshow: precision:    0.00%; recall:    0.00%; F1:    0.00; predicted:     0\n",
      "\n"
     ]
    }
   ],
   "source": [
    "print('-' * 20 + ' Train set quality: ' + '-' * 20)\n",
    "train_results = eval_conll(model, sess, train_tokens, train_tags, short_report=False)\n",
    "\n",
    "print('-' * 20 + ' Validation set quality: ' + '-' * 20)\n",
    "validation_results = eval_conll(model, sess, validation_tokens, validation_tags, short_report=False)  ######### YOUR CODE HERE #############\n",
    "\n",
    "print('-' * 20 + ' Test set quality: ' + '-' * 20)\n",
    "test_results = eval_conll(model, sess, test_tokens, test_tags, short_report=False)######### YOUR CODE HERE #############"
   ]
  },
  {
   "cell_type": "markdown",
   "metadata": {
    "colab_type": "text",
    "id": "dz51hFHEUcwJ"
   },
   "source": [
    "### Conclusions\n",
    "\n",
    "Could we say that our model is state of the art and the results are acceptable for the task? Definately, we can say so. Nowadays, Bi-LSTM is one of the state of the art approaches for solving NER problem and it outperforms other classical methods. Despite the fact that we used small training corpora (in comparison with usual sizes of corpora in Deep Learning), our results are quite good. In addition, in this task there are many possible named entities and for some of them we have only several dozens of trainig examples, which is definately small. However, the implemented model outperforms classical CRFs for this task. Even better results could be obtained by some combinations of several types of methods, e.g. see [this](https://arxiv.org/abs/1603.01354) paper if you are interested."
   ]
  }
 ],
 "metadata": {
  "accelerator": "GPU",
  "colab": {
   "collapsed_sections": [
    "bIYu6Gp_Ucv3",
    "dz51hFHEUcwJ"
   ],
   "name": "Copy of week2-NER.ipynb",
   "provenance": []
  },
  "kernelspec": {
   "display_name": "Python 3",
   "language": "python",
   "name": "python3"
  },
  "language_info": {
   "codemirror_mode": {
    "name": "ipython",
    "version": 3
   },
   "file_extension": ".py",
   "mimetype": "text/x-python",
   "name": "python",
   "nbconvert_exporter": "python",
   "pygments_lexer": "ipython3",
   "version": "3.5.2"
  }
 },
 "nbformat": 4,
 "nbformat_minor": 1
}
