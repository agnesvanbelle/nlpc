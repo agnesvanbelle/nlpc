{
 "cells": [
  {
   "cell_type": "markdown",
   "metadata": {},
   "source": [
    "# Find duplicate questions on StackOverflow by their embeddings\n",
    "\n",
    "In this assignment you will learn how to calculate a similarity for pieces of text. Using this approach you will know how to find duplicate questions from [StackOverflow](https://stackoverflow.com)."
   ]
  },
  {
   "cell_type": "markdown",
   "metadata": {},
   "source": [
    "### Libraries\n",
    "\n",
    "In this task you will you will need the following libraries:\n",
    "- [StarSpace](https://github.com/facebookresearch/StarSpace) — a general-purpose model for efficient learning of entity embeddings from Facebook\n",
    "- [Gensim](https://radimrehurek.com/gensim/) — a tool for solving various NLP-related tasks (topic modeling, text representation, ...)\n",
    "- [Numpy](http://www.numpy.org) — a package for scientific computing.\n",
    "- [scikit-learn](http://scikit-learn.org/stable/index.html) — a tool for data mining and data analysis.\n",
    "- [Nltk](http://www.nltk.org) — a platform to work with human language data."
   ]
  },
  {
   "cell_type": "markdown",
   "metadata": {},
   "source": [
    "### Data\n",
    "\n",
    "The following cell will download all data required for this assignment into the folder `week3/data`."
   ]
  },
  {
   "cell_type": "code",
   "execution_count": 8,
   "metadata": {},
   "outputs": [
    {
     "name": "stdout",
     "output_type": "stream",
     "text": [
      "File data/train.tsv is already downloaded.\n",
      "File data/validation.tsv is already downloaded.\n",
      "File data/test.tsv is already downloaded.\n",
      "File data/test_embeddings.tsv is already downloaded.\n",
      "Downloading GoogleNews-vectors-negative300.bin.gz (1.5G) for you, it will take a while...\n"
     ]
    },
    {
     "data": {
      "application/vnd.jupyter.widget-view+json": {
       "model_id": "5890fc3d234a4afe8971c8299dd86d1e",
       "version_major": 2,
       "version_minor": 0
      },
      "text/html": [
       "<p>Failed to display Jupyter Widget of type <code>HBox</code>.</p>\n",
       "<p>\n",
       "  If you're reading this message in the Jupyter Notebook or JupyterLab Notebook, it may mean\n",
       "  that the widgets JavaScript is still loading. If this message persists, it\n",
       "  likely means that the widgets JavaScript library is either not installed or\n",
       "  not enabled. See the <a href=\"https://ipywidgets.readthedocs.io/en/stable/user_install.html\">Jupyter\n",
       "  Widgets Documentation</a> for setup instructions.\n",
       "</p>\n",
       "<p>\n",
       "  If you're reading this message in another frontend (for example, a static\n",
       "  rendering on GitHub or <a href=\"https://nbviewer.jupyter.org/\">NBViewer</a>),\n",
       "  it may mean that your frontend doesn't currently support widgets.\n",
       "</p>\n"
      ],
      "text/plain": [
       "HBox(children=(IntProgress(value=0, max=1647046227), HTML(value='')))"
      ]
     },
     "metadata": {},
     "output_type": "display_data"
    }
   ],
   "source": [
    "import sys\n",
    "sys.path.append(\"..\")\n",
    "from common.download_utils import download_week3_resources\n",
    "\n",
    "download_week3_resources()"
   ]
  },
  {
   "cell_type": "markdown",
   "metadata": {},
   "source": [
    "### Grading\n",
    "We will create a grader instace below and use it to collect your answers. Note that these outputs will be stored locally inside grader and will be uploaded to platform only after running submiting function in the last part of this assignment. If you want to make partial submission, you can run that cell any time you want."
   ]
  },
  {
   "cell_type": "code",
   "execution_count": 1,
   "metadata": {},
   "outputs": [],
   "source": [
    "from grader import Grader"
   ]
  },
  {
   "cell_type": "code",
   "execution_count": 2,
   "metadata": {},
   "outputs": [],
   "source": [
    "grader = Grader()"
   ]
  },
  {
   "cell_type": "markdown",
   "metadata": {},
   "source": [
    "## Word embedding\n",
    "\n",
    "To solve the problem, you will use two different models of embeddings:\n",
    "\n",
    " - [Pre-trained word vectors](https://code.google.com/archive/p/word2vec/) from Google which were trained on a part of Google News dataset (about 100 billion words). The model contains 300-dimensional vectors for 3 million words and phrases. `GoogleNews-vectors-negative300.bin.gz` will be downloaded in `download_week3_resources()`.\n",
    " - Representations using StarSpace on StackOverflow data sample. You will need to train them from scratch."
   ]
  },
  {
   "cell_type": "markdown",
   "metadata": {},
   "source": [
    "It's always easier to start with pre-trained embeddings. Unpack the pre-trained Goggle's vectors and upload them using the function [KeyedVectors.load_word2vec_format](https://radimrehurek.com/gensim/models/keyedvectors.html) from gensim library with the parameter *binary=True*. If the size of the embeddings is larger than the avaliable memory, you could load only a part of the embeddings by defining the parameter *limit* (recommended: 500000)."
   ]
  },
  {
   "cell_type": "code",
   "execution_count": 3,
   "metadata": {},
   "outputs": [],
   "source": [
    "import gensim"
   ]
  },
  {
   "cell_type": "code",
   "execution_count": 4,
   "metadata": {},
   "outputs": [],
   "source": [
    "from gensim.test.utils import datapath\n",
    "from gensim.models import KeyedVectors\n",
    "import os"
   ]
  },
  {
   "cell_type": "code",
   "execution_count": 5,
   "metadata": {},
   "outputs": [],
   "source": [
    "data_dir = os.path.abspath('./data/')"
   ]
  },
  {
   "cell_type": "code",
   "execution_count": 6,
   "metadata": {},
   "outputs": [],
   "source": [
    "wv_embeddings = KeyedVectors.load_word2vec_format(\"GoogleNews-vectors-negative300.bin.gz\", \n",
    "                    binary=True, limit=500000)"
   ]
  },
  {
   "cell_type": "code",
   "execution_count": 7,
   "metadata": {},
   "outputs": [
    {
     "data": {
      "text/plain": [
       "True"
      ]
     },
     "execution_count": 7,
     "metadata": {},
     "output_type": "execute_result"
    }
   ],
   "source": [
    "'monkey' in wv_embeddings"
   ]
  },
  {
   "cell_type": "code",
   "execution_count": 8,
   "metadata": {},
   "outputs": [
    {
     "data": {
      "text/plain": [
       "(300,)"
      ]
     },
     "execution_count": 8,
     "metadata": {},
     "output_type": "execute_result"
    }
   ],
   "source": [
    "wv_embeddings['monkey'].shape"
   ]
  },
  {
   "cell_type": "code",
   "execution_count": 9,
   "metadata": {},
   "outputs": [
    {
     "data": {
      "text/plain": [
       "300"
      ]
     },
     "execution_count": 9,
     "metadata": {},
     "output_type": "execute_result"
    }
   ],
   "source": [
    "wv_embeddings.vector_size"
   ]
  },
  {
   "cell_type": "code",
   "execution_count": 10,
   "metadata": {},
   "outputs": [
    {
     "data": {
      "text/plain": [
       "0"
      ]
     },
     "execution_count": 10,
     "metadata": {},
     "output_type": "execute_result"
    }
   ],
   "source": [
    "sum(wv_embeddings['Monkey'] == wv_embeddings['monkey'])"
   ]
  },
  {
   "cell_type": "markdown",
   "metadata": {},
   "source": [
    "### How to work with Google's word2vec embeddings?\n",
    "\n",
    "Once you have loaded the representations, make sure you can access them. First, you can check if the loaded embeddings contain a word:\n",
    "    \n",
    "    'word' in wv_embeddings\n",
    "    \n",
    "Second, to get the corresponding embedding you can use the square brackets:\n",
    "\n",
    "    wv_embeddings['word']\n",
    " \n",
    "### Checking that the embeddings are correct \n",
    " \n",
    "To prevent any errors during the first stage, we can check that the loaded embeddings are correct. You can call the function *check_embeddings*, implemented below, which runs 3 tests:\n",
    "1. Find the most similar word for provided \"positive\" and \"negative\" words.\n",
    "2. Find which word from the given list doesn’t go with the others.\n",
    "3. Find the most similar word for the provided one.\n",
    "\n",
    "In the right case the function will return the string *These embeddings look good*. Othervise, you need to validate the previous steps."
   ]
  },
  {
   "cell_type": "code",
   "execution_count": 11,
   "metadata": {},
   "outputs": [],
   "source": [
    "def check_embeddings(embeddings):\n",
    "    error_text = \"Something wrong with your embeddings ('%s test isn't correct).\"\n",
    "    most_similar = embeddings.most_similar(positive=['woman', 'king'], negative=['man'])\n",
    "    if len(most_similar) < 1 or most_similar[0][0] != 'queen':\n",
    "        return error_text % \"Most similar\"\n",
    "\n",
    "    doesnt_match = embeddings.doesnt_match(['breakfast', 'cereal', 'dinner', 'lunch'])\n",
    "    if doesnt_match != 'cereal':\n",
    "        return error_text % \"Doesn't match\"\n",
    "    \n",
    "    most_similar_to_given = embeddings.most_similar_to_given('music', ['water', 'sound', 'backpack', 'mouse'])\n",
    "    if most_similar_to_given != 'sound':\n",
    "        return error_text % \"Most similar to given\"\n",
    "    \n",
    "    return \"These embeddings look good.\""
   ]
  },
  {
   "cell_type": "code",
   "execution_count": 12,
   "metadata": {},
   "outputs": [
    {
     "name": "stdout",
     "output_type": "stream",
     "text": [
      "These embeddings look good.\n"
     ]
    }
   ],
   "source": [
    "print(check_embeddings(wv_embeddings))"
   ]
  },
  {
   "cell_type": "markdown",
   "metadata": {},
   "source": [
    "## From word to text embeddings\n",
    "\n",
    "**Task 1 (Question2Vec).** Usually, we have word-based embeddings, but for the task we need to create a representation for the whole question. It could be done in different ways. In our case we will use a **mean** of all word vectors in the question. Now you need to implement the function *question_to_vec*, which calculates the question representation described above. This function should work with the input text as is without any preprocessing.\n",
    "\n",
    "Note that there could be words without the corresponding embeddings. In this case, you can just skip these words and don't take them into account during calculating the result. If the question doesn't contain any known word with embedding, the function should return a zero vector."
   ]
  },
  {
   "cell_type": "code",
   "execution_count": 13,
   "metadata": {},
   "outputs": [],
   "source": [
    "import numpy as np"
   ]
  },
  {
   "cell_type": "code",
   "execution_count": 14,
   "metadata": {},
   "outputs": [
    {
     "data": {
      "text/plain": [
       "array([ 0.,  0.,  0.,  0.,  0.,  0.,  0.,  0.,  0.,  0.,  0.,  0.,  0.,\n",
       "        0.,  0.,  0.,  0.,  0.,  0.,  0.,  0.,  0.,  0.,  0.,  0.,  0.,\n",
       "        0.,  0.,  0.,  0.])"
      ]
     },
     "execution_count": 14,
     "metadata": {},
     "output_type": "execute_result"
    }
   ],
   "source": [
    "np.zeros(30)"
   ]
  },
  {
   "cell_type": "code",
   "execution_count": 15,
   "metadata": {},
   "outputs": [],
   "source": [
    "def question_to_vec(question, embeddings, dim=300):\n",
    "    \"\"\"\n",
    "        question: a string\n",
    "        embeddings: dict where the key is a word and a value is its' embedding\n",
    "        dim: size of the representation\n",
    "\n",
    "        result: vector representation for the question\n",
    "    \"\"\"\n",
    "    start_vector = np.zeros(dim)\n",
    "    counter = 0\n",
    "    for word in question.split():\n",
    "        try:\n",
    "            word_embedding = embeddings[word]\n",
    "            counter += 1\n",
    "            start_vector = start_vector + word_embedding\n",
    "        except KeyError as e:\n",
    "            if 'not in vocabulary' in str(e):\n",
    "                pass\n",
    "    mean_vector = start_vector / counter if counter > 0 else start_vector\n",
    "    return mean_vector"
   ]
  },
  {
   "cell_type": "markdown",
   "metadata": {},
   "source": [
    "To check the basic correctness of your implementation, run the function *question_to_vec_tests*."
   ]
  },
  {
   "cell_type": "code",
   "execution_count": 16,
   "metadata": {},
   "outputs": [],
   "source": [
    "def question_to_vec_tests():\n",
    "    if (np.zeros(300) != question_to_vec('', wv_embeddings)).any():\n",
    "        return \"You need to return zero vector for empty question.\"\n",
    "    if (np.zeros(300) != question_to_vec('thereisnosuchword', wv_embeddings)).any():\n",
    "        return \"You need to return zero vector for the question, which consists only unknown words.\"\n",
    "    if (wv_embeddings['word'] != question_to_vec('word', wv_embeddings)).any():\n",
    "        return \"You need to check the corectness of your function.\"\n",
    "    if ((wv_embeddings['I'] + wv_embeddings['am']) / 2 != question_to_vec('I am', wv_embeddings)).any():\n",
    "        return \"Your function should calculate a mean of word vectors.\"\n",
    "    if (wv_embeddings['word'] != question_to_vec('thereisnosuchword word', wv_embeddings)).any():\n",
    "        return \"You should not consider words which embeddings are unknown.\"\n",
    "    return \"Basic tests are passed.\""
   ]
  },
  {
   "cell_type": "code",
   "execution_count": 17,
   "metadata": {},
   "outputs": [
    {
     "name": "stdout",
     "output_type": "stream",
     "text": [
      "Basic tests are passed.\n"
     ]
    }
   ],
   "source": [
    "print(question_to_vec_tests())"
   ]
  },
  {
   "cell_type": "markdown",
   "metadata": {},
   "source": [
    "You can submit embeddings for the questions from the file *test_embeddings.tsv* to earn the points. In this task you don't need to transform the text of a question somehow."
   ]
  },
  {
   "cell_type": "code",
   "execution_count": 18,
   "metadata": {},
   "outputs": [
    {
     "name": "stdout",
     "output_type": "stream",
     "text": [
      "[nltk_data] Downloading package stopwords to /root/nltk_data...\n",
      "[nltk_data]   Package stopwords is already up-to-date!\n"
     ]
    }
   ],
   "source": [
    "import nltk\n",
    "nltk.download('stopwords')\n",
    "from util import array_to_string"
   ]
  },
  {
   "cell_type": "code",
   "execution_count": 19,
   "metadata": {},
   "outputs": [
    {
     "name": "stdout",
     "output_type": "stream",
     "text": [
      "Current answer for task Question2Vec is: 0.019293891059\n",
      "-0.0287272135417\n",
      "0.0460561116536\n",
      "0.0852593315972\n",
      "0.0243055555556\n",
      "-0.0729031032986\n",
      "0.0...\n"
     ]
    }
   ],
   "source": [
    "question2vec_result = []\n",
    "for question in open('data/test_embeddings.tsv'):\n",
    "    question = question.strip()\n",
    "    answer = question_to_vec(question, wv_embeddings)\n",
    "    question2vec_result = np.append(question2vec_result, answer)\n",
    "\n",
    "grader.submit_tag('Question2Vec', array_to_string(question2vec_result))"
   ]
  },
  {
   "cell_type": "markdown",
   "metadata": {},
   "source": [
    "Now we have a method to create a representation of any sentence and we are ready for the first evaluation. So, let's check how well our solution (Google's vectors + *question_to_vec*) will work.\n",
    "\n",
    "## Evaluation of text similarity\n",
    "\n",
    "We can imagine that if we use good embeddings, the cosine similarity between the duplicate sentences should be less than for the random ones. Overall, for each pair of duplicate sentences we can generate *R* random negative examples and find out the position of the correct duplicate.  \n",
    "\n",
    "For example, we have the question *\"Exceptions What really happens\"* and we are sure that another question *\"How does the catch keyword determine the type of exception that was thrown\"* is a duplicate. But our model doesn't know it and tries to find out the best option also among questions like *\"How Can I Make These Links Rotate in PHP\"*, *\"NSLog array description not memory address\"* and *\"PECL_HTTP not recognised php ubuntu\"*. The goal of the model is to rank all these 4 questions (1 *positive* and *R* = 3 *negative*) in the way that the correct one is in the first place.\n",
    "\n",
    "However, it is unnatural to count on that the best candidate will be always in the first place. So let us consider the place of the best candidate in the sorted list of candidates and formulate a metric based on it. We can fix some *K* — a reasonalble number of top-ranked elements and *N* — a number of queries (size of the sample).\n",
    "\n",
    "### Hits@K\n",
    "\n",
    "The first simple metric will be a number of correct hits for some *K*:\n",
    "$$ \\text{Hits@K} = \\frac{1}{N}\\sum_{i=1}^N \\, [dup_i \\in topK(q_i)]$$\n",
    "\n",
    "where $q_i$ is the i-th query, $dup_i$ is its duplicate, $topK(q_i)$ is the top K elements of the ranked sentences provided by our model and the operation $[dup_i \\in topK(q_i)]$ equals 1 if the condition is true and 0 otherwise (more details about this operation could be found [here](https://en.wikipedia.org/wiki/Iverson_bracket)).\n",
    "\n",
    "\n",
    "### DCG@K\n",
    "The second one is a simplified [DCG metric](https://en.wikipedia.org/wiki/Discounted_cumulative_gain):\n",
    "\n",
    "$$ \\text{DCG@K} = \\frac{1}{N} \\sum_{i=1}^N\\frac{1}{\\log_2(1+rank_{dup_i})}\\cdot[rank_{dup_i} \\le K] $$\n",
    "\n",
    "where $rank_{dup_i}$ is a position of the duplicate in the sorted list of the nearest sentences for the query $q_i$. According to this metric, the model gets a higher reward for a higher position of the correct answer. If the answer does not appear in topK at all, the reward is zero. "
   ]
  },
  {
   "cell_type": "markdown",
   "metadata": {},
   "source": [
    "### Evaluation examples\n",
    "\n",
    "Let's calculate the described metrics for the toy example introduced above. In this case $N$ = 1 and the correct candidate for $q_1$ is *\"How does the catch keyword determine the type of exception that was thrown\"*. Consider the following ranking of the candidates:\n",
    "1. *\"How Can I Make These Links Rotate in PHP\"*\n",
    "2. *\"How does the catch keyword determine the type of exception that was thrown\"*\n",
    "3. *\"NSLog array description not memory address\"*\n",
    "4. *\"PECL_HTTP not recognised php ubuntu\"*\n",
    "\n",
    "Using the ranking above, calculate *Hits@K* metric for *K = 1, 2, 4*: \n",
    " \n",
    "- [K = 1] $\\text{Hits@1} = \\frac{1}{1}\\sum_{i=1}^1 \\, [dup_i \\in top1(q_i)] = [dup_1 \\in top1(q_1)] = 0$ because the correct answer doesn't appear in the *top1* list.\n",
    "- [K = 2] $\\text{Hits@2} = \\frac{1}{1}\\sum_{i=1}^1 \\, [dup_i \\in top2(q_i)] = [dup_1 \\in top2(q_1)] = 1$ because $rank_{dup_1} = 2$.\n",
    "- [K = 4] $\\text{Hits@4} = \\frac{1}{1}\\sum_{i=1}^1 \\, [dup_i \\in top4(q_i)] = [dup_1 \\in top4(q_1)] = 1$\n",
    "\n",
    "Using the ranking above, calculate *DCG@K* metric for *K = 1, 2, 4*:\n",
    "\n",
    "- [K = 1] $\\text{DCG@1} = \\frac{1}{1} \\sum_{i=1}^1\\frac{1}{\\log_2(1+rank_{dup_i})}\\cdot[rank_{dup_i} \\le 1] = \\frac{1}{\\log_2(1+rank_{dup_i})}\\cdot[rank_{dup_i} \\le 1] = 0$ because the correct answer doesn't appear in the top1 list.\n",
    "- [K = 2] $\\text{DCG@2} = \\frac{1}{1} \\sum_{i=1}^1\\frac{1}{\\log_2(1+rank_{dup_i})}\\cdot[rank_{dup_i} \\le 2] = \\frac{1}{\\log_2{3}}$, because $rank_{dup_1} = 2$.\n",
    "- [K = 4] $\\text{DCG@4} = \\frac{1}{1} \\sum_{i=1}^1\\frac{1}{\\log_2(1+rank_{dup_i})}\\cdot[rank_{dup_i} \\le 4] = \\frac{1}{\\log_2{3}}$.\n"
   ]
  },
  {
   "cell_type": "markdown",
   "metadata": {},
   "source": [
    "**Tasks 2 and 3 (HitsCount and DCGScore).** Implement the functions *hits_count* and *dcg_score* as described above. Each function has two arguments: *dup_ranks* and *k*. *dup_ranks* is a list which contains *values of ranks* of duplicates. For example, *dup_ranks* is *[2]* for the example provided above."
   ]
  },
  {
   "cell_type": "code",
   "execution_count": 20,
   "metadata": {},
   "outputs": [],
   "source": [
    "def hits_count(dup_ranks, k):\n",
    "    \"\"\"\n",
    "        dup_ranks: list of duplicates' ranks; one rank per question; \n",
    "                   length is a number of questions which we are looking for duplicates; \n",
    "                   rank is a number from 1 to len(candidates of the question); \n",
    "                   e.g. [2, 3] means that the first duplicate has the rank 2, the second one — 3.\n",
    "        k: number of top-ranked elements (k in Hits@k metric)\n",
    "\n",
    "        result: return Hits@k value for current ranking\n",
    "    \"\"\"\n",
    "    \n",
    "    sum_hits = 0\n",
    "    for rank in dup_ranks:\n",
    "        if rank <= k:\n",
    "            sum_hits += 1\n",
    "    return sum_hits / len(dup_ranks)\n",
    "    "
   ]
  },
  {
   "cell_type": "markdown",
   "metadata": {},
   "source": [
    "Test your code on the tiny examples:"
   ]
  },
  {
   "cell_type": "code",
   "execution_count": 21,
   "metadata": {},
   "outputs": [],
   "source": [
    "def test_hits():\n",
    "    # *Evaluation example*\n",
    "    # answers — dup_i\n",
    "    answers = [\"How does the catch keyword determine the type of exception that was thrown\"]\n",
    "    \n",
    "    # candidates_ranking — the ranked sentences provided by our model\n",
    "    candidates_ranking = [[\"How Can I Make These Links Rotate in PHP\", \n",
    "                           \"How does the catch keyword determine the type of exception that was thrown\",\n",
    "                           \"NSLog array description not memory address\",\n",
    "                           \"PECL_HTTP not recognised php ubuntu\"]]\n",
    "    # dup_ranks — position of the dup_i in the list of ranks +1\n",
    "    dup_ranks = [candidates_ranking[i].index(answers[i]) + 1 for i in range(len(answers))]\n",
    "    \n",
    "    # correct_answers — the expected values of the result for each k from 1 to 4\n",
    "    correct_answers = [0, 1, 1, 1]\n",
    "    for k, correct in enumerate(correct_answers, 1):\n",
    "        if not np.isclose(hits_count(dup_ranks, k), correct):\n",
    "            return \"Check the function.\"\n",
    "    \n",
    "    # Other tests\n",
    "    answers = [\"How does the catch keyword determine the type of exception that was thrown\", \n",
    "               \"Convert Google results object (pure js) to Python object\"]\n",
    "    \n",
    "    # The first test: both duplicates on the first position in ranked list\n",
    "    candidates_ranking = [[\"How does the catch keyword determine the type of exception that was thrown\",\n",
    "                           \"How Can I Make These Links Rotate in PHP\"], \n",
    "                          [\"Convert Google results object (pure js) to Python object\",\n",
    "                           \"WPF- How to update the changes in list item of a list\"]]\n",
    "    dup_ranks = [candidates_ranking[i].index(answers[i]) + 1 for i in range(len(answers))]\n",
    "    correct_answers = [1, 1]\n",
    "    for k, correct in enumerate(correct_answers, 1):\n",
    "        if not np.isclose(hits_count(dup_ranks, k), correct):\n",
    "            return \"Check the function (test: both duplicates on the first position in ranked list).\"\n",
    "        \n",
    "    # The second test: one candidate on the first position, another — on the second\n",
    "    candidates_ranking = [[\"How Can I Make These Links Rotate in PHP\", \n",
    "                           \"How does the catch keyword determine the type of exception that was thrown\"], \n",
    "                          [\"Convert Google results object (pure js) to Python object\",\n",
    "                           \"WPF- How to update the changes in list item of a list\"]]\n",
    "    dup_ranks = [candidates_ranking[i].index(answers[i]) + 1 for i in range(len(answers))]\n",
    "    correct_answers = [0.5, 1]\n",
    "    for k, correct in enumerate(correct_answers, 1):\n",
    "        if not np.isclose(hits_count(dup_ranks, k), correct):\n",
    "            return \"Check the function (test: one candidate on the first position, another — on the second).\"\n",
    "\n",
    "    # The third test: both candidates on the second position\n",
    "    candidates_ranking = [[\"How Can I Make These Links Rotate in PHP\", \n",
    "                           \"How does the catch keyword determine the type of exception that was thrown\"], \n",
    "                          [\"WPF- How to update the changes in list item of a list\",\n",
    "                           \"Convert Google results object (pure js) to Python object\"]]\n",
    "    dup_ranks = [candidates_ranking[i].index(answers[i]) + 1 for i in range(len(answers))]\n",
    "    correct_answers = [0, 1]\n",
    "    for k, correct in enumerate(correct_answers, 1):\n",
    "        if not np.isclose(hits_count(dup_ranks, k), correct):\n",
    "            return \"Check the function (test: both candidates on the second position).\"\n",
    "\n",
    "    return \"Basic test are passed.\""
   ]
  },
  {
   "cell_type": "code",
   "execution_count": 22,
   "metadata": {},
   "outputs": [
    {
     "name": "stdout",
     "output_type": "stream",
     "text": [
      "Basic test are passed.\n"
     ]
    }
   ],
   "source": [
    "print(test_hits())"
   ]
  },
  {
   "cell_type": "code",
   "execution_count": 23,
   "metadata": {},
   "outputs": [],
   "source": [
    "def dcg_score(dup_ranks, k):\n",
    "    \"\"\"\n",
    "        dup_ranks: list of duplicates' ranks; one rank per question; \n",
    "                   length is a number of questions which we are looking for duplicates; \n",
    "                   rank is a number from 1 to len(candidates of the question); \n",
    "                   e.g. [2, 3] means that the first duplicate has the rank 2, the second one — 3.\n",
    "        k: number of top-ranked elements (k in DCG@k metric)\n",
    "\n",
    "        result: return DCG@k value for current ranking\n",
    "    \"\"\"\n",
    "    \n",
    "    sum_dcg = 0\n",
    "    for rank in dup_ranks:\n",
    "        if rank <= k:\n",
    "            sum_dcg += 1 / np.log2(1 + rank)\n",
    "    return sum_dcg / len(dup_ranks)"
   ]
  },
  {
   "cell_type": "code",
   "execution_count": 24,
   "metadata": {},
   "outputs": [],
   "source": [
    "def test_dcg():\n",
    "    # *Evaluation example*\n",
    "    # answers — dup_i\n",
    "    answers = [\"How does the catch keyword determine the type of exception that was thrown\"]\n",
    "    \n",
    "    # candidates_ranking — the ranked sentences provided by our model\n",
    "    candidates_ranking = [[\"How Can I Make These Links Rotate in PHP\", \n",
    "                           \"How does the catch keyword determine the type of exception that was thrown\",\n",
    "                           \"NSLog array description not memory address\",\n",
    "                           \"PECL_HTTP not recognised php ubuntu\"]]\n",
    "    # dup_ranks — position of the dup_i in the list of ranks +1\n",
    "    dup_ranks = [candidates_ranking[i].index(answers[i]) + 1 for i in range(len(answers))]\n",
    "    \n",
    "    # correct_answers — the expected values of the result for each k from 1 to 4\n",
    "    correct_answers = [0, 1 / (np.log2(3)), 1 / (np.log2(3)), 1 / (np.log2(3))]\n",
    "    for k, correct in enumerate(correct_answers, 1):\n",
    "        if not np.isclose(dcg_score(dup_ranks, k), correct):\n",
    "            return \"Check the function.\"\n",
    "    \n",
    "    # Other tests\n",
    "    answers = [\"How does the catch keyword determine the type of exception that was thrown\", \n",
    "               \"Convert Google results object (pure js) to Python object\"]\n",
    "\n",
    "    # The first test: both duplicates on the first position in ranked list\n",
    "    candidates_ranking = [[\"How does the catch keyword determine the type of exception that was thrown\",\n",
    "                           \"How Can I Make These Links Rotate in PHP\"], \n",
    "                          [\"Convert Google results object (pure js) to Python object\",\n",
    "                           \"WPF- How to update the changes in list item of a list\"]]\n",
    "    dup_ranks = [candidates_ranking[i].index(answers[i]) + 1 for i in range(len(answers))]\n",
    "    correct_answers = [1, 1]\n",
    "    for k, correct in enumerate(correct_answers, 1):\n",
    "        if not np.isclose(dcg_score(dup_ranks, k), correct):\n",
    "            return \"Check the function (test: both duplicates on the first position in ranked list).\"\n",
    "        \n",
    "    # The second test: one candidate on the first position, another — on the second\n",
    "    candidates_ranking = [[\"How Can I Make These Links Rotate in PHP\", \n",
    "                           \"How does the catch keyword determine the type of exception that was thrown\"], \n",
    "                          [\"Convert Google results object (pure js) to Python object\",\n",
    "                           \"WPF- How to update the changes in list item of a list\"]]\n",
    "    dup_ranks = [candidates_ranking[i].index(answers[i]) + 1 for i in range(len(answers))]\n",
    "    correct_answers = [0.5, (1 + (1 / (np.log2(3)))) / 2]\n",
    "    for k, correct in enumerate(correct_answers, 1):\n",
    "        if not np.isclose(dcg_score(dup_ranks, k), correct):\n",
    "            return \"Check the function (test: one candidate on the first position, another — on the second).\"\n",
    "        \n",
    "    # The third test: both candidates on the second position\n",
    "    candidates_ranking = [[\"How Can I Make These Links Rotate in PHP\",\n",
    "                           \"How does the catch keyword determine the type of exception that was thrown\"], \n",
    "                          [\"WPF- How to update the changes in list item of a list\",\n",
    "                           \"Convert Google results object (pure js) to Python object\"]]\n",
    "    dup_ranks = [candidates_ranking[i].index(answers[i]) + 1 for i in range(len(answers))]\n",
    "    correct_answers = [0, 1 / (np.log2(3))]\n",
    "    for k, correct in enumerate(correct_answers, 1):\n",
    "        if not np.isclose(dcg_score(dup_ranks, k), correct):\n",
    "            return \"Check the function (test: both candidates on the second position).\"\n",
    "\n",
    "    return \"Basic test are passed.\""
   ]
  },
  {
   "cell_type": "code",
   "execution_count": 25,
   "metadata": {},
   "outputs": [
    {
     "name": "stdout",
     "output_type": "stream",
     "text": [
      "Basic test are passed.\n"
     ]
    }
   ],
   "source": [
    "print(test_dcg())"
   ]
  },
  {
   "cell_type": "markdown",
   "metadata": {},
   "source": [
    "Submit results of the functions *hits_count* and *dcg_score* for the following examples to earn the points."
   ]
  },
  {
   "cell_type": "code",
   "execution_count": 26,
   "metadata": {},
   "outputs": [],
   "source": [
    "test_examples = [\n",
    "    [1],\n",
    "    [1, 2],\n",
    "    [2, 1],\n",
    "    [1, 2, 3],\n",
    "    [1, 2, 3, 4, 5, 6, 7, 8, 9, 10],\n",
    "    [9, 5, 4, 2, 8, 10, 7, 6, 1, 3],\n",
    "    [4, 3, 5, 1, 9, 10, 7, 8, 2, 6],\n",
    "    [5, 1, 7, 6, 2, 3, 8, 9, 10, 4],\n",
    "    [6, 3, 1, 4, 7, 2, 9, 8, 10, 5],\n",
    "    [10, 9, 8, 7, 6, 5, 4, 3, 2, 1],\n",
    "]"
   ]
  },
  {
   "cell_type": "code",
   "execution_count": 27,
   "metadata": {},
   "outputs": [
    {
     "name": "stdout",
     "output_type": "stream",
     "text": [
      "Current answer for task HitsCount is: 1.0\n",
      "0.5\n",
      "1.0\n",
      "0.5\n",
      "1.0\n",
      "0.3333333333333333\n",
      "0.6666666666666666\n",
      "1.0\n",
      "0.1\n",
      "0.2\n",
      "0.3\n",
      "0.4\n",
      "0.5\n",
      "0.6\n",
      "0.7\n",
      "0.8\n",
      "0.9\n",
      "1....\n"
     ]
    }
   ],
   "source": [
    "hits_results = []\n",
    "for example in test_examples:\n",
    "    for k in range(len(example)):\n",
    "        hits_results.append(hits_count(example, k + 1))\n",
    "grader.submit_tag('HitsCount', array_to_string(hits_results))"
   ]
  },
  {
   "cell_type": "code",
   "execution_count": 28,
   "metadata": {},
   "outputs": [
    {
     "name": "stdout",
     "output_type": "stream",
     "text": [
      "Current answer for task DCGScore is: 1.0\n",
      "0.5\n",
      "0.815464876786\n",
      "0.5\n",
      "0.815464876786\n",
      "0.333333333333\n",
      "0.54364325119\n",
      "0.710309917857\n",
      "0.1\n",
      "0.16309297...\n"
     ]
    }
   ],
   "source": [
    "dcg_results = []\n",
    "for example in test_examples:\n",
    "    for k in range(len(example)):\n",
    "        dcg_results.append(dcg_score(example, k + 1))\n",
    "grader.submit_tag('DCGScore', array_to_string(dcg_results))"
   ]
  },
  {
   "cell_type": "markdown",
   "metadata": {},
   "source": [
    "##  First solution: pre-trained embeddings"
   ]
  },
  {
   "cell_type": "markdown",
   "metadata": {},
   "source": [
    "We will work with predefined train, validation and test corpora. All the files are tab-separated, but have a different format:\n",
    " - *train* corpus contains similar sentences at the same row.\n",
    " - *validation* corpus contains the following columns: *question*, *similar question*, *negative example 1*, *negative example 2*, ... \n",
    " - *test* corpus contains the following columns: *question*, *example 1*, *example 2*, ...\n",
    "\n",
    "Validation corpus will be used for the intermediate validation of models. The test data will be necessary for submitting the quality of your model in the system."
   ]
  },
  {
   "cell_type": "markdown",
   "metadata": {},
   "source": [
    "Now you should read *validation* corpus, located at `data/validation.tsv`. You will use it later to evaluate current solution."
   ]
  },
  {
   "cell_type": "code",
   "execution_count": 29,
   "metadata": {},
   "outputs": [],
   "source": [
    "def read_corpus(filename):\n",
    "    data = []\n",
    "    for line in open(filename, encoding='utf-8'):\n",
    "        data.append(line.strip().split('\\t'))\n",
    "    return data"
   ]
  },
  {
   "cell_type": "code",
   "execution_count": 30,
   "metadata": {},
   "outputs": [],
   "source": [
    "validation = read_corpus(os.path.join(data_dir, 'validation.tsv'))"
   ]
  },
  {
   "cell_type": "code",
   "execution_count": 31,
   "metadata": {},
   "outputs": [
    {
     "data": {
      "text/plain": [
       "10000"
      ]
     },
     "execution_count": 31,
     "metadata": {},
     "output_type": "execute_result"
    }
   ],
   "source": [
    "len(validation)"
   ]
  },
  {
   "cell_type": "code",
   "execution_count": 32,
   "metadata": {},
   "outputs": [
    {
     "data": {
      "text/plain": [
       "1001"
      ]
     },
     "execution_count": 32,
     "metadata": {},
     "output_type": "execute_result"
    }
   ],
   "source": [
    "len(validation[2])"
   ]
  },
  {
   "cell_type": "code",
   "execution_count": 33,
   "metadata": {},
   "outputs": [],
   "source": [
    "from sklearn.metrics.pairwise import cosine_similarity"
   ]
  },
  {
   "cell_type": "markdown",
   "metadata": {},
   "source": [
    "We will use cosine distance to rank candidate questions which you need to implement in the function *rank_candidates*. The function should return a sorted list of pairs *(initial position in candidates list, candidate)*. Index of some pair corresponds to its rank (the first is the best). For example, if the list of candidates was *[a, b, c]* and the most similar is *c*, then *a* and *b*, the function should return a list *[(2, c), (0, a), (1, b)]*.\n",
    "\n",
    "Pay attention, if you use the function *cosine_similarity* from *sklearn.metrics.pairwise* to calculate similarity because it works in a different way: most similar objects has greatest similarity. It's preferable to use a vectorized version of *cosine_similarity* function. Try to compute similarity at once and not use list comprehension. It should speed up your computations significantly."
   ]
  },
  {
   "cell_type": "code",
   "execution_count": 35,
   "metadata": {},
   "outputs": [],
   "source": [
    "def rank_candidates(question, candidates, embeddings, dim=300):\n",
    "    \"\"\"\n",
    "        question: a string\n",
    "        candidates: a list of strings (candidates) which we want to rank\n",
    "        embeddings: some embeddings\n",
    "        dim: dimension of the current embeddings\n",
    "        \n",
    "        result: a list of pairs (initial position in the list, question)\n",
    "    \"\"\"\n",
    "    question_vec = question_to_vec(question, embeddings, dim=dim).reshape(1, -1)\n",
    "    candidate_vecs = [question_to_vec(x, embeddings, dim=dim) for x in candidates]\n",
    "    \n",
    "    sims = cosine_similarity(question_vec, candidate_vecs)\n",
    "    sims = sims.squeeze().tolist()\n",
    "    result = [(c[0], candidates[c[0]]) for c in \n",
    "                  sorted(enumerate(sims), key = lambda x: x[1], reverse=True)\n",
    "             ]\n",
    "    \n",
    "    return result"
   ]
  },
  {
   "cell_type": "markdown",
   "metadata": {},
   "source": [
    "Test your code on the tiny examples:"
   ]
  },
  {
   "cell_type": "code",
   "execution_count": 36,
   "metadata": {},
   "outputs": [],
   "source": [
    "def test_rank_candidates():\n",
    "    questions = ['converting string to list', 'Sending array via Ajax fails']\n",
    "    candidates = [['Convert Google results object (pure js) to Python object', \n",
    "                   'C# create cookie from string and send it',\n",
    "                   'How to use jQuery AJAX for an outside domain?'], \n",
    "                  ['Getting all list items of an unordered list in PHP', \n",
    "                   'WPF- How to update the changes in list item of a list', \n",
    "                   'select2 not displaying search results']]\n",
    "    results = [[(1, 'C# create cookie from string and send it'), \n",
    "                (0, 'Convert Google results object (pure js) to Python object'), \n",
    "                (2, 'How to use jQuery AJAX for an outside domain?')],\n",
    "               [(0, 'Getting all list items of an unordered list in PHP'), \n",
    "                (2, 'select2 not displaying search results'), \n",
    "                (1, 'WPF- How to update the changes in list item of a list')]]\n",
    "    for question, q_candidates, result in zip(questions, candidates, results):\n",
    "        ranks = rank_candidates(question, q_candidates, wv_embeddings, 300)\n",
    "        if not np.all(ranks == result):\n",
    "            return \"Check the function.\"\n",
    "    return \"Basic tests are passed.\""
   ]
  },
  {
   "cell_type": "code",
   "execution_count": 37,
   "metadata": {},
   "outputs": [
    {
     "name": "stdout",
     "output_type": "stream",
     "text": [
      "Basic tests are passed.\n"
     ]
    }
   ],
   "source": [
    "print(test_rank_candidates())"
   ]
  },
  {
   "cell_type": "markdown",
   "metadata": {},
   "source": [
    "Now we can test the quality of the current approach. Run the next two cells to get the results. Pay attention that calculation of similarity between vectors takes time and this calculation is computed approximately in 10 minutes."
   ]
  },
  {
   "cell_type": "code",
   "execution_count": 38,
   "metadata": {},
   "outputs": [],
   "source": [
    "wv_ranking = []\n",
    "for line in validation:\n",
    "    q, *ex = line\n",
    "    ranks = rank_candidates(q, ex, wv_embeddings)\n",
    "    wv_ranking.append([r[0] for r in ranks].index(0) + 1)"
   ]
  },
  {
   "cell_type": "code",
   "execution_count": 39,
   "metadata": {},
   "outputs": [
    {
     "name": "stdout",
     "output_type": "stream",
     "text": [
      "DCG@   1: 0.212 | Hits@   1: 0.212\n",
      "DCG@   5: 0.267 | Hits@   5: 0.315\n",
      "DCG@  10: 0.282 | Hits@  10: 0.363\n",
      "DCG@ 100: 0.320 | Hits@ 100: 0.552\n",
      "DCG@ 500: 0.353 | Hits@ 500: 0.811\n",
      "DCG@1000: 0.373 | Hits@1000: 1.000\n"
     ]
    }
   ],
   "source": [
    "for k in [1, 5, 10, 100, 500, 1000]:\n",
    "    print(\"DCG@%4d: %.3f | Hits@%4d: %.3f\" % (k, dcg_score(wv_ranking, k), k, hits_count(wv_ranking, k)))"
   ]
  },
  {
   "cell_type": "markdown",
   "metadata": {},
   "source": [
    "If you did all the steps correctly, you should be frustrated by the received results. Let's try to understand why the quality is so low. First of all, when you work with some data it is necessary to have an idea how the data looks like. Print several questions from the data:"
   ]
  },
  {
   "cell_type": "code",
   "execution_count": 40,
   "metadata": {},
   "outputs": [
    {
     "name": "stdout",
     "output_type": "stream",
     "text": [
      "How to print a binary heap tree without recursion? How do you best convert a recursive function to an iterative one? How can i use ng-model with directive in angular js flash: drawing and erasing\n",
      "How to start PhoneStateListener programmatically? PhoneStateListener and service Java cast object[] to model WCF and What does this mean?\n",
      "jQuery: Show a div2 when mousenter over div1 is over when hover on div1 depenting on if it is on div2 or not it should act differently How to run selenium in google app engine/cloud? Python Comparing two lists of strings for similarities\n"
     ]
    }
   ],
   "source": [
    "for line in validation[:3]:\n",
    "    q, *examples = line\n",
    "    print(q, *examples[:3])"
   ]
  },
  {
   "cell_type": "markdown",
   "metadata": {},
   "source": [
    "As you can see, we deal with the raw data. It means that we have many punctuation marks, special characters and unlowercased letters. In our case, it could lead to the situation where we can't find some embeddings, e.g. for the word \"grid?\". \n",
    "\n",
    "To solve this problem you should use the functions *text_prepare* from the previous assignments to prepare the data."
   ]
  },
  {
   "cell_type": "code",
   "execution_count": 46,
   "metadata": {},
   "outputs": [],
   "source": [
    "from util import text_prepare"
   ]
  },
  {
   "cell_type": "markdown",
   "metadata": {},
   "source": [
    "Now transform all the questions from the validation set:"
   ]
  },
  {
   "cell_type": "code",
   "execution_count": 42,
   "metadata": {},
   "outputs": [],
   "source": [
    "prepared_validation = []\n",
    "for line in validation:\n",
    "    # my code\n",
    "    prepared_validation.append([text_prepare(x) for x in line])"
   ]
  },
  {
   "cell_type": "code",
   "execution_count": 43,
   "metadata": {},
   "outputs": [
    {
     "data": {
      "text/plain": [
       "['print binary heap tree without recursion',\n",
       " 'best convert recursive function iterative one',\n",
       " 'use ngmodel directive angular js',\n",
       " 'flash drawing erasing',\n",
       " 'toggle react component using hide show classname',\n",
       " 'use usercontrol another project current webpage',\n",
       " 'paths resolved differently upgrading aspnet 4',\n",
       " 'materialize datepicker rendering icon clicked',\n",
       " 'creating pypi package could find version satisfies requirement iso8601',\n",
       " 'analyze confusion matrix',\n",
       " 'declare c array swift',\n",
       " 'using rand flipping coin rolling die',\n",
       " 'handling json field special character name java',\n",
       " 'react native select row listview push',\n",
       " 'get creation_time video using ffmpeg regex',\n",
       " 'row exist multiple',\n",
       " 'specify classifier gradle dependencys dependency',\n",
       " 'using unwind multiple documents',\n",
       " 'visual studio code missing x509certificate2ui',\n",
       " 'developing cordova plugins firefox os',\n",
       " 'update multiple rows 2 columns mysql',\n",
       " 'analyse format alphanumeric string',\n",
       " 'dealing large tiff images c++ magick libtiff',\n",
       " 'error injectorunpr unknown provider tprovider myactivelinkdirective mean',\n",
       " 'angularjs apply directive instantly formating currency',\n",
       " 'change font color portion string',\n",
       " 'spring aop intercept methods within springs container',\n",
       " 'retrieve json original nested form apache solr',\n",
       " 'spatial autocorrelation using morans spatial overlap index',\n",
       " 'stop php page continuing field empty',\n",
       " 'selecting checkboxes listbox displayed properly',\n",
       " 'php warning illegal string offset field',\n",
       " 'webbrowser control crashes windows 10',\n",
       " 'error opening modal angular',\n",
       " 'port 25 works exe run manually blocked run service',\n",
       " '600 + plus 500 500600',\n",
       " 'count number processes created using fork loop',\n",
       " 'use uiimagepickercontrollersourcetypephotolibrary instead uiimagepickercontrollersourcetypesavedphotosalbum',\n",
       " 'read file java output first comma delimited string',\n",
       " 'simple recursive method',\n",
       " 'ensure sqlite table one row',\n",
       " 'method iterator javautilcollection',\n",
       " 'development cloudant using local couchdb',\n",
       " 'regex find method calls',\n",
       " 'aspnet menu rendering different vs2008 vs2010',\n",
       " 'maven change junit version quickstart archetype',\n",
       " 'writing sublists list lists separate text files',\n",
       " 'ipad problems table rows popovercontrol',\n",
       " 'retrieve multiple results set',\n",
       " 'pagination working codeigniter',\n",
       " 'angular nvd3 change colors legends also',\n",
       " 'nodejs server responding large file upload express busboy',\n",
       " 'send request get response windows phone 81 winrt',\n",
       " 'want delete empty folders directory last 30 days using batch',\n",
       " 'creating x amount threads execute task time',\n",
       " 'android studio 22 update aligned apk zipalign generated using new gradle plugin 220',\n",
       " 'entity framework adding entity twice manytomany relationships',\n",
       " 'join two tables display unique values maxium date',\n",
       " 'use absolute position relative parent element',\n",
       " 'search refinement webmatrix site',\n",
       " 'maven project version expression constant',\n",
       " 'prevent appgics generated',\n",
       " 'troubles converting xsd java using jaxb',\n",
       " 'cannot run jax rs web service tomcat',\n",
       " 'make password protected bash script resist refuse bash x password given',\n",
       " 'youtube api play function trigger view count',\n",
       " 'perl loop strings characters slow',\n",
       " 'change size rgl plots shiny rmarkdown',\n",
       " 'programmatically disconnect clients connected solace appliance',\n",
       " 'rails before_filter correct_user admin',\n",
       " 'gitignore everything except hidden subdir',\n",
       " 'use weakself nested blocks',\n",
       " 'css background color behaving expected',\n",
       " 'android app listview cannot scrolled bottom search specific element using appium java',\n",
       " 'rails has_many association results nameerror uninitialized constant',\n",
       " 'send data fragments swiping tabs viewpager',\n",
       " 'wordpress static pages embed content templates',\n",
       " 'troubles importing classes angular 2 modules typescript 17',\n",
       " 'able get images read java exporting jar',\n",
       " 'create resource dll',\n",
       " 'error linker command failed ld duplicate symbol _main',\n",
       " 'sql find nonprintable characters string',\n",
       " 'want generate payperiod month',\n",
       " 'interactively enter headline place entry using capture',\n",
       " 'querying dns service records find hostname tcp ip',\n",
       " 'use setcontentview outside oncreate method',\n",
       " 'consolitate data multible sheets rearrange data per column name',\n",
       " 'transparent overlay view opaque',\n",
       " 'run play framework port9001 windows cmd play console',\n",
       " 'rails 3 ajax posts link click',\n",
       " 'add html content mysql die error',\n",
       " 'best way run plack psgi perl application outside apache using fastcgi',\n",
       " 'call nsuserdefault value another view controller',\n",
       " 'qt way get font particular css resolves',\n",
       " 'update parent component data child component modified angular 15',\n",
       " '2d array pushing one array shows arrays',\n",
       " 'get nsdata assetslibrary url',\n",
       " 'specify image size html doxygen',\n",
       " 'nsfetchedresultscontrollerdelegate second view controller firing',\n",
       " 'draggable divs getting mixed another divs',\n",
       " 'creating mlp python showing error',\n",
       " 'create sharepoint 2010 ribbon button programmatically w feature xml',\n",
       " 'use pyglet write music player play music list',\n",
       " 'efficiently debug loops consisting large number iterations eclipse',\n",
       " 'passing model object redirecttoaction without polluting url',\n",
       " 'automatically receiving mobile phones sms hyperterminal',\n",
       " 'output systemoutprintln emacs ciders repl buffer',\n",
       " 'scoring regression model using pmml augustus python',\n",
       " 'safari view controller send data back app',\n",
       " 'signalling bash script running background infinite loop',\n",
       " 'add inapp purchase published app play store test going production',\n",
       " 'filenotfoundexception windows 10 universal app uap',\n",
       " 'map one column columns avro file',\n",
       " 'retrieving cell data jquery datatable post',\n",
       " 'play frame work make classes models package singleton',\n",
       " 'binding events hammerjs',\n",
       " 'yii making user auto logged signup end auto authentication signup',\n",
       " 'unreal engine 4 save rendered frame memory',\n",
       " 'building helloworld c++ program linux ncurses',\n",
       " 'generating checkbox lists mvc3 using complex viewmodel cross table linq sql',\n",
       " 'cordovawebview timeout error',\n",
       " 'whats wrong xsd schema gives type element declared include another xsd file',\n",
       " 'angular papaparse integration',\n",
       " 'setup graylog2 server elasticsearch vagrant machine',\n",
       " 'solvedsee comment make password form tumblr',\n",
       " 'javascript call method inside another method',\n",
       " 'aws api gateway clientside ssl certificate verification nginx',\n",
       " 'kendo ui drop downs posting arrays',\n",
       " 'servicestack identity field pk insert fails',\n",
       " 'redirection rendering controller twig symfony 302',\n",
       " 'css sprites bottom repeating',\n",
       " 'sort table laravel eloquent objects custom attribute',\n",
       " 'comparing elements generic list',\n",
       " 'set mindate bootstrap datetimepicker another',\n",
       " 'difference g commands vim',\n",
       " 'java creating self extracting jar extract parts archive',\n",
       " 'set html text color size using javascript',\n",
       " 'queue using arrays',\n",
       " 'foreach loop using xmlxmlelement remote scriptblock',\n",
       " 'print list categories click category one one selenium appium',\n",
       " 'every abcpdf runs memory',\n",
       " 'spring oauth2 resource still unprotected even though marked resource server',\n",
       " 'restart node application automatically aws elasticbeanstalk',\n",
       " 'unresolved external symbol lnk2019',\n",
       " 'celltemplate angularuigrid working properly',\n",
       " 'escaping backslashes method call stringbyreplacingoccurrencesofstring work objective c',\n",
       " 'apex data loading add column programatically',\n",
       " 'mysql mariadb shuts exactly 1 minute 42 seconds',\n",
       " 'mouse movement mouseover javascript evaluation watir',\n",
       " 'removing backslashes string python',\n",
       " 'array manipulation accessing specific bytes',\n",
       " 'rails applicationcss load cssscss files',\n",
       " 'longlistselector cannot change itemssource',\n",
       " 'c# datetime recognising timezone change bst',\n",
       " 'deinit child view controllers',\n",
       " 'send back custom class object class clicked',\n",
       " 'delete array returning self',\n",
       " 'ms access properties',\n",
       " 'uiwebview always add parameter url issue',\n",
       " 'comparing two spanned strings edittext android',\n",
       " 'add prefix control id still bind mvc razor',\n",
       " 'exc_bad_access setting integer anything else zero',\n",
       " 'hover css working',\n",
       " 'blowfish last block incomplete decryption',\n",
       " 'reading uploaded image undefined method file nilnilclass',\n",
       " 'run intellij idea remote desktop',\n",
       " 'get jsonobject server response volley',\n",
       " 'guide organizing large django projects',\n",
       " 'populate dropdownlist based another dropdownlist selected value mvc 4',\n",
       " 'azure servicebus token expired',\n",
       " 'ibatis mybatis migration efforts',\n",
       " 'look document generated using htp package',\n",
       " 'tortoise svn error update specified path unexpected status',\n",
       " 'extract html data logging website android app',\n",
       " 'add key value array without triggering array',\n",
       " 'write math equation c++',\n",
       " 'undefined index php mysql error',\n",
       " 'text changed inputbox automatically updates next 6 text boxes',\n",
       " 'unable get email facebook user',\n",
       " 'iphone facebook logout feature work app',\n",
       " 'force app use 3g data proxy setting',\n",
       " 'unit testing code pretty much calculation gethashcode example',\n",
       " 'status checkbox cant detected',\n",
       " 'sort list multiple conditions ruby rails',\n",
       " 'sharp text css3',\n",
       " 'change class object dynamically c#',\n",
       " 'creating array default value default value changed',\n",
       " 'call delegates function without getting instance method found warning ios',\n",
       " 'android background drawable appear black genymotion looks fine intellij',\n",
       " 'table columns using google charts',\n",
       " 'dropdown list options populate second list js php',\n",
       " 'difference ruby',\n",
       " 'remove functionality changelist filter appearing django admin',\n",
       " 'unpack stxetx data python',\n",
       " 'ansible playbook calling role directory roles directory',\n",
       " 'setting https redirects heroku laravel instance',\n",
       " 'input helper valuebinding deprecated whats alternative',\n",
       " 'using mysqlconnector twisted python execute multiple queries',\n",
       " 'mysql 1 large table 100 columns split 5 tables join',\n",
       " 'neo4j load csv field name',\n",
       " 'mocha + react navigator defined',\n",
       " 'semantic ui grid display full width column computer columns hidden',\n",
       " 'populating select menu options using javascript',\n",
       " 'serializing mongodb find return nonanonymous json array using pymongo',\n",
       " 'geom tile white space issue x variable spread unevenly accross facet grids',\n",
       " 'moving files depending profile war',\n",
       " 'check last record sqldatareader',\n",
       " 'assigning columns numpy',\n",
       " 'android facebook apiexception invalid application',\n",
       " 'django customizing message successful form save',\n",
       " 'custom textbox builtin validator server side validation firing',\n",
       " 'embed mjpeg file webpage',\n",
       " 'php delete jquery doesnt work',\n",
       " 'awk doesnt work bash script',\n",
       " 'launch specific app external accessory attached',\n",
       " 'three inputs row bootstrap 3',\n",
       " 'compiler like gcc implement acquire release semantics stdmutex',\n",
       " 'framework search upcoming project',\n",
       " 'implementing web service server windows ce 2013',\n",
       " 'keep getting digital signature object verify windows javaee installer',\n",
       " 'hide paging numbers gridview',\n",
       " 'remove sublayers view afer touch',\n",
       " 'cuda find global memory coalescence',\n",
       " 'read google chrome crash dump windbg',\n",
       " 'jquery targeting nested list',\n",
       " 'pass column value checkbox clicked wijmogrid column',\n",
       " 'normalize database hibernate repeating values dont get saved',\n",
       " 'stop validation particular textbox hiding textbox using angularjs',\n",
       " 'opencv imshow waitkey slow mac os x 10102 using c++',\n",
       " 'setting input box background',\n",
       " 'intellij idea element ignore allowed',\n",
       " 'slider work jquery tabs',\n",
       " 'carrierwave getting image width height storing hstore field',\n",
       " 'openprocess succeeds enumprocessmodules fails',\n",
       " 'django + forms dynamic choices choicefield',\n",
       " 'using urlcontent display file content net mvc',\n",
       " 'pdo cannot able fetch image database',\n",
       " 'error adding overlay current location',\n",
       " 'internal section link fails beamer output pandoc markdown',\n",
       " 'adding row_number query loses distinct defeats purpose paged results attempt',\n",
       " 'android studio 1351339820 launches wrong java version opensuse 123',\n",
       " 'facebook object empty',\n",
       " 'java code reads utf8 text incorrectly',\n",
       " 'php sessioncookie_secure actually set cookie secure',\n",
       " 'using webapp2 get value forms name attribute post request',\n",
       " 'finding uppercase character adding space',\n",
       " 'table data pass stored procedure param insert another table mysql',\n",
       " 'inject entry point class gwt gin',\n",
       " 'group week year dates day dates start sundays oracle 10',\n",
       " 'options none sml',\n",
       " 'reversing mp3 programmatically',\n",
       " 'convert associative array php insert database',\n",
       " 'map version threesum slow',\n",
       " 'ant keeps recompiling',\n",
       " 'httpcontextcurrentuseridentityname returns blank',\n",
       " 'uiwebview javascript window window communication',\n",
       " 'fluent nhibernate exception association table x refers unmapped class systemstring',\n",
       " 'net memcache libraries production ready',\n",
       " 'db2 cant connect db new user',\n",
       " 'django flatpages backup',\n",
       " 'trouble creating onetime calendar event google sheet row',\n",
       " 'colored image turned color grey vector drawable',\n",
       " 'show pattern asprepeater item template',\n",
       " 'fastest scripting language java',\n",
       " 'tried reverse engineer app got weirdlooking file tree',\n",
       " 'startup bundles placed deploy folder karaf',\n",
       " 'd3js force layout hide unhide node click misplaces nodes expanding',\n",
       " 'unique column definition sql',\n",
       " 'hash cell text google spreadsheet',\n",
       " 'pin unpin microsoft edge developer tools windows 10',\n",
       " 'editor align tables restructuredtext sphinx',\n",
       " 'walk directory c print files name permissions',\n",
       " 'ios kvc dry mutation',\n",
       " 'ibm mobilefirst platform ifix doesnt update version displayed operations console',\n",
       " 'relative layout aligning images right bottom corner',\n",
       " 'retrieve pdf document tridion file system create multimedia component',\n",
       " 'html sends x post data inputs possible',\n",
       " 'view azure logfiles running locally',\n",
       " 'web service client code generator ios',\n",
       " 'get smallest type include data range',\n",
       " 'get dates check ending',\n",
       " 'cordova brightness still returns 1',\n",
       " 'detect 3 keyboard buttons swing',\n",
       " 'python calculations two groups',\n",
       " 'create array mysql query php',\n",
       " 'tdd vs defensive programming',\n",
       " 'display logo image ribbon using vsto',\n",
       " 'get meaning jsp variable java code page',\n",
       " 'conversion cloud data 2d image using opencv',\n",
       " 'pythonsuds bug one additional element created using factory',\n",
       " 'using clang analyze c++ code',\n",
       " 'login email password control working',\n",
       " 'ansible use different logging level terminal log file',\n",
       " 'draggable window pyqt4',\n",
       " 'dynamically adding edittext depending elements json array',\n",
       " 'convert ftpgetmodificationtime file readable format',\n",
       " 'php login form using dashdb',\n",
       " 'building properties file top level war file springmvc maven',\n",
       " 'enabling breakpoints goclipse',\n",
       " 'error including external jars ant script',\n",
       " 'comparison web widgets flash javascript',\n",
       " 'must free data owner',\n",
       " 'optimizing huge mysql table query mysql',\n",
       " 'tlbexpexe outputs different tlb information 2012 versus 2010',\n",
       " 'create facebook like post comment box',\n",
       " 'codeigniter pdo integration',\n",
       " 'pass string array parameter aspnet mvc webapi method',\n",
       " 'removing space dataframe python',\n",
       " 'set application identity application pool using web administration module powershell',\n",
       " 'handle play database connection exceptions',\n",
       " 'querydsl 330 using collectionany elementcollections query n boolean arguments generates n exists subqueries',\n",
       " 'gson change way mapkeys serialized',\n",
       " 'improving gnuplot 3d plots data files pm3d',\n",
       " 'divide problem',\n",
       " 'yii2 using kartik depdrop widget',\n",
       " 'anyone post example enable ssl tsung',\n",
       " 'mpi_isend mpi_irecv seem causing deadlock',\n",
       " 'virtual box port forwarding misery ruby sinatra4567 shotgun9292',\n",
       " 'enhancing regex match urls',\n",
       " 'javascript classlist selector error',\n",
       " 'intellij idea 1115 lost ability debug nodejs applications upgrading windows 81',\n",
       " 'scientific notation android java',\n",
       " 'make json array case insensitive twitter typeahead',\n",
       " 'membase someone explain idea behind technology',\n",
       " 'struts 2 + dojo + datetimepicker',\n",
       " 'cannot retrieve data find query',\n",
       " 'long resources used file descriptor memory java temporary files jar_cache####tmp',\n",
       " 'pass variable clause oracle sql',\n",
       " 'transform coordinates shapefile',\n",
       " 'mapping result aggregate query hibernate object',\n",
       " 'drawing application save drawing android phone memory',\n",
       " 'error using npm install g generatorjhipster',\n",
       " 'get abs path currently edited file eclipse',\n",
       " 'post form data foreign aspx form',\n",
       " 'logging azure web jobs',\n",
       " 'mtm automated codeduitest testcases developed vs2013 issues',\n",
       " 'print contents html element macgap',\n",
       " 'aspnet control available codebehind',\n",
       " 'disable iiviewdeck functionality momentarily',\n",
       " 'would create struct phantomdata member',\n",
       " 'accessing masterpage properties child pages aspnet vb',\n",
       " 'bash read inside loop reading file',\n",
       " 'random number 1 20 excluding numbers already picked',\n",
       " 'wordpress navigation label browser tab',\n",
       " 'taking control soundcard java',\n",
       " 'stl containers large amounts data',\n",
       " 'colour backorder products dropdown based stock woocommerce',\n",
       " 'richfaces richautocomplete showing suggestions',\n",
       " 'select enlarge masterpane zedgraph',\n",
       " 'reactnative android publishing keystore',\n",
       " 'good way find specific value xml document using c#',\n",
       " 'make singleton stateless bean ejb 30',\n",
       " 'google app engine precompile java',\n",
       " 'using dispose method instead close method form',\n",
       " 'spring oauth2 full authentication required access resource valid access token',\n",
       " 'code displaying incorrect even right answer',\n",
       " 'forcing function ode',\n",
       " 'get sum column last row good practice',\n",
       " 'simple karma + typescript configuration reference error x defined',\n",
       " 'error building player scripts compile errors editor',\n",
       " 'property testers load despite forcepluginactivation popup menu enablement',\n",
       " 'javascript regex match last word regardless specials characters',\n",
       " 'develop multilangual system',\n",
       " 'angularmock testing karma+mocha cant find module',\n",
       " 'append element inside object using common way',\n",
       " 'generate random dark colours java',\n",
       " 'access element list using indexes stored another list',\n",
       " 'correctly use setq elisp',\n",
       " 'ios today extension show show less state incorrect collapsed says show less requiring multipule presses fix',\n",
       " 'get position cursor editable div',\n",
       " 'flickering image swt',\n",
       " 'completely random identifier given length',\n",
       " 'angular 2 render flat list hierarchal data',\n",
       " 'java rmi threads clientside executing sequentially concurrently calling remote object',\n",
       " 'variablesize buffer receiving udp packets',\n",
       " 'createsqlquery entity formula property',\n",
       " 'datepicker timestamp divide 100',\n",
       " 'print whole table using anonymous block pl sql',\n",
       " 'sentora need integrate clamav module',\n",
       " 'set value multiple select tag database',\n",
       " 'show decimal value c#',\n",
       " 'javascript affect element hovering',\n",
       " 'creating new popup window click button',\n",
       " 'depict either inheritance uml diagram',\n",
       " 'ajax post success data separate results',\n",
       " 'documentgetelementbyid available chromiumwebbrowser visual studio',\n",
       " 'target assignment expands nonlanguage object',\n",
       " 'configure distributed transactions nservicebus',\n",
       " 'combine array png images like layers using c#',\n",
       " 'yii2 gii crud generator error class message exist syntax error',\n",
       " 'get values checkbox page',\n",
       " 'session subdomains still working',\n",
       " 'turn host name resolutios',\n",
       " 'syntax error unexpected endofinput',\n",
       " 'erlang extending existing module new functions',\n",
       " 'tcl string replacement',\n",
       " 'access directory plesk control panel',\n",
       " 'minimizing sum special function list',\n",
       " 'vbnet access set two foreign keys refer table field',\n",
       " 'memory monitoring tool erlang threads',\n",
       " 'disable spring boot security secured runtime',\n",
       " 'join two tables date closest date',\n",
       " 'power point viewer aspnet mvc',\n",
       " 'swift get element tuple',\n",
       " 'images rotation right',\n",
       " 'access visual voicemail files iphone thru sdk',\n",
       " 'proximity alert locations saved server',\n",
       " 'tableviewcell button',\n",
       " 'angularjs select mark matching model selected',\n",
       " 'use id action object android using robotium tool',\n",
       " 'pass value constructors collection instances runtime simple injector',\n",
       " 'large binary shifts 8086 assembly',\n",
       " 'directshow format type change filter',\n",
       " 'open model window option selection',\n",
       " 'update value sqlite iphone sdk',\n",
       " 'installing adt plugin eclipse android development',\n",
       " 'automating contextmenu watin',\n",
       " 'evaluate performance cryptographic algorithm say elliptic curve',\n",
       " 'nthchild selector prototype',\n",
       " 'difference performance compiled accelerate code ran ghci shell',\n",
       " 'database design email messaging system',\n",
       " 'java se development kit 8u20 install options',\n",
       " 'reading file chunks',\n",
       " 'twitter style web application based lamp symfony2 backbone possible',\n",
       " 'regexp c preprocessor command',\n",
       " 'cmposition dont quite get',\n",
       " 'cakephp form submits array',\n",
       " 'store feed forward network mongodb',\n",
       " 'bash read strings output one key multiple values',\n",
       " 'http client python fails recive',\n",
       " 'dynamic languages one choose',\n",
       " 'start intentservice wakefulbroadcastreceiver',\n",
       " 'c++ converting wstring unsigned char',\n",
       " 'make echo interpret backslash escapes print trailing newline',\n",
       " 'angularjs httpget working splitting service module longer working',\n",
       " 'determine number elements array reference',\n",
       " 'typeerror nonetype object iterable list',\n",
       " 'replace random image website',\n",
       " 'rotation matrix two camera system',\n",
       " 'animated border wraps around',\n",
       " 'cron job picking oracle query result',\n",
       " 'formview msajax updatepanel',\n",
       " 'update data treestore treeeditor component',\n",
       " 'get kwargs passed url_for flask view',\n",
       " 'reload template working enlive without restar',\n",
       " 'threadsafe get accessor method',\n",
       " 'tell inline worked',\n",
       " 'calling logic user logged using spring security',\n",
       " 'java pattern find two groups two letters abc',\n",
       " 'mysql distincs entry two columns even switched',\n",
       " 'antlr creates tokens',\n",
       " 'play framework 24 java http header cached response',\n",
       " 'list strings grails domain class',\n",
       " 'insert mongodb via nodejs',\n",
       " 'stop pause pandora spotify',\n",
       " 'oracle function replicate wm_concat',\n",
       " 'return user previous page login rails',\n",
       " 'custom layout manager using predefined developerdefined child view',\n",
       " 'ruby specify file another directory input',\n",
       " 'unable read view bag value controller view',\n",
       " 'parameters time stamps oracle sql developer',\n",
       " 'measuring time load page python',\n",
       " 'set height child height parent',\n",
       " 'find element caused another element fire focusout event',\n",
       " 'get latest created table mysql',\n",
       " 'better way reference scope angularjs',\n",
       " 'sharing data elastic beanstalk web worker tiers',\n",
       " 'ios certificate pinning swift nsurlsession',\n",
       " 'sharing udp data across apps background foreground split screen multitasking ios',\n",
       " 'iphone facebook logout feature working',\n",
       " 'autohotkey hotstrings autoreplace working visual studio 2008',\n",
       " 'issue setting android sdk failed start emulator',\n",
       " 'dismissable alert dismissed',\n",
       " 'error executing change data capture sql query',\n",
       " 'multiple queries routeget requires callback functions got object undefined',\n",
       " 'attach custom element shadow dom html web components secure way',\n",
       " 'flash javascript dont work second try',\n",
       " 'egit versions map git versions',\n",
       " 'ftp uploads works php',\n",
       " 'sql xml delphi',\n",
       " 'lookup table query arbitrary length without using loop r',\n",
       " 'c# xml deserialization xmlattribute',\n",
       " 'css jquery animated transform 3 lines menu cross',\n",
       " 'm2e install external jar file need install maven command line tool',\n",
       " 'gsoap restful implementation require definition wsdl',\n",
       " 'automatically create appointment outlook using message content',\n",
       " 'jsoup error javalangillegalargumentexception',\n",
       " 'add button cms_page_edit via observer',\n",
       " 'xor binary forms integer items list',\n",
       " 'add regularization scipy linear programming nonnegative leastsquares',\n",
       " 'highlight backgroung colors words html document java',\n",
       " 'way retrieve process stats using perl python',\n",
       " 'excel namedrangefind method regex pattern match c#',\n",
       " 'cmake error configuring',\n",
       " 'set first column constant value empty npzeros numpy matrix',\n",
       " 'eclipse plugin get launch configurations tree list dialog',\n",
       " 'restful best practices defining query parameter condition',\n",
       " 'extracting text input field using webdriver',\n",
       " 'one hr tag working firefox',\n",
       " 'ajax request xml php',\n",
       " 'embedded java server using grizzly enable http2',\n",
       " 'finding minimum completion time scheduled tasks topological sort',\n",
       " 'set jquery draggable min maxleft min maxright',\n",
       " 'semanticui modal size keeps extending height page',\n",
       " 'direct git command push changes another branch',\n",
       " 'worth integrate java webapp + drools + guvnor',\n",
       " 'debug error messsage odoo',\n",
       " 'calculate differences two numbers',\n",
       " 'data constructor template haskell',\n",
       " 'tying composerjson specific laravel 5 sha',\n",
       " 'django 171 requires default value field entry database',\n",
       " 'addentriesfromdictionary true copy method',\n",
       " 'spring boot oauth2 encrypted jwt access token',\n",
       " 'wrap text longer max_characters',\n",
       " 'iptables duplicating forwarding ports',\n",
       " 'multiple custom fields stored meta_keys connect post',\n",
       " 'android gridview crashes slow devices samsung galaxy s4 s3',\n",
       " 'html css input element weird indent ie7',\n",
       " 'exactly double mean java',\n",
       " 'effective ways extract android cursor sqlite array used alertdialogbuilder',\n",
       " 'jenkins find android sdk',\n",
       " 'open new window change dom calling window javascript',\n",
       " 'dynamically change itemized overlay draw circle using seek bar progress',\n",
       " 'fix djangodbutilsintegrityerror duplicate key value violates unique constraint',\n",
       " 'inno setup creating registry entry software microsoft windows currentversion uninstall',\n",
       " 'build hadoop source code centos',\n",
       " 'c# linqtosql submitchanges update even though pk set',\n",
       " 'read utf16 text file string golang',\n",
       " 'objective c epub framework',\n",
       " 'reducer output different files based keys',\n",
       " 'possible chrome extension get users full browsing history',\n",
       " 'variable number nested loops',\n",
       " 'ordered http request parameters',\n",
       " 'testing oracle to_date function',\n",
       " 'getting error post method another php file',\n",
       " 'multiple selection worksheets one workbook copy paste content one main sheet',\n",
       " 'keep getting developer inactive errors calling beats music api',\n",
       " 'select command doesnt work',\n",
       " 'node js read files line line',\n",
       " 'phpstorm webstorm increase memory 512mb',\n",
       " 'want open googlecom specific location make specific window size',\n",
       " 'database updating new row',\n",
       " 'spring suite tools start error spring boot',\n",
       " 'slider codenameone',\n",
       " 'issue toggle multiple classes',\n",
       " 'load file dir using racket',\n",
       " 'removing quotation mark using javascript remove single quotation marks',\n",
       " 'firebase android childeventlistener triggered onchildremoved onchildadded new data added',\n",
       " 'python error using animationfuncanimation',\n",
       " 'make inline comments orgmode',\n",
       " 'find years distinct digits ccc 2013',\n",
       " 'identify customer visits occurring given time period mysql',\n",
       " 'finding distinct count cassandra column using tableau',\n",
       " 'prism change active view',\n",
       " 'get color int',\n",
       " 'dynamic subversion repos via subdomains apache',\n",
       " 'multithread loop python',\n",
       " 'get recycler view list item count using espresso',\n",
       " 'pivot calculating column average',\n",
       " 'fastest way separate digits int array net',\n",
       " 'escaping special characters sphinxse',\n",
       " 'importing sqlite file r',\n",
       " 'sort order related products working magento 16',\n",
       " 'display 404 found template slugs publication returns empty cursor meteor ironrouter',\n",
       " 'way tell object implemented tostring explicitly c#',\n",
       " 'vfs filemax limit 1231582 reached',\n",
       " 'play 22 essentialaction futures',\n",
       " 'appbarlayout collapsingtoolbarlayout expands indefinitely',\n",
       " 'deselect radio button radio buttongroup button click flash as3',\n",
       " 'numpy array creating sequence',\n",
       " 'sed matching words permutation two characters',\n",
       " 'make child element appear outside parent',\n",
       " 'mobilepin createuserwizard doesnt work',\n",
       " 'fit image canvas using wpf',\n",
       " 'adding fontawesome icon border form input',\n",
       " 'finding pixel location listview item seems return wrong value',\n",
       " 'sails 098 work created controller lift',\n",
       " 'larave file found path exist',\n",
       " 'requiredfieldvalidator causes validation server even validator disabled causesvalidationfalse',\n",
       " 'retrieving html content page requiring authentication using php',\n",
       " 'generate linkedaxis matplotlib',\n",
       " 'print sign string formatting',\n",
       " 'calculate dimensions monitor pyqt4 windows linux',\n",
       " 'vba outlook 2010 retrieving information active directory',\n",
       " 'modifying bootstrap thumbnails',\n",
       " 'aspnet whats keeping old appdomains alive',\n",
       " 'library uses package project importing facebook sdk',\n",
       " 'unable run compiled classes command line',\n",
       " 'possible partially decode update json go',\n",
       " 'use apachecommons dbcp eclipselink jpa tomcat 7x',\n",
       " 'batch geocoding using googlemapsservicesjava',\n",
       " 'inserting img text field html css',\n",
       " 'noclassdeffounderror tomcat graceful shutdown',\n",
       " 'indesign idml file automation using html5 javascript',\n",
       " 'writing objectoutputstream getting rubbish back',\n",
       " 'stop mdcards stretching images full vertical height',\n",
       " 'sql missing end',\n",
       " 'sed search two pattern line insert word end line pattern match found',\n",
       " 'configure run multiple websites respective databases single laravel code instance',\n",
       " 'threejs canvasrenderer setting initial color object together transparency textures',\n",
       " 'ihtmldocument2 click button inside iframe',\n",
       " 'resource 1 works 2 doesnt',\n",
       " 'show image image field button click event c# aspnet',\n",
       " 'use killing array threads',\n",
       " 'mvc scaffolding support entity framework 6 later',\n",
       " 'parse error using remotipart',\n",
       " 'java jaxws deployment java eclipse ee ide',\n",
       " 'kaminari order_by',\n",
       " 'multisampling fragment shader',\n",
       " 'c program change char order sentence',\n",
       " 'reload iframe every x seconds',\n",
       " 'ef6 table per hierarchy unique index derived property',\n",
       " 'shell script add extension file directory',\n",
       " 'absolute beginners guide working audio c c++',\n",
       " 'extract part string',\n",
       " 'stopping toast android actvity',\n",
       " 'clientside ssl working aws api gateway',\n",
       " 'top left menu bar frozen main window shows',\n",
       " 'category axis label alignment multi series bar chart jasper',\n",
       " 'invalid label jquery ajax json request',\n",
       " 'optimizing haskell recursive lists',\n",
       " 'symfony3 service able get arguments',\n",
       " 'reverse geocoding displaying info window markers clicked',\n",
       " 'restrict background click ionic confirmation popup',\n",
       " 'use csparqlreadytogopack09 sbt project',\n",
       " 'sort utf8 lines vim',\n",
       " 'handle notfoundexception elegantly neo4j 20',\n",
       " 'download multiple files simultaneously php forking sockets',\n",
       " 'submit form one server process post results another domain',\n",
       " 'flyway mysql multiline comment directive parsed',\n",
       " 'nonblocking file reads',\n",
       " 'oracle sql dynamic variables stored procedure',\n",
       " 'nested ngfor two data classes angular2',\n",
       " 'crossplatform webview qt56',\n",
       " 'set default encoding utf8 jsps without using page directives',\n",
       " 'xslt creating table varying amount columns',\n",
       " 'send email powershell',\n",
       " 'asynchronous method using result',\n",
       " 'jenkins extensible choice parameter compatible linux',\n",
       " 'starting speech recognition createprocess c++',\n",
       " 'animate adding subviews',\n",
       " 'change default font jekyll website',\n",
       " 'impossible compile fortran code include statement',\n",
       " 'lazy loading images vue laravel',\n",
       " 'web api read header value controller constructor',\n",
       " 'android wear wearablelistview imageview selector',\n",
       " 'function pack returns 0',\n",
       " 'possible firebase authentication via facebook phonegap app',\n",
       " 'php export mysql csv results showing html',\n",
       " 'detect language preference laravel 5',\n",
       " 'vb webbrowser click button',\n",
       " 'reports using java collections',\n",
       " 'write files contain subfolders folders txt file',\n",
       " 'checking negative values google forms',\n",
       " 'libgdx reading json array values',\n",
       " 'custom buddypress notification post save',\n",
       " 'uitableview uitextfield keep data even user scrolls',\n",
       " 'visual studio 2015 update 1 automatically checks files',\n",
       " 'mobilefirst failed synchronizing application administration service',\n",
       " 'cannot execute loop vuejs',\n",
       " 'prevent duplicate item',\n",
       " 'java apache cli optionbuilder working builder pattern',\n",
       " 'whats proper way turn genymotion emulator',\n",
       " 'jade select field populating data',\n",
       " '2 10',\n",
       " 'mysql dump comments directives simple comments',\n",
       " 'cropping library working nexus',\n",
       " 'create segue attach two view controllers swift',\n",
       " 'function search recursively patterns vim',\n",
       " 'integrating wordpress laravel user management',\n",
       " 'behaviour takepicture different different devices android versions',\n",
       " 'exporting plone content get tarball created quintagrouptransmogrifierwriter',\n",
       " 'cassandra hive using spark',\n",
       " 'ruby rails before_filter only_when_user_is_logged_in',\n",
       " 'integrate jacoco reports sonarqube without using maven',\n",
       " 'use nspredicate key nsdictionary',\n",
       " 'proxy authentication failed error',\n",
       " 'could someone explain use updatemanager tidesdk 131 beta',\n",
       " 'properties avoid code repetition',\n",
       " 'pause resume video recording using avcapturemoviefileoutput',\n",
       " 'swift enum recursive associated value',\n",
       " 'grep particular string occurring multiple times',\n",
       " 'hover map area sprite jquery',\n",
       " 'spark livelistenerbus exception freaking',\n",
       " 'use pyplotarrow patchesarrow matplotlib',\n",
       " 'apache windows fiddler',\n",
       " 'pass variable api gateway url another service running ec2',\n",
       " 'open link doubleclicking table row jquery',\n",
       " 'wget span host images stylesheets javascript links',\n",
       " 'trying show data using api data showing custom listview list empty',\n",
       " 'graphing sbts incremental compilation logic',\n",
       " 'get functionality long press gesture ios ver 32',\n",
       " 'change priority headings task api',\n",
       " 'get values row based two rows excel',\n",
       " 'using silverlight hindrance startups',\n",
       " 'spotify session callback get_audio_buffer_stats',\n",
       " 'talend specify jndi datasource',\n",
       " 'long data load time matlab',\n",
       " 'change column width base content vbnet bootstrap',\n",
       " 'alternative microsoftpracticesenterpriselibrarydata',\n",
       " 'facetpivot springdatasolr',\n",
       " 'check empty output fish function',\n",
       " 'pysolr update document error',\n",
       " 'retrieve column twice different values column table',\n",
       " 'updated nodejs connectkeycloak middleware empty response error',\n",
       " 'accordion open page loads',\n",
       " 'activity doesnt refresh associated broadcast receivers onreceive gets called',\n",
       " 'detect doctype transitional strict serverside aspnet',\n",
       " 'firefox 901 broke internal wiki layout',\n",
       " 'onchange function dropdownlist yii2',\n",
       " 'play mp3 without default player',\n",
       " 'convert svg data svg file uploaded',\n",
       " 'folder picker ms word',\n",
       " 'cant hide close form switching another form',\n",
       " 'shellcode linux x64 processor',\n",
       " 'set specific timezone windows ce c#',\n",
       " 'vagrant enters aborted state aptget update',\n",
       " 'attempting make enter button clickable',\n",
       " 'imagemagick convert generating correct color',\n",
       " 'mybatis select nested objects',\n",
       " 'css height auto doesnt work',\n",
       " 'd3 angularjs force directed graph',\n",
       " 'want add 30 days mysql date row',\n",
       " 'use flexypool hikaricpfactory',\n",
       " 'wix installer verify sufficient privileges start system services',\n",
       " 'r ts error stl series less two periods erroneous',\n",
       " 'typo3 adding content footer',\n",
       " 'knockout render template new data model change event dropdown menu',\n",
       " 'manytomany relation save',\n",
       " 'downsampling fmri image fsl',\n",
       " 'use android autocompletetextview xamarinforms',\n",
       " 'fstreamtellg return value enlarged number newlines input text file file formated windows rn',\n",
       " 'determine two points near',\n",
       " 'clicking logo home page breaks navigation menu mobile site',\n",
       " 'use iframe embed csv allow user search',\n",
       " 'install chrome extension windows registry',\n",
       " 'display message success work',\n",
       " 'jquery masked input format date yyyy dd yyyy mm dd yyyy mm yyyy',\n",
       " 'change spring session redis cookie name',\n",
       " 'tool suggest unit reference automatically delphi 2010',\n",
       " 'method return null password',\n",
       " 'sql script manipulate value based previous non zero value',\n",
       " 'rotate image shows memory exception',\n",
       " 'count button clicks',\n",
       " 'joomla custom compoment dev env hot deployment',\n",
       " 'nexus 5 showing connected devices',\n",
       " 'work method trueforall c# linq',\n",
       " 'php simplest way post display',\n",
       " 'update temp table group',\n",
       " 'use parse push cordova appcelerator etc',\n",
       " 'as3 bitmapdata send server picture small upperleft corner',\n",
       " 'set z order index adorner wpf',\n",
       " 'php microseconds',\n",
       " 'creating global database connection mdi form',\n",
       " 'uncaught referenceerror react defined',\n",
       " 'vba search column strings copy row new worksheet',\n",
       " 'record test using espresso without clean install',\n",
       " 'char array reverse order',\n",
       " 'kind sctp support various windows versions',\n",
       " 'saving changes ec2 instance without register ami time',\n",
       " 'auto run jetty boot',\n",
       " 'cache jquery template backbone view via ajax',\n",
       " 'c++ static analysis rule make sense',\n",
       " 'ripple drawable effect appearing differently listview recyclerview',\n",
       " 'r ggplot2 assigning colours factor',\n",
       " 'verifying method called without using ioc',\n",
       " 'seg cs bootsects',\n",
       " 'settimeout keeps firing',\n",
       " 'formatting way string entered database',\n",
       " 'creating jenkins job using python api',\n",
       " 'python create single thread one task quit',\n",
       " 'z order issue constraintlayout android',\n",
       " 'derive class created factory',\n",
       " 'php oop passing session key classes',\n",
       " 'aspnet mvc 3 sql server',\n",
       " 'recreating deleting google services json',\n",
       " 'probe problem writing i2c device driver',\n",
       " 'jersey produce duplicate log messages',\n",
       " 'exit stop array2dinitbased early',\n",
       " 'set array date firedate local notification time',\n",
       " 'alternative async false ajax',\n",
       " 'oracle get percent total query',\n",
       " 'match recursive pattern r b including another string eg test aaabbb regex',\n",
       " 'disable gesturelistener',\n",
       " 'specify code style settings qt creator proshared file',\n",
       " 'cal extension template modification tmpl',\n",
       " 'getting started groovy grails',\n",
       " 'opening ruby programs source file default editor',\n",
       " 'pass array guid via web api',\n",
       " 'backbonerelational find load',\n",
       " 'whats best way format xml string ruby',\n",
       " 'partial classes google closure',\n",
       " 'add repository accountcontroller',\n",
       " 'wikipedia api autocomplete json',\n",
       " 'apache pig unable run pigjar pigwithouthadoopjar',\n",
       " 'optimizing list comprehension find pairs coprime numbers',\n",
       " 'kivy access child id',\n",
       " 'stucture values staying values changed 858993460',\n",
       " 'set toolbar title',\n",
       " 'add row table using swt',\n",
       " 'jquery ui selectmenu vertical position offset relatively buttons line',\n",
       " 'ssis warning failed decrypt encrypted xml node',\n",
       " 'gps getting user location',\n",
       " 'exporting simple model texture blender threejs',\n",
       " 'postman required multipartfile parameter present spring java',\n",
       " 'prevent akka actor restarting child actor',\n",
       " 'uitableview loaded',\n",
       " 'ntfs permission modify date',\n",
       " 'qtreeview tell drag drop event reorder move parents',\n",
       " 'prevent xul notificationbox closing button hit',\n",
       " 'code working notification go day',\n",
       " 'android action bar button show',\n",
       " 'widget function',\n",
       " 'jquery hide taking parameter',\n",
       " 'use one form table multiple mvcs',\n",
       " 'mstest execution order tests within testclass',\n",
       " 'call jquery function html returned ajax',\n",
       " 'oauth2 security considerations client_id',\n",
       " 'google compute instance 100 cpu utilisation',\n",
       " 'incompatible block pointer type returning array',\n",
       " 'calling rest api encrypted pem client certificate',\n",
       " 'select objects list',\n",
       " 'drag insert div another div',\n",
       " 'prevent firefox scrolling bottom page large popup opened',\n",
       " 'handle liststring sessionadd',\n",
       " 'mysql inserting 2 tables primary key foreign key',\n",
       " 'whats right way remove multiple items qtablewidget',\n",
       " 'mstest fails testinitialize doesnt testcleanup get executed',\n",
       " 'php codeigniter application opening page except default controller',\n",
       " 'parsing json data without quotes jquery',\n",
       " 'rewrite url htaccess',\n",
       " 'error socket error errno 111 connection refused',\n",
       " 'git error rpc failed result22 http code 401',\n",
       " 'tfs 2010 set state field certain value',\n",
       " 'actionscript 30 create progressevent instances loop multiple files loaded xml',\n",
       " 'extract query find average',\n",
       " 'c# windows service default arguments install',\n",
       " 'upload large files node js',\n",
       " 'changing table headers cakephp',\n",
       " 'hello world jms glassfish',\n",
       " 'countdown timer using datetimeparse without defined date',\n",
       " 'images drawable folder resized automatically',\n",
       " 'find files size dellete duplicates except one shortest name using shell script',\n",
       " 'writing rules firebase code',\n",
       " 'search words specific starts endings',\n",
       " 'install neo4j 30+ windows service',\n",
       " 'php convert 2 digit year 4 digit year',\n",
       " 'jsdoc autocomplete documentation eclipse working classcreate',\n",
       " 'split infix string array string java',\n",
       " 'folder permissions azure web sites',\n",
       " 'separators uitableviewcells',\n",
       " 'uncaught syntax error unrecognized expression object object',\n",
       " 'need htaccess redirection',\n",
       " 'create bootstrap carousel iframes',\n",
       " 'doctrine2 get entity id flush',\n",
       " 'xquery help sorted parent child relationship',\n",
       " 'load separate pages android gridview clicking blocks items',\n",
       " 'kineticjs rect filltext',\n",
       " 'query string valid',\n",
       " 'convert bytearrays nsstring objective c',\n",
       " 'stdchronoduration based seconds',\n",
       " 'wcf rest client exception',\n",
       " 'using uibinder create widget go dialog',\n",
       " 'onedrive business invalid_request error_descriptionaadsts90014 request body must contain following parameter grant_type',\n",
       " 'options interfacing command prompt process net application standard io',\n",
       " 'adding data database using microsoft access oledb c#',\n",
       " 'jquery ajax header passed',\n",
       " 'angularjs multiple views routing without losing scope',\n",
       " 'backbonejs merge collections',\n",
       " 'specflow could load file assembly techtalkspecflow version2200',\n",
       " 'max byte calculated systemruntimeinteropservicesmarshalsizeof',\n",
       " 'application retrieve custom fields docusign transaction',\n",
       " 'add active state button button group',\n",
       " 'define clear range pixel color',\n",
       " 'roslyn visualbasicscriptengine doesnt recognize hostobject written c#',\n",
       " 'neither bindingresult plain target object bean name categoryoptions available request attribute',\n",
       " 'change wicket behaviour page expired',\n",
       " 'phpunit code coverage show 0 coverage',\n",
       " 'prove code correctness lemmas undefined constant',\n",
       " 'visual studio insufficient privileges debug process debug process visual studio must run administrator',\n",
       " 'webapi entitysetcontroller using composite keys',\n",
       " 'set opengl project using xcode 42 c++',\n",
       " 'initialize static nsstring class level',\n",
       " 'rich text editor inside flux form',\n",
       " 'setting path xampp osx',\n",
       " 'extract data html using php',\n",
       " 'get current location using mapmodule',\n",
       " 'excel vba syntax errors compiling issues',\n",
       " 'read logback configuration file path outside war file',\n",
       " 'jquery ajax getting every div elements',\n",
       " 'tcp socket java byte 128 received 65533',\n",
       " 'sqlbulkcopy keeps throwing connection forcibly closed exception',\n",
       " 'error sending following valid addresses jenkins',\n",
       " 'determine text balanced delimiters',\n",
       " 'flick deck cards',\n",
       " 'selecting sqlite database android',\n",
       " 'tsql merge incorrect syntax near',\n",
       " 'building pocketsphinx android windows',\n",
       " 'add background image div without empty space div footer',\n",
       " 'include github project wordpress plugin',\n",
       " 'django multivaluefield multiwidget compress decompress working',\n",
       " 'android call onresume inside onpause',\n",
       " 'fit picture absolute positioning modal window',\n",
       " 'redirect url php file exist nginx',\n",
       " 'laravel 4 exception notfoundhttpexception',\n",
       " 'start using kostache',\n",
       " 'assigned access application exits ctrl + alt + delete pressed',\n",
       " 'circular dependency error running migrations django 17c2',\n",
       " 'javafx setonshown fires window visible',\n",
       " 'flash develop publishing',\n",
       " 'want use variable declared somewhere else cannot simple sql query',\n",
       " 'buttons displayed',\n",
       " 'prevent twitter responsive layout collapsing width 320px',\n",
       " 'show azure cost analysis data using azure billing api sdk',\n",
       " 'find field names search query',\n",
       " 'oauth 20 openid connect loopback keycloak',\n",
       " 'windows phone retrieve photo media library application instances',\n",
       " 'symfony2 determine controller called development environment production environment',\n",
       " 'uitableview fully reloaded',\n",
       " 'httppost url postdata options set header',\n",
       " 'json stringify outputs empty object empty object',\n",
       " 'displaysyncexec working inside callable',\n",
       " 'xpath first occurrence element text length 200 characters',\n",
       " 'unable push docker image local openshift origin registry',\n",
       " 'slidedown using javascript working intended',\n",
       " 'threadingtasks dispose meaning issue',\n",
       " 'val function javascript',\n",
       " 'using php send form emailhaving issue 405 allowed form submitted',\n",
       " 'netty closefuture sync channel blocks rest api',\n",
       " 'check specific button exists scrapy',\n",
       " 'remove logs ormlite android',\n",
       " 'language detection api library',\n",
       " 'make 1 form upvote button 1 form buttons',\n",
       " 'eclipse gae jdo 30',\n",
       " 'djangocms editors html data attribute cleaned',\n",
       " 'xcode build error clang failed',\n",
       " 'settimeout web worker',\n",
       " 'c# populating listview list',\n",
       " 'javascript working django inline formset using urlifyjs',\n",
       " 'php multi curl performance worse sequential file_get_contents',\n",
       " 'converting php contact form smtp',\n",
       " 'prevent original method called mocking class phpunit',\n",
       " 'ensure footer stick bottom page flex content',\n",
       " 'share files path using fileprovider',\n",
       " 'r build sum arrays third dimension containing nas returning list',\n",
       " 'speeding strangely slow rcpp function',\n",
       " 'create service sends receives udp broadcasts multiple interfaces',\n",
       " 'someone tell replace following javascript code loop',\n",
       " 'uiimageview layer border issue',\n",
       " 'com object created ccomobjectcreateinstance destroyed pointer goes scope',\n",
       " 'run 2 sql query 1 query save query result csv format',\n",
       " 'aws elastic beanstalk vs ec2 container service ecs docker',\n",
       " 'connect remote mongodb instance aspnet',\n",
       " 'copying files unicode names',\n",
       " 'aspnet web application doesnt unload appdomains deploy',\n",
       " 'getting youtube livestream url',\n",
       " 'cant use tostring linq entities query',\n",
       " 'list comprehension create list nodata value feed default value',\n",
       " 'jsx element type xxx construct call signatures',\n",
       " 'subroutine unexpectedly ends workbook closed',\n",
       " 'creating result set using select statement within loop',\n",
       " 'laravel 42 environment detection homesteadyaml vs startphp',\n",
       " 'deploy shell script ruby gem install bin directory',\n",
       " 'change string int',\n",
       " 'stop mysql decimal field rounded',\n",
       " 'respecting argparses privacy vs usability',\n",
       " 'simple web service python',\n",
       " 'emoji uiwebview ios 5',\n",
       " 'getting ioerror errno invalid number channels 9998 using mic pyaudio raspberry pi',\n",
       " 'mono mac os x parallel http downloads limited 2',\n",
       " 'delete files directories buckets amazon s3 java',\n",
       " 'android saving form data swipe rather button',\n",
       " 'description item name paypal payment received email',\n",
       " 'code igniter data mapper giving valid json',\n",
       " 'find official canonical documentation using javascript classic asp',\n",
       " 'broadcastreceiver isnt working',\n",
       " 'array compare count similar values',\n",
       " 'cancel viewwillappear uiimagepickercontroller dismissed',\n",
       " 'scala possible write script refers another script',\n",
       " 'reload page ie retaining scroll position',\n",
       " 'springboot multiple authentication adapter',\n",
       " 'smtp contact form blank screen submit',\n",
       " 'destroy sessions one',\n",
       " 'c# windows ce compact framework 20 set system timezone',\n",
       " 'appropriate representation 2d game board clojure',\n",
       " 'ionic emulate ios shows black screen',\n",
       " 'update api angularjs',\n",
       " 'javascript based redirect hurt seo',\n",
       " 'difference two soap requests',\n",
       " 'microsoft access report cycle pages report print view',\n",
       " 'actor akkaplaydeadletters tell mean new relics trace play framework 20 web transaction',\n",
       " 'jruby 170 install bundler given plenty memory',\n",
       " 'solr multiple tokenizers query',\n",
       " 'possible pass ejs variable angular ngrepeat filter',\n",
       " 'read data using ip address',\n",
       " 'ssis xml decryption message',\n",
       " 'detecting selection change uitextview',\n",
       " 'different css backgroundimage depending month year',\n",
       " 'whats equivalent averageifs standard deviation',\n",
       " 'segmentation faults using f2py',\n",
       " ...]"
      ]
     },
     "execution_count": 43,
     "metadata": {},
     "output_type": "execute_result"
    }
   ],
   "source": [
    "prepared_validation[0]"
   ]
  },
  {
   "cell_type": "markdown",
   "metadata": {},
   "source": [
    "Let's evaluate the approach again after the preparation:"
   ]
  },
  {
   "cell_type": "code",
   "execution_count": 44,
   "metadata": {},
   "outputs": [],
   "source": [
    "wv_prepared_ranking = []\n",
    "for line in prepared_validation:\n",
    "    q, *ex = line\n",
    "    ranks = rank_candidates(q, ex, wv_embeddings)\n",
    "    wv_prepared_ranking.append([r[0] for r in ranks].index(0) + 1)"
   ]
  },
  {
   "cell_type": "code",
   "execution_count": 45,
   "metadata": {},
   "outputs": [
    {
     "name": "stdout",
     "output_type": "stream",
     "text": [
      "DCG@   1: 0.310 | Hits@   1: 0.310\n",
      "DCG@   5: 0.380 | Hits@   5: 0.443\n",
      "DCG@  10: 0.397 | Hits@  10: 0.494\n",
      "DCG@ 100: 0.430 | Hits@ 100: 0.661\n",
      "DCG@ 500: 0.453 | Hits@ 500: 0.835\n",
      "DCG@1000: 0.470 | Hits@1000: 1.000\n"
     ]
    }
   ],
   "source": [
    "for k in [1, 5, 10, 100, 500, 1000]:\n",
    "    print(\"DCG@%4d: %.3f | Hits@%4d: %.3f\" % (k, dcg_score(wv_prepared_ranking, k), \n",
    "                                              k, hits_count(wv_prepared_ranking, k)))"
   ]
  },
  {
   "cell_type": "markdown",
   "metadata": {},
   "source": [
    "Now, prepare also train and test data, because you will need it in the future:"
   ]
  },
  {
   "cell_type": "code",
   "execution_count": 136,
   "metadata": {},
   "outputs": [],
   "source": [
    "def prepare_file(in_, out_):\n",
    "    out = open(out_, 'w')\n",
    "    for line in open(in_, encoding='utf8'):\n",
    "        line = line.strip().split('\\t')\n",
    "        new_line = [text_prepare(q) for q in line]\n",
    "        print(*new_line, sep='\\t', file=out)\n",
    "    out.close()"
   ]
  },
  {
   "cell_type": "code",
   "execution_count": 137,
   "metadata": {},
   "outputs": [],
   "source": [
    "prepare_file(os.path.join(data_dir, 'train.tsv'), os.path.join(data_dir, 'train_prepared.tsv'))"
   ]
  },
  {
   "cell_type": "code",
   "execution_count": 138,
   "metadata": {},
   "outputs": [],
   "source": [
    "prepare_file(os.path.join(data_dir, 'test.tsv'), os.path.join(data_dir, 'test_prepared.tsv'))"
   ]
  },
  {
   "cell_type": "markdown",
   "metadata": {},
   "source": [
    "**Task 4 (W2VTokenizedRanks).** For each question from prepared *test.tsv* submit the ranks of the candidates to earn the points. The calculations should take about 3-5 minutes. Pay attention that the function *rank_candidates* returns a ranking, while in this case you should find a position in this ranking. Ranks should start with 1."
   ]
  },
  {
   "cell_type": "code",
   "execution_count": 139,
   "metadata": {},
   "outputs": [],
   "source": [
    "from util import matrix_to_string"
   ]
  },
  {
   "cell_type": "code",
   "execution_count": 140,
   "metadata": {},
   "outputs": [
    {
     "name": "stdout",
     "output_type": "stream",
     "text": [
      "Current answer for task W2VTokenizedRanks is: 95\t94\t7\t9\t64\t37\t32\t93\t24\t100\t98\t17\t60\t6\t97\t49\t70\t38\t42\t96\t30\t21\t2\t65\t67\t45\t27\t26\t57\t62\t11\t88\t56\t66\t7...\n"
     ]
    }
   ],
   "source": [
    "w2v_ranks_results = []\n",
    "prepared_test_data = os.path.join(data_dir, 'test_prepared.tsv')\n",
    "for line in open(prepared_test_data):\n",
    "    q, *ex = line.strip().split('\\t')\n",
    "    ranks = rank_candidates(q, ex, wv_embeddings, 300)\n",
    "    ranked_candidates = [r[0] for r in ranks]\n",
    "    w2v_ranks_results.append([ranked_candidates.index(i) + 1 for i in range(len(ranked_candidates))])\n",
    "    \n",
    "grader.submit_tag('W2VTokenizedRanks', matrix_to_string(w2v_ranks_results))"
   ]
  },
  {
   "cell_type": "markdown",
   "metadata": {},
   "source": [
    "## Advanced solution: StarSpace embeddings\n",
    "\n",
    "Now you are ready to train your own word embeddings! In particular, you need to train embeddings specially for our task of duplicates detection. Unfortunately, StarSpace cannot be run on Windows and we recommend to use provided\n",
    "[docker container](https://github.com/hse-aml/natural-language-processing/blob/master/Docker-tutorial.md) or other alternatives. Don't delete results of this task because you will need it in the final project.\n",
    "\n",
    "### How it works and what's the main difference with word2vec?\n",
    "The main point in this section is that StarSpace can be trained specifically for some tasks. In contrast to word2vec model, which tries to train similar embeddings for words in similar contexts, StarSpace uses embeddings for the whole sentence (just as a sum of embeddings of words and phrases). Despite the fact that in both cases we get word embeddings as a result of the training, StarSpace embeddings are trained using some supervised data, e.g. a set of similar sentence pairs, and thus they can better suit the task.\n",
    "\n",
    "In our case, StarSpace should use two types of sentence pairs for training: \"positive\" and \"negative\". \"Positive\" examples are extracted from the train sample (duplicates, high similarity) and the \"negative\" examples are generated randomly (low similarity assumed). \n",
    "\n",
    "### How to choose the best params for the model?\n",
    "Normally, you would start with some default choice and then run extensive experiments to compare different strategies. However, we have some recommendations ready for you to save your time:\n",
    "- Be careful with choosing the suitable training mode. In this task we want to explore texts similarity which corresponds to *trainMode = 3*.\n",
    "- Use adagrad optimization (parameter *adagrad = true*).\n",
    "- Set the length of phrase equal to 1 (parameter *ngrams*), because we need embeddings only for words.\n",
    "- Don't use a large number of *epochs* (we think that 5 should be enough).\n",
    "- Try dimension *dim* equal to 100.\n",
    "- To compare embeddings usually *cosine* *similarity* is used.\n",
    "- Set *minCount* greater than 1 (for example, 2) if you don't want to get embeddings for extremely rare words.\n",
    "- Parameter *verbose = true* could show you the progress of the training process.\n",
    "- Set parameter *fileFormat* equals *labelDoc*.\n",
    "- Parameter *negSearchLimit* is responsible for a number of negative examples which is used during the training. We think that 10 will be enought for this task.\n",
    "- To increase a speed of training we recommend to set *learning rate* to 0.05."
   ]
  },
  {
   "cell_type": "markdown",
   "metadata": {},
   "source": [
    "Train StarSpace embeddings for unigrams on the train dataset. You don't need to change the format of the input data. Just don't forget to use prepared version of the training data. \n",
    "\n",
    "If you follow the instruction, the training process will take about 1 hour. The size of the embeddings' dictionary should be approximately 100 000 (number of lines in the result file). If you got significantly more than this number, try to check all the instructions above."
   ]
  },
  {
   "cell_type": "code",
   "execution_count": null,
   "metadata": {
    "collapsed": true
   },
   "outputs": [],
   "source": [
    "######### TRAINING HAPPENING HERE #############\n",
    "\n",
    "# ./starspace train -trainFile /git/nlpc/week3/data/train_prepared.tsv -model testModel -trainMode 3 -adagrad true -ngrams 1 -epoch 5 -thread 3 -dim 100 -similarity \"cosine\" -minCount 2 -verbose true -fileFormat labelDoc -negSearchLimit 10 -lr .05\n",
    "\n",
    "# ./starspace train -trainFile /git/nlpc/week3/data/train_prepared.tsv -model testModel2 -trainMode 3 -adagrad true -ngrams 1 -epoch 15 -thread 3 -dim 150 -similarity \"cosine\" -minCount 2 -verbose true -fileFormat labelDoc -negSearchLimit 10 -lr .02\n"
   ]
  },
  {
   "cell_type": "code",
   "execution_count": 54,
   "metadata": {},
   "outputs": [],
   "source": [
    "starspace_path = os.path.join(data_dir, 'starspace')"
   ]
  },
  {
   "cell_type": "code",
   "execution_count": 74,
   "metadata": {},
   "outputs": [],
   "source": [
    "'''\n",
    "with open(os.path.join(starspace_path, 'testModel.tsv'), 'r') as inp, \\\n",
    "               open(os.path.join(starspace_path, 'testModel_w2vf.txt'), 'w') as outp:\n",
    "    line_count = '95058'    # line count of the tsv file (as string)\n",
    "    dimensions = '100'    # vector size (as string)\n",
    "    outp.write(' '.join([line_count, dimensions]) + '\\n')\n",
    "    for line in inp:\n",
    "        words = line.strip().split()\n",
    "        outp.write(' '.join(words).strip() + '\\n')\n",
    "'''\n",
    "print()"
   ]
  },
  {
   "cell_type": "markdown",
   "metadata": {
    "collapsed": true
   },
   "source": [
    "And now we can compare the new embeddings with the previous ones. You can find trained word vectors in the file *[model_file_name].tsv*. Upload the embeddings from StarSpace into a dict. "
   ]
  },
  {
   "cell_type": "code",
   "execution_count": 82,
   "metadata": {},
   "outputs": [],
   "source": [
    "starspace_embeddings = KeyedVectors.load_word2vec_format(\n",
    "                        os.path.join(starspace_path, 'testModel_w2vf.txt'),\n",
    "                    binary=False)"
   ]
  },
  {
   "cell_type": "code",
   "execution_count": 84,
   "metadata": {},
   "outputs": [
    {
     "data": {
      "text/plain": [
       "True"
      ]
     },
     "execution_count": 84,
     "metadata": {},
     "output_type": "execute_result"
    }
   ],
   "source": [
    "'java' in starspace_embeddings"
   ]
  },
  {
   "cell_type": "code",
   "execution_count": 86,
   "metadata": {},
   "outputs": [
    {
     "data": {
      "text/plain": [
       "(100,)"
      ]
     },
     "execution_count": 86,
     "metadata": {},
     "output_type": "execute_result"
    }
   ],
   "source": [
    "starspace_embeddings['java'].shape"
   ]
  },
  {
   "cell_type": "code",
   "execution_count": 87,
   "metadata": {},
   "outputs": [],
   "source": [
    "ss_prepared_ranking = []\n",
    "nr_validation_lines = len(prepared_validation)\n",
    "i = 0\n",
    "for line in prepared_validation:\n",
    "    q, *ex = line\n",
    "    ranks = rank_candidates(q, ex, starspace_embeddings, 100)\n",
    "    ss_prepared_ranking.append([r[0] for r in ranks].index(0) + 1)\n",
    "    if i%100 == 0:\n",
    "        print('processed {:d} of {:d}'.format(i, nr_validation_lines)) \n",
    "    i += 1"
   ]
  },
  {
   "cell_type": "code",
   "execution_count": 88,
   "metadata": {},
   "outputs": [
    {
     "name": "stdout",
     "output_type": "stream",
     "text": [
      "DCG@   1: 0.516 | Hits@   1: 0.516\n",
      "DCG@   5: 0.614 | Hits@   5: 0.697\n",
      "DCG@  10: 0.632 | Hits@  10: 0.754\n",
      "DCG@ 100: 0.664 | Hits@ 100: 0.906\n",
      "DCG@ 500: 0.674 | Hits@ 500: 0.981\n",
      "DCG@1000: 0.676 | Hits@1000: 1.000\n"
     ]
    }
   ],
   "source": [
    "for k in [1, 5, 10, 100, 500, 1000]:\n",
    "    print(\"DCG@%4d: %.3f | Hits@%4d: %.3f\" % (k, dcg_score(ss_prepared_ranking, k), \n",
    "                                               k, hits_count(ss_prepared_ranking, k)))"
   ]
  },
  {
   "cell_type": "code",
   "execution_count": 90,
   "metadata": {},
   "outputs": [],
   "source": [
    "starspace_embeddings2 = KeyedVectors.load_word2vec_format(\n",
    "                        os.path.join(starspace_path, 'testModel2_w2vf.txt'),\n",
    "                    binary=False)"
   ]
  },
  {
   "cell_type": "code",
   "execution_count": 91,
   "metadata": {},
   "outputs": [
    {
     "data": {
      "text/plain": [
       "150"
      ]
     },
     "execution_count": 91,
     "metadata": {},
     "output_type": "execute_result"
    }
   ],
   "source": [
    "starspace_embeddings2.vector_size"
   ]
  },
  {
   "cell_type": "code",
   "execution_count": null,
   "metadata": {},
   "outputs": [],
   "source": [
    "ss_prepared_ranking = []\n",
    "nr_validation_lines = len(prepared_validation)\n",
    "i = 0\n",
    "for line in prepared_validation:\n",
    "    q, *ex = line\n",
    "    ranks = rank_candidates(q, ex, starspace_embeddings2, 150)\n",
    "    ss_prepared_ranking.append([r[0] for r in ranks].index(0) + 1)\n",
    "    if i%1000 == 0:\n",
    "        print('processed {:d} of {:d}'.format(i, nr_validation_lines)) \n",
    "    i += 1"
   ]
  },
  {
   "cell_type": "code",
   "execution_count": 94,
   "metadata": {},
   "outputs": [
    {
     "name": "stdout",
     "output_type": "stream",
     "text": [
      "DCG@   1: 0.533 | Hits@   1: 0.533\n",
      "DCG@   5: 0.629 | Hits@   5: 0.710\n",
      "DCG@  10: 0.648 | Hits@  10: 0.766\n",
      "DCG@ 100: 0.676 | Hits@ 100: 0.905\n",
      "DCG@ 500: 0.686 | Hits@ 500: 0.979\n",
      "DCG@1000: 0.688 | Hits@1000: 1.000\n"
     ]
    }
   ],
   "source": [
    "for k in [1, 5, 10, 100, 500, 1000]:\n",
    "    print(\"DCG@%4d: %.3f | Hits@%4d: %.3f\" % (k, dcg_score(ss_prepared_ranking, k), \n",
    "                                               k, hits_count(ss_prepared_ranking, k)))"
   ]
  },
  {
   "cell_type": "markdown",
   "metadata": {},
   "source": [
    "Due to training for the particular task with the supervised data, you should expect to obtain a higher quality than for the previous approach. In additiion, despite the fact that StarSpace's trained vectors have a smaller dimension than word2vec's, it provides better results in this task."
   ]
  },
  {
   "cell_type": "markdown",
   "metadata": {},
   "source": [
    "**Task 5 (StarSpaceRanks).** For each question from prepared *test.tsv* submit the ranks of the candidates for trained representation."
   ]
  },
  {
   "cell_type": "code",
   "execution_count": 99,
   "metadata": {},
   "outputs": [
    {
     "name": "stdout",
     "output_type": "stream",
     "text": [
      "Current answer for task StarSpaceRanks is: 92\t22\t60\t24\t26\t97\t69\t90\t53\t68\t58\t72\t9\t55\t79\t81\t7\t35\t46\t93\t47\t87\t37\t74\t96\t21\t86\t85\t94\t25\t80\t36\t31\t91\t...\n"
     ]
    }
   ],
   "source": [
    "starspace_ranks_results = []\n",
    "prepared_test_data = os.path.join(data_dir, 'test_prepared.tsv')\n",
    "for line in open(prepared_test_data):\n",
    "    q, *ex = line.strip().split('\\t')\n",
    "    ranks = rank_candidates(q, ex, starspace_embeddings2, 150)\n",
    "    ranked_candidates = [r[0] for r in ranks]\n",
    "    starspace_ranks_results.append([ranked_candidates.index(i) + 1 for i in range(len(ranked_candidates))])\n",
    "    \n",
    "grader.submit_tag('StarSpaceRanks', matrix_to_string(starspace_ranks_results))"
   ]
  },
  {
   "cell_type": "markdown",
   "metadata": {},
   "source": [
    "Please, **don't remove** the file with these embeddings because you will need them in the final project."
   ]
  },
  {
   "cell_type": "markdown",
   "metadata": {},
   "source": [
    "### Authorization & Submission\n",
    "To submit assignment parts to Cousera platform, please, enter your e-mail and token into variables below. You can generate token on this programming assignment page. <b>Note:</b> Token expires 30 minutes after generation."
   ]
  },
  {
   "cell_type": "code",
   "execution_count": 100,
   "metadata": {},
   "outputs": [
    {
     "name": "stdout",
     "output_type": "stream",
     "text": [
      "You want to submit these parts:\n",
      "Task Question2Vec: 0.019293891059\n",
      "-0.0287272135417\n",
      "0.0460561116536\n",
      "0.0852593315972\n",
      "0.0243055555556\n",
      "-0.0729031032986\n",
      "0.0...\n",
      "Task HitsCount: 1.0\n",
      "0.5\n",
      "1.0\n",
      "0.5\n",
      "1.0\n",
      "0.3333333333333333\n",
      "0.6666666666666666\n",
      "1.0\n",
      "0.1\n",
      "0.2\n",
      "0.3\n",
      "0.4\n",
      "0.5\n",
      "0.6\n",
      "0.7\n",
      "0.8\n",
      "0.9\n",
      "1....\n",
      "Task DCGScore: 1.0\n",
      "0.5\n",
      "0.815464876786\n",
      "0.5\n",
      "0.815464876786\n",
      "0.333333333333\n",
      "0.54364325119\n",
      "0.710309917857\n",
      "0.1\n",
      "0.16309297...\n",
      "Task W2VTokenizedRanks: ----------...\n",
      "Task StarSpaceRanks: 92\t22\t60\t24\t26\t97\t69\t90\t53\t68\t58\t72\t9\t55\t79\t81\t7\t35\t46\t93\t47\t87\t37\t74\t96\t21\t86\t85\t94\t25\t80\t36\t31\t91\t...\n"
     ]
    }
   ],
   "source": [
    "STUDENT_EMAIL = 'agnesvanbelle@gmail.com'\n",
    "STUDENT_TOKEN = 'wfWzdnCwgmdJkO4C'\n",
    "grader.status()"
   ]
  },
  {
   "cell_type": "markdown",
   "metadata": {},
   "source": [
    "If you want to submit these answers, run cell below"
   ]
  },
  {
   "cell_type": "code",
   "execution_count": 101,
   "metadata": {},
   "outputs": [
    {
     "name": "stdout",
     "output_type": "stream",
     "text": [
      "Submitted to Coursera platform. See results on assignment page!\n"
     ]
    }
   ],
   "source": [
    "grader.submit(STUDENT_EMAIL, STUDENT_TOKEN)"
   ]
  },
  {
   "cell_type": "code",
   "execution_count": null,
   "metadata": {},
   "outputs": [],
   "source": []
  }
 ],
 "metadata": {
  "kernelspec": {
   "display_name": "Python 3",
   "language": "python",
   "name": "python3"
  },
  "language_info": {
   "codemirror_mode": {
    "name": "ipython",
    "version": 3
   },
   "file_extension": ".py",
   "mimetype": "text/x-python",
   "name": "python",
   "nbconvert_exporter": "python",
   "pygments_lexer": "ipython3",
   "version": "3.5.2"
  }
 },
 "nbformat": 4,
 "nbformat_minor": 2
}
